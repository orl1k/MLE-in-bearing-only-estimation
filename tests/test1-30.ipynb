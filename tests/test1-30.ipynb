{
 "metadata": {
  "language_info": {
   "codemirror_mode": {
    "name": "ipython",
    "version": 3
   },
   "file_extension": ".py",
   "mimetype": "text/x-python",
   "name": "python",
   "nbconvert_exporter": "python",
   "pygments_lexer": "ipython3",
   "version": "3.9.2-final"
  },
  "orig_nbformat": 2,
  "kernelspec": {
   "name": "python39264bit33474e9fc3ff4296aa6392b4164f7ca5",
   "display_name": "Python 3.9.2 64-bit",
   "language": "python"
  }
 },
 "nbformat": 4,
 "nbformat_minor": 2,
 "cells": [
  {
   "cell_type": "code",
   "execution_count": 1,
   "metadata": {},
   "outputs": [],
   "source": [
    "import sys\n",
    "sys.path.append(\"..\")\n",
    "import numpy as np\n",
    "from project.ship import Ship\n",
    "from project.tests import Tests\n",
    "from project.botma import TMA\n",
    "import time\n",
    "from pathlib import Path\n",
    "from datetime import datetime"
   ]
  },
  {
   "cell_type": "code",
   "execution_count": 2,
   "metadata": {},
   "outputs": [
    {
     "output_type": "stream",
     "name": "stdout",
     "text": [
      "Время последнего моделирования: 22/03/2021 21:52\n"
     ]
    }
   ],
   "source": [
    "# Класс для сохранения результатов\n",
    "tests = Tests('test1')\n",
    "Path(\"../tests/test1/d30\").mkdir(parents=True, exist_ok=True)\n",
    "print(\"Время последнего моделирования:\", datetime.now().strftime(\"%d/%m/%Y %H:%M\"))\n",
    "\n",
    "# Создаем наблюдателя\n",
    "observer_x, observer_y, observer_course, observer_velocity = 0, 0, 0, 5\n",
    "observer = Ship('Наблюдатель', observer_x, observer_y, observer_course,\n",
    "                observer_velocity, verbose=True)"
   ]
  },
  {
   "cell_type": "code",
   "execution_count": 3,
   "metadata": {},
   "outputs": [
    {
     "output_type": "stream",
     "name": "stdout",
     "text": [
      "Наблюдатель движется прямо по курсу 0.0° 180с\nНаблюдатель перешёл на курс 270.0° за 180с\nНаблюдатель движется прямо по курсу 270.0° 300с\nНаблюдатель перешёл на курс 90.0° за 360с\nНаблюдатель движется прямо по курсу 90.0° 180с\n"
     ]
    }
   ],
   "source": [
    "# Моделирование траектории наблюдателя\n",
    "observer.forward_movement(3 * 60)\n",
    "observer.change_course(270, 'left', omega=0.5)\n",
    "observer.forward_movement(5 * 60)\n",
    "observer.change_course(90, 'right', omega=0.5)\n",
    "observer.forward_movement(3 * 60)"
   ]
  },
  {
   "cell_type": "code",
   "execution_count": 4,
   "metadata": {},
   "outputs": [],
   "source": [
    "def target_func(seed=None):\n",
    "    np.random.seed(seed)\n",
    "    b = 0\n",
    "    d = 30\n",
    "    c = np.random.uniform(0, 180)\n",
    "    v = np.random.uniform(3, 15)\n",
    "    return [b, d, c, v]\n",
    "p0 = [0., 25., 90., 7.]\n",
    "std_arr = [0., 0.1, 0.2, 0.3, 0.5, 1.]\n",
    "precisions_1 = ['{0:.1f}', '{0:.3f}', '{0:.3f}', '{0:.2f}', '{0:.1f}', '{0:.3f}', '{0:.3f}', '{0:.2f}', '{0:.1f}', '{0:.3f}', '{0:.3f}', '{0:.2f}',\n",
    "'{0:.2f}','{0:.3f}', '{0:.2f}','{0:.3f}','{0:.2f}', '{0:.2f}', '{0:.2f}', '{0:.2f}', '{0:.2f}', '{0:.2f}', '{:.0f}', '{0:.4f}', '{0:.0f}', '{0:.0f}']\n",
    "precisions_2 = ['{0:.1f}', '{0:.3f}', '{0:.1f}', '{0:.2f}', '{0:.1f}', '{0:.3f}', '{0:.1f}', '{0:.2f}', '{0:.2f}','{0:.3f}', '{0:.2f}','{0:.3f}', '{0:.2f}', '{0:.2f}', '{0:.0f}', '{0:.4f}']"
   ]
  },
  {
   "cell_type": "code",
   "execution_count": 5,
   "metadata": {},
   "outputs": [
    {
     "output_type": "stream",
     "name": "stdout",
     "text": [
      "Алгоритм:: ММП v2\n",
      "Моделирование 100 результатов закончено за t = 1.0 с\n",
      "СКОп = 0.0, tau = 2\n",
      "Показатели Монте-Карло:\n",
      "Вариант 0: Рэф = 100%, Рэф_мин = 1\n",
      "Вариант 1: Рэф = 100%, Рэф_мин = 1\n",
      "Вариант 2: Рэф = 100%, Рэф_мин = 1\n",
      "Вариант 3: Рэф = 100%, Рэф_мин = 1\n",
      "Ка = 0.00\n",
      "Nf = 9, Nf_max = 11\n",
      "Iter = 8, Iter_max = 10\n",
      "t = 0.0035, t_max = 0.0116\n"
     ]
    },
    {
     "output_type": "display_data",
     "data": {
      "text/plain": "  П0_ист  Д0_ист   К0_ист V0_ист П0_расч Д0_расч  К0_расч V0_расч Птек_ист  \\\n0    0.0  30.000   98.786  11.58     0.0  30.000   98.787   11.58    30.54   \n1    0.0  30.000   75.064  11.64     0.0  30.000   75.064   11.64    25.34   \n2    0.0  30.000   78.479   3.31   360.0  30.000   78.479    3.31    10.19   \n3    0.0  30.000   99.144  11.50     0.0  30.000   99.144   11.50    30.42   \n4    0.0  30.000  174.065   9.57   360.0  30.000  174.065    9.57     8.40   \n\n  Дтек_ист Птек_расч Дтек_расч    Ка           Точ       t  Nf Iter  \n0   29.331     30.54    29.330  0.00  [1, 1, 1, 1]  0.0083  10    9  \n1   34.283     25.34    34.283  0.00  [1, 1, 1, 1]  0.0067  10    9  \n2   28.629     10.19    28.629  0.00  [1, 1, 1, 1]  0.0056   8    7  \n3   29.213     30.42    29.213  0.00  [1, 1, 1, 1]  0.0066  10    9  \n4   16.138      8.40    16.138  0.00  [1, 1, 1, 1]  0.0046   8    7  ",
      "text/html": "<div>\n<style scoped>\n    .dataframe tbody tr th:only-of-type {\n        vertical-align: middle;\n    }\n\n    .dataframe tbody tr th {\n        vertical-align: top;\n    }\n\n    .dataframe thead th {\n        text-align: right;\n    }\n</style>\n<table border=\"1\" class=\"dataframe\">\n  <thead>\n    <tr style=\"text-align: right;\">\n      <th></th>\n      <th>П0_ист</th>\n      <th>Д0_ист</th>\n      <th>К0_ист</th>\n      <th>V0_ист</th>\n      <th>П0_расч</th>\n      <th>Д0_расч</th>\n      <th>К0_расч</th>\n      <th>V0_расч</th>\n      <th>Птек_ист</th>\n      <th>Дтек_ист</th>\n      <th>Птек_расч</th>\n      <th>Дтек_расч</th>\n      <th>Ка</th>\n      <th>Точ</th>\n      <th>t</th>\n      <th>Nf</th>\n      <th>Iter</th>\n    </tr>\n  </thead>\n  <tbody>\n    <tr>\n      <th>0</th>\n      <td>0.0</td>\n      <td>30.000</td>\n      <td>98.786</td>\n      <td>11.58</td>\n      <td>0.0</td>\n      <td>30.000</td>\n      <td>98.787</td>\n      <td>11.58</td>\n      <td>30.54</td>\n      <td>29.331</td>\n      <td>30.54</td>\n      <td>29.330</td>\n      <td>0.00</td>\n      <td>[1, 1, 1, 1]</td>\n      <td>0.0083</td>\n      <td>10</td>\n      <td>9</td>\n    </tr>\n    <tr>\n      <th>1</th>\n      <td>0.0</td>\n      <td>30.000</td>\n      <td>75.064</td>\n      <td>11.64</td>\n      <td>0.0</td>\n      <td>30.000</td>\n      <td>75.064</td>\n      <td>11.64</td>\n      <td>25.34</td>\n      <td>34.283</td>\n      <td>25.34</td>\n      <td>34.283</td>\n      <td>0.00</td>\n      <td>[1, 1, 1, 1]</td>\n      <td>0.0067</td>\n      <td>10</td>\n      <td>9</td>\n    </tr>\n    <tr>\n      <th>2</th>\n      <td>0.0</td>\n      <td>30.000</td>\n      <td>78.479</td>\n      <td>3.31</td>\n      <td>360.0</td>\n      <td>30.000</td>\n      <td>78.479</td>\n      <td>3.31</td>\n      <td>10.19</td>\n      <td>28.629</td>\n      <td>10.19</td>\n      <td>28.629</td>\n      <td>0.00</td>\n      <td>[1, 1, 1, 1]</td>\n      <td>0.0056</td>\n      <td>8</td>\n      <td>7</td>\n    </tr>\n    <tr>\n      <th>3</th>\n      <td>0.0</td>\n      <td>30.000</td>\n      <td>99.144</td>\n      <td>11.50</td>\n      <td>0.0</td>\n      <td>30.000</td>\n      <td>99.144</td>\n      <td>11.50</td>\n      <td>30.42</td>\n      <td>29.213</td>\n      <td>30.42</td>\n      <td>29.213</td>\n      <td>0.00</td>\n      <td>[1, 1, 1, 1]</td>\n      <td>0.0066</td>\n      <td>10</td>\n      <td>9</td>\n    </tr>\n    <tr>\n      <th>4</th>\n      <td>0.0</td>\n      <td>30.000</td>\n      <td>174.065</td>\n      <td>9.57</td>\n      <td>360.0</td>\n      <td>30.000</td>\n      <td>174.065</td>\n      <td>9.57</td>\n      <td>8.40</td>\n      <td>16.138</td>\n      <td>8.40</td>\n      <td>16.138</td>\n      <td>0.00</td>\n      <td>[1, 1, 1, 1]</td>\n      <td>0.0046</td>\n      <td>8</td>\n      <td>7</td>\n    </tr>\n  </tbody>\n</table>\n</div>"
     },
     "metadata": {}
    },
    {
     "output_type": "stream",
     "name": "stdout",
     "text": [
      "_________________________________________________\n",
      "Алгоритм:: ММП v2\n",
      "Моделирование 100 результатов закончено за t = 0.8 с\n",
      "СКОп = 0.1, tau = 2\n",
      "Показатели Монте-Карло:\n",
      "Вариант 0: Рэф = 98%, Рэф_мин = 0\n",
      "Вариант 1: Рэф = 100%, Рэф_мин = 1\n",
      "Вариант 2: Рэф = 100%, Рэф_мин = 1\n",
      "Вариант 3: Рэф = 100%, Рэф_мин = 1\n",
      "Ка = 0.01\n",
      "Nf = 9, Nf_max = 11\n",
      "Iter = 8, Iter_max = 10\n",
      "t = 0.0026, t_max = 0.0055\n"
     ]
    },
    {
     "output_type": "display_data",
     "data": {
      "text/plain": "  П0_ист  Д0_ист   К0_ист V0_ист П0_расч Д0_расч  К0_расч V0_расч Птек_ист  \\\n0    0.0  30.000   98.786  11.58   360.0  30.115   98.530   11.68    30.54   \n1    0.0  30.000   75.064  11.64     0.0  29.819   75.130   11.53    25.34   \n2    0.0  30.000   78.479   3.31     0.0  30.116   81.405    3.27    10.19   \n3    0.0  30.000   99.144  11.50     0.0  29.808   99.551   11.37    30.42   \n4    0.0  30.000  174.065   9.57     0.0  30.020  174.209    9.65     8.40   \n\n  Дтек_ист Птек_расч Дтек_расч    Ка           Точ       t  Nf Iter  \n0   29.331     30.57    29.523  0.01  [1, 1, 1, 1]  0.0031  10    9  \n1   34.283     25.32    34.022  0.01  [1, 1, 1, 1]  0.0026  10    9  \n2   28.629     10.21    28.537  0.01  [1, 1, 1, 1]  0.0023   8    7  \n3   29.213     30.41    28.905  0.01  [1, 1, 1, 1]  0.0027  10    9  \n4   16.138      8.38    16.049  0.01  [1, 1, 1, 1]  0.0023   8    7  ",
      "text/html": "<div>\n<style scoped>\n    .dataframe tbody tr th:only-of-type {\n        vertical-align: middle;\n    }\n\n    .dataframe tbody tr th {\n        vertical-align: top;\n    }\n\n    .dataframe thead th {\n        text-align: right;\n    }\n</style>\n<table border=\"1\" class=\"dataframe\">\n  <thead>\n    <tr style=\"text-align: right;\">\n      <th></th>\n      <th>П0_ист</th>\n      <th>Д0_ист</th>\n      <th>К0_ист</th>\n      <th>V0_ист</th>\n      <th>П0_расч</th>\n      <th>Д0_расч</th>\n      <th>К0_расч</th>\n      <th>V0_расч</th>\n      <th>Птек_ист</th>\n      <th>Дтек_ист</th>\n      <th>Птек_расч</th>\n      <th>Дтек_расч</th>\n      <th>Ка</th>\n      <th>Точ</th>\n      <th>t</th>\n      <th>Nf</th>\n      <th>Iter</th>\n    </tr>\n  </thead>\n  <tbody>\n    <tr>\n      <th>0</th>\n      <td>0.0</td>\n      <td>30.000</td>\n      <td>98.786</td>\n      <td>11.58</td>\n      <td>360.0</td>\n      <td>30.115</td>\n      <td>98.530</td>\n      <td>11.68</td>\n      <td>30.54</td>\n      <td>29.331</td>\n      <td>30.57</td>\n      <td>29.523</td>\n      <td>0.01</td>\n      <td>[1, 1, 1, 1]</td>\n      <td>0.0031</td>\n      <td>10</td>\n      <td>9</td>\n    </tr>\n    <tr>\n      <th>1</th>\n      <td>0.0</td>\n      <td>30.000</td>\n      <td>75.064</td>\n      <td>11.64</td>\n      <td>0.0</td>\n      <td>29.819</td>\n      <td>75.130</td>\n      <td>11.53</td>\n      <td>25.34</td>\n      <td>34.283</td>\n      <td>25.32</td>\n      <td>34.022</td>\n      <td>0.01</td>\n      <td>[1, 1, 1, 1]</td>\n      <td>0.0026</td>\n      <td>10</td>\n      <td>9</td>\n    </tr>\n    <tr>\n      <th>2</th>\n      <td>0.0</td>\n      <td>30.000</td>\n      <td>78.479</td>\n      <td>3.31</td>\n      <td>0.0</td>\n      <td>30.116</td>\n      <td>81.405</td>\n      <td>3.27</td>\n      <td>10.19</td>\n      <td>28.629</td>\n      <td>10.21</td>\n      <td>28.537</td>\n      <td>0.01</td>\n      <td>[1, 1, 1, 1]</td>\n      <td>0.0023</td>\n      <td>8</td>\n      <td>7</td>\n    </tr>\n    <tr>\n      <th>3</th>\n      <td>0.0</td>\n      <td>30.000</td>\n      <td>99.144</td>\n      <td>11.50</td>\n      <td>0.0</td>\n      <td>29.808</td>\n      <td>99.551</td>\n      <td>11.37</td>\n      <td>30.42</td>\n      <td>29.213</td>\n      <td>30.41</td>\n      <td>28.905</td>\n      <td>0.01</td>\n      <td>[1, 1, 1, 1]</td>\n      <td>0.0027</td>\n      <td>10</td>\n      <td>9</td>\n    </tr>\n    <tr>\n      <th>4</th>\n      <td>0.0</td>\n      <td>30.000</td>\n      <td>174.065</td>\n      <td>9.57</td>\n      <td>0.0</td>\n      <td>30.020</td>\n      <td>174.209</td>\n      <td>9.65</td>\n      <td>8.40</td>\n      <td>16.138</td>\n      <td>8.38</td>\n      <td>16.049</td>\n      <td>0.01</td>\n      <td>[1, 1, 1, 1]</td>\n      <td>0.0023</td>\n      <td>8</td>\n      <td>7</td>\n    </tr>\n  </tbody>\n</table>\n</div>"
     },
     "metadata": {}
    },
    {
     "output_type": "stream",
     "name": "stdout",
     "text": [
      "_________________________________________________\n",
      "Алгоритм:: ММП v2\n",
      "Моделирование 100 результатов закончено за t = 0.8 с\n",
      "СКОп = 0.2, tau = 2\n",
      "Показатели Монте-Карло:\n",
      "Вариант 0: Рэф = 91%, Рэф_мин = 0\n",
      "Вариант 1: Рэф = 98%, Рэф_мин = 0\n",
      "Вариант 2: Рэф = 98%, Рэф_мин = 0\n",
      "Вариант 3: Рэф = 100%, Рэф_мин = 1\n",
      "Ка = 0.04\n",
      "Nf = 9, Nf_max = 11\n",
      "Iter = 8, Iter_max = 10\n",
      "t = 0.0026, t_max = 0.0045\n"
     ]
    },
    {
     "output_type": "display_data",
     "data": {
      "text/plain": "  П0_ист  Д0_ист   К0_ист V0_ист П0_расч Д0_расч  К0_расч V0_расч Птек_ист  \\\n0    0.0  30.000   98.786  11.58   360.0  30.231   98.277   11.77    30.54   \n1    0.0  30.000   75.064  11.64     0.0  29.641   75.196   11.43    25.34   \n2    0.0  30.000   78.479   3.31     0.0  30.232   84.408    3.24    10.19   \n3    0.0  30.000   99.144  11.50     0.0  29.618   99.961   11.24    30.42   \n4    0.0  30.000  174.065   9.57     0.0  30.040  174.350    9.74     8.40   \n\n  Дтек_ист Птек_расч Дтек_расч    Ка           Точ       t  Nf Iter  \n0   29.331     30.59    29.718  0.04  [1, 1, 1, 1]  0.0026  10    9  \n1   34.283     25.30    33.766  0.04  [1, 1, 1, 1]  0.0041  10    9  \n2   28.629     10.22    28.445  0.04  [0, 1, 1, 1]  0.0021   8    7  \n3   29.213     30.40    28.602  0.04  [1, 1, 1, 1]  0.0039  10    9  \n4   16.138      8.37    15.960  0.04  [1, 1, 1, 1]  0.0021   8    7  ",
      "text/html": "<div>\n<style scoped>\n    .dataframe tbody tr th:only-of-type {\n        vertical-align: middle;\n    }\n\n    .dataframe tbody tr th {\n        vertical-align: top;\n    }\n\n    .dataframe thead th {\n        text-align: right;\n    }\n</style>\n<table border=\"1\" class=\"dataframe\">\n  <thead>\n    <tr style=\"text-align: right;\">\n      <th></th>\n      <th>П0_ист</th>\n      <th>Д0_ист</th>\n      <th>К0_ист</th>\n      <th>V0_ист</th>\n      <th>П0_расч</th>\n      <th>Д0_расч</th>\n      <th>К0_расч</th>\n      <th>V0_расч</th>\n      <th>Птек_ист</th>\n      <th>Дтек_ист</th>\n      <th>Птек_расч</th>\n      <th>Дтек_расч</th>\n      <th>Ка</th>\n      <th>Точ</th>\n      <th>t</th>\n      <th>Nf</th>\n      <th>Iter</th>\n    </tr>\n  </thead>\n  <tbody>\n    <tr>\n      <th>0</th>\n      <td>0.0</td>\n      <td>30.000</td>\n      <td>98.786</td>\n      <td>11.58</td>\n      <td>360.0</td>\n      <td>30.231</td>\n      <td>98.277</td>\n      <td>11.77</td>\n      <td>30.54</td>\n      <td>29.331</td>\n      <td>30.59</td>\n      <td>29.718</td>\n      <td>0.04</td>\n      <td>[1, 1, 1, 1]</td>\n      <td>0.0026</td>\n      <td>10</td>\n      <td>9</td>\n    </tr>\n    <tr>\n      <th>1</th>\n      <td>0.0</td>\n      <td>30.000</td>\n      <td>75.064</td>\n      <td>11.64</td>\n      <td>0.0</td>\n      <td>29.641</td>\n      <td>75.196</td>\n      <td>11.43</td>\n      <td>25.34</td>\n      <td>34.283</td>\n      <td>25.30</td>\n      <td>33.766</td>\n      <td>0.04</td>\n      <td>[1, 1, 1, 1]</td>\n      <td>0.0041</td>\n      <td>10</td>\n      <td>9</td>\n    </tr>\n    <tr>\n      <th>2</th>\n      <td>0.0</td>\n      <td>30.000</td>\n      <td>78.479</td>\n      <td>3.31</td>\n      <td>0.0</td>\n      <td>30.232</td>\n      <td>84.408</td>\n      <td>3.24</td>\n      <td>10.19</td>\n      <td>28.629</td>\n      <td>10.22</td>\n      <td>28.445</td>\n      <td>0.04</td>\n      <td>[0, 1, 1, 1]</td>\n      <td>0.0021</td>\n      <td>8</td>\n      <td>7</td>\n    </tr>\n    <tr>\n      <th>3</th>\n      <td>0.0</td>\n      <td>30.000</td>\n      <td>99.144</td>\n      <td>11.50</td>\n      <td>0.0</td>\n      <td>29.618</td>\n      <td>99.961</td>\n      <td>11.24</td>\n      <td>30.42</td>\n      <td>29.213</td>\n      <td>30.40</td>\n      <td>28.602</td>\n      <td>0.04</td>\n      <td>[1, 1, 1, 1]</td>\n      <td>0.0039</td>\n      <td>10</td>\n      <td>9</td>\n    </tr>\n    <tr>\n      <th>4</th>\n      <td>0.0</td>\n      <td>30.000</td>\n      <td>174.065</td>\n      <td>9.57</td>\n      <td>0.0</td>\n      <td>30.040</td>\n      <td>174.350</td>\n      <td>9.74</td>\n      <td>8.40</td>\n      <td>16.138</td>\n      <td>8.37</td>\n      <td>15.960</td>\n      <td>0.04</td>\n      <td>[1, 1, 1, 1]</td>\n      <td>0.0021</td>\n      <td>8</td>\n      <td>7</td>\n    </tr>\n  </tbody>\n</table>\n</div>"
     },
     "metadata": {}
    },
    {
     "output_type": "stream",
     "name": "stdout",
     "text": [
      "_________________________________________________\n",
      "Алгоритм:: ММП v2\n",
      "Моделирование 100 результатов закончено за t = 0.7 с\n",
      "СКОп = 0.3, tau = 2\n",
      "Показатели Монте-Карло:\n",
      "Вариант 0: Рэф = 82%, Рэф_мин = 0\n",
      "Вариант 1: Рэф = 95%, Рэф_мин = 0\n",
      "Вариант 2: Рэф = 95%, Рэф_мин = 0\n",
      "Вариант 3: Рэф = 98%, Рэф_мин = 0\n",
      "Ка = 0.09\n",
      "Nf = 9, Nf_max = 11\n",
      "Iter = 8, Iter_max = 10\n",
      "t = 0.0025, t_max = 0.0049\n"
     ]
    },
    {
     "output_type": "display_data",
     "data": {
      "text/plain": "  П0_ист  Д0_ист   К0_ист V0_ист П0_расч Д0_расч  К0_расч V0_расч Птек_ист  \\\n0    0.0  30.000   98.786  11.58   359.9  30.348   98.026   11.87    30.54   \n1    0.0  30.000   75.064  11.64     0.0  29.465   75.263   11.32    25.34   \n2    0.0  30.000   78.479   3.31     0.0  30.347   87.472    3.21    10.19   \n3    0.0  30.000   99.144  11.50     0.1  29.432  100.376   11.11    30.42   \n4    0.0  30.000  174.065   9.57     0.0  30.061  174.488    9.83     8.40   \n\n  Дтек_ист Птек_расч Дтек_расч    Ка           Точ       t  Nf Iter  \n0   29.331     30.62    29.913  0.09  [1, 1, 1, 1]  0.0038  10    9  \n1   34.283     25.28    33.513  0.09  [1, 1, 1, 1]  0.0048  10    9  \n2   28.629     10.24    28.352  0.09  [0, 1, 1, 1]  0.0021   8    7  \n3   29.213     30.39    28.304  0.09  [1, 1, 1, 1]  0.0026  10    9  \n4   16.138      8.35    15.872  0.08  [1, 1, 1, 1]  0.0021   8    7  ",
      "text/html": "<div>\n<style scoped>\n    .dataframe tbody tr th:only-of-type {\n        vertical-align: middle;\n    }\n\n    .dataframe tbody tr th {\n        vertical-align: top;\n    }\n\n    .dataframe thead th {\n        text-align: right;\n    }\n</style>\n<table border=\"1\" class=\"dataframe\">\n  <thead>\n    <tr style=\"text-align: right;\">\n      <th></th>\n      <th>П0_ист</th>\n      <th>Д0_ист</th>\n      <th>К0_ист</th>\n      <th>V0_ист</th>\n      <th>П0_расч</th>\n      <th>Д0_расч</th>\n      <th>К0_расч</th>\n      <th>V0_расч</th>\n      <th>Птек_ист</th>\n      <th>Дтек_ист</th>\n      <th>Птек_расч</th>\n      <th>Дтек_расч</th>\n      <th>Ка</th>\n      <th>Точ</th>\n      <th>t</th>\n      <th>Nf</th>\n      <th>Iter</th>\n    </tr>\n  </thead>\n  <tbody>\n    <tr>\n      <th>0</th>\n      <td>0.0</td>\n      <td>30.000</td>\n      <td>98.786</td>\n      <td>11.58</td>\n      <td>359.9</td>\n      <td>30.348</td>\n      <td>98.026</td>\n      <td>11.87</td>\n      <td>30.54</td>\n      <td>29.331</td>\n      <td>30.62</td>\n      <td>29.913</td>\n      <td>0.09</td>\n      <td>[1, 1, 1, 1]</td>\n      <td>0.0038</td>\n      <td>10</td>\n      <td>9</td>\n    </tr>\n    <tr>\n      <th>1</th>\n      <td>0.0</td>\n      <td>30.000</td>\n      <td>75.064</td>\n      <td>11.64</td>\n      <td>0.0</td>\n      <td>29.465</td>\n      <td>75.263</td>\n      <td>11.32</td>\n      <td>25.34</td>\n      <td>34.283</td>\n      <td>25.28</td>\n      <td>33.513</td>\n      <td>0.09</td>\n      <td>[1, 1, 1, 1]</td>\n      <td>0.0048</td>\n      <td>10</td>\n      <td>9</td>\n    </tr>\n    <tr>\n      <th>2</th>\n      <td>0.0</td>\n      <td>30.000</td>\n      <td>78.479</td>\n      <td>3.31</td>\n      <td>0.0</td>\n      <td>30.347</td>\n      <td>87.472</td>\n      <td>3.21</td>\n      <td>10.19</td>\n      <td>28.629</td>\n      <td>10.24</td>\n      <td>28.352</td>\n      <td>0.09</td>\n      <td>[0, 1, 1, 1]</td>\n      <td>0.0021</td>\n      <td>8</td>\n      <td>7</td>\n    </tr>\n    <tr>\n      <th>3</th>\n      <td>0.0</td>\n      <td>30.000</td>\n      <td>99.144</td>\n      <td>11.50</td>\n      <td>0.1</td>\n      <td>29.432</td>\n      <td>100.376</td>\n      <td>11.11</td>\n      <td>30.42</td>\n      <td>29.213</td>\n      <td>30.39</td>\n      <td>28.304</td>\n      <td>0.09</td>\n      <td>[1, 1, 1, 1]</td>\n      <td>0.0026</td>\n      <td>10</td>\n      <td>9</td>\n    </tr>\n    <tr>\n      <th>4</th>\n      <td>0.0</td>\n      <td>30.000</td>\n      <td>174.065</td>\n      <td>9.57</td>\n      <td>0.0</td>\n      <td>30.061</td>\n      <td>174.488</td>\n      <td>9.83</td>\n      <td>8.40</td>\n      <td>16.138</td>\n      <td>8.35</td>\n      <td>15.872</td>\n      <td>0.08</td>\n      <td>[1, 1, 1, 1]</td>\n      <td>0.0021</td>\n      <td>8</td>\n      <td>7</td>\n    </tr>\n  </tbody>\n</table>\n</div>"
     },
     "metadata": {}
    },
    {
     "output_type": "stream",
     "name": "stdout",
     "text": [
      "_________________________________________________\n",
      "Алгоритм:: ММП v2\n",
      "Моделирование 100 результатов закончено за t = 0.8 с\n",
      "СКОп = 0.5, tau = 2\n",
      "Показатели Монте-Карло:\n",
      "Вариант 0: Рэф = 51%, Рэф_мин = 0\n",
      "Вариант 1: Рэф = 88%, Рэф_мин = 0\n",
      "Вариант 2: Рэф = 88%, Рэф_мин = 0\n",
      "Вариант 3: Рэф = 92%, Рэф_мин = 0\n",
      "Ка = 0.25\n",
      "Nf = 9, Nf_max = 11\n",
      "Iter = 8, Iter_max = 10\n",
      "t = 0.0027, t_max = 0.0062\n"
     ]
    },
    {
     "output_type": "display_data",
     "data": {
      "text/plain": "  П0_ист  Д0_ист   К0_ист V0_ист П0_расч Д0_расч  К0_расч V0_расч Птек_ист  \\\n0    0.0  30.000   98.786  11.58   359.9  30.585   97.534   12.06    30.54   \n1    0.0  30.000   75.064  11.64     0.0  29.122   75.397   11.11    25.34   \n2    0.0  30.000   78.479   3.31     0.1  30.577   93.723    3.19    10.19   \n3    0.0  30.000   99.144  11.50     0.1  29.068  101.216   10.86    30.42   \n4    0.0  30.000  174.065   9.57     0.0  30.102  174.754   10.00     8.40   \n\n  Дтек_ист Птек_расч Дтек_расч    Ка           Точ       t  Nf Iter  \n0   29.331     30.66    30.309  0.25  [1, 1, 1, 1]  0.0057  10    9  \n1   34.283     25.24    33.019  0.25  [1, 1, 1, 1]  0.0027  10    9  \n2   28.629     10.27    28.164  0.26  [0, 0, 0, 0]  0.0028   8    7  \n3   29.213     30.37    27.720  0.26  [0, 1, 1, 1]  0.0046  10    9  \n4   16.138      8.31    15.697  0.24  [1, 1, 1, 1]  0.0038   8    7  ",
      "text/html": "<div>\n<style scoped>\n    .dataframe tbody tr th:only-of-type {\n        vertical-align: middle;\n    }\n\n    .dataframe tbody tr th {\n        vertical-align: top;\n    }\n\n    .dataframe thead th {\n        text-align: right;\n    }\n</style>\n<table border=\"1\" class=\"dataframe\">\n  <thead>\n    <tr style=\"text-align: right;\">\n      <th></th>\n      <th>П0_ист</th>\n      <th>Д0_ист</th>\n      <th>К0_ист</th>\n      <th>V0_ист</th>\n      <th>П0_расч</th>\n      <th>Д0_расч</th>\n      <th>К0_расч</th>\n      <th>V0_расч</th>\n      <th>Птек_ист</th>\n      <th>Дтек_ист</th>\n      <th>Птек_расч</th>\n      <th>Дтек_расч</th>\n      <th>Ка</th>\n      <th>Точ</th>\n      <th>t</th>\n      <th>Nf</th>\n      <th>Iter</th>\n    </tr>\n  </thead>\n  <tbody>\n    <tr>\n      <th>0</th>\n      <td>0.0</td>\n      <td>30.000</td>\n      <td>98.786</td>\n      <td>11.58</td>\n      <td>359.9</td>\n      <td>30.585</td>\n      <td>97.534</td>\n      <td>12.06</td>\n      <td>30.54</td>\n      <td>29.331</td>\n      <td>30.66</td>\n      <td>30.309</td>\n      <td>0.25</td>\n      <td>[1, 1, 1, 1]</td>\n      <td>0.0057</td>\n      <td>10</td>\n      <td>9</td>\n    </tr>\n    <tr>\n      <th>1</th>\n      <td>0.0</td>\n      <td>30.000</td>\n      <td>75.064</td>\n      <td>11.64</td>\n      <td>0.0</td>\n      <td>29.122</td>\n      <td>75.397</td>\n      <td>11.11</td>\n      <td>25.34</td>\n      <td>34.283</td>\n      <td>25.24</td>\n      <td>33.019</td>\n      <td>0.25</td>\n      <td>[1, 1, 1, 1]</td>\n      <td>0.0027</td>\n      <td>10</td>\n      <td>9</td>\n    </tr>\n    <tr>\n      <th>2</th>\n      <td>0.0</td>\n      <td>30.000</td>\n      <td>78.479</td>\n      <td>3.31</td>\n      <td>0.1</td>\n      <td>30.577</td>\n      <td>93.723</td>\n      <td>3.19</td>\n      <td>10.19</td>\n      <td>28.629</td>\n      <td>10.27</td>\n      <td>28.164</td>\n      <td>0.26</td>\n      <td>[0, 0, 0, 0]</td>\n      <td>0.0028</td>\n      <td>8</td>\n      <td>7</td>\n    </tr>\n    <tr>\n      <th>3</th>\n      <td>0.0</td>\n      <td>30.000</td>\n      <td>99.144</td>\n      <td>11.50</td>\n      <td>0.1</td>\n      <td>29.068</td>\n      <td>101.216</td>\n      <td>10.86</td>\n      <td>30.42</td>\n      <td>29.213</td>\n      <td>30.37</td>\n      <td>27.720</td>\n      <td>0.26</td>\n      <td>[0, 1, 1, 1]</td>\n      <td>0.0046</td>\n      <td>10</td>\n      <td>9</td>\n    </tr>\n    <tr>\n      <th>4</th>\n      <td>0.0</td>\n      <td>30.000</td>\n      <td>174.065</td>\n      <td>9.57</td>\n      <td>0.0</td>\n      <td>30.102</td>\n      <td>174.754</td>\n      <td>10.00</td>\n      <td>8.40</td>\n      <td>16.138</td>\n      <td>8.31</td>\n      <td>15.697</td>\n      <td>0.24</td>\n      <td>[1, 1, 1, 1]</td>\n      <td>0.0038</td>\n      <td>8</td>\n      <td>7</td>\n    </tr>\n  </tbody>\n</table>\n</div>"
     },
     "metadata": {}
    },
    {
     "output_type": "stream",
     "name": "stdout",
     "text": [
      "_________________________________________________\n",
      "Алгоритм:: ММП v2\n",
      "Моделирование 100 результатов закончено за t = 0.8 с\n",
      "СКОп = 1.0, tau = 2\n",
      "Показатели Монте-Карло:\n",
      "Вариант 0: Рэф = 25%, Рэф_мин = 0\n",
      "Вариант 1: Рэф = 52%, Рэф_мин = 0\n",
      "Вариант 2: Рэф = 53%, Рэф_мин = 0\n",
      "Вариант 3: Рэф = 74%, Рэф_мин = 0\n",
      "Ка = 0.99\n",
      "Nf = 9, Nf_max = 11\n",
      "Iter = 8, Iter_max = 10\n",
      "t = 0.0028, t_max = 0.0077\n"
     ]
    },
    {
     "output_type": "display_data",
     "data": {
      "text/plain": "  П0_ист  Д0_ист   К0_ист V0_ист П0_расч Д0_расч  К0_расч V0_расч Птек_ист  \\\n0    0.0  30.000   98.786  11.58   359.8  31.195   96.352   12.57    30.54   \n1    0.0  30.000   75.064  11.64     0.0  28.304   75.736   10.62    25.34   \n2    0.0  30.000   78.479   3.31     0.1  31.146  109.232    3.30    10.19   \n3    0.0  30.000   99.144  11.50     0.2  28.205  103.381   10.28    30.42   \n4    0.0  30.000  174.065   9.57     0.0  30.208  175.369   10.44     8.40   \n\n  Дтек_ист Птек_расч Дтек_расч    Ка           Точ       t  Nf Iter  \n0   29.331     30.78    31.323  1.00  [0, 1, 1, 1]  0.0044  10    9  \n1   34.283     25.14    31.843  0.99  [0, 1, 1, 1]  0.0077  10    9  \n2   28.629     10.36    27.677  1.05  [0, 0, 0, 0]  0.0036   8    7  \n3   29.213     30.31    26.332  1.04  [0, 0, 0, 1]  0.0044  10    9  \n4   16.138      8.23    15.265  0.94  [0, 1, 1, 1]  0.0025   8    7  ",
      "text/html": "<div>\n<style scoped>\n    .dataframe tbody tr th:only-of-type {\n        vertical-align: middle;\n    }\n\n    .dataframe tbody tr th {\n        vertical-align: top;\n    }\n\n    .dataframe thead th {\n        text-align: right;\n    }\n</style>\n<table border=\"1\" class=\"dataframe\">\n  <thead>\n    <tr style=\"text-align: right;\">\n      <th></th>\n      <th>П0_ист</th>\n      <th>Д0_ист</th>\n      <th>К0_ист</th>\n      <th>V0_ист</th>\n      <th>П0_расч</th>\n      <th>Д0_расч</th>\n      <th>К0_расч</th>\n      <th>V0_расч</th>\n      <th>Птек_ист</th>\n      <th>Дтек_ист</th>\n      <th>Птек_расч</th>\n      <th>Дтек_расч</th>\n      <th>Ка</th>\n      <th>Точ</th>\n      <th>t</th>\n      <th>Nf</th>\n      <th>Iter</th>\n    </tr>\n  </thead>\n  <tbody>\n    <tr>\n      <th>0</th>\n      <td>0.0</td>\n      <td>30.000</td>\n      <td>98.786</td>\n      <td>11.58</td>\n      <td>359.8</td>\n      <td>31.195</td>\n      <td>96.352</td>\n      <td>12.57</td>\n      <td>30.54</td>\n      <td>29.331</td>\n      <td>30.78</td>\n      <td>31.323</td>\n      <td>1.00</td>\n      <td>[0, 1, 1, 1]</td>\n      <td>0.0044</td>\n      <td>10</td>\n      <td>9</td>\n    </tr>\n    <tr>\n      <th>1</th>\n      <td>0.0</td>\n      <td>30.000</td>\n      <td>75.064</td>\n      <td>11.64</td>\n      <td>0.0</td>\n      <td>28.304</td>\n      <td>75.736</td>\n      <td>10.62</td>\n      <td>25.34</td>\n      <td>34.283</td>\n      <td>25.14</td>\n      <td>31.843</td>\n      <td>0.99</td>\n      <td>[0, 1, 1, 1]</td>\n      <td>0.0077</td>\n      <td>10</td>\n      <td>9</td>\n    </tr>\n    <tr>\n      <th>2</th>\n      <td>0.0</td>\n      <td>30.000</td>\n      <td>78.479</td>\n      <td>3.31</td>\n      <td>0.1</td>\n      <td>31.146</td>\n      <td>109.232</td>\n      <td>3.30</td>\n      <td>10.19</td>\n      <td>28.629</td>\n      <td>10.36</td>\n      <td>27.677</td>\n      <td>1.05</td>\n      <td>[0, 0, 0, 0]</td>\n      <td>0.0036</td>\n      <td>8</td>\n      <td>7</td>\n    </tr>\n    <tr>\n      <th>3</th>\n      <td>0.0</td>\n      <td>30.000</td>\n      <td>99.144</td>\n      <td>11.50</td>\n      <td>0.2</td>\n      <td>28.205</td>\n      <td>103.381</td>\n      <td>10.28</td>\n      <td>30.42</td>\n      <td>29.213</td>\n      <td>30.31</td>\n      <td>26.332</td>\n      <td>1.04</td>\n      <td>[0, 0, 0, 1]</td>\n      <td>0.0044</td>\n      <td>10</td>\n      <td>9</td>\n    </tr>\n    <tr>\n      <th>4</th>\n      <td>0.0</td>\n      <td>30.000</td>\n      <td>174.065</td>\n      <td>9.57</td>\n      <td>0.0</td>\n      <td>30.208</td>\n      <td>175.369</td>\n      <td>10.44</td>\n      <td>8.40</td>\n      <td>16.138</td>\n      <td>8.23</td>\n      <td>15.265</td>\n      <td>0.94</td>\n      <td>[0, 1, 1, 1]</td>\n      <td>0.0025</td>\n      <td>8</td>\n      <td>7</td>\n    </tr>\n  </tbody>\n</table>\n</div>"
     },
     "metadata": {}
    },
    {
     "output_type": "stream",
     "name": "stdout",
     "text": [
      "_________________________________________________\n"
     ]
    }
   ],
   "source": [
    "for std in std_arr:\n",
    "\n",
    "    tma = TMA(observer, std=np.radians(std), tau=2)\n",
    "    dict_results = tma.swarm(n=100, target_func=target_func, p0=p0, seeded=True, verbose=True)\n",
    "    df = tests.get_df(dict_results)\n",
    "    tma.print_verbose()\n",
    "\n",
    "    print('Показатели Монте-Карло:')\n",
    "    for i in range(4):\n",
    "        a = df['Точ'].apply(lambda x: x[i])\n",
    "        print('Вариант {}: Рэф = {:.0f}%, Рэф_мин = {:.0f}'.format(i, 100 * a.mean(), min(a)))\n",
    "    print('Ка = {:.2f}'.format(df['Ка'].mean()))\n",
    "    print('Nf = {:.0f}, Nf_max = {:.0f}'.format(df['Nf'].mean(), max(df['Nf'])))\n",
    "    print('Iter = {:.0f}, Iter_max = {:.0f}'.format(df['Iter'].mean(), max(df['Iter'])))\n",
    "    print('t = {:.4f}, t_max = {:.4f}'.format(df['t'].mean(), max(df['t'])))\n",
    "\n",
    "    d_df = df.copy()\n",
    "    for i, j in enumerate(df.columns):\n",
    "        try: d_df[j] = df[j].apply(lambda x: precisions_1[i].format(np.float64(x)))\n",
    "        except(TypeError): pass\n",
    "    display(d_df.drop(['СКО X', 'СКО Y', 'СКО VX', 'СКО VY', 'Кб', 'П0_апр', 'Д0_апр', 'К0_апр', 'V0_апр'], axis=1).head())\n",
    "\n",
    "    tests.save_df(df, name='../tests/test1/d30/ЛМ, ' + str(np.degrees(tma.standart_deviation)) + '.xlsx')\n",
    "    print('_________________________________________________')"
   ]
  },
  {
   "cell_type": "code",
   "execution_count": 6,
   "metadata": {},
   "outputs": [
    {
     "output_type": "stream",
     "name": "stdout",
     "text": [
      "Алгоритм:: Метод N пеленгов\n",
      "Моделирование 100 результатов закончено за t = 0.6 с\n",
      "СКОп = 0.0, tau = 2\n",
      "Показатели Монте-Карло:\n",
      "Вариант 0: Рэф = 100%, Рэф_мин = 1\n",
      "Вариант 1: Рэф = 100%, Рэф_мин = 1\n",
      "Вариант 2: Рэф = 100%, Рэф_мин = 1\n",
      "Вариант 3: Рэф = 100%, Рэф_мин = 1\n",
      "Ка = 0.00\n",
      "t = 0.0004, t_max = 0.0021\n"
     ]
    },
    {
     "output_type": "display_data",
     "data": {
      "text/plain": "  П0_ист  Д0_ист   К0_ист V0_ист П0_расч Д0_расч  К0_расч V0_расч Птек_ист  \\\n0    0.0  30.000   98.786  11.58     0.0  30.000   98.786   11.58     30.5   \n1    0.0  30.000   75.064  11.64     0.0  30.000   75.064   11.64     25.3   \n2    0.0  30.000   78.479   3.31     0.0  30.000   78.479    3.31     10.2   \n3    0.0  30.000   99.144  11.50     0.0  30.000   99.144   11.50     30.4   \n4    0.0  30.000  174.065   9.57     0.0  30.000  174.065    9.57      8.4   \n\n  Дтек_ист Птек_расч Дтек_расч    Ка           Точ      t  \n0   29.331    30.545     29.33  0.00  [1, 1, 1, 1]  0.001  \n1   34.283    25.337     34.28  0.00  [1, 1, 1, 1]  0.001  \n2   28.629    10.188     28.63  0.00  [1, 1, 1, 1]  0.001  \n3   29.213    30.422     29.21  0.00  [1, 1, 1, 1]  0.002  \n4   16.138     8.400     16.14  0.00  [1, 1, 1, 1]  0.000  ",
      "text/html": "<div>\n<style scoped>\n    .dataframe tbody tr th:only-of-type {\n        vertical-align: middle;\n    }\n\n    .dataframe tbody tr th {\n        vertical-align: top;\n    }\n\n    .dataframe thead th {\n        text-align: right;\n    }\n</style>\n<table border=\"1\" class=\"dataframe\">\n  <thead>\n    <tr style=\"text-align: right;\">\n      <th></th>\n      <th>П0_ист</th>\n      <th>Д0_ист</th>\n      <th>К0_ист</th>\n      <th>V0_ист</th>\n      <th>П0_расч</th>\n      <th>Д0_расч</th>\n      <th>К0_расч</th>\n      <th>V0_расч</th>\n      <th>Птек_ист</th>\n      <th>Дтек_ист</th>\n      <th>Птек_расч</th>\n      <th>Дтек_расч</th>\n      <th>Ка</th>\n      <th>Точ</th>\n      <th>t</th>\n    </tr>\n  </thead>\n  <tbody>\n    <tr>\n      <th>0</th>\n      <td>0.0</td>\n      <td>30.000</td>\n      <td>98.786</td>\n      <td>11.58</td>\n      <td>0.0</td>\n      <td>30.000</td>\n      <td>98.786</td>\n      <td>11.58</td>\n      <td>30.5</td>\n      <td>29.331</td>\n      <td>30.545</td>\n      <td>29.33</td>\n      <td>0.00</td>\n      <td>[1, 1, 1, 1]</td>\n      <td>0.001</td>\n    </tr>\n    <tr>\n      <th>1</th>\n      <td>0.0</td>\n      <td>30.000</td>\n      <td>75.064</td>\n      <td>11.64</td>\n      <td>0.0</td>\n      <td>30.000</td>\n      <td>75.064</td>\n      <td>11.64</td>\n      <td>25.3</td>\n      <td>34.283</td>\n      <td>25.337</td>\n      <td>34.28</td>\n      <td>0.00</td>\n      <td>[1, 1, 1, 1]</td>\n      <td>0.001</td>\n    </tr>\n    <tr>\n      <th>2</th>\n      <td>0.0</td>\n      <td>30.000</td>\n      <td>78.479</td>\n      <td>3.31</td>\n      <td>0.0</td>\n      <td>30.000</td>\n      <td>78.479</td>\n      <td>3.31</td>\n      <td>10.2</td>\n      <td>28.629</td>\n      <td>10.188</td>\n      <td>28.63</td>\n      <td>0.00</td>\n      <td>[1, 1, 1, 1]</td>\n      <td>0.001</td>\n    </tr>\n    <tr>\n      <th>3</th>\n      <td>0.0</td>\n      <td>30.000</td>\n      <td>99.144</td>\n      <td>11.50</td>\n      <td>0.0</td>\n      <td>30.000</td>\n      <td>99.144</td>\n      <td>11.50</td>\n      <td>30.4</td>\n      <td>29.213</td>\n      <td>30.422</td>\n      <td>29.21</td>\n      <td>0.00</td>\n      <td>[1, 1, 1, 1]</td>\n      <td>0.002</td>\n    </tr>\n    <tr>\n      <th>4</th>\n      <td>0.0</td>\n      <td>30.000</td>\n      <td>174.065</td>\n      <td>9.57</td>\n      <td>0.0</td>\n      <td>30.000</td>\n      <td>174.065</td>\n      <td>9.57</td>\n      <td>8.4</td>\n      <td>16.138</td>\n      <td>8.400</td>\n      <td>16.14</td>\n      <td>0.00</td>\n      <td>[1, 1, 1, 1]</td>\n      <td>0.000</td>\n    </tr>\n  </tbody>\n</table>\n</div>"
     },
     "metadata": {}
    },
    {
     "output_type": "stream",
     "name": "stdout",
     "text": [
      "_________________________________________________\n",
      "Алгоритм:: Метод N пеленгов\n",
      "Моделирование 100 результатов закончено за t = 0.5 с\n",
      "СКОп = 0.1, tau = 2\n",
      "Показатели Монте-Карло:\n",
      "Вариант 0: Рэф = 63%, Рэф_мин = 0\n",
      "Вариант 1: Рэф = 78%, Рэф_мин = 0\n",
      "Вариант 2: Рэф = 78%, Рэф_мин = 0\n",
      "Вариант 3: Рэф = 92%, Рэф_мин = 0\n",
      "Ка = 0.01\n",
      "t = 0.0003, t_max = 0.0007\n"
     ]
    },
    {
     "output_type": "display_data",
     "data": {
      "text/plain": "  П0_ист  Д0_ист   К0_ист V0_ист П0_расч Д0_расч  К0_расч V0_расч Птек_ист  \\\n0    0.0  30.000   98.786  11.58   359.8  30.424   96.469   12.06     30.5   \n1    0.0  30.000   75.064  11.64   359.8  29.952   72.993   12.07     25.3   \n2    0.0  30.000   78.479   3.31     0.0  29.867   86.626    3.12     10.2   \n3    0.0  30.000   99.144  11.50   359.8  30.274   96.748   11.89     30.4   \n4    0.0  30.000  174.065   9.57   360.0  29.867  174.240    9.59      8.4   \n\n  Дтек_ист Птек_расч Дтек_расч    Ка           Точ      t  \n0   29.331    30.565     30.40  0.01  [1, 1, 1, 1]  0.000  \n1   34.283    25.312     34.92  0.01  [1, 1, 1, 1]  0.000  \n2   28.629    10.171     27.91  0.01  [0, 1, 1, 1]  0.000  \n3   29.213    30.411     30.12  0.01  [1, 1, 1, 1]  0.001  \n4   16.138     8.360     15.97  0.01  [1, 1, 1, 1]  0.000  ",
      "text/html": "<div>\n<style scoped>\n    .dataframe tbody tr th:only-of-type {\n        vertical-align: middle;\n    }\n\n    .dataframe tbody tr th {\n        vertical-align: top;\n    }\n\n    .dataframe thead th {\n        text-align: right;\n    }\n</style>\n<table border=\"1\" class=\"dataframe\">\n  <thead>\n    <tr style=\"text-align: right;\">\n      <th></th>\n      <th>П0_ист</th>\n      <th>Д0_ист</th>\n      <th>К0_ист</th>\n      <th>V0_ист</th>\n      <th>П0_расч</th>\n      <th>Д0_расч</th>\n      <th>К0_расч</th>\n      <th>V0_расч</th>\n      <th>Птек_ист</th>\n      <th>Дтек_ист</th>\n      <th>Птек_расч</th>\n      <th>Дтек_расч</th>\n      <th>Ка</th>\n      <th>Точ</th>\n      <th>t</th>\n    </tr>\n  </thead>\n  <tbody>\n    <tr>\n      <th>0</th>\n      <td>0.0</td>\n      <td>30.000</td>\n      <td>98.786</td>\n      <td>11.58</td>\n      <td>359.8</td>\n      <td>30.424</td>\n      <td>96.469</td>\n      <td>12.06</td>\n      <td>30.5</td>\n      <td>29.331</td>\n      <td>30.565</td>\n      <td>30.40</td>\n      <td>0.01</td>\n      <td>[1, 1, 1, 1]</td>\n      <td>0.000</td>\n    </tr>\n    <tr>\n      <th>1</th>\n      <td>0.0</td>\n      <td>30.000</td>\n      <td>75.064</td>\n      <td>11.64</td>\n      <td>359.8</td>\n      <td>29.952</td>\n      <td>72.993</td>\n      <td>12.07</td>\n      <td>25.3</td>\n      <td>34.283</td>\n      <td>25.312</td>\n      <td>34.92</td>\n      <td>0.01</td>\n      <td>[1, 1, 1, 1]</td>\n      <td>0.000</td>\n    </tr>\n    <tr>\n      <th>2</th>\n      <td>0.0</td>\n      <td>30.000</td>\n      <td>78.479</td>\n      <td>3.31</td>\n      <td>0.0</td>\n      <td>29.867</td>\n      <td>86.626</td>\n      <td>3.12</td>\n      <td>10.2</td>\n      <td>28.629</td>\n      <td>10.171</td>\n      <td>27.91</td>\n      <td>0.01</td>\n      <td>[0, 1, 1, 1]</td>\n      <td>0.000</td>\n    </tr>\n    <tr>\n      <th>3</th>\n      <td>0.0</td>\n      <td>30.000</td>\n      <td>99.144</td>\n      <td>11.50</td>\n      <td>359.8</td>\n      <td>30.274</td>\n      <td>96.748</td>\n      <td>11.89</td>\n      <td>30.4</td>\n      <td>29.213</td>\n      <td>30.411</td>\n      <td>30.12</td>\n      <td>0.01</td>\n      <td>[1, 1, 1, 1]</td>\n      <td>0.001</td>\n    </tr>\n    <tr>\n      <th>4</th>\n      <td>0.0</td>\n      <td>30.000</td>\n      <td>174.065</td>\n      <td>9.57</td>\n      <td>360.0</td>\n      <td>29.867</td>\n      <td>174.240</td>\n      <td>9.59</td>\n      <td>8.4</td>\n      <td>16.138</td>\n      <td>8.360</td>\n      <td>15.97</td>\n      <td>0.01</td>\n      <td>[1, 1, 1, 1]</td>\n      <td>0.000</td>\n    </tr>\n  </tbody>\n</table>\n</div>"
     },
     "metadata": {}
    },
    {
     "output_type": "stream",
     "name": "stdout",
     "text": [
      "_________________________________________________\n",
      "Алгоритм:: Метод N пеленгов\n",
      "Моделирование 100 результатов закончено за t = 0.5 с\n",
      "СКОп = 0.2, tau = 2\n",
      "Показатели Монте-Карло:\n",
      "Вариант 0: Рэф = 44%, Рэф_мин = 0\n",
      "Вариант 1: Рэф = 58%, Рэф_мин = 0\n",
      "Вариант 2: Рэф = 59%, Рэф_мин = 0\n",
      "Вариант 3: Рэф = 66%, Рэф_мин = 0\n",
      "Ка = 0.05\n",
      "t = 0.0003, t_max = 0.0007\n"
     ]
    },
    {
     "output_type": "display_data",
     "data": {
      "text/plain": "  П0_ист  Д0_ист   К0_ист V0_ист П0_расч Д0_расч  К0_расч V0_расч Птек_ист  \\\n0    0.0  30.000   98.786  11.58   359.6  29.860   94.410   12.05     30.5   \n1    0.0  30.000   75.064  11.64   359.7  28.920   71.086   11.96     25.3   \n2    0.0  30.000   78.479   3.31     0.1  29.234   97.857    2.90     10.2   \n3    0.0  30.000   99.144  11.50   359.6  29.441   94.617   11.74     30.4   \n4    0.0  30.000  174.065   9.57   360.0  29.455  174.636    9.57      8.4   \n\n  Дтек_ист Птек_расч Дтек_расч    Ка           Точ      t  \n0   29.331    30.519     30.33  0.05  [1, 1, 1, 1]  0.000  \n1   34.283    25.223     34.22  0.05  [1, 1, 1, 1]  0.000  \n2   28.629    10.100     26.55  0.04  [0, 0, 0, 0]  0.000  \n3   29.213    30.324     29.76  0.06  [1, 1, 1, 1]  0.000  \n4   16.138     8.266     15.57  0.04  [1, 1, 1, 1]  0.000  ",
      "text/html": "<div>\n<style scoped>\n    .dataframe tbody tr th:only-of-type {\n        vertical-align: middle;\n    }\n\n    .dataframe tbody tr th {\n        vertical-align: top;\n    }\n\n    .dataframe thead th {\n        text-align: right;\n    }\n</style>\n<table border=\"1\" class=\"dataframe\">\n  <thead>\n    <tr style=\"text-align: right;\">\n      <th></th>\n      <th>П0_ист</th>\n      <th>Д0_ист</th>\n      <th>К0_ист</th>\n      <th>V0_ист</th>\n      <th>П0_расч</th>\n      <th>Д0_расч</th>\n      <th>К0_расч</th>\n      <th>V0_расч</th>\n      <th>Птек_ист</th>\n      <th>Дтек_ист</th>\n      <th>Птек_расч</th>\n      <th>Дтек_расч</th>\n      <th>Ка</th>\n      <th>Точ</th>\n      <th>t</th>\n    </tr>\n  </thead>\n  <tbody>\n    <tr>\n      <th>0</th>\n      <td>0.0</td>\n      <td>30.000</td>\n      <td>98.786</td>\n      <td>11.58</td>\n      <td>359.6</td>\n      <td>29.860</td>\n      <td>94.410</td>\n      <td>12.05</td>\n      <td>30.5</td>\n      <td>29.331</td>\n      <td>30.519</td>\n      <td>30.33</td>\n      <td>0.05</td>\n      <td>[1, 1, 1, 1]</td>\n      <td>0.000</td>\n    </tr>\n    <tr>\n      <th>1</th>\n      <td>0.0</td>\n      <td>30.000</td>\n      <td>75.064</td>\n      <td>11.64</td>\n      <td>359.7</td>\n      <td>28.920</td>\n      <td>71.086</td>\n      <td>11.96</td>\n      <td>25.3</td>\n      <td>34.283</td>\n      <td>25.223</td>\n      <td>34.22</td>\n      <td>0.05</td>\n      <td>[1, 1, 1, 1]</td>\n      <td>0.000</td>\n    </tr>\n    <tr>\n      <th>2</th>\n      <td>0.0</td>\n      <td>30.000</td>\n      <td>78.479</td>\n      <td>3.31</td>\n      <td>0.1</td>\n      <td>29.234</td>\n      <td>97.857</td>\n      <td>2.90</td>\n      <td>10.2</td>\n      <td>28.629</td>\n      <td>10.100</td>\n      <td>26.55</td>\n      <td>0.04</td>\n      <td>[0, 0, 0, 0]</td>\n      <td>0.000</td>\n    </tr>\n    <tr>\n      <th>3</th>\n      <td>0.0</td>\n      <td>30.000</td>\n      <td>99.144</td>\n      <td>11.50</td>\n      <td>359.6</td>\n      <td>29.441</td>\n      <td>94.617</td>\n      <td>11.74</td>\n      <td>30.4</td>\n      <td>29.213</td>\n      <td>30.324</td>\n      <td>29.76</td>\n      <td>0.06</td>\n      <td>[1, 1, 1, 1]</td>\n      <td>0.000</td>\n    </tr>\n    <tr>\n      <th>4</th>\n      <td>0.0</td>\n      <td>30.000</td>\n      <td>174.065</td>\n      <td>9.57</td>\n      <td>360.0</td>\n      <td>29.455</td>\n      <td>174.636</td>\n      <td>9.57</td>\n      <td>8.4</td>\n      <td>16.138</td>\n      <td>8.266</td>\n      <td>15.57</td>\n      <td>0.04</td>\n      <td>[1, 1, 1, 1]</td>\n      <td>0.000</td>\n    </tr>\n  </tbody>\n</table>\n</div>"
     },
     "metadata": {}
    },
    {
     "output_type": "stream",
     "name": "stdout",
     "text": [
      "_________________________________________________\n",
      "Алгоритм:: Метод N пеленгов\n",
      "Моделирование 100 результатов закончено за t = 0.5 с\n",
      "СКОп = 0.3, tau = 2\n",
      "Показатели Монте-Карло:\n",
      "Вариант 0: Рэф = 0%, Рэф_мин = 0\n",
      "Вариант 1: Рэф = 39%, Рэф_мин = 0\n",
      "Вариант 2: Рэф = 47%, Рэф_мин = 0\n",
      "Вариант 3: Рэф = 54%, Рэф_мин = 0\n",
      "Ка = 0.11\n",
      "t = 0.0004, t_max = 0.0021\n"
     ]
    },
    {
     "output_type": "display_data",
     "data": {
      "text/plain": "  П0_ист  Д0_ист   К0_ист V0_ист П0_расч Д0_расч  К0_расч V0_расч Птек_ист  \\\n0    0.0  30.000   98.786  11.58   359.5  28.296   92.548   11.51     30.5   \n1    0.0  30.000   75.064  11.64   359.5  27.028   69.260   11.34     25.3   \n2    0.0  30.000   78.479   3.31     0.1  28.190  112.207    2.74     10.2   \n3    0.0  30.000   99.144  11.50   359.5  27.568   92.677   11.03     30.4   \n4    0.0  30.000  174.065   9.57   360.0  28.790  175.231    9.51      8.4   \n\n  Дтек_ист Птек_расч Дтек_расч    Ка           Точ      t  \n0   29.331    30.399     29.06  0.12  [0, 1, 1, 1]  0.000  \n1   34.283    25.066     32.27  0.13  [0, 1, 1, 1]  0.001  \n2   28.629     9.972     24.70  0.11  [0, 0, 0, 0]  0.002  \n3   29.213    30.153     28.14  0.15  [0, 1, 1, 1]  0.001  \n4   16.138     8.115     14.96  0.09  [0, 1, 1, 1]  0.001  ",
      "text/html": "<div>\n<style scoped>\n    .dataframe tbody tr th:only-of-type {\n        vertical-align: middle;\n    }\n\n    .dataframe tbody tr th {\n        vertical-align: top;\n    }\n\n    .dataframe thead th {\n        text-align: right;\n    }\n</style>\n<table border=\"1\" class=\"dataframe\">\n  <thead>\n    <tr style=\"text-align: right;\">\n      <th></th>\n      <th>П0_ист</th>\n      <th>Д0_ист</th>\n      <th>К0_ист</th>\n      <th>V0_ист</th>\n      <th>П0_расч</th>\n      <th>Д0_расч</th>\n      <th>К0_расч</th>\n      <th>V0_расч</th>\n      <th>Птек_ист</th>\n      <th>Дтек_ист</th>\n      <th>Птек_расч</th>\n      <th>Дтек_расч</th>\n      <th>Ка</th>\n      <th>Точ</th>\n      <th>t</th>\n    </tr>\n  </thead>\n  <tbody>\n    <tr>\n      <th>0</th>\n      <td>0.0</td>\n      <td>30.000</td>\n      <td>98.786</td>\n      <td>11.58</td>\n      <td>359.5</td>\n      <td>28.296</td>\n      <td>92.548</td>\n      <td>11.51</td>\n      <td>30.5</td>\n      <td>29.331</td>\n      <td>30.399</td>\n      <td>29.06</td>\n      <td>0.12</td>\n      <td>[0, 1, 1, 1]</td>\n      <td>0.000</td>\n    </tr>\n    <tr>\n      <th>1</th>\n      <td>0.0</td>\n      <td>30.000</td>\n      <td>75.064</td>\n      <td>11.64</td>\n      <td>359.5</td>\n      <td>27.028</td>\n      <td>69.260</td>\n      <td>11.34</td>\n      <td>25.3</td>\n      <td>34.283</td>\n      <td>25.066</td>\n      <td>32.27</td>\n      <td>0.13</td>\n      <td>[0, 1, 1, 1]</td>\n      <td>0.001</td>\n    </tr>\n    <tr>\n      <th>2</th>\n      <td>0.0</td>\n      <td>30.000</td>\n      <td>78.479</td>\n      <td>3.31</td>\n      <td>0.1</td>\n      <td>28.190</td>\n      <td>112.207</td>\n      <td>2.74</td>\n      <td>10.2</td>\n      <td>28.629</td>\n      <td>9.972</td>\n      <td>24.70</td>\n      <td>0.11</td>\n      <td>[0, 0, 0, 0]</td>\n      <td>0.002</td>\n    </tr>\n    <tr>\n      <th>3</th>\n      <td>0.0</td>\n      <td>30.000</td>\n      <td>99.144</td>\n      <td>11.50</td>\n      <td>359.5</td>\n      <td>27.568</td>\n      <td>92.677</td>\n      <td>11.03</td>\n      <td>30.4</td>\n      <td>29.213</td>\n      <td>30.153</td>\n      <td>28.14</td>\n      <td>0.15</td>\n      <td>[0, 1, 1, 1]</td>\n      <td>0.001</td>\n    </tr>\n    <tr>\n      <th>4</th>\n      <td>0.0</td>\n      <td>30.000</td>\n      <td>174.065</td>\n      <td>9.57</td>\n      <td>360.0</td>\n      <td>28.790</td>\n      <td>175.231</td>\n      <td>9.51</td>\n      <td>8.4</td>\n      <td>16.138</td>\n      <td>8.115</td>\n      <td>14.96</td>\n      <td>0.09</td>\n      <td>[0, 1, 1, 1]</td>\n      <td>0.001</td>\n    </tr>\n  </tbody>\n</table>\n</div>"
     },
     "metadata": {}
    },
    {
     "output_type": "stream",
     "name": "stdout",
     "text": [
      "_________________________________________________\n",
      "Алгоритм:: Метод N пеленгов\n",
      "Моделирование 100 результатов закончено за t = 0.5 с\n",
      "СКОп = 0.5, tau = 2\n",
      "Показатели Монте-Карло:\n",
      "Вариант 0: Рэф = 0%, Рэф_мин = 0\n",
      "Вариант 1: Рэф = 0%, Рэф_мин = 0\n",
      "Вариант 2: Рэф = 0%, Рэф_мин = 0\n",
      "Вариант 3: Рэф = 1%, Рэф_мин = 0\n",
      "Ка = 0.37\n",
      "t = 0.0003, t_max = 0.0009\n"
     ]
    },
    {
     "output_type": "display_data",
     "data": {
      "text/plain": "  П0_ист  Д0_ист   К0_ист V0_ист П0_расч Д0_расч  К0_расч V0_расч Птек_ист  \\\n0    0.0  30.000   98.786  11.58   359.1  23.082   89.166    9.20     30.5   \n1    0.0  30.000   75.064  11.64   359.2  21.831   65.545    9.13     25.3   \n2    0.0  30.000   78.479   3.31     0.2  25.351  143.400    2.91     10.2   \n3    0.0  30.000   99.144  11.50   359.1  21.960   89.070    8.51     30.4   \n4    0.0  30.000  174.065   9.57   360.0  26.877  176.906    9.28      8.4   \n\n  Дтек_ист Птек_расч Дтек_расч    Ка           Точ      t  \n0   29.331    29.897     23.79  0.46  [0, 0, 0, 0]  0.000  \n1   34.283    24.524     26.10  0.46  [0, 0, 0, 0]  0.001  \n2   28.629     9.525     20.21  0.34  [0, 0, 0, 0]  0.000  \n3   29.213    29.517     22.42  0.55  [0, 0, 0, 0]  0.001  \n4   16.138     7.625     13.26  0.28  [0, 0, 0, 0]  0.001  ",
      "text/html": "<div>\n<style scoped>\n    .dataframe tbody tr th:only-of-type {\n        vertical-align: middle;\n    }\n\n    .dataframe tbody tr th {\n        vertical-align: top;\n    }\n\n    .dataframe thead th {\n        text-align: right;\n    }\n</style>\n<table border=\"1\" class=\"dataframe\">\n  <thead>\n    <tr style=\"text-align: right;\">\n      <th></th>\n      <th>П0_ист</th>\n      <th>Д0_ист</th>\n      <th>К0_ист</th>\n      <th>V0_ист</th>\n      <th>П0_расч</th>\n      <th>Д0_расч</th>\n      <th>К0_расч</th>\n      <th>V0_расч</th>\n      <th>Птек_ист</th>\n      <th>Дтек_ист</th>\n      <th>Птек_расч</th>\n      <th>Дтек_расч</th>\n      <th>Ка</th>\n      <th>Точ</th>\n      <th>t</th>\n    </tr>\n  </thead>\n  <tbody>\n    <tr>\n      <th>0</th>\n      <td>0.0</td>\n      <td>30.000</td>\n      <td>98.786</td>\n      <td>11.58</td>\n      <td>359.1</td>\n      <td>23.082</td>\n      <td>89.166</td>\n      <td>9.20</td>\n      <td>30.5</td>\n      <td>29.331</td>\n      <td>29.897</td>\n      <td>23.79</td>\n      <td>0.46</td>\n      <td>[0, 0, 0, 0]</td>\n      <td>0.000</td>\n    </tr>\n    <tr>\n      <th>1</th>\n      <td>0.0</td>\n      <td>30.000</td>\n      <td>75.064</td>\n      <td>11.64</td>\n      <td>359.2</td>\n      <td>21.831</td>\n      <td>65.545</td>\n      <td>9.13</td>\n      <td>25.3</td>\n      <td>34.283</td>\n      <td>24.524</td>\n      <td>26.10</td>\n      <td>0.46</td>\n      <td>[0, 0, 0, 0]</td>\n      <td>0.001</td>\n    </tr>\n    <tr>\n      <th>2</th>\n      <td>0.0</td>\n      <td>30.000</td>\n      <td>78.479</td>\n      <td>3.31</td>\n      <td>0.2</td>\n      <td>25.351</td>\n      <td>143.400</td>\n      <td>2.91</td>\n      <td>10.2</td>\n      <td>28.629</td>\n      <td>9.525</td>\n      <td>20.21</td>\n      <td>0.34</td>\n      <td>[0, 0, 0, 0]</td>\n      <td>0.000</td>\n    </tr>\n    <tr>\n      <th>3</th>\n      <td>0.0</td>\n      <td>30.000</td>\n      <td>99.144</td>\n      <td>11.50</td>\n      <td>359.1</td>\n      <td>21.960</td>\n      <td>89.070</td>\n      <td>8.51</td>\n      <td>30.4</td>\n      <td>29.213</td>\n      <td>29.517</td>\n      <td>22.42</td>\n      <td>0.55</td>\n      <td>[0, 0, 0, 0]</td>\n      <td>0.001</td>\n    </tr>\n    <tr>\n      <th>4</th>\n      <td>0.0</td>\n      <td>30.000</td>\n      <td>174.065</td>\n      <td>9.57</td>\n      <td>360.0</td>\n      <td>26.877</td>\n      <td>176.906</td>\n      <td>9.28</td>\n      <td>8.4</td>\n      <td>16.138</td>\n      <td>7.625</td>\n      <td>13.26</td>\n      <td>0.28</td>\n      <td>[0, 0, 0, 0]</td>\n      <td>0.001</td>\n    </tr>\n  </tbody>\n</table>\n</div>"
     },
     "metadata": {}
    },
    {
     "output_type": "stream",
     "name": "stdout",
     "text": [
      "_________________________________________________\n",
      "Алгоритм:: Метод N пеленгов\n",
      "Моделирование 100 результатов закончено за t = 0.5 с\n",
      "СКОп = 1.0, tau = 2\n",
      "Показатели Монте-Карло:\n",
      "Вариант 0: Рэф = 0%, Рэф_мин = 0\n",
      "Вариант 1: Рэф = 0%, Рэф_мин = 0\n",
      "Вариант 2: Рэф = 0%, Рэф_мин = 0\n",
      "Вариант 3: Рэф = 0%, Рэф_мин = 0\n",
      "Ка = 3.22\n",
      "t = 0.0004, t_max = 0.0007\n"
     ]
    },
    {
     "output_type": "display_data",
     "data": {
      "text/plain": "  П0_ист  Д0_ист   К0_ист V0_ист П0_расч Д0_расч  К0_расч V0_расч Птек_ист  \\\n0    0.0  30.000   98.786  11.58   358.2  10.559   78.196    2.90     30.5   \n1    0.0  30.000   75.064  11.64   358.4  10.849   51.253    3.68     25.3   \n2    0.0  30.000   78.479   3.31     0.4  18.087  181.406    4.69     10.2   \n3    0.0  30.000   99.144  11.50   358.2   9.940   75.841    2.53     30.4   \n4    0.0  30.000  174.065   9.57   359.9  20.829  182.539    8.35      8.4   \n\n  Дтек_ист Птек_расч Дтек_расч    Ка           Точ      t  \n0   29.331    26.151      9.63  5.49  [0, 0, 0, 0]  0.001  \n1   34.283    21.400     11.81  4.37  [0, 0, 0, 0]  0.000  \n2   28.629     6.744      9.91  2.46  [0, 0, 0, 0]  0.000  \n3   29.213    25.255      8.91  6.42  [0, 0, 0, 0]  0.000  \n4   16.138     4.934      8.23  1.86  [0, 0, 0, 0]  0.000  ",
      "text/html": "<div>\n<style scoped>\n    .dataframe tbody tr th:only-of-type {\n        vertical-align: middle;\n    }\n\n    .dataframe tbody tr th {\n        vertical-align: top;\n    }\n\n    .dataframe thead th {\n        text-align: right;\n    }\n</style>\n<table border=\"1\" class=\"dataframe\">\n  <thead>\n    <tr style=\"text-align: right;\">\n      <th></th>\n      <th>П0_ист</th>\n      <th>Д0_ист</th>\n      <th>К0_ист</th>\n      <th>V0_ист</th>\n      <th>П0_расч</th>\n      <th>Д0_расч</th>\n      <th>К0_расч</th>\n      <th>V0_расч</th>\n      <th>Птек_ист</th>\n      <th>Дтек_ист</th>\n      <th>Птек_расч</th>\n      <th>Дтек_расч</th>\n      <th>Ка</th>\n      <th>Точ</th>\n      <th>t</th>\n    </tr>\n  </thead>\n  <tbody>\n    <tr>\n      <th>0</th>\n      <td>0.0</td>\n      <td>30.000</td>\n      <td>98.786</td>\n      <td>11.58</td>\n      <td>358.2</td>\n      <td>10.559</td>\n      <td>78.196</td>\n      <td>2.90</td>\n      <td>30.5</td>\n      <td>29.331</td>\n      <td>26.151</td>\n      <td>9.63</td>\n      <td>5.49</td>\n      <td>[0, 0, 0, 0]</td>\n      <td>0.001</td>\n    </tr>\n    <tr>\n      <th>1</th>\n      <td>0.0</td>\n      <td>30.000</td>\n      <td>75.064</td>\n      <td>11.64</td>\n      <td>358.4</td>\n      <td>10.849</td>\n      <td>51.253</td>\n      <td>3.68</td>\n      <td>25.3</td>\n      <td>34.283</td>\n      <td>21.400</td>\n      <td>11.81</td>\n      <td>4.37</td>\n      <td>[0, 0, 0, 0]</td>\n      <td>0.000</td>\n    </tr>\n    <tr>\n      <th>2</th>\n      <td>0.0</td>\n      <td>30.000</td>\n      <td>78.479</td>\n      <td>3.31</td>\n      <td>0.4</td>\n      <td>18.087</td>\n      <td>181.406</td>\n      <td>4.69</td>\n      <td>10.2</td>\n      <td>28.629</td>\n      <td>6.744</td>\n      <td>9.91</td>\n      <td>2.46</td>\n      <td>[0, 0, 0, 0]</td>\n      <td>0.000</td>\n    </tr>\n    <tr>\n      <th>3</th>\n      <td>0.0</td>\n      <td>30.000</td>\n      <td>99.144</td>\n      <td>11.50</td>\n      <td>358.2</td>\n      <td>9.940</td>\n      <td>75.841</td>\n      <td>2.53</td>\n      <td>30.4</td>\n      <td>29.213</td>\n      <td>25.255</td>\n      <td>8.91</td>\n      <td>6.42</td>\n      <td>[0, 0, 0, 0]</td>\n      <td>0.000</td>\n    </tr>\n    <tr>\n      <th>4</th>\n      <td>0.0</td>\n      <td>30.000</td>\n      <td>174.065</td>\n      <td>9.57</td>\n      <td>359.9</td>\n      <td>20.829</td>\n      <td>182.539</td>\n      <td>8.35</td>\n      <td>8.4</td>\n      <td>16.138</td>\n      <td>4.934</td>\n      <td>8.23</td>\n      <td>1.86</td>\n      <td>[0, 0, 0, 0]</td>\n      <td>0.000</td>\n    </tr>\n  </tbody>\n</table>\n</div>"
     },
     "metadata": {}
    },
    {
     "output_type": "stream",
     "name": "stdout",
     "text": [
      "_________________________________________________\n"
     ]
    }
   ],
   "source": [
    "for std in std_arr:\n",
    "\n",
    "    tma = TMA(observer, std=np.radians(std), tau=2)\n",
    "    algorithm_name = 'Метод N пеленгов'\n",
    "    dict_results = tma.swarm(n=100, algorithm_name=algorithm_name, target_func=target_func, p0=p0, seeded=True, verbose=True)\n",
    "    df = tests.get_df(dict_results).dropna(axis=1)\n",
    "    tma.print_verbose()\n",
    "\n",
    "    print('Показатели Монте-Карло:')\n",
    "    for i in range(4):\n",
    "        a = df['Точ'].apply(lambda x: x[i])\n",
    "        print('Вариант {}: Рэф = {:.0f}%, Рэф_мин = {:.0f}'.format(i, 100 * a.mean(), min(a)))\n",
    "    print('Ка = {:.2f}'.format(df['Ка'].mean()))\n",
    "    print('t = {:.4f}, t_max = {:.4f}'.format(df['t'].mean(), max(df['t'])))\n",
    "    \n",
    "    d_df = df.copy()\n",
    "    for i, j in enumerate(df.columns):\n",
    "        try: d_df[j] = df[j].apply(lambda x: precisions_1[i].format(np.float64(x)))\n",
    "        except(TypeError): pass\n",
    "    display(d_df.drop(['Кб'], axis=1).head())\n",
    "\n",
    "    tests.save_df(df, name='../tests/test1/d30/N, ' + str(np.degrees(tma.standart_deviation)) + '.xlsx')\n",
    "    print('_________________________________________________')"
   ]
  }
 ]
}