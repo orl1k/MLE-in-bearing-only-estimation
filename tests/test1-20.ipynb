{
 "metadata": {
  "language_info": {
   "codemirror_mode": {
    "name": "ipython",
    "version": 3
   },
   "file_extension": ".py",
   "mimetype": "text/x-python",
   "name": "python",
   "nbconvert_exporter": "python",
   "pygments_lexer": "ipython3",
   "version": "3.9.2-final"
  },
  "orig_nbformat": 2,
  "kernelspec": {
   "name": "python39264bit33474e9fc3ff4296aa6392b4164f7ca5",
   "display_name": "Python 3.9.2 64-bit",
   "language": "python"
  }
 },
 "nbformat": 4,
 "nbformat_minor": 2,
 "cells": [
  {
   "cell_type": "code",
   "execution_count": 1,
   "metadata": {},
   "outputs": [],
   "source": [
    "import sys\n",
    "sys.path.append(\"..\")\n",
    "import numpy as np\n",
    "from project.ship import Ship\n",
    "from project.tests import Tests\n",
    "from project.botma import TMA\n",
    "import time\n",
    "from pathlib import Path\n",
    "from datetime import datetime"
   ]
  },
  {
   "cell_type": "code",
   "execution_count": 2,
   "metadata": {},
   "outputs": [
    {
     "output_type": "stream",
     "name": "stdout",
     "text": [
      "Время последнего моделирования: 22/03/2021 21:49\n"
     ]
    }
   ],
   "source": [
    "# Класс для сохранения результатов\n",
    "tests = Tests('test1')\n",
    "Path(\"../tests/test1/d20\").mkdir(parents=True, exist_ok=True)\n",
    "print(\"Время последнего моделирования:\", datetime.now().strftime(\"%d/%m/%Y %H:%M\"))\n",
    "\n",
    "# Создаем наблюдателя\n",
    "observer_x, observer_y, observer_course, observer_velocity = 0, 0, 0, 5\n",
    "observer = Ship('Наблюдатель', observer_x, observer_y, observer_course,\n",
    "                observer_velocity, verbose=True)"
   ]
  },
  {
   "cell_type": "code",
   "execution_count": 3,
   "metadata": {},
   "outputs": [
    {
     "output_type": "stream",
     "name": "stdout",
     "text": [
      "Наблюдатель движется прямо по курсу 0.0° 180с\nНаблюдатель перешёл на курс 270.0° за 180с\nНаблюдатель движется прямо по курсу 270.0° 300с\nНаблюдатель перешёл на курс 90.0° за 360с\nНаблюдатель движется прямо по курсу 90.0° 180с\n"
     ]
    }
   ],
   "source": [
    "# Моделирование траектории наблюдателя\n",
    "observer.forward_movement(3 * 60)\n",
    "observer.change_course(270, 'left', omega=0.5)\n",
    "observer.forward_movement(5 * 60)\n",
    "observer.change_course(90, 'right', omega=0.5)\n",
    "observer.forward_movement(3 * 60)"
   ]
  },
  {
   "cell_type": "code",
   "execution_count": 4,
   "metadata": {},
   "outputs": [],
   "source": [
    "def target_func(seed=None):\n",
    "    np.random.seed(seed)\n",
    "    b = 0\n",
    "    d = 20\n",
    "    c = np.random.uniform(0, 180)\n",
    "    v = np.random.uniform(3, 15)\n",
    "    return [b, d, c, v]\n",
    "p0 = [0., 25., 90., 7.]\n",
    "std_arr = [0., 0.1, 0.2, 0.3, 0.5, 1.]\n",
    "precisions_1 = ['{0:.1f}', '{0:.3f}', '{0:.3f}', '{0:.2f}', '{0:.1f}', '{0:.3f}', '{0:.3f}', '{0:.2f}', '{0:.1f}', '{0:.3f}', '{0:.3f}', '{0:.2f}',\n",
    "'{0:.2f}','{0:.3f}', '{0:.2f}','{0:.3f}','{0:.2f}', '{0:.2f}', '{0:.2f}', '{0:.2f}', '{0:.2f}', '{0:.2f}', '{:.0f}', '{0:.4f}', '{0:.0f}', '{0:.0f}']\n",
    "precisions_2 = ['{0:.1f}', '{0:.3f}', '{0:.1f}', '{0:.2f}', '{0:.1f}', '{0:.3f}', '{0:.1f}', '{0:.2f}', '{0:.2f}','{0:.3f}', '{0:.2f}','{0:.3f}', '{0:.2f}', '{0:.2f}', '{0:.0f}', '{0:.4f}']"
   ]
  },
  {
   "cell_type": "code",
   "execution_count": 5,
   "metadata": {},
   "outputs": [
    {
     "output_type": "stream",
     "name": "stdout",
     "text": [
      "Алгоритм:: ММП v2\n",
      "Моделирование 100 результатов закончено за t = 0.9 с\n",
      "СКОп = 0.0, tau = 2\n",
      "Показатели Монте-Карло:\n",
      "Вариант 0: Рэф = 100%, Рэф_мин = 1\n",
      "Вариант 1: Рэф = 100%, Рэф_мин = 1\n",
      "Вариант 2: Рэф = 100%, Рэф_мин = 1\n",
      "Вариант 3: Рэф = 100%, Рэф_мин = 1\n",
      "Ка = 0.00\n",
      "Nf = 10, Nf_max = 24\n",
      "Iter = 8, Iter_max = 19\n",
      "t = 0.0032, t_max = 0.0115\n"
     ]
    },
    {
     "output_type": "display_data",
     "data": {
      "text/plain": "  П0_ист  Д0_ист   К0_ист V0_ист П0_расч Д0_расч  К0_расч V0_расч Птек_ист  \\\n0    0.0  20.000   98.786  11.58     0.0  20.000   98.786   11.58    44.33   \n1    0.0  20.000   75.064  11.64     0.0  20.000   75.064   11.64    34.96   \n2    0.0  20.000   78.479   3.31   360.0  20.000   78.479    3.31    15.57   \n3    0.0  20.000   99.144  11.50     0.0  20.000   99.144   11.50    44.24   \n4    0.0  20.000  174.065   9.57   360.0  20.000  174.065    9.57    21.56   \n\n  Дтек_ист Птек_расч Дтек_расч    Ка           Точ       t  Nf Iter  \n0   21.333     44.33    21.332  0.00  [1, 1, 1, 1]  0.0115  10    9  \n1   25.605     34.96    25.605  0.00  [1, 1, 1, 1]  0.0048  10    9  \n2   18.869     15.57    18.869  0.00  [1, 1, 1, 1]  0.0027   8    7  \n3   21.203     44.24    21.203  0.00  [1, 1, 1, 1]  0.0029  10    9  \n4    6.414     21.56     6.414  0.00  [1, 1, 1, 1]  0.0026   9    8  ",
      "text/html": "<div>\n<style scoped>\n    .dataframe tbody tr th:only-of-type {\n        vertical-align: middle;\n    }\n\n    .dataframe tbody tr th {\n        vertical-align: top;\n    }\n\n    .dataframe thead th {\n        text-align: right;\n    }\n</style>\n<table border=\"1\" class=\"dataframe\">\n  <thead>\n    <tr style=\"text-align: right;\">\n      <th></th>\n      <th>П0_ист</th>\n      <th>Д0_ист</th>\n      <th>К0_ист</th>\n      <th>V0_ист</th>\n      <th>П0_расч</th>\n      <th>Д0_расч</th>\n      <th>К0_расч</th>\n      <th>V0_расч</th>\n      <th>Птек_ист</th>\n      <th>Дтек_ист</th>\n      <th>Птек_расч</th>\n      <th>Дтек_расч</th>\n      <th>Ка</th>\n      <th>Точ</th>\n      <th>t</th>\n      <th>Nf</th>\n      <th>Iter</th>\n    </tr>\n  </thead>\n  <tbody>\n    <tr>\n      <th>0</th>\n      <td>0.0</td>\n      <td>20.000</td>\n      <td>98.786</td>\n      <td>11.58</td>\n      <td>0.0</td>\n      <td>20.000</td>\n      <td>98.786</td>\n      <td>11.58</td>\n      <td>44.33</td>\n      <td>21.333</td>\n      <td>44.33</td>\n      <td>21.332</td>\n      <td>0.00</td>\n      <td>[1, 1, 1, 1]</td>\n      <td>0.0115</td>\n      <td>10</td>\n      <td>9</td>\n    </tr>\n    <tr>\n      <th>1</th>\n      <td>0.0</td>\n      <td>20.000</td>\n      <td>75.064</td>\n      <td>11.64</td>\n      <td>0.0</td>\n      <td>20.000</td>\n      <td>75.064</td>\n      <td>11.64</td>\n      <td>34.96</td>\n      <td>25.605</td>\n      <td>34.96</td>\n      <td>25.605</td>\n      <td>0.00</td>\n      <td>[1, 1, 1, 1]</td>\n      <td>0.0048</td>\n      <td>10</td>\n      <td>9</td>\n    </tr>\n    <tr>\n      <th>2</th>\n      <td>0.0</td>\n      <td>20.000</td>\n      <td>78.479</td>\n      <td>3.31</td>\n      <td>360.0</td>\n      <td>20.000</td>\n      <td>78.479</td>\n      <td>3.31</td>\n      <td>15.57</td>\n      <td>18.869</td>\n      <td>15.57</td>\n      <td>18.869</td>\n      <td>0.00</td>\n      <td>[1, 1, 1, 1]</td>\n      <td>0.0027</td>\n      <td>8</td>\n      <td>7</td>\n    </tr>\n    <tr>\n      <th>3</th>\n      <td>0.0</td>\n      <td>20.000</td>\n      <td>99.144</td>\n      <td>11.50</td>\n      <td>0.0</td>\n      <td>20.000</td>\n      <td>99.144</td>\n      <td>11.50</td>\n      <td>44.24</td>\n      <td>21.203</td>\n      <td>44.24</td>\n      <td>21.203</td>\n      <td>0.00</td>\n      <td>[1, 1, 1, 1]</td>\n      <td>0.0029</td>\n      <td>10</td>\n      <td>9</td>\n    </tr>\n    <tr>\n      <th>4</th>\n      <td>0.0</td>\n      <td>20.000</td>\n      <td>174.065</td>\n      <td>9.57</td>\n      <td>360.0</td>\n      <td>20.000</td>\n      <td>174.065</td>\n      <td>9.57</td>\n      <td>21.56</td>\n      <td>6.414</td>\n      <td>21.56</td>\n      <td>6.414</td>\n      <td>0.00</td>\n      <td>[1, 1, 1, 1]</td>\n      <td>0.0026</td>\n      <td>9</td>\n      <td>8</td>\n    </tr>\n  </tbody>\n</table>\n</div>"
     },
     "metadata": {}
    },
    {
     "output_type": "stream",
     "name": "stdout",
     "text": [
      "_________________________________________________\n",
      "Алгоритм:: ММП v2\n",
      "Моделирование 100 результатов закончено за t = 0.8 с\n",
      "СКОп = 0.1, tau = 2\n",
      "Показатели Монте-Карло:\n",
      "Вариант 0: Рэф = 100%, Рэф_мин = 1\n",
      "Вариант 1: Рэф = 100%, Рэф_мин = 1\n",
      "Вариант 2: Рэф = 100%, Рэф_мин = 1\n",
      "Вариант 3: Рэф = 100%, Рэф_мин = 1\n",
      "Ка = 0.01\n",
      "Nf = 10, Nf_max = 24\n",
      "Iter = 8, Iter_max = 19\n",
      "t = 0.0028, t_max = 0.0063\n"
     ]
    },
    {
     "output_type": "display_data",
     "data": {
      "text/plain": "  П0_ист  Д0_ист   К0_ист V0_ист П0_расч Д0_расч  К0_расч V0_расч Птек_ист  \\\n0    0.0  20.000   98.786  11.58   360.0  20.062   98.701   11.65    44.33   \n1    0.0  20.000   75.064  11.64     0.0  19.908   75.064   11.56    34.96   \n2    0.0  20.000   78.479   3.31     0.0  20.046   79.766    3.29    15.57   \n3    0.0  20.000   99.144  11.50     0.0  19.906   99.296   11.40    44.24   \n4    0.0  20.000  174.065   9.57     0.0  19.995  174.132    9.58    21.56   \n\n  Дтек_ист Птек_расч Дтек_расч    Ка           Точ       t  Nf Iter  \n0   21.333     44.35    21.439  0.01  [1, 1, 1, 1]  0.0028  10    9  \n1   25.605     34.94    25.456  0.01  [1, 1, 1, 1]  0.0028  10    9  \n2   18.869     15.58    18.823  0.01  [1, 1, 1, 1]  0.0022   8    7  \n3   21.203     44.23    21.045  0.01  [1, 1, 1, 1]  0.0026  10    9  \n4    6.414     21.55     6.388  0.01  [1, 1, 1, 1]  0.0024   9    8  ",
      "text/html": "<div>\n<style scoped>\n    .dataframe tbody tr th:only-of-type {\n        vertical-align: middle;\n    }\n\n    .dataframe tbody tr th {\n        vertical-align: top;\n    }\n\n    .dataframe thead th {\n        text-align: right;\n    }\n</style>\n<table border=\"1\" class=\"dataframe\">\n  <thead>\n    <tr style=\"text-align: right;\">\n      <th></th>\n      <th>П0_ист</th>\n      <th>Д0_ист</th>\n      <th>К0_ист</th>\n      <th>V0_ист</th>\n      <th>П0_расч</th>\n      <th>Д0_расч</th>\n      <th>К0_расч</th>\n      <th>V0_расч</th>\n      <th>Птек_ист</th>\n      <th>Дтек_ист</th>\n      <th>Птек_расч</th>\n      <th>Дтек_расч</th>\n      <th>Ка</th>\n      <th>Точ</th>\n      <th>t</th>\n      <th>Nf</th>\n      <th>Iter</th>\n    </tr>\n  </thead>\n  <tbody>\n    <tr>\n      <th>0</th>\n      <td>0.0</td>\n      <td>20.000</td>\n      <td>98.786</td>\n      <td>11.58</td>\n      <td>360.0</td>\n      <td>20.062</td>\n      <td>98.701</td>\n      <td>11.65</td>\n      <td>44.33</td>\n      <td>21.333</td>\n      <td>44.35</td>\n      <td>21.439</td>\n      <td>0.01</td>\n      <td>[1, 1, 1, 1]</td>\n      <td>0.0028</td>\n      <td>10</td>\n      <td>9</td>\n    </tr>\n    <tr>\n      <th>1</th>\n      <td>0.0</td>\n      <td>20.000</td>\n      <td>75.064</td>\n      <td>11.64</td>\n      <td>0.0</td>\n      <td>19.908</td>\n      <td>75.064</td>\n      <td>11.56</td>\n      <td>34.96</td>\n      <td>25.605</td>\n      <td>34.94</td>\n      <td>25.456</td>\n      <td>0.01</td>\n      <td>[1, 1, 1, 1]</td>\n      <td>0.0028</td>\n      <td>10</td>\n      <td>9</td>\n    </tr>\n    <tr>\n      <th>2</th>\n      <td>0.0</td>\n      <td>20.000</td>\n      <td>78.479</td>\n      <td>3.31</td>\n      <td>0.0</td>\n      <td>20.046</td>\n      <td>79.766</td>\n      <td>3.29</td>\n      <td>15.57</td>\n      <td>18.869</td>\n      <td>15.58</td>\n      <td>18.823</td>\n      <td>0.01</td>\n      <td>[1, 1, 1, 1]</td>\n      <td>0.0022</td>\n      <td>8</td>\n      <td>7</td>\n    </tr>\n    <tr>\n      <th>3</th>\n      <td>0.0</td>\n      <td>20.000</td>\n      <td>99.144</td>\n      <td>11.50</td>\n      <td>0.0</td>\n      <td>19.906</td>\n      <td>99.296</td>\n      <td>11.40</td>\n      <td>44.24</td>\n      <td>21.203</td>\n      <td>44.23</td>\n      <td>21.045</td>\n      <td>0.01</td>\n      <td>[1, 1, 1, 1]</td>\n      <td>0.0026</td>\n      <td>10</td>\n      <td>9</td>\n    </tr>\n    <tr>\n      <th>4</th>\n      <td>0.0</td>\n      <td>20.000</td>\n      <td>174.065</td>\n      <td>9.57</td>\n      <td>0.0</td>\n      <td>19.995</td>\n      <td>174.132</td>\n      <td>9.58</td>\n      <td>21.56</td>\n      <td>6.414</td>\n      <td>21.55</td>\n      <td>6.388</td>\n      <td>0.01</td>\n      <td>[1, 1, 1, 1]</td>\n      <td>0.0024</td>\n      <td>9</td>\n      <td>8</td>\n    </tr>\n  </tbody>\n</table>\n</div>"
     },
     "metadata": {}
    },
    {
     "output_type": "stream",
     "name": "stdout",
     "text": [
      "_________________________________________________\n",
      "Алгоритм:: ММП v2\n",
      "Моделирование 100 результатов закончено за t = 0.8 с\n",
      "СКОп = 0.2, tau = 2\n",
      "Показатели Монте-Карло:\n",
      "Вариант 0: Рэф = 98%, Рэф_мин = 0\n",
      "Вариант 1: Рэф = 100%, Рэф_мин = 1\n",
      "Вариант 2: Рэф = 100%, Рэф_мин = 1\n",
      "Вариант 3: Рэф = 100%, Рэф_мин = 1\n",
      "Ка = 0.04\n",
      "Nf = 10, Nf_max = 24\n",
      "Iter = 8, Iter_max = 19\n",
      "t = 0.0028, t_max = 0.0109\n"
     ]
    },
    {
     "output_type": "display_data",
     "data": {
      "text/plain": "  П0_ист  Д0_ист   К0_ист V0_ист П0_расч Д0_расч  К0_расч V0_расч Птек_ист  \\\n0    0.0  20.000   98.786  11.58   360.0  20.125   98.617   11.73    44.33   \n1    0.0  20.000   75.064  11.64     0.0  19.818   75.064   11.48    34.96   \n2    0.0  20.000   78.479   3.31     0.0  20.093   81.072    3.26    15.57   \n3    0.0  20.000   99.144  11.50     0.0  19.813   99.449   11.30    44.24   \n4    0.0  20.000  174.065   9.57     0.0  19.990  174.198    9.60    21.56   \n\n  Дтек_ист Птек_расч Дтек_расч    Ка           Точ       t  Nf Iter  \n0   21.333     44.37    21.546  0.04  [1, 1, 1, 1]  0.0027  10    9  \n1   25.605     34.92    25.310  0.04  [1, 1, 1, 1]  0.0026  10    9  \n2   18.869     15.60    18.776  0.04  [1, 1, 1, 1]  0.0021   8    7  \n3   21.203     44.22    20.888  0.04  [1, 1, 1, 1]  0.0031  10    9  \n4    6.414     21.53     6.362  0.04  [1, 1, 1, 1]  0.0024   9    8  ",
      "text/html": "<div>\n<style scoped>\n    .dataframe tbody tr th:only-of-type {\n        vertical-align: middle;\n    }\n\n    .dataframe tbody tr th {\n        vertical-align: top;\n    }\n\n    .dataframe thead th {\n        text-align: right;\n    }\n</style>\n<table border=\"1\" class=\"dataframe\">\n  <thead>\n    <tr style=\"text-align: right;\">\n      <th></th>\n      <th>П0_ист</th>\n      <th>Д0_ист</th>\n      <th>К0_ист</th>\n      <th>V0_ист</th>\n      <th>П0_расч</th>\n      <th>Д0_расч</th>\n      <th>К0_расч</th>\n      <th>V0_расч</th>\n      <th>Птек_ист</th>\n      <th>Дтек_ист</th>\n      <th>Птек_расч</th>\n      <th>Дтек_расч</th>\n      <th>Ка</th>\n      <th>Точ</th>\n      <th>t</th>\n      <th>Nf</th>\n      <th>Iter</th>\n    </tr>\n  </thead>\n  <tbody>\n    <tr>\n      <th>0</th>\n      <td>0.0</td>\n      <td>20.000</td>\n      <td>98.786</td>\n      <td>11.58</td>\n      <td>360.0</td>\n      <td>20.125</td>\n      <td>98.617</td>\n      <td>11.73</td>\n      <td>44.33</td>\n      <td>21.333</td>\n      <td>44.37</td>\n      <td>21.546</td>\n      <td>0.04</td>\n      <td>[1, 1, 1, 1]</td>\n      <td>0.0027</td>\n      <td>10</td>\n      <td>9</td>\n    </tr>\n    <tr>\n      <th>1</th>\n      <td>0.0</td>\n      <td>20.000</td>\n      <td>75.064</td>\n      <td>11.64</td>\n      <td>0.0</td>\n      <td>19.818</td>\n      <td>75.064</td>\n      <td>11.48</td>\n      <td>34.96</td>\n      <td>25.605</td>\n      <td>34.92</td>\n      <td>25.310</td>\n      <td>0.04</td>\n      <td>[1, 1, 1, 1]</td>\n      <td>0.0026</td>\n      <td>10</td>\n      <td>9</td>\n    </tr>\n    <tr>\n      <th>2</th>\n      <td>0.0</td>\n      <td>20.000</td>\n      <td>78.479</td>\n      <td>3.31</td>\n      <td>0.0</td>\n      <td>20.093</td>\n      <td>81.072</td>\n      <td>3.26</td>\n      <td>15.57</td>\n      <td>18.869</td>\n      <td>15.60</td>\n      <td>18.776</td>\n      <td>0.04</td>\n      <td>[1, 1, 1, 1]</td>\n      <td>0.0021</td>\n      <td>8</td>\n      <td>7</td>\n    </tr>\n    <tr>\n      <th>3</th>\n      <td>0.0</td>\n      <td>20.000</td>\n      <td>99.144</td>\n      <td>11.50</td>\n      <td>0.0</td>\n      <td>19.813</td>\n      <td>99.449</td>\n      <td>11.30</td>\n      <td>44.24</td>\n      <td>21.203</td>\n      <td>44.22</td>\n      <td>20.888</td>\n      <td>0.04</td>\n      <td>[1, 1, 1, 1]</td>\n      <td>0.0031</td>\n      <td>10</td>\n      <td>9</td>\n    </tr>\n    <tr>\n      <th>4</th>\n      <td>0.0</td>\n      <td>20.000</td>\n      <td>174.065</td>\n      <td>9.57</td>\n      <td>0.0</td>\n      <td>19.990</td>\n      <td>174.198</td>\n      <td>9.60</td>\n      <td>21.56</td>\n      <td>6.414</td>\n      <td>21.53</td>\n      <td>6.362</td>\n      <td>0.04</td>\n      <td>[1, 1, 1, 1]</td>\n      <td>0.0024</td>\n      <td>9</td>\n      <td>8</td>\n    </tr>\n  </tbody>\n</table>\n</div>"
     },
     "metadata": {}
    },
    {
     "output_type": "stream",
     "name": "stdout",
     "text": [
      "_________________________________________________\n",
      "Алгоритм:: ММП v2\n",
      "Моделирование 100 результатов закончено за t = 0.8 с\n",
      "СКОп = 0.3, tau = 2\n",
      "Показатели Монте-Карло:\n",
      "Вариант 0: Рэф = 96%, Рэф_мин = 0\n",
      "Вариант 1: Рэф = 98%, Рэф_мин = 0\n",
      "Вариант 2: Рэф = 98%, Рэф_мин = 0\n",
      "Вариант 3: Рэф = 100%, Рэф_мин = 1\n",
      "Ка = 0.09\n",
      "Nf = 10, Nf_max = 24\n",
      "Iter = 8, Iter_max = 19\n",
      "t = 0.0028, t_max = 0.0088\n"
     ]
    },
    {
     "output_type": "display_data",
     "data": {
      "text/plain": "  П0_ист  Д0_ист   К0_ист V0_ист П0_расч Д0_расч  К0_расч V0_расч Птек_ист  \\\n0    0.0  20.000   98.786  11.58   359.9  20.189   98.534   11.80    44.33   \n1    0.0  20.000   75.064  11.64     0.0  19.728   75.064   11.41    34.96   \n2    0.0  20.000   78.479   3.31     0.0  20.139   82.398    3.24    15.57   \n3    0.0  20.000   99.144  11.50     0.1  19.722   99.604   11.21    44.24   \n4    0.0  20.000  174.065   9.57     0.0  19.986  174.264    9.61    21.56   \n\n  Дтек_ист Птек_расч Дтек_расч    Ка           Точ       t  Nf Iter  \n0   21.333     44.40    21.654  0.09  [1, 1, 1, 1]  0.0061  10    9  \n1   25.605     34.90    25.165  0.09  [1, 1, 1, 1]  0.0028  10    9  \n2   18.869     15.62    18.729  0.09  [1, 1, 1, 1]  0.0022   8    7  \n3   21.203     44.21    20.732  0.09  [1, 1, 1, 1]  0.0045  10    9  \n4    6.414     21.52     6.335  0.08  [1, 1, 1, 1]  0.0033   9    8  ",
      "text/html": "<div>\n<style scoped>\n    .dataframe tbody tr th:only-of-type {\n        vertical-align: middle;\n    }\n\n    .dataframe tbody tr th {\n        vertical-align: top;\n    }\n\n    .dataframe thead th {\n        text-align: right;\n    }\n</style>\n<table border=\"1\" class=\"dataframe\">\n  <thead>\n    <tr style=\"text-align: right;\">\n      <th></th>\n      <th>П0_ист</th>\n      <th>Д0_ист</th>\n      <th>К0_ист</th>\n      <th>V0_ист</th>\n      <th>П0_расч</th>\n      <th>Д0_расч</th>\n      <th>К0_расч</th>\n      <th>V0_расч</th>\n      <th>Птек_ист</th>\n      <th>Дтек_ист</th>\n      <th>Птек_расч</th>\n      <th>Дтек_расч</th>\n      <th>Ка</th>\n      <th>Точ</th>\n      <th>t</th>\n      <th>Nf</th>\n      <th>Iter</th>\n    </tr>\n  </thead>\n  <tbody>\n    <tr>\n      <th>0</th>\n      <td>0.0</td>\n      <td>20.000</td>\n      <td>98.786</td>\n      <td>11.58</td>\n      <td>359.9</td>\n      <td>20.189</td>\n      <td>98.534</td>\n      <td>11.80</td>\n      <td>44.33</td>\n      <td>21.333</td>\n      <td>44.40</td>\n      <td>21.654</td>\n      <td>0.09</td>\n      <td>[1, 1, 1, 1]</td>\n      <td>0.0061</td>\n      <td>10</td>\n      <td>9</td>\n    </tr>\n    <tr>\n      <th>1</th>\n      <td>0.0</td>\n      <td>20.000</td>\n      <td>75.064</td>\n      <td>11.64</td>\n      <td>0.0</td>\n      <td>19.728</td>\n      <td>75.064</td>\n      <td>11.41</td>\n      <td>34.96</td>\n      <td>25.605</td>\n      <td>34.90</td>\n      <td>25.165</td>\n      <td>0.09</td>\n      <td>[1, 1, 1, 1]</td>\n      <td>0.0028</td>\n      <td>10</td>\n      <td>9</td>\n    </tr>\n    <tr>\n      <th>2</th>\n      <td>0.0</td>\n      <td>20.000</td>\n      <td>78.479</td>\n      <td>3.31</td>\n      <td>0.0</td>\n      <td>20.139</td>\n      <td>82.398</td>\n      <td>3.24</td>\n      <td>15.57</td>\n      <td>18.869</td>\n      <td>15.62</td>\n      <td>18.729</td>\n      <td>0.09</td>\n      <td>[1, 1, 1, 1]</td>\n      <td>0.0022</td>\n      <td>8</td>\n      <td>7</td>\n    </tr>\n    <tr>\n      <th>3</th>\n      <td>0.0</td>\n      <td>20.000</td>\n      <td>99.144</td>\n      <td>11.50</td>\n      <td>0.1</td>\n      <td>19.722</td>\n      <td>99.604</td>\n      <td>11.21</td>\n      <td>44.24</td>\n      <td>21.203</td>\n      <td>44.21</td>\n      <td>20.732</td>\n      <td>0.09</td>\n      <td>[1, 1, 1, 1]</td>\n      <td>0.0045</td>\n      <td>10</td>\n      <td>9</td>\n    </tr>\n    <tr>\n      <th>4</th>\n      <td>0.0</td>\n      <td>20.000</td>\n      <td>174.065</td>\n      <td>9.57</td>\n      <td>0.0</td>\n      <td>19.986</td>\n      <td>174.264</td>\n      <td>9.61</td>\n      <td>21.56</td>\n      <td>6.414</td>\n      <td>21.52</td>\n      <td>6.335</td>\n      <td>0.08</td>\n      <td>[1, 1, 1, 1]</td>\n      <td>0.0033</td>\n      <td>9</td>\n      <td>8</td>\n    </tr>\n  </tbody>\n</table>\n</div>"
     },
     "metadata": {}
    },
    {
     "output_type": "stream",
     "name": "stdout",
     "text": [
      "_________________________________________________\n",
      "Алгоритм:: ММП v2\n",
      "Моделирование 100 результатов закончено за t = 0.8 с\n",
      "СКОп = 0.5, tau = 2\n",
      "Показатели Монте-Карло:\n",
      "Вариант 0: Рэф = 79%, Рэф_мин = 0\n",
      "Вариант 1: Рэф = 97%, Рэф_мин = 0\n",
      "Вариант 2: Рэф = 97%, Рэф_мин = 0\n",
      "Вариант 3: Рэф = 98%, Рэф_мин = 0\n",
      "Ка = 0.25\n",
      "Nf = 10, Nf_max = 24\n",
      "Iter = 8, Iter_max = 19\n",
      "t = 0.0027, t_max = 0.0061\n"
     ]
    },
    {
     "output_type": "display_data",
     "data": {
      "text/plain": "  П0_ист  Д0_ист   К0_ист V0_ист П0_расч Д0_расч  К0_расч V0_расч Птек_ист  \\\n0    0.0  20.000   98.786  11.58   359.9  20.317   98.369   11.95    44.33   \n1    0.0  20.000   75.064  11.64     0.0  19.551   75.064   11.25    34.96   \n2    0.0  20.000   78.479   3.31     0.1  20.231   85.105    3.21    15.57   \n3    0.0  20.000   99.144  11.50     0.1  19.541   99.916   11.02    44.24   \n4    0.0  20.000  174.065   9.57     0.0  19.976  174.394    9.64    21.56   \n\n  Дтек_ист Птек_расч Дтек_расч    Ка           Точ       t  Nf Iter  \n0   21.333     44.45    21.871  0.25  [1, 1, 1, 1]  0.0030  10    9  \n1   25.605     34.86    24.879  0.25  [1, 1, 1, 1]  0.0028  10    9  \n2   18.869     15.65    18.634  0.26  [0, 1, 1, 1]  0.0022   8    7  \n3   21.203     44.19    20.426  0.26  [1, 1, 1, 1]  0.0027  10    9  \n4    6.414     21.48     6.284  0.24  [1, 1, 1, 1]  0.0027   9    8  ",
      "text/html": "<div>\n<style scoped>\n    .dataframe tbody tr th:only-of-type {\n        vertical-align: middle;\n    }\n\n    .dataframe tbody tr th {\n        vertical-align: top;\n    }\n\n    .dataframe thead th {\n        text-align: right;\n    }\n</style>\n<table border=\"1\" class=\"dataframe\">\n  <thead>\n    <tr style=\"text-align: right;\">\n      <th></th>\n      <th>П0_ист</th>\n      <th>Д0_ист</th>\n      <th>К0_ист</th>\n      <th>V0_ист</th>\n      <th>П0_расч</th>\n      <th>Д0_расч</th>\n      <th>К0_расч</th>\n      <th>V0_расч</th>\n      <th>Птек_ист</th>\n      <th>Дтек_ист</th>\n      <th>Птек_расч</th>\n      <th>Дтек_расч</th>\n      <th>Ка</th>\n      <th>Точ</th>\n      <th>t</th>\n      <th>Nf</th>\n      <th>Iter</th>\n    </tr>\n  </thead>\n  <tbody>\n    <tr>\n      <th>0</th>\n      <td>0.0</td>\n      <td>20.000</td>\n      <td>98.786</td>\n      <td>11.58</td>\n      <td>359.9</td>\n      <td>20.317</td>\n      <td>98.369</td>\n      <td>11.95</td>\n      <td>44.33</td>\n      <td>21.333</td>\n      <td>44.45</td>\n      <td>21.871</td>\n      <td>0.25</td>\n      <td>[1, 1, 1, 1]</td>\n      <td>0.0030</td>\n      <td>10</td>\n      <td>9</td>\n    </tr>\n    <tr>\n      <th>1</th>\n      <td>0.0</td>\n      <td>20.000</td>\n      <td>75.064</td>\n      <td>11.64</td>\n      <td>0.0</td>\n      <td>19.551</td>\n      <td>75.064</td>\n      <td>11.25</td>\n      <td>34.96</td>\n      <td>25.605</td>\n      <td>34.86</td>\n      <td>24.879</td>\n      <td>0.25</td>\n      <td>[1, 1, 1, 1]</td>\n      <td>0.0028</td>\n      <td>10</td>\n      <td>9</td>\n    </tr>\n    <tr>\n      <th>2</th>\n      <td>0.0</td>\n      <td>20.000</td>\n      <td>78.479</td>\n      <td>3.31</td>\n      <td>0.1</td>\n      <td>20.231</td>\n      <td>85.105</td>\n      <td>3.21</td>\n      <td>15.57</td>\n      <td>18.869</td>\n      <td>15.65</td>\n      <td>18.634</td>\n      <td>0.26</td>\n      <td>[0, 1, 1, 1]</td>\n      <td>0.0022</td>\n      <td>8</td>\n      <td>7</td>\n    </tr>\n    <tr>\n      <th>3</th>\n      <td>0.0</td>\n      <td>20.000</td>\n      <td>99.144</td>\n      <td>11.50</td>\n      <td>0.1</td>\n      <td>19.541</td>\n      <td>99.916</td>\n      <td>11.02</td>\n      <td>44.24</td>\n      <td>21.203</td>\n      <td>44.19</td>\n      <td>20.426</td>\n      <td>0.26</td>\n      <td>[1, 1, 1, 1]</td>\n      <td>0.0027</td>\n      <td>10</td>\n      <td>9</td>\n    </tr>\n    <tr>\n      <th>4</th>\n      <td>0.0</td>\n      <td>20.000</td>\n      <td>174.065</td>\n      <td>9.57</td>\n      <td>0.0</td>\n      <td>19.976</td>\n      <td>174.394</td>\n      <td>9.64</td>\n      <td>21.56</td>\n      <td>6.414</td>\n      <td>21.48</td>\n      <td>6.284</td>\n      <td>0.24</td>\n      <td>[1, 1, 1, 1]</td>\n      <td>0.0027</td>\n      <td>9</td>\n      <td>8</td>\n    </tr>\n  </tbody>\n</table>\n</div>"
     },
     "metadata": {}
    },
    {
     "output_type": "stream",
     "name": "stdout",
     "text": [
      "_________________________________________________\n",
      "Алгоритм:: ММП v2\n",
      "Моделирование 100 результатов закончено за t = 0.8 с\n",
      "СКОп = 1.0, tau = 2\n",
      "Показатели Монте-Карло:\n",
      "Вариант 0: Рэф = 44%, Рэф_мин = 0\n",
      "Вариант 1: Рэф = 80%, Рэф_мин = 0\n",
      "Вариант 2: Рэф = 81%, Рэф_мин = 0\n",
      "Вариант 3: Рэф = 92%, Рэф_мин = 0\n",
      "Ка = 0.99\n",
      "Nf = 10, Nf_max = 24\n",
      "Iter = 8, Iter_max = 19\n",
      "t = 0.0027, t_max = 0.0058\n"
     ]
    },
    {
     "output_type": "display_data",
     "data": {
      "text/plain": "  П0_ист  Д0_ист   К0_ист V0_ист П0_расч Д0_расч  К0_расч V0_расч Птек_ист  \\\n0    0.0  20.000   98.786  11.58   359.8  20.645   97.971   12.33    44.33   \n1    0.0  20.000   75.064  11.64     0.0  19.126   75.065   10.88    34.96   \n2    0.0  20.000   78.479   3.31     0.1  20.460   92.130    3.14    15.57   \n3    0.0  20.000   99.144  11.50     0.2  19.106  100.717   10.57    44.24   \n4    0.0  20.000  174.065   9.57     0.0  19.955  174.709    9.71    21.56   \n\n  Дтек_ист Птек_расч Дтек_расч    Ка           Точ       t  Nf Iter  \n0   21.333     44.57    22.426  1.00  [0, 1, 1, 1]  0.0026  10    9  \n1   25.605     34.76    24.192  0.99  [0, 1, 1, 1]  0.0024   9    8  \n2   18.869     15.73    18.392  1.05  [0, 0, 0, 0]  0.0021   8    7  \n3   21.203     44.13    19.689  1.04  [0, 1, 1, 1]  0.0026  10    9  \n4    6.414     21.40     6.156  0.94  [1, 1, 1, 1]  0.0023   9    8  ",
      "text/html": "<div>\n<style scoped>\n    .dataframe tbody tr th:only-of-type {\n        vertical-align: middle;\n    }\n\n    .dataframe tbody tr th {\n        vertical-align: top;\n    }\n\n    .dataframe thead th {\n        text-align: right;\n    }\n</style>\n<table border=\"1\" class=\"dataframe\">\n  <thead>\n    <tr style=\"text-align: right;\">\n      <th></th>\n      <th>П0_ист</th>\n      <th>Д0_ист</th>\n      <th>К0_ист</th>\n      <th>V0_ист</th>\n      <th>П0_расч</th>\n      <th>Д0_расч</th>\n      <th>К0_расч</th>\n      <th>V0_расч</th>\n      <th>Птек_ист</th>\n      <th>Дтек_ист</th>\n      <th>Птек_расч</th>\n      <th>Дтек_расч</th>\n      <th>Ка</th>\n      <th>Точ</th>\n      <th>t</th>\n      <th>Nf</th>\n      <th>Iter</th>\n    </tr>\n  </thead>\n  <tbody>\n    <tr>\n      <th>0</th>\n      <td>0.0</td>\n      <td>20.000</td>\n      <td>98.786</td>\n      <td>11.58</td>\n      <td>359.8</td>\n      <td>20.645</td>\n      <td>97.971</td>\n      <td>12.33</td>\n      <td>44.33</td>\n      <td>21.333</td>\n      <td>44.57</td>\n      <td>22.426</td>\n      <td>1.00</td>\n      <td>[0, 1, 1, 1]</td>\n      <td>0.0026</td>\n      <td>10</td>\n      <td>9</td>\n    </tr>\n    <tr>\n      <th>1</th>\n      <td>0.0</td>\n      <td>20.000</td>\n      <td>75.064</td>\n      <td>11.64</td>\n      <td>0.0</td>\n      <td>19.126</td>\n      <td>75.065</td>\n      <td>10.88</td>\n      <td>34.96</td>\n      <td>25.605</td>\n      <td>34.76</td>\n      <td>24.192</td>\n      <td>0.99</td>\n      <td>[0, 1, 1, 1]</td>\n      <td>0.0024</td>\n      <td>9</td>\n      <td>8</td>\n    </tr>\n    <tr>\n      <th>2</th>\n      <td>0.0</td>\n      <td>20.000</td>\n      <td>78.479</td>\n      <td>3.31</td>\n      <td>0.1</td>\n      <td>20.460</td>\n      <td>92.130</td>\n      <td>3.14</td>\n      <td>15.57</td>\n      <td>18.869</td>\n      <td>15.73</td>\n      <td>18.392</td>\n      <td>1.05</td>\n      <td>[0, 0, 0, 0]</td>\n      <td>0.0021</td>\n      <td>8</td>\n      <td>7</td>\n    </tr>\n    <tr>\n      <th>3</th>\n      <td>0.0</td>\n      <td>20.000</td>\n      <td>99.144</td>\n      <td>11.50</td>\n      <td>0.2</td>\n      <td>19.106</td>\n      <td>100.717</td>\n      <td>10.57</td>\n      <td>44.24</td>\n      <td>21.203</td>\n      <td>44.13</td>\n      <td>19.689</td>\n      <td>1.04</td>\n      <td>[0, 1, 1, 1]</td>\n      <td>0.0026</td>\n      <td>10</td>\n      <td>9</td>\n    </tr>\n    <tr>\n      <th>4</th>\n      <td>0.0</td>\n      <td>20.000</td>\n      <td>174.065</td>\n      <td>9.57</td>\n      <td>0.0</td>\n      <td>19.955</td>\n      <td>174.709</td>\n      <td>9.71</td>\n      <td>21.56</td>\n      <td>6.414</td>\n      <td>21.40</td>\n      <td>6.156</td>\n      <td>0.94</td>\n      <td>[1, 1, 1, 1]</td>\n      <td>0.0023</td>\n      <td>9</td>\n      <td>8</td>\n    </tr>\n  </tbody>\n</table>\n</div>"
     },
     "metadata": {}
    },
    {
     "output_type": "stream",
     "name": "stdout",
     "text": [
      "_________________________________________________\n"
     ]
    }
   ],
   "source": [
    "for std in std_arr:\n",
    "\n",
    "    tma = TMA(observer, std=np.radians(std), tau=2)\n",
    "    dict_results = tma.swarm(n=100, target_func=target_func, p0=p0, seeded=True, verbose=True)\n",
    "    df = tests.get_df(dict_results)\n",
    "    tma.print_verbose()\n",
    "\n",
    "    print('Показатели Монте-Карло:')\n",
    "    for i in range(4):\n",
    "        a = df['Точ'].apply(lambda x: x[i])\n",
    "        print('Вариант {}: Рэф = {:.0f}%, Рэф_мин = {:.0f}'.format(i, 100 * a.mean(), min(a)))\n",
    "    print('Ка = {:.2f}'.format(df['Ка'].mean()))\n",
    "    print('Nf = {:.0f}, Nf_max = {:.0f}'.format(df['Nf'].mean(), max(df['Nf'])))\n",
    "    print('Iter = {:.0f}, Iter_max = {:.0f}'.format(df['Iter'].mean(), max(df['Iter'])))\n",
    "    print('t = {:.4f}, t_max = {:.4f}'.format(df['t'].mean(), max(df['t'])))\n",
    "\n",
    "    d_df = df.copy()\n",
    "    for i, j in enumerate(df.columns):\n",
    "        try: d_df[j] = df[j].apply(lambda x: precisions_1[i].format(np.float64(x)))\n",
    "        except(TypeError): pass\n",
    "    display(d_df.drop(['СКО X', 'СКО Y', 'СКО VX', 'СКО VY', 'Кб', 'П0_апр', 'Д0_апр', 'К0_апр', 'V0_апр'], axis=1).head())\n",
    "\n",
    "    tests.save_df(df, name='../tests/test1/d20/ЛМ, ' + str(np.degrees(tma.standart_deviation)) + '.xlsx')\n",
    "    print('_________________________________________________')"
   ]
  },
  {
   "cell_type": "code",
   "execution_count": 6,
   "metadata": {},
   "outputs": [
    {
     "output_type": "stream",
     "name": "stdout",
     "text": [
      "Алгоритм:: Метод N пеленгов\n",
      "Моделирование 100 результатов закончено за t = 0.6 с\n",
      "СКОп = 0.0, tau = 2\n",
      "Показатели Монте-Карло:\n",
      "Вариант 0: Рэф = 100%, Рэф_мин = 1\n",
      "Вариант 1: Рэф = 100%, Рэф_мин = 1\n",
      "Вариант 2: Рэф = 100%, Рэф_мин = 1\n",
      "Вариант 3: Рэф = 100%, Рэф_мин = 1\n",
      "Ка = 0.00\n",
      "t = 0.0004, t_max = 0.0031\n"
     ]
    },
    {
     "output_type": "display_data",
     "data": {
      "text/plain": "  П0_ист  Д0_ист   К0_ист V0_ист П0_расч Д0_расч  К0_расч V0_расч Птек_ист  \\\n0    0.0  20.000   98.786  11.58     0.0  20.000   98.786   11.58     44.3   \n1    0.0  20.000   75.064  11.64     0.0  20.000   75.064   11.64     35.0   \n2    0.0  20.000   78.479   3.31     0.0  20.000   78.479    3.31     15.6   \n3    0.0  20.000   99.144  11.50     0.0  20.000   99.144   11.50     44.2   \n4    0.0  20.000  174.065   9.57     0.0  20.000  174.065    9.57     21.6   \n\n  Дтек_ист Птек_расч Дтек_расч    Ка           Точ      t  \n0   21.333    44.327     21.33  0.00  [1, 1, 1, 1]  0.001  \n1   25.605    34.958     25.60  0.00  [1, 1, 1, 1]  0.002  \n2   18.869    15.567     18.87  0.00  [1, 1, 1, 1]  0.000  \n3   21.203    44.238     21.20  0.00  [1, 1, 1, 1]  0.000  \n4    6.414    21.564      6.41  0.00  [1, 1, 1, 1]  0.000  ",
      "text/html": "<div>\n<style scoped>\n    .dataframe tbody tr th:only-of-type {\n        vertical-align: middle;\n    }\n\n    .dataframe tbody tr th {\n        vertical-align: top;\n    }\n\n    .dataframe thead th {\n        text-align: right;\n    }\n</style>\n<table border=\"1\" class=\"dataframe\">\n  <thead>\n    <tr style=\"text-align: right;\">\n      <th></th>\n      <th>П0_ист</th>\n      <th>Д0_ист</th>\n      <th>К0_ист</th>\n      <th>V0_ист</th>\n      <th>П0_расч</th>\n      <th>Д0_расч</th>\n      <th>К0_расч</th>\n      <th>V0_расч</th>\n      <th>Птек_ист</th>\n      <th>Дтек_ист</th>\n      <th>Птек_расч</th>\n      <th>Дтек_расч</th>\n      <th>Ка</th>\n      <th>Точ</th>\n      <th>t</th>\n    </tr>\n  </thead>\n  <tbody>\n    <tr>\n      <th>0</th>\n      <td>0.0</td>\n      <td>20.000</td>\n      <td>98.786</td>\n      <td>11.58</td>\n      <td>0.0</td>\n      <td>20.000</td>\n      <td>98.786</td>\n      <td>11.58</td>\n      <td>44.3</td>\n      <td>21.333</td>\n      <td>44.327</td>\n      <td>21.33</td>\n      <td>0.00</td>\n      <td>[1, 1, 1, 1]</td>\n      <td>0.001</td>\n    </tr>\n    <tr>\n      <th>1</th>\n      <td>0.0</td>\n      <td>20.000</td>\n      <td>75.064</td>\n      <td>11.64</td>\n      <td>0.0</td>\n      <td>20.000</td>\n      <td>75.064</td>\n      <td>11.64</td>\n      <td>35.0</td>\n      <td>25.605</td>\n      <td>34.958</td>\n      <td>25.60</td>\n      <td>0.00</td>\n      <td>[1, 1, 1, 1]</td>\n      <td>0.002</td>\n    </tr>\n    <tr>\n      <th>2</th>\n      <td>0.0</td>\n      <td>20.000</td>\n      <td>78.479</td>\n      <td>3.31</td>\n      <td>0.0</td>\n      <td>20.000</td>\n      <td>78.479</td>\n      <td>3.31</td>\n      <td>15.6</td>\n      <td>18.869</td>\n      <td>15.567</td>\n      <td>18.87</td>\n      <td>0.00</td>\n      <td>[1, 1, 1, 1]</td>\n      <td>0.000</td>\n    </tr>\n    <tr>\n      <th>3</th>\n      <td>0.0</td>\n      <td>20.000</td>\n      <td>99.144</td>\n      <td>11.50</td>\n      <td>0.0</td>\n      <td>20.000</td>\n      <td>99.144</td>\n      <td>11.50</td>\n      <td>44.2</td>\n      <td>21.203</td>\n      <td>44.238</td>\n      <td>21.20</td>\n      <td>0.00</td>\n      <td>[1, 1, 1, 1]</td>\n      <td>0.000</td>\n    </tr>\n    <tr>\n      <th>4</th>\n      <td>0.0</td>\n      <td>20.000</td>\n      <td>174.065</td>\n      <td>9.57</td>\n      <td>0.0</td>\n      <td>20.000</td>\n      <td>174.065</td>\n      <td>9.57</td>\n      <td>21.6</td>\n      <td>6.414</td>\n      <td>21.564</td>\n      <td>6.41</td>\n      <td>0.00</td>\n      <td>[1, 1, 1, 1]</td>\n      <td>0.000</td>\n    </tr>\n  </tbody>\n</table>\n</div>"
     },
     "metadata": {}
    },
    {
     "output_type": "stream",
     "name": "stdout",
     "text": [
      "_________________________________________________\n",
      "Алгоритм:: Метод N пеленгов\n",
      "Моделирование 100 результатов закончено за t = 0.5 с\n",
      "СКОп = 0.1, tau = 2\n",
      "Показатели Монте-Карло:\n",
      "Вариант 0: Рэф = 76%, Рэф_мин = 0\n",
      "Вариант 1: Рэф = 95%, Рэф_мин = 0\n",
      "Вариант 2: Рэф = 95%, Рэф_мин = 0\n",
      "Вариант 3: Рэф = 99%, Рэф_мин = 0\n",
      "Ка = 0.01\n",
      "t = 0.0003, t_max = 0.0007\n"
     ]
    },
    {
     "output_type": "display_data",
     "data": {
      "text/plain": "  П0_ист  Д0_ист   К0_ист V0_ист П0_расч Д0_расч  К0_расч V0_расч Птек_ист  \\\n0    0.0  20.000   98.786  11.58   359.8  20.298   97.853   11.99     44.3   \n1    0.0  20.000   75.064  11.64   359.8  20.017   74.176   11.93     35.0   \n2    0.0  20.000   78.479   3.31     0.0  19.971   81.630    3.20     15.6   \n3    0.0  20.000   99.144  11.50   359.8  20.229   98.149   11.85     44.2   \n4    0.0  20.000  174.065   9.57   360.0  19.960  174.131    9.56     21.6   \n\n  Дтек_ист Птек_расч Дтек_расч    Ка           Точ      t  \n0   21.333    44.358     21.98  0.01  [1, 1, 1, 1]  0.000  \n1   25.605    34.942     25.99  0.01  [1, 1, 1, 1]  0.000  \n2   18.869    15.557     18.60  0.01  [1, 1, 1, 1]  0.000  \n3   21.203    44.240     21.77  0.01  [1, 1, 1, 1]  0.000  \n4    6.414    21.530      6.38  0.01  [1, 1, 1, 1]  0.000  ",
      "text/html": "<div>\n<style scoped>\n    .dataframe tbody tr th:only-of-type {\n        vertical-align: middle;\n    }\n\n    .dataframe tbody tr th {\n        vertical-align: top;\n    }\n\n    .dataframe thead th {\n        text-align: right;\n    }\n</style>\n<table border=\"1\" class=\"dataframe\">\n  <thead>\n    <tr style=\"text-align: right;\">\n      <th></th>\n      <th>П0_ист</th>\n      <th>Д0_ист</th>\n      <th>К0_ист</th>\n      <th>V0_ист</th>\n      <th>П0_расч</th>\n      <th>Д0_расч</th>\n      <th>К0_расч</th>\n      <th>V0_расч</th>\n      <th>Птек_ист</th>\n      <th>Дтек_ист</th>\n      <th>Птек_расч</th>\n      <th>Дтек_расч</th>\n      <th>Ка</th>\n      <th>Точ</th>\n      <th>t</th>\n    </tr>\n  </thead>\n  <tbody>\n    <tr>\n      <th>0</th>\n      <td>0.0</td>\n      <td>20.000</td>\n      <td>98.786</td>\n      <td>11.58</td>\n      <td>359.8</td>\n      <td>20.298</td>\n      <td>97.853</td>\n      <td>11.99</td>\n      <td>44.3</td>\n      <td>21.333</td>\n      <td>44.358</td>\n      <td>21.98</td>\n      <td>0.01</td>\n      <td>[1, 1, 1, 1]</td>\n      <td>0.000</td>\n    </tr>\n    <tr>\n      <th>1</th>\n      <td>0.0</td>\n      <td>20.000</td>\n      <td>75.064</td>\n      <td>11.64</td>\n      <td>359.8</td>\n      <td>20.017</td>\n      <td>74.176</td>\n      <td>11.93</td>\n      <td>35.0</td>\n      <td>25.605</td>\n      <td>34.942</td>\n      <td>25.99</td>\n      <td>0.01</td>\n      <td>[1, 1, 1, 1]</td>\n      <td>0.000</td>\n    </tr>\n    <tr>\n      <th>2</th>\n      <td>0.0</td>\n      <td>20.000</td>\n      <td>78.479</td>\n      <td>3.31</td>\n      <td>0.0</td>\n      <td>19.971</td>\n      <td>81.630</td>\n      <td>3.20</td>\n      <td>15.6</td>\n      <td>18.869</td>\n      <td>15.557</td>\n      <td>18.60</td>\n      <td>0.01</td>\n      <td>[1, 1, 1, 1]</td>\n      <td>0.000</td>\n    </tr>\n    <tr>\n      <th>3</th>\n      <td>0.0</td>\n      <td>20.000</td>\n      <td>99.144</td>\n      <td>11.50</td>\n      <td>359.8</td>\n      <td>20.229</td>\n      <td>98.149</td>\n      <td>11.85</td>\n      <td>44.2</td>\n      <td>21.203</td>\n      <td>44.240</td>\n      <td>21.77</td>\n      <td>0.01</td>\n      <td>[1, 1, 1, 1]</td>\n      <td>0.000</td>\n    </tr>\n    <tr>\n      <th>4</th>\n      <td>0.0</td>\n      <td>20.000</td>\n      <td>174.065</td>\n      <td>9.57</td>\n      <td>360.0</td>\n      <td>19.960</td>\n      <td>174.131</td>\n      <td>9.56</td>\n      <td>21.6</td>\n      <td>6.414</td>\n      <td>21.530</td>\n      <td>6.38</td>\n      <td>0.01</td>\n      <td>[1, 1, 1, 1]</td>\n      <td>0.000</td>\n    </tr>\n  </tbody>\n</table>\n</div>"
     },
     "metadata": {}
    },
    {
     "output_type": "stream",
     "name": "stdout",
     "text": [
      "_________________________________________________\n",
      "Алгоритм:: Метод N пеленгов\n",
      "Моделирование 100 результатов закончено за t = 0.5 с\n",
      "СКОп = 0.2, tau = 2\n",
      "Показатели Монте-Карло:\n",
      "Вариант 0: Рэф = 57%, Рэф_мин = 0\n",
      "Вариант 1: Рэф = 74%, Рэф_мин = 0\n",
      "Вариант 2: Рэф = 75%, Рэф_мин = 0\n",
      "Вариант 3: Рэф = 88%, Рэф_мин = 0\n",
      "Ка = 0.04\n",
      "t = 0.0003, t_max = 0.0010\n"
     ]
    },
    {
     "output_type": "display_data",
     "data": {
      "text/plain": "  П0_ист  Д0_ист   К0_ист V0_ист П0_расч Д0_расч  К0_расч V0_расч Птек_ист  \\\n0    0.0  20.000   98.786  11.58   359.6  20.221   96.929   12.12     44.3   \n1    0.0  20.000   75.064  11.64   359.7  19.668   73.239   11.93     35.0   \n2    0.0  20.000   78.479   3.31     0.1  19.784   85.432    3.05     15.6   \n3    0.0  20.000   99.144  11.50   359.6  20.034   97.158   11.89     44.2   \n4    0.0  20.000  174.065   9.57   360.0  19.838  174.285    9.51     21.6   \n\n  Дтек_ист Птек_расч Дтек_расч    Ка           Точ      t  \n0   21.333    44.341     22.16  0.05  [1, 1, 1, 1]  0.000  \n1   25.605    34.879     25.82  0.05  [1, 1, 1, 1]  0.000  \n2   18.869    15.510     18.12  0.04  [0, 1, 1, 1]  0.000  \n3   21.203    44.185     21.81  0.06  [1, 1, 1, 1]  0.000  \n4    6.414    21.449      6.30  0.04  [1, 1, 1, 1]  0.000  ",
      "text/html": "<div>\n<style scoped>\n    .dataframe tbody tr th:only-of-type {\n        vertical-align: middle;\n    }\n\n    .dataframe tbody tr th {\n        vertical-align: top;\n    }\n\n    .dataframe thead th {\n        text-align: right;\n    }\n</style>\n<table border=\"1\" class=\"dataframe\">\n  <thead>\n    <tr style=\"text-align: right;\">\n      <th></th>\n      <th>П0_ист</th>\n      <th>Д0_ист</th>\n      <th>К0_ист</th>\n      <th>V0_ист</th>\n      <th>П0_расч</th>\n      <th>Д0_расч</th>\n      <th>К0_расч</th>\n      <th>V0_расч</th>\n      <th>Птек_ист</th>\n      <th>Дтек_ист</th>\n      <th>Птек_расч</th>\n      <th>Дтек_расч</th>\n      <th>Ка</th>\n      <th>Точ</th>\n      <th>t</th>\n    </tr>\n  </thead>\n  <tbody>\n    <tr>\n      <th>0</th>\n      <td>0.0</td>\n      <td>20.000</td>\n      <td>98.786</td>\n      <td>11.58</td>\n      <td>359.6</td>\n      <td>20.221</td>\n      <td>96.929</td>\n      <td>12.12</td>\n      <td>44.3</td>\n      <td>21.333</td>\n      <td>44.341</td>\n      <td>22.16</td>\n      <td>0.05</td>\n      <td>[1, 1, 1, 1]</td>\n      <td>0.000</td>\n    </tr>\n    <tr>\n      <th>1</th>\n      <td>0.0</td>\n      <td>20.000</td>\n      <td>75.064</td>\n      <td>11.64</td>\n      <td>359.7</td>\n      <td>19.668</td>\n      <td>73.239</td>\n      <td>11.93</td>\n      <td>35.0</td>\n      <td>25.605</td>\n      <td>34.879</td>\n      <td>25.82</td>\n      <td>0.05</td>\n      <td>[1, 1, 1, 1]</td>\n      <td>0.000</td>\n    </tr>\n    <tr>\n      <th>2</th>\n      <td>0.0</td>\n      <td>20.000</td>\n      <td>78.479</td>\n      <td>3.31</td>\n      <td>0.1</td>\n      <td>19.784</td>\n      <td>85.432</td>\n      <td>3.05</td>\n      <td>15.6</td>\n      <td>18.869</td>\n      <td>15.510</td>\n      <td>18.12</td>\n      <td>0.04</td>\n      <td>[0, 1, 1, 1]</td>\n      <td>0.000</td>\n    </tr>\n    <tr>\n      <th>3</th>\n      <td>0.0</td>\n      <td>20.000</td>\n      <td>99.144</td>\n      <td>11.50</td>\n      <td>359.6</td>\n      <td>20.034</td>\n      <td>97.158</td>\n      <td>11.89</td>\n      <td>44.2</td>\n      <td>21.203</td>\n      <td>44.185</td>\n      <td>21.81</td>\n      <td>0.06</td>\n      <td>[1, 1, 1, 1]</td>\n      <td>0.000</td>\n    </tr>\n    <tr>\n      <th>4</th>\n      <td>0.0</td>\n      <td>20.000</td>\n      <td>174.065</td>\n      <td>9.57</td>\n      <td>360.0</td>\n      <td>19.838</td>\n      <td>174.285</td>\n      <td>9.51</td>\n      <td>21.6</td>\n      <td>6.414</td>\n      <td>21.449</td>\n      <td>6.30</td>\n      <td>0.04</td>\n      <td>[1, 1, 1, 1]</td>\n      <td>0.000</td>\n    </tr>\n  </tbody>\n</table>\n</div>"
     },
     "metadata": {}
    },
    {
     "output_type": "stream",
     "name": "stdout",
     "text": [
      "_________________________________________________\n",
      "Алгоритм:: Метод N пеленгов\n",
      "Моделирование 100 результатов закончено за t = 0.5 с\n",
      "СКОп = 0.3, tau = 2\n",
      "Показатели Монте-Карло:\n",
      "Вариант 0: Рэф = 32%, Рэф_мин = 0\n",
      "Вариант 1: Рэф = 58%, Рэф_мин = 0\n",
      "Вариант 2: Рэф = 58%, Рэф_мин = 0\n",
      "Вариант 3: Рэф = 69%, Рэф_мин = 0\n",
      "Ка = 0.10\n",
      "t = 0.0003, t_max = 0.0009\n"
     ]
    },
    {
     "output_type": "display_data",
     "data": {
      "text/plain": "  П0_ист  Д0_ист   К0_ист V0_ист П0_расч Д0_расч  К0_расч V0_расч Птек_ист  \\\n0    0.0  20.000   98.786  11.58   359.5  19.740   95.993   11.94     44.3   \n1    0.0  20.000   75.064  11.64   359.5  18.969   72.234   11.64     35.0   \n2    0.0  20.000   78.479   3.31     0.1  19.453   90.039    2.86     15.6   \n3    0.0  20.000   99.144  11.50   359.5  19.404   96.144   11.58     44.2   \n4    0.0  20.000  174.065   9.57   360.0  19.638  174.526    9.43     21.6   \n\n  Дтек_ист Птек_расч Дтек_расч    Ка           Точ      t  \n0   21.333    44.271     21.82  0.12  [1, 1, 1, 1]  0.000  \n1   25.605    34.767     25.09  0.12  [1, 1, 1, 1]  0.000  \n2   18.869    15.426     17.46  0.10  [0, 0, 0, 0]  0.000  \n3   21.203    44.071     21.29  0.14  [1, 1, 1, 1]  0.000  \n4    6.414    21.319      6.18  0.09  [1, 1, 1, 1]  0.000  ",
      "text/html": "<div>\n<style scoped>\n    .dataframe tbody tr th:only-of-type {\n        vertical-align: middle;\n    }\n\n    .dataframe tbody tr th {\n        vertical-align: top;\n    }\n\n    .dataframe thead th {\n        text-align: right;\n    }\n</style>\n<table border=\"1\" class=\"dataframe\">\n  <thead>\n    <tr style=\"text-align: right;\">\n      <th></th>\n      <th>П0_ист</th>\n      <th>Д0_ист</th>\n      <th>К0_ист</th>\n      <th>V0_ист</th>\n      <th>П0_расч</th>\n      <th>Д0_расч</th>\n      <th>К0_расч</th>\n      <th>V0_расч</th>\n      <th>Птек_ист</th>\n      <th>Дтек_ист</th>\n      <th>Птек_расч</th>\n      <th>Дтек_расч</th>\n      <th>Ка</th>\n      <th>Точ</th>\n      <th>t</th>\n    </tr>\n  </thead>\n  <tbody>\n    <tr>\n      <th>0</th>\n      <td>0.0</td>\n      <td>20.000</td>\n      <td>98.786</td>\n      <td>11.58</td>\n      <td>359.5</td>\n      <td>19.740</td>\n      <td>95.993</td>\n      <td>11.94</td>\n      <td>44.3</td>\n      <td>21.333</td>\n      <td>44.271</td>\n      <td>21.82</td>\n      <td>0.12</td>\n      <td>[1, 1, 1, 1]</td>\n      <td>0.000</td>\n    </tr>\n    <tr>\n      <th>1</th>\n      <td>0.0</td>\n      <td>20.000</td>\n      <td>75.064</td>\n      <td>11.64</td>\n      <td>359.5</td>\n      <td>18.969</td>\n      <td>72.234</td>\n      <td>11.64</td>\n      <td>35.0</td>\n      <td>25.605</td>\n      <td>34.767</td>\n      <td>25.09</td>\n      <td>0.12</td>\n      <td>[1, 1, 1, 1]</td>\n      <td>0.000</td>\n    </tr>\n    <tr>\n      <th>2</th>\n      <td>0.0</td>\n      <td>20.000</td>\n      <td>78.479</td>\n      <td>3.31</td>\n      <td>0.1</td>\n      <td>19.453</td>\n      <td>90.039</td>\n      <td>2.86</td>\n      <td>15.6</td>\n      <td>18.869</td>\n      <td>15.426</td>\n      <td>17.46</td>\n      <td>0.10</td>\n      <td>[0, 0, 0, 0]</td>\n      <td>0.000</td>\n    </tr>\n    <tr>\n      <th>3</th>\n      <td>0.0</td>\n      <td>20.000</td>\n      <td>99.144</td>\n      <td>11.50</td>\n      <td>359.5</td>\n      <td>19.404</td>\n      <td>96.144</td>\n      <td>11.58</td>\n      <td>44.2</td>\n      <td>21.203</td>\n      <td>44.071</td>\n      <td>21.29</td>\n      <td>0.14</td>\n      <td>[1, 1, 1, 1]</td>\n      <td>0.000</td>\n    </tr>\n    <tr>\n      <th>4</th>\n      <td>0.0</td>\n      <td>20.000</td>\n      <td>174.065</td>\n      <td>9.57</td>\n      <td>360.0</td>\n      <td>19.638</td>\n      <td>174.526</td>\n      <td>9.43</td>\n      <td>21.6</td>\n      <td>6.414</td>\n      <td>21.319</td>\n      <td>6.18</td>\n      <td>0.09</td>\n      <td>[1, 1, 1, 1]</td>\n      <td>0.000</td>\n    </tr>\n  </tbody>\n</table>\n</div>"
     },
     "metadata": {}
    },
    {
     "output_type": "stream",
     "name": "stdout",
     "text": [
      "_________________________________________________\n",
      "Алгоритм:: Метод N пеленгов\n",
      "Моделирование 100 результатов закончено за t = 0.5 с\n",
      "СКОп = 0.5, tau = 2\n",
      "Показатели Монте-Карло:\n",
      "Вариант 0: Рэф = 0%, Рэф_мин = 0\n",
      "Вариант 1: Рэф = 11%, Рэф_мин = 0\n",
      "Вариант 2: Рэф = 18%, Рэф_мин = 0\n",
      "Вариант 3: Рэф = 36%, Рэф_мин = 0\n",
      "Ка = 0.32\n",
      "t = 0.0003, t_max = 0.0022\n"
     ]
    },
    {
     "output_type": "display_data",
     "data": {
      "text/plain": "  П0_ист  Д0_ист   К0_ист V0_ист П0_расч Д0_расч  К0_расч V0_расч Птек_ист  \\\n0    0.0  20.000   98.786  11.58   359.1  17.690   93.987   10.67     44.3   \n1    0.0  20.000   75.064  11.64   359.2  16.778   69.926   10.36     35.0   \n2    0.0  20.000   78.479   3.31     0.2  18.446  102.336    2.45     15.6   \n3    0.0  20.000   99.144  11.50   359.1  17.076   93.936   10.10     44.2   \n4    0.0  20.000  174.065   9.57   360.0  19.028  175.258    9.18     21.6   \n\n  Дтек_ист Птек_расч Дтек_расч    Ка           Точ      t  \n0   21.333    43.951     19.70  0.38  [0, 1, 1, 1]  0.000  \n1   25.605    34.389     22.33  0.39  [0, 0, 0, 1]  0.000  \n2   18.869    15.139     15.75  0.30  [0, 0, 0, 0]  0.000  \n3   21.203    43.642     18.83  0.46  [0, 0, 0, 1]  0.001  \n4    6.414    20.907      5.81  0.26  [0, 1, 1, 1]  0.000  ",
      "text/html": "<div>\n<style scoped>\n    .dataframe tbody tr th:only-of-type {\n        vertical-align: middle;\n    }\n\n    .dataframe tbody tr th {\n        vertical-align: top;\n    }\n\n    .dataframe thead th {\n        text-align: right;\n    }\n</style>\n<table border=\"1\" class=\"dataframe\">\n  <thead>\n    <tr style=\"text-align: right;\">\n      <th></th>\n      <th>П0_ист</th>\n      <th>Д0_ист</th>\n      <th>К0_ист</th>\n      <th>V0_ист</th>\n      <th>П0_расч</th>\n      <th>Д0_расч</th>\n      <th>К0_расч</th>\n      <th>V0_расч</th>\n      <th>Птек_ист</th>\n      <th>Дтек_ист</th>\n      <th>Птек_расч</th>\n      <th>Дтек_расч</th>\n      <th>Ка</th>\n      <th>Точ</th>\n      <th>t</th>\n    </tr>\n  </thead>\n  <tbody>\n    <tr>\n      <th>0</th>\n      <td>0.0</td>\n      <td>20.000</td>\n      <td>98.786</td>\n      <td>11.58</td>\n      <td>359.1</td>\n      <td>17.690</td>\n      <td>93.987</td>\n      <td>10.67</td>\n      <td>44.3</td>\n      <td>21.333</td>\n      <td>43.951</td>\n      <td>19.70</td>\n      <td>0.38</td>\n      <td>[0, 1, 1, 1]</td>\n      <td>0.000</td>\n    </tr>\n    <tr>\n      <th>1</th>\n      <td>0.0</td>\n      <td>20.000</td>\n      <td>75.064</td>\n      <td>11.64</td>\n      <td>359.2</td>\n      <td>16.778</td>\n      <td>69.926</td>\n      <td>10.36</td>\n      <td>35.0</td>\n      <td>25.605</td>\n      <td>34.389</td>\n      <td>22.33</td>\n      <td>0.39</td>\n      <td>[0, 0, 0, 1]</td>\n      <td>0.000</td>\n    </tr>\n    <tr>\n      <th>2</th>\n      <td>0.0</td>\n      <td>20.000</td>\n      <td>78.479</td>\n      <td>3.31</td>\n      <td>0.2</td>\n      <td>18.446</td>\n      <td>102.336</td>\n      <td>2.45</td>\n      <td>15.6</td>\n      <td>18.869</td>\n      <td>15.139</td>\n      <td>15.75</td>\n      <td>0.30</td>\n      <td>[0, 0, 0, 0]</td>\n      <td>0.000</td>\n    </tr>\n    <tr>\n      <th>3</th>\n      <td>0.0</td>\n      <td>20.000</td>\n      <td>99.144</td>\n      <td>11.50</td>\n      <td>359.1</td>\n      <td>17.076</td>\n      <td>93.936</td>\n      <td>10.10</td>\n      <td>44.2</td>\n      <td>21.203</td>\n      <td>43.642</td>\n      <td>18.83</td>\n      <td>0.46</td>\n      <td>[0, 0, 0, 1]</td>\n      <td>0.001</td>\n    </tr>\n    <tr>\n      <th>4</th>\n      <td>0.0</td>\n      <td>20.000</td>\n      <td>174.065</td>\n      <td>9.57</td>\n      <td>360.0</td>\n      <td>19.028</td>\n      <td>175.258</td>\n      <td>9.18</td>\n      <td>21.6</td>\n      <td>6.414</td>\n      <td>20.907</td>\n      <td>5.81</td>\n      <td>0.26</td>\n      <td>[0, 1, 1, 1]</td>\n      <td>0.000</td>\n    </tr>\n  </tbody>\n</table>\n</div>"
     },
     "metadata": {}
    },
    {
     "output_type": "stream",
     "name": "stdout",
     "text": [
      "_________________________________________________\n",
      "Алгоритм:: Метод N пеленгов\n",
      "Моделирование 100 результатов закончено за t = 0.5 с\n",
      "СКОп = 1.0, tau = 2\n",
      "Показатели Монте-Карло:\n",
      "Вариант 0: Рэф = 0%, Рэф_мин = 0\n",
      "Вариант 1: Рэф = 0%, Рэф_мин = 0\n",
      "Вариант 2: Рэф = 0%, Рэф_мин = 0\n",
      "Вариант 3: Рэф = 0%, Рэф_мин = 0\n",
      "Ка = 2.00\n",
      "t = 0.0003, t_max = 0.0006\n"
     ]
    },
    {
     "output_type": "display_data",
     "data": {
      "text/plain": "  П0_ист  Д0_ист   К0_ист V0_ист П0_расч Д0_расч  К0_расч V0_расч Птек_ист  \\\n0    0.0  20.000   98.786  11.58   358.2  10.399   86.330    5.38     44.3   \n1    0.0  20.000   75.064  11.64   358.4  10.385   61.005    5.94     35.0   \n2    0.0  20.000   78.479   3.31     0.4  15.041  149.526    2.01     15.6   \n3    0.0  20.000   99.144  11.50   358.2   9.793   85.167    4.84     44.2   \n4    0.0  20.000  174.065   9.57   359.9  16.678  178.392    8.21     21.6   \n\n  Дтек_ист Птек_расч Дтек_расч    Ка           Точ      t  \n0   21.333    41.679     10.97  3.19  [0, 0, 0, 0]  0.000  \n1   25.605    32.357     13.28  2.77  [0, 0, 0, 0]  0.000  \n2   18.869    13.581     10.65  1.62  [0, 0, 0, 0]  0.001  \n3   21.203    40.964     10.14  3.81  [0, 0, 0, 0]  0.000  \n4    6.414    18.762      4.45  1.43  [0, 0, 0, 0]  0.000  ",
      "text/html": "<div>\n<style scoped>\n    .dataframe tbody tr th:only-of-type {\n        vertical-align: middle;\n    }\n\n    .dataframe tbody tr th {\n        vertical-align: top;\n    }\n\n    .dataframe thead th {\n        text-align: right;\n    }\n</style>\n<table border=\"1\" class=\"dataframe\">\n  <thead>\n    <tr style=\"text-align: right;\">\n      <th></th>\n      <th>П0_ист</th>\n      <th>Д0_ист</th>\n      <th>К0_ист</th>\n      <th>V0_ист</th>\n      <th>П0_расч</th>\n      <th>Д0_расч</th>\n      <th>К0_расч</th>\n      <th>V0_расч</th>\n      <th>Птек_ист</th>\n      <th>Дтек_ист</th>\n      <th>Птек_расч</th>\n      <th>Дтек_расч</th>\n      <th>Ка</th>\n      <th>Точ</th>\n      <th>t</th>\n    </tr>\n  </thead>\n  <tbody>\n    <tr>\n      <th>0</th>\n      <td>0.0</td>\n      <td>20.000</td>\n      <td>98.786</td>\n      <td>11.58</td>\n      <td>358.2</td>\n      <td>10.399</td>\n      <td>86.330</td>\n      <td>5.38</td>\n      <td>44.3</td>\n      <td>21.333</td>\n      <td>41.679</td>\n      <td>10.97</td>\n      <td>3.19</td>\n      <td>[0, 0, 0, 0]</td>\n      <td>0.000</td>\n    </tr>\n    <tr>\n      <th>1</th>\n      <td>0.0</td>\n      <td>20.000</td>\n      <td>75.064</td>\n      <td>11.64</td>\n      <td>358.4</td>\n      <td>10.385</td>\n      <td>61.005</td>\n      <td>5.94</td>\n      <td>35.0</td>\n      <td>25.605</td>\n      <td>32.357</td>\n      <td>13.28</td>\n      <td>2.77</td>\n      <td>[0, 0, 0, 0]</td>\n      <td>0.000</td>\n    </tr>\n    <tr>\n      <th>2</th>\n      <td>0.0</td>\n      <td>20.000</td>\n      <td>78.479</td>\n      <td>3.31</td>\n      <td>0.4</td>\n      <td>15.041</td>\n      <td>149.526</td>\n      <td>2.01</td>\n      <td>15.6</td>\n      <td>18.869</td>\n      <td>13.581</td>\n      <td>10.65</td>\n      <td>1.62</td>\n      <td>[0, 0, 0, 0]</td>\n      <td>0.001</td>\n    </tr>\n    <tr>\n      <th>3</th>\n      <td>0.0</td>\n      <td>20.000</td>\n      <td>99.144</td>\n      <td>11.50</td>\n      <td>358.2</td>\n      <td>9.793</td>\n      <td>85.167</td>\n      <td>4.84</td>\n      <td>44.2</td>\n      <td>21.203</td>\n      <td>40.964</td>\n      <td>10.14</td>\n      <td>3.81</td>\n      <td>[0, 0, 0, 0]</td>\n      <td>0.000</td>\n    </tr>\n    <tr>\n      <th>4</th>\n      <td>0.0</td>\n      <td>20.000</td>\n      <td>174.065</td>\n      <td>9.57</td>\n      <td>359.9</td>\n      <td>16.678</td>\n      <td>178.392</td>\n      <td>8.21</td>\n      <td>21.6</td>\n      <td>6.414</td>\n      <td>18.762</td>\n      <td>4.45</td>\n      <td>1.43</td>\n      <td>[0, 0, 0, 0]</td>\n      <td>0.000</td>\n    </tr>\n  </tbody>\n</table>\n</div>"
     },
     "metadata": {}
    },
    {
     "output_type": "stream",
     "name": "stdout",
     "text": [
      "_________________________________________________\n"
     ]
    }
   ],
   "source": [
    "for std in std_arr:\n",
    "\n",
    "    tma = TMA(observer, std=np.radians(std), tau=2)\n",
    "    algorithm_name = 'Метод N пеленгов'\n",
    "    dict_results = tma.swarm(n=100, algorithm_name=algorithm_name, target_func=target_func, p0=p0, seeded=True, verbose=True)\n",
    "    df = tests.get_df(dict_results).dropna(axis=1)\n",
    "    tma.print_verbose()\n",
    "\n",
    "    print('Показатели Монте-Карло:')\n",
    "    for i in range(4):\n",
    "        a = df['Точ'].apply(lambda x: x[i])\n",
    "        print('Вариант {}: Рэф = {:.0f}%, Рэф_мин = {:.0f}'.format(i, 100 * a.mean(), min(a)))\n",
    "    print('Ка = {:.2f}'.format(df['Ка'].mean()))\n",
    "    print('t = {:.4f}, t_max = {:.4f}'.format(df['t'].mean(), max(df['t'])))\n",
    "    \n",
    "    d_df = df.copy()\n",
    "    for i, j in enumerate(df.columns):\n",
    "        try: d_df[j] = df[j].apply(lambda x: precisions_1[i].format(np.float64(x)))\n",
    "        except(TypeError): pass\n",
    "    display(d_df.drop(['Кб'], axis=1).head())\n",
    "\n",
    "    tests.save_df(df, name='../tests/test1/d20/N, ' + str(np.degrees(tma.standart_deviation)) + '.xlsx')\n",
    "    print('_________________________________________________')"
   ]
  }
 ]
}