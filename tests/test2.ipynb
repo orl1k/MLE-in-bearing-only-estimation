{
 "metadata": {
  "language_info": {
   "codemirror_mode": {
    "name": "ipython",
    "version": 3
   },
   "file_extension": ".py",
   "mimetype": "text/x-python",
   "name": "python",
   "nbconvert_exporter": "python",
   "pygments_lexer": "ipython3",
   "version": "3.9.2-final"
  },
  "orig_nbformat": 2,
  "kernelspec": {
   "name": "python3",
   "display_name": "Python 3.9.2 64-bit",
   "metadata": {
    "interpreter": {
     "hash": "41eac51e58bc56b7e72645fd2a426397a0dabf158fb6895686ff6280c78d9f5d"
    }
   }
  }
 },
 "nbformat": 4,
 "nbformat_minor": 2,
 "cells": [
  {
   "cell_type": "code",
   "execution_count": 32,
   "metadata": {},
   "outputs": [],
   "source": [
    "import sys\n",
    "sys.path.append(\"..\")\n",
    "import numpy as np\n",
    "import pandas as pd\n",
    "import seaborn as sns\n",
    "from matplotlib import pyplot as plt\n",
    "from project.ship import Ship\n",
    "from project.tests import Tests\n",
    "from project.botma import TMA\n",
    "import time\n",
    "from pathlib import Path\n",
    "from datetime import datetime\n",
    "import ast"
   ]
  },
  {
   "cell_type": "code",
   "execution_count": 33,
   "metadata": {},
   "outputs": [
    {
     "output_type": "stream",
     "name": "stdout",
     "text": [
      "Время последнего моделирования: 28/03/2021 20:05\nНаблюдатель движется прямо по курсу 0.0° 180с\nНаблюдатель перешёл на курс 270.0° за 180с\nНаблюдатель движется прямо по курсу 270.0° 300с\nНаблюдатель перешёл на курс 90.0° за 360с\nНаблюдатель движется прямо по курсу 90.0° 180с\n"
     ]
    }
   ],
   "source": [
    "tests = Tests('test1')\n",
    "print(\"Время последнего моделирования:\", datetime.now().strftime(\"%d/%m/%Y %H:%M\"))\n",
    "\n",
    "# Создаем наблюдателя\n",
    "observer_x, observer_y, observer_course, observer_velocity = 0, 0, 0, 5\n",
    "observer = Ship('Наблюдатель', observer_x, observer_y, observer_course,\n",
    "                observer_velocity, verbose=True)\n",
    "\n",
    "# Моделирование траектории наблюдателя\n",
    "observer.forward_movement(3 * 60)\n",
    "observer.change_course(270, 'left', omega=0.5)\n",
    "observer.forward_movement(5 * 60)\n",
    "observer.change_course(90, 'right', omega=0.5)\n",
    "observer.forward_movement(3 * 60)"
   ]
  },
  {
   "cell_type": "code",
   "execution_count": 113,
   "metadata": {},
   "outputs": [],
   "source": [
    "p0 = [0., 25., 90., 7.]\n",
    "d_arr = [10., 20., 30., 40.]\n",
    "std_arr = [0., 0.1, 0.2, 0.3, 0.5, 1.]\n",
    "alg_arr = ['ММП v2', 'Метод N пеленгов']\n",
    "def target_func(seed=None):\n",
    "            rng = np.random.RandomState(seed)\n",
    "            b = 0\n",
    "            d = rng.uniform(5, 50)\n",
    "            c = rng.uniform(0, 180)\n",
    "            v = rng.uniform(3, 15)\n",
    "            return [b, d, c, v]\n",
    "result_df = pd.DataFrame(columns=['Algorithm', 'std', 'sr_0', 'sr_1', 'sr_2', 'sr_3', 'Ка', 'Nf', 'Nf_max', 'Iter', 'Iter_max', 't', 't_max'])\n",
    "mean_columns = ['Ка', 'Nf', 'Iter', 't']\n",
    "max_columns = ['Nf', 'Iter', 't']"
   ]
  },
  {
   "cell_type": "code",
   "execution_count": 46,
   "metadata": {
    "tags": []
   },
   "outputs": [
    {
     "output_type": "stream",
     "name": "stderr",
     "text": [
      "..\\project\\botma.py:184: RuntimeWarning: invalid value encountered in sqrt\n",
      "  if (np.diag(res[1]) < 0).any():\n",
      "Wall time: 55min 38s\n"
     ]
    }
   ],
   "source": [
    "%%time\n",
    "tma = TMA(observer)\n",
    "for std in std_arr:\n",
    "    tma.standart_deviation = np.radians(std)\n",
    "    for alg in alg_arr:\n",
    "        dict_results = tma.swarm(algorithm_name=alg, n=10000, target_func=target_func, p0=p0, seeded=True)\n",
    "        df = tests.get_df(dict_results)\n",
    "        tests.save_df(df, name='../tests/test2/' + str(alg) + ' ' + str(std) + '.xlsx')\n",
    "        res = pd.DataFrame({'Algorithm': [alg], 'std': [std]})\n",
    "        for i in range(4):\n",
    "            res['sr_' + str(i)] = [df['Успех'].apply(lambda x: x[i]).mean(axis=0)]\n",
    "        res[mean_columns] = df[mean_columns].mean(axis=0)\n",
    "        res[['Nf_max', 'Iter_max', 't_max']] = df[max_columns].apply(max, axis=0)\n",
    "        result_df = result_df.append(res)"
   ]
  },
  {
   "cell_type": "code",
   "execution_count": 47,
   "metadata": {},
   "outputs": [],
   "source": [
    "result_df.reset_index(drop=True)\n",
    "Path(\"../tests/test2\").mkdir(parents=True, exist_ok=True)\n",
    "tests.save_df(result_df, name='../tests/test2/results.xlsx')"
   ]
  },
  {
   "cell_type": "code",
   "execution_count": 61,
   "metadata": {},
   "outputs": [],
   "source": [
    "result_df = pd.read_excel('../tests/test2/results.xlsx')\n",
    "display_df = result_df.copy()\n",
    "precisions = {'Ка' : '{0:.2f}', 'Nf' : '{0:.0f}', 'Nf_max': '{0:.0f}',\\\n",
    "'Iter' : '{0:.0f}', 'Iter_max' : '{0:.0f}', 't' : '{0:.4f}', 't_max' : '{0:.4f}'}\n",
    "for col, precision in precisions.items():\n",
    "    display_df[col] = display_df[col].apply(lambda x: precision.format(x))"
   ]
  },
  {
   "cell_type": "code",
   "execution_count": 62,
   "metadata": {},
   "outputs": [
    {
     "output_type": "execute_result",
     "data": {
      "text/plain": [
       "           Algorithm  std    sr_0    sr_1    sr_2    sr_3     Ка   Nf Nf_max  \\\n",
       "0             ММП v2  0.0  0.9999  0.9999  0.9999  0.9999   0.08   10     51   \n",
       "1   Метод N пеленгов  0.0  1.0000  1.0000  1.0000  1.0000   0.00  nan    nan   \n",
       "2             ММП v2  0.1  0.9418  0.9828  0.9828  0.9924   0.09   10     54   \n",
       "3   Метод N пеленгов  0.1  0.5602  0.7582  0.7592  0.8478   0.01  nan    nan   \n",
       "4             ММП v2  0.2  0.8619  0.9417  0.9417  0.9677   0.12   10     60   \n",
       "5   Метод N пеленгов  0.2  0.3067  0.5167  0.5240  0.6141   0.05  nan    nan   \n",
       "6             ММП v2  0.3  0.7819  0.8998  0.8999  0.9363   0.17   10     57   \n",
       "7   Метод N пеленгов  0.3  0.1887  0.3514  0.3579  0.4422   0.11  nan    nan   \n",
       "8             ММП v2  0.5  0.6355  0.8220  0.8230  0.8770   0.33   10     55   \n",
       "9   Метод N пеленгов  0.5  0.0485  0.1462  0.1481  0.2284   0.38  nan    nan   \n",
       "10            ММП v2  1.0  0.3798  0.6350  0.6510  0.7385   1.07   10     58   \n",
       "11  Метод N пеленгов  1.0  0.0014  0.0112  0.0143  0.0213  22.31  nan    nan   \n",
       "\n",
       "   Iter Iter_max       t   t_max  \n",
       "0     9       36  0.0021  0.0083  \n",
       "1   nan      nan  0.0002  0.0030  \n",
       "2     9       38  0.0021  0.0148  \n",
       "3   nan      nan  0.0002  0.0012  \n",
       "4     9       42  0.0021  0.0109  \n",
       "5   nan      nan  0.0002  0.0008  \n",
       "6     9       40  0.0021  0.0100  \n",
       "7   nan      nan  0.0002  0.0007  \n",
       "8     9       39  0.0021  0.0096  \n",
       "9   nan      nan  0.0002  0.0027  \n",
       "10    9       41  0.0021  0.0107  \n",
       "11  nan      nan  0.0002  0.0007  "
      ],
      "text/html": "<div>\n<style scoped>\n    .dataframe tbody tr th:only-of-type {\n        vertical-align: middle;\n    }\n\n    .dataframe tbody tr th {\n        vertical-align: top;\n    }\n\n    .dataframe thead th {\n        text-align: right;\n    }\n</style>\n<table border=\"1\" class=\"dataframe\">\n  <thead>\n    <tr style=\"text-align: right;\">\n      <th></th>\n      <th>Algorithm</th>\n      <th>std</th>\n      <th>sr_0</th>\n      <th>sr_1</th>\n      <th>sr_2</th>\n      <th>sr_3</th>\n      <th>Ка</th>\n      <th>Nf</th>\n      <th>Nf_max</th>\n      <th>Iter</th>\n      <th>Iter_max</th>\n      <th>t</th>\n      <th>t_max</th>\n    </tr>\n  </thead>\n  <tbody>\n    <tr>\n      <th>0</th>\n      <td>ММП v2</td>\n      <td>0.0</td>\n      <td>0.9999</td>\n      <td>0.9999</td>\n      <td>0.9999</td>\n      <td>0.9999</td>\n      <td>0.08</td>\n      <td>10</td>\n      <td>51</td>\n      <td>9</td>\n      <td>36</td>\n      <td>0.0021</td>\n      <td>0.0083</td>\n    </tr>\n    <tr>\n      <th>1</th>\n      <td>Метод N пеленгов</td>\n      <td>0.0</td>\n      <td>1.0000</td>\n      <td>1.0000</td>\n      <td>1.0000</td>\n      <td>1.0000</td>\n      <td>0.00</td>\n      <td>nan</td>\n      <td>nan</td>\n      <td>nan</td>\n      <td>nan</td>\n      <td>0.0002</td>\n      <td>0.0030</td>\n    </tr>\n    <tr>\n      <th>2</th>\n      <td>ММП v2</td>\n      <td>0.1</td>\n      <td>0.9418</td>\n      <td>0.9828</td>\n      <td>0.9828</td>\n      <td>0.9924</td>\n      <td>0.09</td>\n      <td>10</td>\n      <td>54</td>\n      <td>9</td>\n      <td>38</td>\n      <td>0.0021</td>\n      <td>0.0148</td>\n    </tr>\n    <tr>\n      <th>3</th>\n      <td>Метод N пеленгов</td>\n      <td>0.1</td>\n      <td>0.5602</td>\n      <td>0.7582</td>\n      <td>0.7592</td>\n      <td>0.8478</td>\n      <td>0.01</td>\n      <td>nan</td>\n      <td>nan</td>\n      <td>nan</td>\n      <td>nan</td>\n      <td>0.0002</td>\n      <td>0.0012</td>\n    </tr>\n    <tr>\n      <th>4</th>\n      <td>ММП v2</td>\n      <td>0.2</td>\n      <td>0.8619</td>\n      <td>0.9417</td>\n      <td>0.9417</td>\n      <td>0.9677</td>\n      <td>0.12</td>\n      <td>10</td>\n      <td>60</td>\n      <td>9</td>\n      <td>42</td>\n      <td>0.0021</td>\n      <td>0.0109</td>\n    </tr>\n    <tr>\n      <th>5</th>\n      <td>Метод N пеленгов</td>\n      <td>0.2</td>\n      <td>0.3067</td>\n      <td>0.5167</td>\n      <td>0.5240</td>\n      <td>0.6141</td>\n      <td>0.05</td>\n      <td>nan</td>\n      <td>nan</td>\n      <td>nan</td>\n      <td>nan</td>\n      <td>0.0002</td>\n      <td>0.0008</td>\n    </tr>\n    <tr>\n      <th>6</th>\n      <td>ММП v2</td>\n      <td>0.3</td>\n      <td>0.7819</td>\n      <td>0.8998</td>\n      <td>0.8999</td>\n      <td>0.9363</td>\n      <td>0.17</td>\n      <td>10</td>\n      <td>57</td>\n      <td>9</td>\n      <td>40</td>\n      <td>0.0021</td>\n      <td>0.0100</td>\n    </tr>\n    <tr>\n      <th>7</th>\n      <td>Метод N пеленгов</td>\n      <td>0.3</td>\n      <td>0.1887</td>\n      <td>0.3514</td>\n      <td>0.3579</td>\n      <td>0.4422</td>\n      <td>0.11</td>\n      <td>nan</td>\n      <td>nan</td>\n      <td>nan</td>\n      <td>nan</td>\n      <td>0.0002</td>\n      <td>0.0007</td>\n    </tr>\n    <tr>\n      <th>8</th>\n      <td>ММП v2</td>\n      <td>0.5</td>\n      <td>0.6355</td>\n      <td>0.8220</td>\n      <td>0.8230</td>\n      <td>0.8770</td>\n      <td>0.33</td>\n      <td>10</td>\n      <td>55</td>\n      <td>9</td>\n      <td>39</td>\n      <td>0.0021</td>\n      <td>0.0096</td>\n    </tr>\n    <tr>\n      <th>9</th>\n      <td>Метод N пеленгов</td>\n      <td>0.5</td>\n      <td>0.0485</td>\n      <td>0.1462</td>\n      <td>0.1481</td>\n      <td>0.2284</td>\n      <td>0.38</td>\n      <td>nan</td>\n      <td>nan</td>\n      <td>nan</td>\n      <td>nan</td>\n      <td>0.0002</td>\n      <td>0.0027</td>\n    </tr>\n    <tr>\n      <th>10</th>\n      <td>ММП v2</td>\n      <td>1.0</td>\n      <td>0.3798</td>\n      <td>0.6350</td>\n      <td>0.6510</td>\n      <td>0.7385</td>\n      <td>1.07</td>\n      <td>10</td>\n      <td>58</td>\n      <td>9</td>\n      <td>41</td>\n      <td>0.0021</td>\n      <td>0.0107</td>\n    </tr>\n    <tr>\n      <th>11</th>\n      <td>Метод N пеленгов</td>\n      <td>1.0</td>\n      <td>0.0014</td>\n      <td>0.0112</td>\n      <td>0.0143</td>\n      <td>0.0213</td>\n      <td>22.31</td>\n      <td>nan</td>\n      <td>nan</td>\n      <td>nan</td>\n      <td>nan</td>\n      <td>0.0002</td>\n      <td>0.0007</td>\n    </tr>\n  </tbody>\n</table>\n</div>"
     },
     "metadata": {},
     "execution_count": 62
    }
   ],
   "source": [
    "display_df"
   ]
  },
  {
   "cell_type": "code",
   "execution_count": 69,
   "metadata": {},
   "outputs": [],
   "source": [
    "lm01 = pd.read_excel('../tests/test2/ММП v2 0.1.xlsx')\n",
    "lm02 = pd.read_excel('../tests/test2/ММП v2 0.2.xlsx')"
   ]
  },
  {
   "cell_type": "code",
   "execution_count": 68,
   "metadata": {},
   "outputs": [
    {
     "output_type": "execute_result",
     "data": {
      "text/plain": [
       "      П0_ист    Д0_ист     К0_ист     V0_ист    П0_расч    Д0_расч  \\\n",
       "8145       0  5.311878  95.784375  13.841782  77.759786  28.386229   \n",
       "\n",
       "         К0_расч   V0_расч  П0_апр  Д0_апр  ...     СКО X     СКО Y    СКО VX  \\\n",
       "8145  263.289218  24.25903       0      25  ...  0.003917  0.000243  0.002253   \n",
       "\n",
       "        СКО VY          Ка       Кб         Успех         t  Nf  Iter  \n",
       "8145  0.000152  829.035226  7.76905  [0, 0, 0, 0]  0.009536  54    38  \n",
       "\n",
       "[1 rows x 26 columns]"
      ],
      "text/html": "<div>\n<style scoped>\n    .dataframe tbody tr th:only-of-type {\n        vertical-align: middle;\n    }\n\n    .dataframe tbody tr th {\n        vertical-align: top;\n    }\n\n    .dataframe thead th {\n        text-align: right;\n    }\n</style>\n<table border=\"1\" class=\"dataframe\">\n  <thead>\n    <tr style=\"text-align: right;\">\n      <th></th>\n      <th>П0_ист</th>\n      <th>Д0_ист</th>\n      <th>К0_ист</th>\n      <th>V0_ист</th>\n      <th>П0_расч</th>\n      <th>Д0_расч</th>\n      <th>К0_расч</th>\n      <th>V0_расч</th>\n      <th>П0_апр</th>\n      <th>Д0_апр</th>\n      <th>...</th>\n      <th>СКО X</th>\n      <th>СКО Y</th>\n      <th>СКО VX</th>\n      <th>СКО VY</th>\n      <th>Ка</th>\n      <th>Кб</th>\n      <th>Успех</th>\n      <th>t</th>\n      <th>Nf</th>\n      <th>Iter</th>\n    </tr>\n  </thead>\n  <tbody>\n    <tr>\n      <th>8145</th>\n      <td>0</td>\n      <td>5.311878</td>\n      <td>95.784375</td>\n      <td>13.841782</td>\n      <td>77.759786</td>\n      <td>28.386229</td>\n      <td>263.289218</td>\n      <td>24.25903</td>\n      <td>0</td>\n      <td>25</td>\n      <td>...</td>\n      <td>0.003917</td>\n      <td>0.000243</td>\n      <td>0.002253</td>\n      <td>0.000152</td>\n      <td>829.035226</td>\n      <td>7.76905</td>\n      <td>[0, 0, 0, 0]</td>\n      <td>0.009536</td>\n      <td>54</td>\n      <td>38</td>\n    </tr>\n  </tbody>\n</table>\n<p>1 rows × 26 columns</p>\n</div>"
     },
     "metadata": {},
     "execution_count": 68
    }
   ],
   "source": [
    "lm01[lm01['Ка'] > 1]"
   ]
  },
  {
   "cell_type": "code",
   "execution_count": 70,
   "metadata": {},
   "outputs": [
    {
     "output_type": "execute_result",
     "data": {
      "text/plain": [
       "      П0_ист    Д0_ист     К0_ист     V0_ист    П0_расч    Д0_расч  \\\n",
       "8145       0  5.311878  95.784375  13.841782  77.618306  28.277999   \n",
       "\n",
       "         К0_расч   V0_расч  П0_апр  Д0_апр  ...  СКО X  СКО Y  СКО VX  СКО VY  \\\n",
       "8145  263.172508  24.16363       0      25  ...    NaN    NaN     NaN     NaN   \n",
       "\n",
       "             Ка        Кб         Успех         t  Nf  Iter  \n",
       "8145  824.39033  7.785945  [0, 0, 0, 0]  0.010854  60    42  \n",
       "\n",
       "[1 rows x 26 columns]"
      ],
      "text/html": "<div>\n<style scoped>\n    .dataframe tbody tr th:only-of-type {\n        vertical-align: middle;\n    }\n\n    .dataframe tbody tr th {\n        vertical-align: top;\n    }\n\n    .dataframe thead th {\n        text-align: right;\n    }\n</style>\n<table border=\"1\" class=\"dataframe\">\n  <thead>\n    <tr style=\"text-align: right;\">\n      <th></th>\n      <th>П0_ист</th>\n      <th>Д0_ист</th>\n      <th>К0_ист</th>\n      <th>V0_ист</th>\n      <th>П0_расч</th>\n      <th>Д0_расч</th>\n      <th>К0_расч</th>\n      <th>V0_расч</th>\n      <th>П0_апр</th>\n      <th>Д0_апр</th>\n      <th>...</th>\n      <th>СКО X</th>\n      <th>СКО Y</th>\n      <th>СКО VX</th>\n      <th>СКО VY</th>\n      <th>Ка</th>\n      <th>Кб</th>\n      <th>Успех</th>\n      <th>t</th>\n      <th>Nf</th>\n      <th>Iter</th>\n    </tr>\n  </thead>\n  <tbody>\n    <tr>\n      <th>8145</th>\n      <td>0</td>\n      <td>5.311878</td>\n      <td>95.784375</td>\n      <td>13.841782</td>\n      <td>77.618306</td>\n      <td>28.277999</td>\n      <td>263.172508</td>\n      <td>24.16363</td>\n      <td>0</td>\n      <td>25</td>\n      <td>...</td>\n      <td>NaN</td>\n      <td>NaN</td>\n      <td>NaN</td>\n      <td>NaN</td>\n      <td>824.39033</td>\n      <td>7.785945</td>\n      <td>[0, 0, 0, 0]</td>\n      <td>0.010854</td>\n      <td>60</td>\n      <td>42</td>\n    </tr>\n  </tbody>\n</table>\n<p>1 rows × 26 columns</p>\n</div>"
     },
     "metadata": {},
     "execution_count": 70
    }
   ],
   "source": [
    "lm02[lm02['Ка'] > 1]"
   ]
  },
  {
   "source": [
    "Аномалия для 8145 модели, пересчитаем сводку без неё"
   ],
   "cell_type": "markdown",
   "metadata": {}
  },
  {
   "cell_type": "code",
   "execution_count": 115,
   "metadata": {},
   "outputs": [
    {
     "output_type": "stream",
     "name": "stdout",
     "text": [
      "Wall time: 1min 6s\n"
     ]
    }
   ],
   "source": [
    "%%time\n",
    "tma = TMA(observer)\n",
    "for std in std_arr:\n",
    "    tma.standart_deviation = np.radians(std)\n",
    "    for alg in alg_arr:\n",
    "        df = pd.read_excel('../tests/test2/' + str(alg) + ' ' + str(std) + '.xlsx')\n",
    "        df = df[df['Ка'] < 10]\n",
    "        res = pd.DataFrame({'Algorithm': [alg], 'std': [std]})\n",
    "        for i in range(4):\n",
    "            res['sr_' + str(i)] = [df['Успех'].apply(lambda x: ast.literal_eval(x)[i]).mean()]\n",
    "        res[mean_columns] = df[mean_columns].mean(axis=0)\n",
    "        res[['Nf_max', 'Iter_max', 't_max']] = df[max_columns].apply(max, axis=0)\n",
    "        result_df = result_df.append(res)"
   ]
  },
  {
   "cell_type": "code",
   "execution_count": 117,
   "metadata": {},
   "outputs": [],
   "source": [
    "result_df.reset_index(drop=True)\n",
    "Path(\"../tests/test2\").mkdir(parents=True, exist_ok=True)\n",
    "tests.save_df(result_df, name='../tests/test2/results.xlsx')"
   ]
  },
  {
   "cell_type": "code",
   "execution_count": 118,
   "metadata": {},
   "outputs": [],
   "source": [
    "result_df = pd.read_excel('../tests/test2/results.xlsx')\r\n",
    "display_df = result_df.copy()\r\n",
    "precisions = {'Ка' : '{0:.2f}', 'Nf' : '{0:.0f}', 'Nf_max': '{0:.0f}',\\\r\n",
    "'Iter' : '{0:.0f}', 'Iter_max' : '{0:.0f}', 't' : '{0:.4f}', 't_max' : '{0:.4f}'}\r\n",
    "for col, precision in precisions.items():\r\n",
    "    display_df[col] = display_df[col].apply(lambda x: precision.format(x))"
   ]
  },
  {
   "cell_type": "code",
   "execution_count": 120,
   "metadata": {},
   "outputs": [
    {
     "output_type": "execute_result",
     "data": {
      "text/plain": [
       "          Algorithm  std      sr_0      sr_1      sr_2      sr_3    Ка   Nf  \\\n",
       "0            ММП v2  0.0  1.000000  1.000000  1.000000  1.000000  0.00   10   \n",
       "0  Метод N пеленгов  0.0  1.000000  1.000000  1.000000  1.000000  0.00  nan   \n",
       "0            ММП v2  0.1  0.941894  0.982898  0.982898  0.992499  0.01   10   \n",
       "0  Метод N пеленгов  0.1  0.560200  0.758200  0.759200  0.847800  0.01  nan   \n",
       "0            ММП v2  0.2  0.861986  0.941794  0.941794  0.967797  0.04   10   \n",
       "0  Метод N пеленгов  0.2  0.306700  0.516700  0.524000  0.614100  0.05  nan   \n",
       "0            ММП v2  0.3  0.781978  0.899890  0.899990  0.936394  0.09   10   \n",
       "0  Метод N пеленгов  0.3  0.188700  0.351400  0.357900  0.442200  0.11  nan   \n",
       "0            ММП v2  0.5  0.635564  0.822082  0.823082  0.877088  0.25   10   \n",
       "0  Метод N пеленгов  0.5  0.048505  0.146215  0.148115  0.228423  0.38  nan   \n",
       "0            ММП v2  1.0  0.379838  0.635064  0.651065  0.738574  0.99   10   \n",
       "0  Метод N пеленгов  1.0  0.001442  0.011535  0.014727  0.021936  2.95  nan   \n",
       "\n",
       "  Nf_max Iter Iter_max       t   t_max  \n",
       "0     41    9       29  0.0021  0.0075  \n",
       "0    nan  nan      nan  0.0002  0.0030  \n",
       "0     41    9       29  0.0021  0.0148  \n",
       "0    nan  nan      nan  0.0002  0.0012  \n",
       "0     41    9       29  0.0021  0.0070  \n",
       "0    nan  nan      nan  0.0002  0.0008  \n",
       "0     42    9       30  0.0021  0.0075  \n",
       "0    nan  nan      nan  0.0002  0.0007  \n",
       "0     42    9       29  0.0021  0.0071  \n",
       "0    nan  nan      nan  0.0002  0.0027  \n",
       "0     43    9       30  0.0021  0.0071  \n",
       "0    nan  nan      nan  0.0002  0.0007  "
      ],
      "text/html": "<div>\n<style scoped>\n    .dataframe tbody tr th:only-of-type {\n        vertical-align: middle;\n    }\n\n    .dataframe tbody tr th {\n        vertical-align: top;\n    }\n\n    .dataframe thead th {\n        text-align: right;\n    }\n</style>\n<table border=\"1\" class=\"dataframe\">\n  <thead>\n    <tr style=\"text-align: right;\">\n      <th></th>\n      <th>Algorithm</th>\n      <th>std</th>\n      <th>sr_0</th>\n      <th>sr_1</th>\n      <th>sr_2</th>\n      <th>sr_3</th>\n      <th>Ка</th>\n      <th>Nf</th>\n      <th>Nf_max</th>\n      <th>Iter</th>\n      <th>Iter_max</th>\n      <th>t</th>\n      <th>t_max</th>\n    </tr>\n  </thead>\n  <tbody>\n    <tr>\n      <th>0</th>\n      <td>ММП v2</td>\n      <td>0.0</td>\n      <td>1.000000</td>\n      <td>1.000000</td>\n      <td>1.000000</td>\n      <td>1.000000</td>\n      <td>0.00</td>\n      <td>10</td>\n      <td>41</td>\n      <td>9</td>\n      <td>29</td>\n      <td>0.0021</td>\n      <td>0.0075</td>\n    </tr>\n    <tr>\n      <th>0</th>\n      <td>Метод N пеленгов</td>\n      <td>0.0</td>\n      <td>1.000000</td>\n      <td>1.000000</td>\n      <td>1.000000</td>\n      <td>1.000000</td>\n      <td>0.00</td>\n      <td>nan</td>\n      <td>nan</td>\n      <td>nan</td>\n      <td>nan</td>\n      <td>0.0002</td>\n      <td>0.0030</td>\n    </tr>\n    <tr>\n      <th>0</th>\n      <td>ММП v2</td>\n      <td>0.1</td>\n      <td>0.941894</td>\n      <td>0.982898</td>\n      <td>0.982898</td>\n      <td>0.992499</td>\n      <td>0.01</td>\n      <td>10</td>\n      <td>41</td>\n      <td>9</td>\n      <td>29</td>\n      <td>0.0021</td>\n      <td>0.0148</td>\n    </tr>\n    <tr>\n      <th>0</th>\n      <td>Метод N пеленгов</td>\n      <td>0.1</td>\n      <td>0.560200</td>\n      <td>0.758200</td>\n      <td>0.759200</td>\n      <td>0.847800</td>\n      <td>0.01</td>\n      <td>nan</td>\n      <td>nan</td>\n      <td>nan</td>\n      <td>nan</td>\n      <td>0.0002</td>\n      <td>0.0012</td>\n    </tr>\n    <tr>\n      <th>0</th>\n      <td>ММП v2</td>\n      <td>0.2</td>\n      <td>0.861986</td>\n      <td>0.941794</td>\n      <td>0.941794</td>\n      <td>0.967797</td>\n      <td>0.04</td>\n      <td>10</td>\n      <td>41</td>\n      <td>9</td>\n      <td>29</td>\n      <td>0.0021</td>\n      <td>0.0070</td>\n    </tr>\n    <tr>\n      <th>0</th>\n      <td>Метод N пеленгов</td>\n      <td>0.2</td>\n      <td>0.306700</td>\n      <td>0.516700</td>\n      <td>0.524000</td>\n      <td>0.614100</td>\n      <td>0.05</td>\n      <td>nan</td>\n      <td>nan</td>\n      <td>nan</td>\n      <td>nan</td>\n      <td>0.0002</td>\n      <td>0.0008</td>\n    </tr>\n    <tr>\n      <th>0</th>\n      <td>ММП v2</td>\n      <td>0.3</td>\n      <td>0.781978</td>\n      <td>0.899890</td>\n      <td>0.899990</td>\n      <td>0.936394</td>\n      <td>0.09</td>\n      <td>10</td>\n      <td>42</td>\n      <td>9</td>\n      <td>30</td>\n      <td>0.0021</td>\n      <td>0.0075</td>\n    </tr>\n    <tr>\n      <th>0</th>\n      <td>Метод N пеленгов</td>\n      <td>0.3</td>\n      <td>0.188700</td>\n      <td>0.351400</td>\n      <td>0.357900</td>\n      <td>0.442200</td>\n      <td>0.11</td>\n      <td>nan</td>\n      <td>nan</td>\n      <td>nan</td>\n      <td>nan</td>\n      <td>0.0002</td>\n      <td>0.0007</td>\n    </tr>\n    <tr>\n      <th>0</th>\n      <td>ММП v2</td>\n      <td>0.5</td>\n      <td>0.635564</td>\n      <td>0.822082</td>\n      <td>0.823082</td>\n      <td>0.877088</td>\n      <td>0.25</td>\n      <td>10</td>\n      <td>42</td>\n      <td>9</td>\n      <td>29</td>\n      <td>0.0021</td>\n      <td>0.0071</td>\n    </tr>\n    <tr>\n      <th>0</th>\n      <td>Метод N пеленгов</td>\n      <td>0.5</td>\n      <td>0.048505</td>\n      <td>0.146215</td>\n      <td>0.148115</td>\n      <td>0.228423</td>\n      <td>0.38</td>\n      <td>nan</td>\n      <td>nan</td>\n      <td>nan</td>\n      <td>nan</td>\n      <td>0.0002</td>\n      <td>0.0027</td>\n    </tr>\n    <tr>\n      <th>0</th>\n      <td>ММП v2</td>\n      <td>1.0</td>\n      <td>0.379838</td>\n      <td>0.635064</td>\n      <td>0.651065</td>\n      <td>0.738574</td>\n      <td>0.99</td>\n      <td>10</td>\n      <td>43</td>\n      <td>9</td>\n      <td>30</td>\n      <td>0.0021</td>\n      <td>0.0071</td>\n    </tr>\n    <tr>\n      <th>0</th>\n      <td>Метод N пеленгов</td>\n      <td>1.0</td>\n      <td>0.001442</td>\n      <td>0.011535</td>\n      <td>0.014727</td>\n      <td>0.021936</td>\n      <td>2.95</td>\n      <td>nan</td>\n      <td>nan</td>\n      <td>nan</td>\n      <td>nan</td>\n      <td>0.0002</td>\n      <td>0.0007</td>\n    </tr>\n  </tbody>\n</table>\n</div>"
     },
     "metadata": {},
     "execution_count": 120
    }
   ],
   "source": [
    "print('Сводная таблица:')\n",
    "display_df"
   ]
  }
 ]
}