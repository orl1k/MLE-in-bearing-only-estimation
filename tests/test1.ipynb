{
 "metadata": {
  "language_info": {
   "codemirror_mode": {
    "name": "ipython",
    "version": 3
   },
   "file_extension": ".py",
   "mimetype": "text/x-python",
   "name": "python",
   "nbconvert_exporter": "python",
   "pygments_lexer": "ipython3",
   "version": "3.8.5-final"
  },
  "orig_nbformat": 2,
  "kernelspec": {
   "name": "python3",
   "display_name": "Python 3.8.5 64-bit",
   "metadata": {
    "interpreter": {
     "hash": "bd56d9596d0dac22b42132124331861132a2039bd11d68c775b6357709d84213"
    }
   }
  }
 },
 "nbformat": 4,
 "nbformat_minor": 2,
 "cells": [
  {
   "cell_type": "code",
   "execution_count": 1,
   "metadata": {},
   "outputs": [],
   "source": [
    "import sys\n",
    "sys.path.append(\"..\")\n",
    "import numpy as np\n",
    "from project.ship import Ship\n",
    "from project.tests import Tests\n",
    "from project.botma import TMA\n",
    "import time"
   ]
  },
  {
   "cell_type": "code",
   "execution_count": 2,
   "metadata": {},
   "outputs": [],
   "source": [
    "# Класс для сохранения результатов\n",
    "tests = Tests('test1')\n",
    "\n",
    "# Создаем наблюдатель\n",
    "observer_x, observer_y, observer_course, observer_velocity = 0, 0, 0, 5\n",
    "observer = Ship('Наблюдатель', observer_x, observer_y, observer_course,\n",
    "                observer_velocity, verbose=True)"
   ]
  },
  {
   "cell_type": "code",
   "execution_count": 3,
   "metadata": {},
   "outputs": [
    {
     "output_type": "stream",
     "name": "stdout",
     "text": [
      "Наблюдатель движется прямо по курсу 0.0° 180с\nНаблюдатель перешёл на курс 270.0° за 180с\nНаблюдатель движется прямо по курсу 270.0° 300с\nНаблюдатель перешёл на курс 90.0° за 360с\nНаблюдатель движется прямо по курсу 90.0° 180с\n"
     ]
    }
   ],
   "source": [
    "# Моделирование траектории наблюдателя\n",
    "observer.forward_movement(3 * 60)\n",
    "observer.change_course(270, 'left', omega=0.5)\n",
    "observer.forward_movement(5 * 60)\n",
    "observer.change_course(90, 'right', omega=0.5)\n",
    "observer.forward_movement(3 * 60)"
   ]
  },
  {
   "cell_type": "code",
   "execution_count": 4,
   "metadata": {},
   "outputs": [],
   "source": [
    "def target_func(seed=None):\n",
    "    np.random.seed(seed)\n",
    "    b = 0\n",
    "    d = 10\n",
    "    c = np.random.uniform(0, 180)\n",
    "    v = np.random.uniform(3, 15)\n",
    "    return [b, d, c, v]\n",
    "p0 = [0., 25., 90., 7.]\n",
    "std_arr = [0., 0.1, 0.2, 0.3, 0.5, 1.]\n",
    "precisions_1 = ['{0:.1f}', '{0:.3f}', '{0:.3f}', '{0:.2f}', '{0:.1f}', '{0:.3f}', '{0:.3f}', '{0:.2f}', '{0:.1f}', '{0:.3f}', '{0:.3f}', '{0:.2f}',\n",
    "'{0:.2f}', '{0:.2f}', '{0:.2f}', '{0:.2f}', '{0:.2f}', '{0:.2f}', '{:.0f}', '{0:.4f}', '{0:.0f}', '{0:.0f}']\n",
    "precisions_2 = ['{0:.1f}', '{0:.3f}', '{0:.1f}', '{0:.2f}', '{0:.1f}', '{0:.3f}', '{0:.1f}', '{0:.2f}', '{0:.2f}', '{0:.2f}', '{0:.0f}', '{0:.4f}']"
   ]
  },
  {
   "cell_type": "code",
   "execution_count": 5,
   "metadata": {},
   "outputs": [
    {
     "output_type": "stream",
     "name": "stdout",
     "text": [
      "СКОп = 0.0, tau = 2\n",
      "ММП v6\n",
      "Моделирование 10 результатов закончено за t = 0.3 с\n"
     ]
    },
    {
     "output_type": "display_data",
     "data": {
      "text/plain": "  П0_ист  Д0_ист   К0_ист V0_ист П0_расч Д0_расч  К0_расч V0_расч    Ка  \\\n0    0.0  10.000   98.786  11.58   360.0  10.000   98.786   11.58  0.00   \n1    0.0  10.000   75.064  11.64     0.0  10.000   75.064   11.64  0.00   \n2    0.0  10.000   78.479   3.31   360.0  10.000   78.479    3.31  0.00   \n3    0.0  10.000   99.144  11.50   360.0  10.000   99.144   11.50  0.00   \n4    0.0  10.000  174.065   9.57     0.0  10.000  174.065    9.57  0.00   \n5    0.0  10.000   39.959  13.45   360.0  10.000   39.959   13.45  0.00   \n6    0.0  10.000  160.715   6.98   360.0  10.000  160.715    6.98  0.00   \n7    0.0  10.000   13.735  12.36   360.0  10.000   13.735   12.36  0.00   \n8    0.0  10.000  157.217  14.62   360.0  10.000  157.217   14.62  0.00   \n9    0.0  10.000    1.867   9.02     0.0  10.000    1.867    9.02  0.00   \n\n            Точ       t  Nf Iter  \n0  [1, 1, 1, 1]  0.0040  19   15  \n1  [1, 1, 1, 1]  0.0030  12   10  \n2  [1, 1, 1, 1]  0.0018   8    7  \n3  [1, 1, 1, 1]  0.0054  19   15  \n4  [1, 1, 1, 1]  0.0049  24   18  \n5  [1, 1, 1, 1]  0.0019   9    8  \n6  [1, 1, 1, 1]  0.0049  27   21  \n7  [1, 1, 1, 1]  0.0018   8    7  \n8  [1, 1, 1, 1]  0.0041  23   17  \n9  [1, 1, 1, 1]  0.0015   7    6  ",
      "text/html": "<div>\n<style scoped>\n    .dataframe tbody tr th:only-of-type {\n        vertical-align: middle;\n    }\n\n    .dataframe tbody tr th {\n        vertical-align: top;\n    }\n\n    .dataframe thead th {\n        text-align: right;\n    }\n</style>\n<table border=\"1\" class=\"dataframe\">\n  <thead>\n    <tr style=\"text-align: right;\">\n      <th></th>\n      <th>П0_ист</th>\n      <th>Д0_ист</th>\n      <th>К0_ист</th>\n      <th>V0_ист</th>\n      <th>П0_расч</th>\n      <th>Д0_расч</th>\n      <th>К0_расч</th>\n      <th>V0_расч</th>\n      <th>Ка</th>\n      <th>Точ</th>\n      <th>t</th>\n      <th>Nf</th>\n      <th>Iter</th>\n    </tr>\n  </thead>\n  <tbody>\n    <tr>\n      <th>0</th>\n      <td>0.0</td>\n      <td>10.000</td>\n      <td>98.786</td>\n      <td>11.58</td>\n      <td>360.0</td>\n      <td>10.000</td>\n      <td>98.786</td>\n      <td>11.58</td>\n      <td>0.00</td>\n      <td>[1, 1, 1, 1]</td>\n      <td>0.0040</td>\n      <td>19</td>\n      <td>15</td>\n    </tr>\n    <tr>\n      <th>1</th>\n      <td>0.0</td>\n      <td>10.000</td>\n      <td>75.064</td>\n      <td>11.64</td>\n      <td>0.0</td>\n      <td>10.000</td>\n      <td>75.064</td>\n      <td>11.64</td>\n      <td>0.00</td>\n      <td>[1, 1, 1, 1]</td>\n      <td>0.0030</td>\n      <td>12</td>\n      <td>10</td>\n    </tr>\n    <tr>\n      <th>2</th>\n      <td>0.0</td>\n      <td>10.000</td>\n      <td>78.479</td>\n      <td>3.31</td>\n      <td>360.0</td>\n      <td>10.000</td>\n      <td>78.479</td>\n      <td>3.31</td>\n      <td>0.00</td>\n      <td>[1, 1, 1, 1]</td>\n      <td>0.0018</td>\n      <td>8</td>\n      <td>7</td>\n    </tr>\n    <tr>\n      <th>3</th>\n      <td>0.0</td>\n      <td>10.000</td>\n      <td>99.144</td>\n      <td>11.50</td>\n      <td>360.0</td>\n      <td>10.000</td>\n      <td>99.144</td>\n      <td>11.50</td>\n      <td>0.00</td>\n      <td>[1, 1, 1, 1]</td>\n      <td>0.0054</td>\n      <td>19</td>\n      <td>15</td>\n    </tr>\n    <tr>\n      <th>4</th>\n      <td>0.0</td>\n      <td>10.000</td>\n      <td>174.065</td>\n      <td>9.57</td>\n      <td>0.0</td>\n      <td>10.000</td>\n      <td>174.065</td>\n      <td>9.57</td>\n      <td>0.00</td>\n      <td>[1, 1, 1, 1]</td>\n      <td>0.0049</td>\n      <td>24</td>\n      <td>18</td>\n    </tr>\n    <tr>\n      <th>5</th>\n      <td>0.0</td>\n      <td>10.000</td>\n      <td>39.959</td>\n      <td>13.45</td>\n      <td>360.0</td>\n      <td>10.000</td>\n      <td>39.959</td>\n      <td>13.45</td>\n      <td>0.00</td>\n      <td>[1, 1, 1, 1]</td>\n      <td>0.0019</td>\n      <td>9</td>\n      <td>8</td>\n    </tr>\n    <tr>\n      <th>6</th>\n      <td>0.0</td>\n      <td>10.000</td>\n      <td>160.715</td>\n      <td>6.98</td>\n      <td>360.0</td>\n      <td>10.000</td>\n      <td>160.715</td>\n      <td>6.98</td>\n      <td>0.00</td>\n      <td>[1, 1, 1, 1]</td>\n      <td>0.0049</td>\n      <td>27</td>\n      <td>21</td>\n    </tr>\n    <tr>\n      <th>7</th>\n      <td>0.0</td>\n      <td>10.000</td>\n      <td>13.735</td>\n      <td>12.36</td>\n      <td>360.0</td>\n      <td>10.000</td>\n      <td>13.735</td>\n      <td>12.36</td>\n      <td>0.00</td>\n      <td>[1, 1, 1, 1]</td>\n      <td>0.0018</td>\n      <td>8</td>\n      <td>7</td>\n    </tr>\n    <tr>\n      <th>8</th>\n      <td>0.0</td>\n      <td>10.000</td>\n      <td>157.217</td>\n      <td>14.62</td>\n      <td>360.0</td>\n      <td>10.000</td>\n      <td>157.217</td>\n      <td>14.62</td>\n      <td>0.00</td>\n      <td>[1, 1, 1, 1]</td>\n      <td>0.0041</td>\n      <td>23</td>\n      <td>17</td>\n    </tr>\n    <tr>\n      <th>9</th>\n      <td>0.0</td>\n      <td>10.000</td>\n      <td>1.867</td>\n      <td>9.02</td>\n      <td>0.0</td>\n      <td>10.000</td>\n      <td>1.867</td>\n      <td>9.02</td>\n      <td>0.00</td>\n      <td>[1, 1, 1, 1]</td>\n      <td>0.0015</td>\n      <td>7</td>\n      <td>6</td>\n    </tr>\n  </tbody>\n</table>\n</div>"
     },
     "metadata": {}
    },
    {
     "output_type": "stream",
     "name": "stdout",
     "text": [
      "Показатели Монте-Карло:\n",
      "Вариант 0: Рэф = 100$, Рэф_мин = 1\n",
      "Вариант 1: Рэф = 100$, Рэф_мин = 1\n",
      "Вариант 2: Рэф = 100$, Рэф_мин = 1\n",
      "Вариант 3: Рэф = 100$, Рэф_мин = 1\n",
      "Ка = 0.00\n",
      "Nf = 16, Nf_max = 27\n",
      "Iter = 12, Iter_max = 21\n",
      "t = 0.0033, t_max = 0.0054\n",
      "_______________________________________________\n",
      "СКОп = 0.1, tau = 2\n",
      "ММП v6\n",
      "Моделирование 10 результатов закончено за t = 0.3 с\n"
     ]
    },
    {
     "output_type": "display_data",
     "data": {
      "text/plain": "  П0_ист  Д0_ист   К0_ист V0_ист П0_расч Д0_расч  К0_расч V0_расч    Ка  \\\n0    0.0  10.000   98.786  11.58   360.0   9.978   98.689   11.57  0.01   \n1    0.0  10.000   75.064  11.64   360.0  10.054   75.108   11.74  0.01   \n2    0.0  10.000   78.479   3.31     0.0  10.007   78.653    3.31  0.01   \n3    0.0  10.000   99.144  11.50     0.0   9.979   99.210   11.45  0.01   \n4    0.0  10.000  174.065   9.57   360.0  10.004  174.043    9.57  0.01   \n5    0.0  10.000   39.959  13.45     0.0   9.982   39.907   13.43  0.01   \n6    0.0  10.000  160.715   6.98   360.0   9.995  160.695    6.98  0.01   \n7    0.0  10.000   13.735  12.36   360.0   9.964   13.672   12.39  0.01   \n8    0.0  10.000  157.217  14.62     0.0  10.008  157.228   14.63  0.01   \n9    0.0  10.000    1.867   9.02     0.0  10.040    1.871    8.97  0.01   \n\n            Точ       t  Nf Iter  \n0  [1, 1, 1, 1]  0.0041  19   15  \n1  [1, 1, 1, 1]  0.0026  12   10  \n2  [1, 1, 1, 1]  0.0018   8    7  \n3  [1, 1, 1, 1]  0.0035  19   15  \n4  [1, 1, 1, 1]  0.0053  24   18  \n5  [1, 1, 1, 1]  0.0024   9    8  \n6  [1, 1, 1, 1]  0.0050  27   21  \n7  [1, 1, 1, 1]  0.0021   8    7  \n8  [1, 1, 1, 1]  0.0043  23   17  \n9  [1, 1, 1, 1]  0.0017   7    6  ",
      "text/html": "<div>\n<style scoped>\n    .dataframe tbody tr th:only-of-type {\n        vertical-align: middle;\n    }\n\n    .dataframe tbody tr th {\n        vertical-align: top;\n    }\n\n    .dataframe thead th {\n        text-align: right;\n    }\n</style>\n<table border=\"1\" class=\"dataframe\">\n  <thead>\n    <tr style=\"text-align: right;\">\n      <th></th>\n      <th>П0_ист</th>\n      <th>Д0_ист</th>\n      <th>К0_ист</th>\n      <th>V0_ист</th>\n      <th>П0_расч</th>\n      <th>Д0_расч</th>\n      <th>К0_расч</th>\n      <th>V0_расч</th>\n      <th>Ка</th>\n      <th>Точ</th>\n      <th>t</th>\n      <th>Nf</th>\n      <th>Iter</th>\n    </tr>\n  </thead>\n  <tbody>\n    <tr>\n      <th>0</th>\n      <td>0.0</td>\n      <td>10.000</td>\n      <td>98.786</td>\n      <td>11.58</td>\n      <td>360.0</td>\n      <td>9.978</td>\n      <td>98.689</td>\n      <td>11.57</td>\n      <td>0.01</td>\n      <td>[1, 1, 1, 1]</td>\n      <td>0.0041</td>\n      <td>19</td>\n      <td>15</td>\n    </tr>\n    <tr>\n      <th>1</th>\n      <td>0.0</td>\n      <td>10.000</td>\n      <td>75.064</td>\n      <td>11.64</td>\n      <td>360.0</td>\n      <td>10.054</td>\n      <td>75.108</td>\n      <td>11.74</td>\n      <td>0.01</td>\n      <td>[1, 1, 1, 1]</td>\n      <td>0.0026</td>\n      <td>12</td>\n      <td>10</td>\n    </tr>\n    <tr>\n      <th>2</th>\n      <td>0.0</td>\n      <td>10.000</td>\n      <td>78.479</td>\n      <td>3.31</td>\n      <td>0.0</td>\n      <td>10.007</td>\n      <td>78.653</td>\n      <td>3.31</td>\n      <td>0.01</td>\n      <td>[1, 1, 1, 1]</td>\n      <td>0.0018</td>\n      <td>8</td>\n      <td>7</td>\n    </tr>\n    <tr>\n      <th>3</th>\n      <td>0.0</td>\n      <td>10.000</td>\n      <td>99.144</td>\n      <td>11.50</td>\n      <td>0.0</td>\n      <td>9.979</td>\n      <td>99.210</td>\n      <td>11.45</td>\n      <td>0.01</td>\n      <td>[1, 1, 1, 1]</td>\n      <td>0.0035</td>\n      <td>19</td>\n      <td>15</td>\n    </tr>\n    <tr>\n      <th>4</th>\n      <td>0.0</td>\n      <td>10.000</td>\n      <td>174.065</td>\n      <td>9.57</td>\n      <td>360.0</td>\n      <td>10.004</td>\n      <td>174.043</td>\n      <td>9.57</td>\n      <td>0.01</td>\n      <td>[1, 1, 1, 1]</td>\n      <td>0.0053</td>\n      <td>24</td>\n      <td>18</td>\n    </tr>\n    <tr>\n      <th>5</th>\n      <td>0.0</td>\n      <td>10.000</td>\n      <td>39.959</td>\n      <td>13.45</td>\n      <td>0.0</td>\n      <td>9.982</td>\n      <td>39.907</td>\n      <td>13.43</td>\n      <td>0.01</td>\n      <td>[1, 1, 1, 1]</td>\n      <td>0.0024</td>\n      <td>9</td>\n      <td>8</td>\n    </tr>\n    <tr>\n      <th>6</th>\n      <td>0.0</td>\n      <td>10.000</td>\n      <td>160.715</td>\n      <td>6.98</td>\n      <td>360.0</td>\n      <td>9.995</td>\n      <td>160.695</td>\n      <td>6.98</td>\n      <td>0.01</td>\n      <td>[1, 1, 1, 1]</td>\n      <td>0.0050</td>\n      <td>27</td>\n      <td>21</td>\n    </tr>\n    <tr>\n      <th>7</th>\n      <td>0.0</td>\n      <td>10.000</td>\n      <td>13.735</td>\n      <td>12.36</td>\n      <td>360.0</td>\n      <td>9.964</td>\n      <td>13.672</td>\n      <td>12.39</td>\n      <td>0.01</td>\n      <td>[1, 1, 1, 1]</td>\n      <td>0.0021</td>\n      <td>8</td>\n      <td>7</td>\n    </tr>\n    <tr>\n      <th>8</th>\n      <td>0.0</td>\n      <td>10.000</td>\n      <td>157.217</td>\n      <td>14.62</td>\n      <td>0.0</td>\n      <td>10.008</td>\n      <td>157.228</td>\n      <td>14.63</td>\n      <td>0.01</td>\n      <td>[1, 1, 1, 1]</td>\n      <td>0.0043</td>\n      <td>23</td>\n      <td>17</td>\n    </tr>\n    <tr>\n      <th>9</th>\n      <td>0.0</td>\n      <td>10.000</td>\n      <td>1.867</td>\n      <td>9.02</td>\n      <td>0.0</td>\n      <td>10.040</td>\n      <td>1.871</td>\n      <td>8.97</td>\n      <td>0.01</td>\n      <td>[1, 1, 1, 1]</td>\n      <td>0.0017</td>\n      <td>7</td>\n      <td>6</td>\n    </tr>\n  </tbody>\n</table>\n</div>"
     },
     "metadata": {}
    },
    {
     "output_type": "stream",
     "name": "stdout",
     "text": [
      "Показатели Монте-Карло:\n",
      "Вариант 0: Рэф = 100$, Рэф_мин = 1\n",
      "Вариант 1: Рэф = 100$, Рэф_мин = 1\n",
      "Вариант 2: Рэф = 100$, Рэф_мин = 1\n",
      "Вариант 3: Рэф = 100$, Рэф_мин = 1\n",
      "Ка = 0.01\n",
      "Nf = 16, Nf_max = 27\n",
      "Iter = 12, Iter_max = 21\n",
      "t = 0.0033, t_max = 0.0053\n",
      "_______________________________________________\n",
      "СКОп = 0.2, tau = 2\n",
      "ММП v6\n",
      "Моделирование 10 результатов закончено за t = 0.3 с\n"
     ]
    },
    {
     "output_type": "display_data",
     "data": {
      "text/plain": "  П0_ист  Д0_ист   К0_ист V0_ист П0_расч Д0_расч  К0_расч V0_расч    Ка  \\\n0    0.0  10.000   98.786  11.58   360.0   9.956   98.591   11.56  0.04   \n1    0.0  10.000   75.064  11.64   359.9  10.109   75.151   11.84  0.04   \n2    0.0  10.000   78.479   3.31     0.0  10.015   78.827    3.30  0.04   \n3    0.0  10.000   99.144  11.50     0.0   9.958   99.277   11.40  0.04   \n4    0.0  10.000  174.065   9.57   360.0  10.008  174.021    9.58  0.04   \n5    0.0  10.000   39.959  13.45     0.0   9.964   39.856   13.41  0.04   \n6    0.0  10.000  160.715   6.98   360.0   9.990  160.675    6.98  0.04   \n7    0.0  10.000   13.735  12.36   360.0   9.928   13.609   12.42  0.04   \n8    0.0  10.000  157.217  14.62     0.0  10.016  157.239   14.64  0.04   \n9    0.0  10.000    1.867   9.02     0.0  10.080    1.874    8.91  0.04   \n\n            Точ       t  Nf Iter  \n0  [1, 1, 1, 1]  0.0038  19   15  \n1  [1, 1, 1, 1]  0.0025  12   10  \n2  [1, 1, 1, 1]  0.0018   8    7  \n3  [1, 1, 1, 1]  0.0045  19   15  \n4  [1, 1, 1, 1]  0.0055  24   18  \n5  [1, 1, 1, 1]  0.0020   9    8  \n6  [1, 1, 1, 1]  0.0052  27   21  \n7  [1, 1, 1, 1]  0.0018   8    7  \n8  [1, 1, 1, 1]  0.0042  23   17  \n9  [1, 1, 1, 1]  0.0016   7    6  ",
      "text/html": "<div>\n<style scoped>\n    .dataframe tbody tr th:only-of-type {\n        vertical-align: middle;\n    }\n\n    .dataframe tbody tr th {\n        vertical-align: top;\n    }\n\n    .dataframe thead th {\n        text-align: right;\n    }\n</style>\n<table border=\"1\" class=\"dataframe\">\n  <thead>\n    <tr style=\"text-align: right;\">\n      <th></th>\n      <th>П0_ист</th>\n      <th>Д0_ист</th>\n      <th>К0_ист</th>\n      <th>V0_ист</th>\n      <th>П0_расч</th>\n      <th>Д0_расч</th>\n      <th>К0_расч</th>\n      <th>V0_расч</th>\n      <th>Ка</th>\n      <th>Точ</th>\n      <th>t</th>\n      <th>Nf</th>\n      <th>Iter</th>\n    </tr>\n  </thead>\n  <tbody>\n    <tr>\n      <th>0</th>\n      <td>0.0</td>\n      <td>10.000</td>\n      <td>98.786</td>\n      <td>11.58</td>\n      <td>360.0</td>\n      <td>9.956</td>\n      <td>98.591</td>\n      <td>11.56</td>\n      <td>0.04</td>\n      <td>[1, 1, 1, 1]</td>\n      <td>0.0038</td>\n      <td>19</td>\n      <td>15</td>\n    </tr>\n    <tr>\n      <th>1</th>\n      <td>0.0</td>\n      <td>10.000</td>\n      <td>75.064</td>\n      <td>11.64</td>\n      <td>359.9</td>\n      <td>10.109</td>\n      <td>75.151</td>\n      <td>11.84</td>\n      <td>0.04</td>\n      <td>[1, 1, 1, 1]</td>\n      <td>0.0025</td>\n      <td>12</td>\n      <td>10</td>\n    </tr>\n    <tr>\n      <th>2</th>\n      <td>0.0</td>\n      <td>10.000</td>\n      <td>78.479</td>\n      <td>3.31</td>\n      <td>0.0</td>\n      <td>10.015</td>\n      <td>78.827</td>\n      <td>3.30</td>\n      <td>0.04</td>\n      <td>[1, 1, 1, 1]</td>\n      <td>0.0018</td>\n      <td>8</td>\n      <td>7</td>\n    </tr>\n    <tr>\n      <th>3</th>\n      <td>0.0</td>\n      <td>10.000</td>\n      <td>99.144</td>\n      <td>11.50</td>\n      <td>0.0</td>\n      <td>9.958</td>\n      <td>99.277</td>\n      <td>11.40</td>\n      <td>0.04</td>\n      <td>[1, 1, 1, 1]</td>\n      <td>0.0045</td>\n      <td>19</td>\n      <td>15</td>\n    </tr>\n    <tr>\n      <th>4</th>\n      <td>0.0</td>\n      <td>10.000</td>\n      <td>174.065</td>\n      <td>9.57</td>\n      <td>360.0</td>\n      <td>10.008</td>\n      <td>174.021</td>\n      <td>9.58</td>\n      <td>0.04</td>\n      <td>[1, 1, 1, 1]</td>\n      <td>0.0055</td>\n      <td>24</td>\n      <td>18</td>\n    </tr>\n    <tr>\n      <th>5</th>\n      <td>0.0</td>\n      <td>10.000</td>\n      <td>39.959</td>\n      <td>13.45</td>\n      <td>0.0</td>\n      <td>9.964</td>\n      <td>39.856</td>\n      <td>13.41</td>\n      <td>0.04</td>\n      <td>[1, 1, 1, 1]</td>\n      <td>0.0020</td>\n      <td>9</td>\n      <td>8</td>\n    </tr>\n    <tr>\n      <th>6</th>\n      <td>0.0</td>\n      <td>10.000</td>\n      <td>160.715</td>\n      <td>6.98</td>\n      <td>360.0</td>\n      <td>9.990</td>\n      <td>160.675</td>\n      <td>6.98</td>\n      <td>0.04</td>\n      <td>[1, 1, 1, 1]</td>\n      <td>0.0052</td>\n      <td>27</td>\n      <td>21</td>\n    </tr>\n    <tr>\n      <th>7</th>\n      <td>0.0</td>\n      <td>10.000</td>\n      <td>13.735</td>\n      <td>12.36</td>\n      <td>360.0</td>\n      <td>9.928</td>\n      <td>13.609</td>\n      <td>12.42</td>\n      <td>0.04</td>\n      <td>[1, 1, 1, 1]</td>\n      <td>0.0018</td>\n      <td>8</td>\n      <td>7</td>\n    </tr>\n    <tr>\n      <th>8</th>\n      <td>0.0</td>\n      <td>10.000</td>\n      <td>157.217</td>\n      <td>14.62</td>\n      <td>0.0</td>\n      <td>10.016</td>\n      <td>157.239</td>\n      <td>14.64</td>\n      <td>0.04</td>\n      <td>[1, 1, 1, 1]</td>\n      <td>0.0042</td>\n      <td>23</td>\n      <td>17</td>\n    </tr>\n    <tr>\n      <th>9</th>\n      <td>0.0</td>\n      <td>10.000</td>\n      <td>1.867</td>\n      <td>9.02</td>\n      <td>0.0</td>\n      <td>10.080</td>\n      <td>1.874</td>\n      <td>8.91</td>\n      <td>0.04</td>\n      <td>[1, 1, 1, 1]</td>\n      <td>0.0016</td>\n      <td>7</td>\n      <td>6</td>\n    </tr>\n  </tbody>\n</table>\n</div>"
     },
     "metadata": {}
    },
    {
     "output_type": "stream",
     "name": "stdout",
     "text": [
      "Показатели Монте-Карло:\n",
      "Вариант 0: Рэф = 100$, Рэф_мин = 1\n",
      "Вариант 1: Рэф = 100$, Рэф_мин = 1\n",
      "Вариант 2: Рэф = 100$, Рэф_мин = 1\n",
      "Вариант 3: Рэф = 100$, Рэф_мин = 1\n",
      "Ка = 0.04\n",
      "Nf = 16, Nf_max = 27\n",
      "Iter = 12, Iter_max = 21\n",
      "t = 0.0033, t_max = 0.0055\n",
      "_______________________________________________\n",
      "СКОп = 0.3, tau = 2\n",
      "ММП v6\n",
      "Моделирование 10 результатов закончено за t = 0.3 с\n"
     ]
    },
    {
     "output_type": "display_data",
     "data": {
      "text/plain": "  П0_ист  Д0_ист   К0_ист V0_ист П0_расч Д0_расч  К0_расч V0_расч    Ка  \\\n0    0.0  10.000   98.786  11.58   360.0   9.934   98.494   11.55  0.08   \n1    0.0  10.000   75.064  11.64   359.9  10.165   75.195   11.95  0.09   \n2    0.0  10.000   78.479   3.31     0.0  10.022   79.002    3.29  0.09   \n3    0.0  10.000   99.144  11.50     0.1   9.938   99.344   11.35  0.09   \n4    0.0  10.000  174.065   9.57   360.0  10.013  174.000    9.58  0.08   \n5    0.0  10.000   39.959  13.45     0.0   9.946   39.804   13.39  0.09   \n6    0.0  10.000  160.715   6.98   360.0   9.985  160.655    6.97  0.08   \n7    0.0  10.000   13.735  12.36   360.0   9.891   13.546   12.45  0.08   \n8    0.0  10.000  157.217  14.62     0.0  10.024  157.249   14.66  0.10   \n9    0.0  10.000    1.867   9.02     0.0  10.120    1.878    8.86  0.09   \n\n            Точ       t  Nf Iter  \n0  [1, 1, 1, 1]  0.0036  19   15  \n1  [1, 1, 1, 1]  0.0028  12   10  \n2  [1, 1, 1, 1]  0.0018   8    7  \n3  [1, 1, 1, 1]  0.0038  19   15  \n4  [1, 1, 1, 1]  0.0045  24   18  \n5  [1, 1, 1, 1]  0.0020   9    8  \n6  [1, 1, 1, 1]  0.0055  27   21  \n7  [1, 1, 1, 1]  0.0018   8    7  \n8  [1, 1, 1, 1]  0.0044  23   17  \n9  [1, 1, 1, 1]  0.0016   7    6  ",
      "text/html": "<div>\n<style scoped>\n    .dataframe tbody tr th:only-of-type {\n        vertical-align: middle;\n    }\n\n    .dataframe tbody tr th {\n        vertical-align: top;\n    }\n\n    .dataframe thead th {\n        text-align: right;\n    }\n</style>\n<table border=\"1\" class=\"dataframe\">\n  <thead>\n    <tr style=\"text-align: right;\">\n      <th></th>\n      <th>П0_ист</th>\n      <th>Д0_ист</th>\n      <th>К0_ист</th>\n      <th>V0_ист</th>\n      <th>П0_расч</th>\n      <th>Д0_расч</th>\n      <th>К0_расч</th>\n      <th>V0_расч</th>\n      <th>Ка</th>\n      <th>Точ</th>\n      <th>t</th>\n      <th>Nf</th>\n      <th>Iter</th>\n    </tr>\n  </thead>\n  <tbody>\n    <tr>\n      <th>0</th>\n      <td>0.0</td>\n      <td>10.000</td>\n      <td>98.786</td>\n      <td>11.58</td>\n      <td>360.0</td>\n      <td>9.934</td>\n      <td>98.494</td>\n      <td>11.55</td>\n      <td>0.08</td>\n      <td>[1, 1, 1, 1]</td>\n      <td>0.0036</td>\n      <td>19</td>\n      <td>15</td>\n    </tr>\n    <tr>\n      <th>1</th>\n      <td>0.0</td>\n      <td>10.000</td>\n      <td>75.064</td>\n      <td>11.64</td>\n      <td>359.9</td>\n      <td>10.165</td>\n      <td>75.195</td>\n      <td>11.95</td>\n      <td>0.09</td>\n      <td>[1, 1, 1, 1]</td>\n      <td>0.0028</td>\n      <td>12</td>\n      <td>10</td>\n    </tr>\n    <tr>\n      <th>2</th>\n      <td>0.0</td>\n      <td>10.000</td>\n      <td>78.479</td>\n      <td>3.31</td>\n      <td>0.0</td>\n      <td>10.022</td>\n      <td>79.002</td>\n      <td>3.29</td>\n      <td>0.09</td>\n      <td>[1, 1, 1, 1]</td>\n      <td>0.0018</td>\n      <td>8</td>\n      <td>7</td>\n    </tr>\n    <tr>\n      <th>3</th>\n      <td>0.0</td>\n      <td>10.000</td>\n      <td>99.144</td>\n      <td>11.50</td>\n      <td>0.1</td>\n      <td>9.938</td>\n      <td>99.344</td>\n      <td>11.35</td>\n      <td>0.09</td>\n      <td>[1, 1, 1, 1]</td>\n      <td>0.0038</td>\n      <td>19</td>\n      <td>15</td>\n    </tr>\n    <tr>\n      <th>4</th>\n      <td>0.0</td>\n      <td>10.000</td>\n      <td>174.065</td>\n      <td>9.57</td>\n      <td>360.0</td>\n      <td>10.013</td>\n      <td>174.000</td>\n      <td>9.58</td>\n      <td>0.08</td>\n      <td>[1, 1, 1, 1]</td>\n      <td>0.0045</td>\n      <td>24</td>\n      <td>18</td>\n    </tr>\n    <tr>\n      <th>5</th>\n      <td>0.0</td>\n      <td>10.000</td>\n      <td>39.959</td>\n      <td>13.45</td>\n      <td>0.0</td>\n      <td>9.946</td>\n      <td>39.804</td>\n      <td>13.39</td>\n      <td>0.09</td>\n      <td>[1, 1, 1, 1]</td>\n      <td>0.0020</td>\n      <td>9</td>\n      <td>8</td>\n    </tr>\n    <tr>\n      <th>6</th>\n      <td>0.0</td>\n      <td>10.000</td>\n      <td>160.715</td>\n      <td>6.98</td>\n      <td>360.0</td>\n      <td>9.985</td>\n      <td>160.655</td>\n      <td>6.97</td>\n      <td>0.08</td>\n      <td>[1, 1, 1, 1]</td>\n      <td>0.0055</td>\n      <td>27</td>\n      <td>21</td>\n    </tr>\n    <tr>\n      <th>7</th>\n      <td>0.0</td>\n      <td>10.000</td>\n      <td>13.735</td>\n      <td>12.36</td>\n      <td>360.0</td>\n      <td>9.891</td>\n      <td>13.546</td>\n      <td>12.45</td>\n      <td>0.08</td>\n      <td>[1, 1, 1, 1]</td>\n      <td>0.0018</td>\n      <td>8</td>\n      <td>7</td>\n    </tr>\n    <tr>\n      <th>8</th>\n      <td>0.0</td>\n      <td>10.000</td>\n      <td>157.217</td>\n      <td>14.62</td>\n      <td>0.0</td>\n      <td>10.024</td>\n      <td>157.249</td>\n      <td>14.66</td>\n      <td>0.10</td>\n      <td>[1, 1, 1, 1]</td>\n      <td>0.0044</td>\n      <td>23</td>\n      <td>17</td>\n    </tr>\n    <tr>\n      <th>9</th>\n      <td>0.0</td>\n      <td>10.000</td>\n      <td>1.867</td>\n      <td>9.02</td>\n      <td>0.0</td>\n      <td>10.120</td>\n      <td>1.878</td>\n      <td>8.86</td>\n      <td>0.09</td>\n      <td>[1, 1, 1, 1]</td>\n      <td>0.0016</td>\n      <td>7</td>\n      <td>6</td>\n    </tr>\n  </tbody>\n</table>\n</div>"
     },
     "metadata": {}
    },
    {
     "output_type": "stream",
     "name": "stdout",
     "text": [
      "Показатели Монте-Карло:\n",
      "Вариант 0: Рэф = 100$, Рэф_мин = 1\n",
      "Вариант 1: Рэф = 100$, Рэф_мин = 1\n",
      "Вариант 2: Рэф = 100$, Рэф_мин = 1\n",
      "Вариант 3: Рэф = 100$, Рэф_мин = 1\n",
      "Ка = 0.09\n",
      "Nf = 16, Nf_max = 27\n",
      "Iter = 12, Iter_max = 21\n",
      "t = 0.0032, t_max = 0.0055\n",
      "_______________________________________________\n",
      "СКОп = 0.5, tau = 2\n",
      "ММП v6\n",
      "Моделирование 10 результатов закончено за t = 0.3 с\n"
     ]
    },
    {
     "output_type": "display_data",
     "data": {
      "text/plain": "  П0_ист  Д0_ист   К0_ист V0_ист П0_расч Д0_расч  К0_расч V0_расч    Ка  \\\n0    0.0  10.000   98.786  11.58   359.9   9.889   98.299   11.52  0.23   \n1    0.0  10.000   75.064  11.64   359.8  10.278   75.282   12.15  0.24   \n2    0.0  10.000   78.479   3.31     0.1  10.037   79.352    3.28  0.25   \n3    0.0  10.000   99.144  11.50     0.1   9.897   99.477   11.26  0.24   \n4    0.0  10.000  174.065   9.57   359.9  10.021  173.956    9.59  0.23   \n5    0.0  10.000   39.959  13.45     0.0   9.910   39.701   13.35  0.25   \n6    0.0  10.000  160.715   6.98   360.0   9.975  160.617    6.96  0.23   \n7    0.0  10.000   13.735  12.36   360.0   9.819   13.421   12.50  0.23   \n8    0.0  10.000  157.217  14.62     0.1  10.040  157.271   14.68  0.27   \n9    0.0  10.000    1.867   9.02   360.0  10.200    1.886    8.75  0.25   \n\n            Точ       t  Nf Iter  \n0  [1, 1, 1, 1]  0.0043  19   15  \n1  [1, 1, 1, 1]  0.0024  12   10  \n2  [1, 1, 1, 1]  0.0029   8    7  \n3  [1, 1, 1, 1]  0.0036  19   15  \n4  [1, 1, 1, 1]  0.0048  24   18  \n5  [1, 1, 1, 1]  0.0020   9    8  \n6  [1, 1, 1, 1]  0.0055  27   21  \n7  [1, 1, 1, 1]  0.0019   8    7  \n8  [1, 1, 1, 1]  0.0049  23   17  \n9  [1, 1, 1, 1]  0.0016   7    6  ",
      "text/html": "<div>\n<style scoped>\n    .dataframe tbody tr th:only-of-type {\n        vertical-align: middle;\n    }\n\n    .dataframe tbody tr th {\n        vertical-align: top;\n    }\n\n    .dataframe thead th {\n        text-align: right;\n    }\n</style>\n<table border=\"1\" class=\"dataframe\">\n  <thead>\n    <tr style=\"text-align: right;\">\n      <th></th>\n      <th>П0_ист</th>\n      <th>Д0_ист</th>\n      <th>К0_ист</th>\n      <th>V0_ист</th>\n      <th>П0_расч</th>\n      <th>Д0_расч</th>\n      <th>К0_расч</th>\n      <th>V0_расч</th>\n      <th>Ка</th>\n      <th>Точ</th>\n      <th>t</th>\n      <th>Nf</th>\n      <th>Iter</th>\n    </tr>\n  </thead>\n  <tbody>\n    <tr>\n      <th>0</th>\n      <td>0.0</td>\n      <td>10.000</td>\n      <td>98.786</td>\n      <td>11.58</td>\n      <td>359.9</td>\n      <td>9.889</td>\n      <td>98.299</td>\n      <td>11.52</td>\n      <td>0.23</td>\n      <td>[1, 1, 1, 1]</td>\n      <td>0.0043</td>\n      <td>19</td>\n      <td>15</td>\n    </tr>\n    <tr>\n      <th>1</th>\n      <td>0.0</td>\n      <td>10.000</td>\n      <td>75.064</td>\n      <td>11.64</td>\n      <td>359.8</td>\n      <td>10.278</td>\n      <td>75.282</td>\n      <td>12.15</td>\n      <td>0.24</td>\n      <td>[1, 1, 1, 1]</td>\n      <td>0.0024</td>\n      <td>12</td>\n      <td>10</td>\n    </tr>\n    <tr>\n      <th>2</th>\n      <td>0.0</td>\n      <td>10.000</td>\n      <td>78.479</td>\n      <td>3.31</td>\n      <td>0.1</td>\n      <td>10.037</td>\n      <td>79.352</td>\n      <td>3.28</td>\n      <td>0.25</td>\n      <td>[1, 1, 1, 1]</td>\n      <td>0.0029</td>\n      <td>8</td>\n      <td>7</td>\n    </tr>\n    <tr>\n      <th>3</th>\n      <td>0.0</td>\n      <td>10.000</td>\n      <td>99.144</td>\n      <td>11.50</td>\n      <td>0.1</td>\n      <td>9.897</td>\n      <td>99.477</td>\n      <td>11.26</td>\n      <td>0.24</td>\n      <td>[1, 1, 1, 1]</td>\n      <td>0.0036</td>\n      <td>19</td>\n      <td>15</td>\n    </tr>\n    <tr>\n      <th>4</th>\n      <td>0.0</td>\n      <td>10.000</td>\n      <td>174.065</td>\n      <td>9.57</td>\n      <td>359.9</td>\n      <td>10.021</td>\n      <td>173.956</td>\n      <td>9.59</td>\n      <td>0.23</td>\n      <td>[1, 1, 1, 1]</td>\n      <td>0.0048</td>\n      <td>24</td>\n      <td>18</td>\n    </tr>\n    <tr>\n      <th>5</th>\n      <td>0.0</td>\n      <td>10.000</td>\n      <td>39.959</td>\n      <td>13.45</td>\n      <td>0.0</td>\n      <td>9.910</td>\n      <td>39.701</td>\n      <td>13.35</td>\n      <td>0.25</td>\n      <td>[1, 1, 1, 1]</td>\n      <td>0.0020</td>\n      <td>9</td>\n      <td>8</td>\n    </tr>\n    <tr>\n      <th>6</th>\n      <td>0.0</td>\n      <td>10.000</td>\n      <td>160.715</td>\n      <td>6.98</td>\n      <td>360.0</td>\n      <td>9.975</td>\n      <td>160.617</td>\n      <td>6.96</td>\n      <td>0.23</td>\n      <td>[1, 1, 1, 1]</td>\n      <td>0.0055</td>\n      <td>27</td>\n      <td>21</td>\n    </tr>\n    <tr>\n      <th>7</th>\n      <td>0.0</td>\n      <td>10.000</td>\n      <td>13.735</td>\n      <td>12.36</td>\n      <td>360.0</td>\n      <td>9.819</td>\n      <td>13.421</td>\n      <td>12.50</td>\n      <td>0.23</td>\n      <td>[1, 1, 1, 1]</td>\n      <td>0.0019</td>\n      <td>8</td>\n      <td>7</td>\n    </tr>\n    <tr>\n      <th>8</th>\n      <td>0.0</td>\n      <td>10.000</td>\n      <td>157.217</td>\n      <td>14.62</td>\n      <td>0.1</td>\n      <td>10.040</td>\n      <td>157.271</td>\n      <td>14.68</td>\n      <td>0.27</td>\n      <td>[1, 1, 1, 1]</td>\n      <td>0.0049</td>\n      <td>23</td>\n      <td>17</td>\n    </tr>\n    <tr>\n      <th>9</th>\n      <td>0.0</td>\n      <td>10.000</td>\n      <td>1.867</td>\n      <td>9.02</td>\n      <td>360.0</td>\n      <td>10.200</td>\n      <td>1.886</td>\n      <td>8.75</td>\n      <td>0.25</td>\n      <td>[1, 1, 1, 1]</td>\n      <td>0.0016</td>\n      <td>7</td>\n      <td>6</td>\n    </tr>\n  </tbody>\n</table>\n</div>"
     },
     "metadata": {}
    },
    {
     "output_type": "stream",
     "name": "stdout",
     "text": [
      "Показатели Монте-Карло:\n",
      "Вариант 0: Рэф = 100$, Рэф_мин = 1\n",
      "Вариант 1: Рэф = 100$, Рэф_мин = 1\n",
      "Вариант 2: Рэф = 100$, Рэф_мин = 1\n",
      "Вариант 3: Рэф = 100$, Рэф_мин = 1\n",
      "Ка = 0.24\n",
      "Nf = 16, Nf_max = 27\n",
      "Iter = 12, Iter_max = 21\n",
      "t = 0.0034, t_max = 0.0055\n",
      "_______________________________________________\n",
      "СКОп = 1.0, tau = 2\n",
      "ММП v6\n",
      "Моделирование 10 результатов закончено за t = 0.3 с\n"
     ]
    },
    {
     "output_type": "display_data",
     "data": {
      "text/plain": "  П0_ист  Д0_ист   К0_ист V0_ист П0_расч Д0_расч  К0_расч V0_расч    Ка  \\\n0    0.0  10.000   98.786  11.58   359.9   9.779   97.811   11.46  0.94   \n1    0.0  10.000   75.064  11.64   359.6  10.573   75.498   12.69  0.97   \n2    0.0  10.000   78.479   3.31     0.1  10.074   80.233    3.25  0.98   \n3    0.0  10.000   99.144  11.50     0.2   9.794   99.812   11.03  0.95   \n4    0.0  10.000  174.065   9.57   359.9  10.043  173.846    9.62  0.92   \n5    0.0  10.000   39.959  13.45     0.1   9.822   39.443   13.24  0.99   \n6    0.0  10.000  160.715   6.98   359.9   9.947  160.525    6.94  0.93   \n7    0.0  10.000   13.735  12.36   360.0   9.639   13.115   12.65  0.91   \n8    0.0  10.000  157.217  14.62     0.1  10.081  157.324   14.74  1.09   \n9    0.0  10.000    1.867   9.02   360.0  10.397    1.910    8.49  0.98   \n\n            Точ       t  Nf Iter  \n0  [1, 1, 1, 1]  0.0039  19   15  \n1  [0, 1, 1, 1]  0.0025  12   10  \n2  [1, 1, 1, 1]  0.0025   8    7  \n3  [1, 1, 1, 1]  0.0036  19   15  \n4  [1, 1, 1, 1]  0.0050  24   18  \n5  [1, 1, 1, 1]  0.0019   9    8  \n6  [1, 1, 1, 1]  0.0050  27   21  \n7  [1, 1, 1, 1]  0.0017   8    7  \n8  [1, 1, 1, 1]  0.0042  23   17  \n9  [0, 1, 1, 1]  0.0015   7    6  ",
      "text/html": "<div>\n<style scoped>\n    .dataframe tbody tr th:only-of-type {\n        vertical-align: middle;\n    }\n\n    .dataframe tbody tr th {\n        vertical-align: top;\n    }\n\n    .dataframe thead th {\n        text-align: right;\n    }\n</style>\n<table border=\"1\" class=\"dataframe\">\n  <thead>\n    <tr style=\"text-align: right;\">\n      <th></th>\n      <th>П0_ист</th>\n      <th>Д0_ист</th>\n      <th>К0_ист</th>\n      <th>V0_ист</th>\n      <th>П0_расч</th>\n      <th>Д0_расч</th>\n      <th>К0_расч</th>\n      <th>V0_расч</th>\n      <th>Ка</th>\n      <th>Точ</th>\n      <th>t</th>\n      <th>Nf</th>\n      <th>Iter</th>\n    </tr>\n  </thead>\n  <tbody>\n    <tr>\n      <th>0</th>\n      <td>0.0</td>\n      <td>10.000</td>\n      <td>98.786</td>\n      <td>11.58</td>\n      <td>359.9</td>\n      <td>9.779</td>\n      <td>97.811</td>\n      <td>11.46</td>\n      <td>0.94</td>\n      <td>[1, 1, 1, 1]</td>\n      <td>0.0039</td>\n      <td>19</td>\n      <td>15</td>\n    </tr>\n    <tr>\n      <th>1</th>\n      <td>0.0</td>\n      <td>10.000</td>\n      <td>75.064</td>\n      <td>11.64</td>\n      <td>359.6</td>\n      <td>10.573</td>\n      <td>75.498</td>\n      <td>12.69</td>\n      <td>0.97</td>\n      <td>[0, 1, 1, 1]</td>\n      <td>0.0025</td>\n      <td>12</td>\n      <td>10</td>\n    </tr>\n    <tr>\n      <th>2</th>\n      <td>0.0</td>\n      <td>10.000</td>\n      <td>78.479</td>\n      <td>3.31</td>\n      <td>0.1</td>\n      <td>10.074</td>\n      <td>80.233</td>\n      <td>3.25</td>\n      <td>0.98</td>\n      <td>[1, 1, 1, 1]</td>\n      <td>0.0025</td>\n      <td>8</td>\n      <td>7</td>\n    </tr>\n    <tr>\n      <th>3</th>\n      <td>0.0</td>\n      <td>10.000</td>\n      <td>99.144</td>\n      <td>11.50</td>\n      <td>0.2</td>\n      <td>9.794</td>\n      <td>99.812</td>\n      <td>11.03</td>\n      <td>0.95</td>\n      <td>[1, 1, 1, 1]</td>\n      <td>0.0036</td>\n      <td>19</td>\n      <td>15</td>\n    </tr>\n    <tr>\n      <th>4</th>\n      <td>0.0</td>\n      <td>10.000</td>\n      <td>174.065</td>\n      <td>9.57</td>\n      <td>359.9</td>\n      <td>10.043</td>\n      <td>173.846</td>\n      <td>9.62</td>\n      <td>0.92</td>\n      <td>[1, 1, 1, 1]</td>\n      <td>0.0050</td>\n      <td>24</td>\n      <td>18</td>\n    </tr>\n    <tr>\n      <th>5</th>\n      <td>0.0</td>\n      <td>10.000</td>\n      <td>39.959</td>\n      <td>13.45</td>\n      <td>0.1</td>\n      <td>9.822</td>\n      <td>39.443</td>\n      <td>13.24</td>\n      <td>0.99</td>\n      <td>[1, 1, 1, 1]</td>\n      <td>0.0019</td>\n      <td>9</td>\n      <td>8</td>\n    </tr>\n    <tr>\n      <th>6</th>\n      <td>0.0</td>\n      <td>10.000</td>\n      <td>160.715</td>\n      <td>6.98</td>\n      <td>359.9</td>\n      <td>9.947</td>\n      <td>160.525</td>\n      <td>6.94</td>\n      <td>0.93</td>\n      <td>[1, 1, 1, 1]</td>\n      <td>0.0050</td>\n      <td>27</td>\n      <td>21</td>\n    </tr>\n    <tr>\n      <th>7</th>\n      <td>0.0</td>\n      <td>10.000</td>\n      <td>13.735</td>\n      <td>12.36</td>\n      <td>360.0</td>\n      <td>9.639</td>\n      <td>13.115</td>\n      <td>12.65</td>\n      <td>0.91</td>\n      <td>[1, 1, 1, 1]</td>\n      <td>0.0017</td>\n      <td>8</td>\n      <td>7</td>\n    </tr>\n    <tr>\n      <th>8</th>\n      <td>0.0</td>\n      <td>10.000</td>\n      <td>157.217</td>\n      <td>14.62</td>\n      <td>0.1</td>\n      <td>10.081</td>\n      <td>157.324</td>\n      <td>14.74</td>\n      <td>1.09</td>\n      <td>[1, 1, 1, 1]</td>\n      <td>0.0042</td>\n      <td>23</td>\n      <td>17</td>\n    </tr>\n    <tr>\n      <th>9</th>\n      <td>0.0</td>\n      <td>10.000</td>\n      <td>1.867</td>\n      <td>9.02</td>\n      <td>360.0</td>\n      <td>10.397</td>\n      <td>1.910</td>\n      <td>8.49</td>\n      <td>0.98</td>\n      <td>[0, 1, 1, 1]</td>\n      <td>0.0015</td>\n      <td>7</td>\n      <td>6</td>\n    </tr>\n  </tbody>\n</table>\n</div>"
     },
     "metadata": {}
    },
    {
     "output_type": "stream",
     "name": "stdout",
     "text": [
      "Показатели Монте-Карло:\nВариант 0: Рэф = 80$, Рэф_мин = 0\nВариант 1: Рэф = 100$, Рэф_мин = 1\nВариант 2: Рэф = 100$, Рэф_мин = 1\nВариант 3: Рэф = 100$, Рэф_мин = 1\nКа = 0.97\nNf = 16, Nf_max = 27\nIter = 12, Iter_max = 21\nt = 0.0032, t_max = 0.0050\n_______________________________________________\n"
     ]
    }
   ],
   "source": [
    "for std in std_arr:\n",
    "\n",
    "    tma = TMA(observer, sd=np.radians(std), tau=2)\n",
    "    tma.print_verbose()\n",
    "    print('ММП v6')\n",
    "    start_time = time.perf_counter()\n",
    "    dict_results = tma.swarm(n=10, target_func=target_func, p0=p0, seeded=True)\n",
    "    stop_time = time.perf_counter()\n",
    "    print('Моделирование 10 результатов закончено за t = {:.1f} с'.format(stop_time - start_time))\n",
    "    df = tests.get_df(dict_results)\n",
    "\n",
    "    d_df = df.copy()\n",
    "    for i, j in enumerate(df.columns):\n",
    "        try: d_df[j] = df[j].apply(lambda x: precisions_1[i].format(np.float64(x)))\n",
    "        except(TypeError): pass\n",
    "    display(d_df.drop(['СКО X', 'СКО Y', 'СКО VX', 'СКО VY', 'Кб', 'П0_апр', 'Д0_апр', 'К0_апр', 'V0_апр'], axis=1))\n",
    "\n",
    "    print('Показатели Монте-Карло:')\n",
    "    for i in range(4):\n",
    "        a = df['Точ'].apply(lambda x: x[i])\n",
    "        print('Вариант {}: Рэф = {:.0f}$, Рэф_мин = {:.0f}'.format(i, 100 * a.mean(), min(a)))\n",
    "    print('Ка = {:.2f}'.format(df['Ка'].mean()))\n",
    "    print('Nf = {:.0f}, Nf_max = {:.0f}'.format(df['Nf'].mean(), max(df['Nf'])))\n",
    "    print('Iter = {:.0f}, Iter_max = {:.0f}'.format(df['Iter'].mean(), max(df['Iter'])))\n",
    "    print('t = {:.4f}, t_max = {:.4f}'.format(df['t'].mean(), max(df['t'])))\n",
    "\n",
    "    tests.save_df(df, name='../tests/tests8/ЛМ ' + str(np.degrees(tma.standart_deviation)) + '.xlsx')\n",
    "    print('_______________________________________________')"
   ]
  },
  {
   "cell_type": "code",
   "execution_count": 6,
   "metadata": {},
   "outputs": [
    {
     "output_type": "stream",
     "name": "stdout",
     "text": [
      "СКОп = 0.0, tau = 2\n",
      "Метод N пеленгов\n",
      "Моделирование 10 результатов закончено за t = 0.2 с\n"
     ]
    },
    {
     "output_type": "display_data",
     "data": {
      "text/plain": "  П0_ист  Д0_ист К0_ист V0_ист П0_расч Д0_расч К0_расч V0_расч    Ка  \\\n0    0.0  10.000   98.8  11.58     0.0  10.000    98.8   11.58  0.00   \n1    0.0  10.000   75.1  11.64     0.0  10.000    75.1   11.64  0.00   \n2    0.0  10.000   78.5   3.31     0.0  10.000    78.5    3.31  0.00   \n3    0.0  10.000   99.1  11.50     0.0  10.000    99.1   11.50  0.00   \n4    0.0  10.000  174.1   9.57     0.0  10.000   174.1    9.57  0.00   \n5    0.0  10.000   40.0  13.45     0.0  10.000    40.0   13.45  0.00   \n6    0.0  10.000  160.7   6.98     0.0  10.000   160.7    6.98  0.00   \n7    0.0  10.000   13.7  12.36     0.0  10.000    13.7   12.36  0.00   \n8    0.0  10.000  157.2  14.62     0.0  10.000   157.2   14.62  0.00   \n9    0.0  10.000    1.9   9.02     0.0  10.000     1.9    9.02  0.00   \n\n            Точ       t  \n0  [1, 1, 1, 1]  0.0003  \n1  [1, 1, 1, 1]  0.0003  \n2  [1, 1, 1, 1]  0.0003  \n3  [1, 1, 1, 1]  0.0003  \n4  [1, 1, 1, 1]  0.0003  \n5  [1, 1, 1, 1]  0.0003  \n6  [1, 1, 1, 1]  0.0003  \n7  [1, 1, 1, 1]  0.0002  \n8  [1, 1, 1, 1]  0.0002  \n9  [1, 1, 1, 1]  0.0002  ",
      "text/html": "<div>\n<style scoped>\n    .dataframe tbody tr th:only-of-type {\n        vertical-align: middle;\n    }\n\n    .dataframe tbody tr th {\n        vertical-align: top;\n    }\n\n    .dataframe thead th {\n        text-align: right;\n    }\n</style>\n<table border=\"1\" class=\"dataframe\">\n  <thead>\n    <tr style=\"text-align: right;\">\n      <th></th>\n      <th>П0_ист</th>\n      <th>Д0_ист</th>\n      <th>К0_ист</th>\n      <th>V0_ист</th>\n      <th>П0_расч</th>\n      <th>Д0_расч</th>\n      <th>К0_расч</th>\n      <th>V0_расч</th>\n      <th>Ка</th>\n      <th>Точ</th>\n      <th>t</th>\n    </tr>\n  </thead>\n  <tbody>\n    <tr>\n      <th>0</th>\n      <td>0.0</td>\n      <td>10.000</td>\n      <td>98.8</td>\n      <td>11.58</td>\n      <td>0.0</td>\n      <td>10.000</td>\n      <td>98.8</td>\n      <td>11.58</td>\n      <td>0.00</td>\n      <td>[1, 1, 1, 1]</td>\n      <td>0.0003</td>\n    </tr>\n    <tr>\n      <th>1</th>\n      <td>0.0</td>\n      <td>10.000</td>\n      <td>75.1</td>\n      <td>11.64</td>\n      <td>0.0</td>\n      <td>10.000</td>\n      <td>75.1</td>\n      <td>11.64</td>\n      <td>0.00</td>\n      <td>[1, 1, 1, 1]</td>\n      <td>0.0003</td>\n    </tr>\n    <tr>\n      <th>2</th>\n      <td>0.0</td>\n      <td>10.000</td>\n      <td>78.5</td>\n      <td>3.31</td>\n      <td>0.0</td>\n      <td>10.000</td>\n      <td>78.5</td>\n      <td>3.31</td>\n      <td>0.00</td>\n      <td>[1, 1, 1, 1]</td>\n      <td>0.0003</td>\n    </tr>\n    <tr>\n      <th>3</th>\n      <td>0.0</td>\n      <td>10.000</td>\n      <td>99.1</td>\n      <td>11.50</td>\n      <td>0.0</td>\n      <td>10.000</td>\n      <td>99.1</td>\n      <td>11.50</td>\n      <td>0.00</td>\n      <td>[1, 1, 1, 1]</td>\n      <td>0.0003</td>\n    </tr>\n    <tr>\n      <th>4</th>\n      <td>0.0</td>\n      <td>10.000</td>\n      <td>174.1</td>\n      <td>9.57</td>\n      <td>0.0</td>\n      <td>10.000</td>\n      <td>174.1</td>\n      <td>9.57</td>\n      <td>0.00</td>\n      <td>[1, 1, 1, 1]</td>\n      <td>0.0003</td>\n    </tr>\n    <tr>\n      <th>5</th>\n      <td>0.0</td>\n      <td>10.000</td>\n      <td>40.0</td>\n      <td>13.45</td>\n      <td>0.0</td>\n      <td>10.000</td>\n      <td>40.0</td>\n      <td>13.45</td>\n      <td>0.00</td>\n      <td>[1, 1, 1, 1]</td>\n      <td>0.0003</td>\n    </tr>\n    <tr>\n      <th>6</th>\n      <td>0.0</td>\n      <td>10.000</td>\n      <td>160.7</td>\n      <td>6.98</td>\n      <td>0.0</td>\n      <td>10.000</td>\n      <td>160.7</td>\n      <td>6.98</td>\n      <td>0.00</td>\n      <td>[1, 1, 1, 1]</td>\n      <td>0.0003</td>\n    </tr>\n    <tr>\n      <th>7</th>\n      <td>0.0</td>\n      <td>10.000</td>\n      <td>13.7</td>\n      <td>12.36</td>\n      <td>0.0</td>\n      <td>10.000</td>\n      <td>13.7</td>\n      <td>12.36</td>\n      <td>0.00</td>\n      <td>[1, 1, 1, 1]</td>\n      <td>0.0002</td>\n    </tr>\n    <tr>\n      <th>8</th>\n      <td>0.0</td>\n      <td>10.000</td>\n      <td>157.2</td>\n      <td>14.62</td>\n      <td>0.0</td>\n      <td>10.000</td>\n      <td>157.2</td>\n      <td>14.62</td>\n      <td>0.00</td>\n      <td>[1, 1, 1, 1]</td>\n      <td>0.0002</td>\n    </tr>\n    <tr>\n      <th>9</th>\n      <td>0.0</td>\n      <td>10.000</td>\n      <td>1.9</td>\n      <td>9.02</td>\n      <td>0.0</td>\n      <td>10.000</td>\n      <td>1.9</td>\n      <td>9.02</td>\n      <td>0.00</td>\n      <td>[1, 1, 1, 1]</td>\n      <td>0.0002</td>\n    </tr>\n  </tbody>\n</table>\n</div>"
     },
     "metadata": {}
    },
    {
     "output_type": "stream",
     "name": "stdout",
     "text": [
      "Показатели Монте-Карло:\n",
      "Вариант 0: Рэф = 100$, Рэф_мин = 1\n",
      "Вариант 1: Рэф = 100$, Рэф_мин = 1\n",
      "Вариант 2: Рэф = 100$, Рэф_мин = 1\n",
      "Вариант 3: Рэф = 100$, Рэф_мин = 1\n",
      "Ка = 0.00\n",
      "t = 0.0003, t_max = 0.0003\n",
      "_______________________________________________________\n",
      "СКОп = 0.1, tau = 2\n",
      "Метод N пеленгов\n",
      "Моделирование 10 результатов закончено за t = 0.2 с\n"
     ]
    },
    {
     "output_type": "display_data",
     "data": {
      "text/plain": "  П0_ист  Д0_ист К0_ист V0_ист П0_расч Д0_расч К0_расч V0_расч    Ка  \\\n0    0.0  10.000   98.8  11.58   359.8  10.091    98.5   11.83  0.01   \n1    0.0  10.000   75.1  11.64   359.8  10.088    75.0   11.90  0.01   \n2    0.0  10.000   78.5   3.31     0.0   9.993    79.0    3.27  0.01   \n3    0.0  10.000   99.1  11.50   359.8  10.144    99.1   11.81  0.01   \n4    0.0  10.000  174.1   9.57   360.0   9.987   174.1    9.55  0.01   \n5    0.0  10.000   40.0  13.45   360.0   9.937    39.8   13.44  0.01   \n6    0.0  10.000  160.7   6.98     0.0   9.887   161.0    6.87  0.01   \n7    0.0  10.000   13.7  12.36   359.8   9.789    13.6   12.71  0.01   \n8    0.0  10.000  157.2  14.62   360.0   9.988   157.2   14.60  0.01   \n9    0.0  10.000    1.9   9.02   360.0  10.023     1.9    8.96  0.01   \n\n            Точ       t  \n0  [1, 1, 1, 1]  0.0003  \n1  [1, 1, 1, 1]  0.0003  \n2  [1, 1, 1, 1]  0.0003  \n3  [1, 1, 1, 1]  0.0003  \n4  [1, 1, 1, 1]  0.0003  \n5  [1, 1, 1, 1]  0.0003  \n6  [1, 1, 1, 1]  0.0002  \n7  [1, 1, 1, 1]  0.0002  \n8  [1, 1, 1, 1]  0.0003  \n9  [1, 1, 1, 1]  0.0003  ",
      "text/html": "<div>\n<style scoped>\n    .dataframe tbody tr th:only-of-type {\n        vertical-align: middle;\n    }\n\n    .dataframe tbody tr th {\n        vertical-align: top;\n    }\n\n    .dataframe thead th {\n        text-align: right;\n    }\n</style>\n<table border=\"1\" class=\"dataframe\">\n  <thead>\n    <tr style=\"text-align: right;\">\n      <th></th>\n      <th>П0_ист</th>\n      <th>Д0_ист</th>\n      <th>К0_ист</th>\n      <th>V0_ист</th>\n      <th>П0_расч</th>\n      <th>Д0_расч</th>\n      <th>К0_расч</th>\n      <th>V0_расч</th>\n      <th>Ка</th>\n      <th>Точ</th>\n      <th>t</th>\n    </tr>\n  </thead>\n  <tbody>\n    <tr>\n      <th>0</th>\n      <td>0.0</td>\n      <td>10.000</td>\n      <td>98.8</td>\n      <td>11.58</td>\n      <td>359.8</td>\n      <td>10.091</td>\n      <td>98.5</td>\n      <td>11.83</td>\n      <td>0.01</td>\n      <td>[1, 1, 1, 1]</td>\n      <td>0.0003</td>\n    </tr>\n    <tr>\n      <th>1</th>\n      <td>0.0</td>\n      <td>10.000</td>\n      <td>75.1</td>\n      <td>11.64</td>\n      <td>359.8</td>\n      <td>10.088</td>\n      <td>75.0</td>\n      <td>11.90</td>\n      <td>0.01</td>\n      <td>[1, 1, 1, 1]</td>\n      <td>0.0003</td>\n    </tr>\n    <tr>\n      <th>2</th>\n      <td>0.0</td>\n      <td>10.000</td>\n      <td>78.5</td>\n      <td>3.31</td>\n      <td>0.0</td>\n      <td>9.993</td>\n      <td>79.0</td>\n      <td>3.27</td>\n      <td>0.01</td>\n      <td>[1, 1, 1, 1]</td>\n      <td>0.0003</td>\n    </tr>\n    <tr>\n      <th>3</th>\n      <td>0.0</td>\n      <td>10.000</td>\n      <td>99.1</td>\n      <td>11.50</td>\n      <td>359.8</td>\n      <td>10.144</td>\n      <td>99.1</td>\n      <td>11.81</td>\n      <td>0.01</td>\n      <td>[1, 1, 1, 1]</td>\n      <td>0.0003</td>\n    </tr>\n    <tr>\n      <th>4</th>\n      <td>0.0</td>\n      <td>10.000</td>\n      <td>174.1</td>\n      <td>9.57</td>\n      <td>360.0</td>\n      <td>9.987</td>\n      <td>174.1</td>\n      <td>9.55</td>\n      <td>0.01</td>\n      <td>[1, 1, 1, 1]</td>\n      <td>0.0003</td>\n    </tr>\n    <tr>\n      <th>5</th>\n      <td>0.0</td>\n      <td>10.000</td>\n      <td>40.0</td>\n      <td>13.45</td>\n      <td>360.0</td>\n      <td>9.937</td>\n      <td>39.8</td>\n      <td>13.44</td>\n      <td>0.01</td>\n      <td>[1, 1, 1, 1]</td>\n      <td>0.0003</td>\n    </tr>\n    <tr>\n      <th>6</th>\n      <td>0.0</td>\n      <td>10.000</td>\n      <td>160.7</td>\n      <td>6.98</td>\n      <td>0.0</td>\n      <td>9.887</td>\n      <td>161.0</td>\n      <td>6.87</td>\n      <td>0.01</td>\n      <td>[1, 1, 1, 1]</td>\n      <td>0.0002</td>\n    </tr>\n    <tr>\n      <th>7</th>\n      <td>0.0</td>\n      <td>10.000</td>\n      <td>13.7</td>\n      <td>12.36</td>\n      <td>359.8</td>\n      <td>9.789</td>\n      <td>13.6</td>\n      <td>12.71</td>\n      <td>0.01</td>\n      <td>[1, 1, 1, 1]</td>\n      <td>0.0002</td>\n    </tr>\n    <tr>\n      <th>8</th>\n      <td>0.0</td>\n      <td>10.000</td>\n      <td>157.2</td>\n      <td>14.62</td>\n      <td>360.0</td>\n      <td>9.988</td>\n      <td>157.2</td>\n      <td>14.60</td>\n      <td>0.01</td>\n      <td>[1, 1, 1, 1]</td>\n      <td>0.0003</td>\n    </tr>\n    <tr>\n      <th>9</th>\n      <td>0.0</td>\n      <td>10.000</td>\n      <td>1.9</td>\n      <td>9.02</td>\n      <td>360.0</td>\n      <td>10.023</td>\n      <td>1.9</td>\n      <td>8.96</td>\n      <td>0.01</td>\n      <td>[1, 1, 1, 1]</td>\n      <td>0.0003</td>\n    </tr>\n  </tbody>\n</table>\n</div>"
     },
     "metadata": {}
    },
    {
     "output_type": "stream",
     "name": "stdout",
     "text": [
      "Показатели Монте-Карло:\n",
      "Вариант 0: Рэф = 100$, Рэф_мин = 1\n",
      "Вариант 1: Рэф = 100$, Рэф_мин = 1\n",
      "Вариант 2: Рэф = 100$, Рэф_мин = 1\n",
      "Вариант 3: Рэф = 100$, Рэф_мин = 1\n",
      "Ка = 0.01\n",
      "t = 0.0003, t_max = 0.0003\n",
      "_______________________________________________________\n",
      "СКОп = 0.2, tau = 2\n",
      "Метод N пеленгов\n",
      "Моделирование 10 результатов закончено за t = 0.2 с\n"
     ]
    },
    {
     "output_type": "display_data",
     "data": {
      "text/plain": "  П0_ист  Д0_ист К0_ист V0_ист П0_расч Д0_расч К0_расч V0_расч    Ка  \\\n0    0.0  10.000   98.8  11.58   359.6  10.034    98.2   11.86  0.05   \n1    0.0  10.000   75.1  11.64   359.7  10.075    74.8   12.00  0.04   \n2    0.0  10.000   78.5   3.31     0.1   9.962    79.4    3.22  0.04   \n3    0.0  10.000   99.1  11.50   359.6  10.128    98.9   11.88  0.05   \n4    0.0  10.000  174.1   9.57   360.0   9.950   174.1    9.50  0.04   \n5    0.0  10.000   40.0  13.45   359.9   9.805    39.6   13.31  0.04   \n6    0.0  10.000  160.7   6.98     0.1   9.733   161.3    6.71  0.04   \n7    0.0  10.000   13.7  12.36   359.7   9.538    13.4   12.95  0.05   \n8    0.0  10.000  157.2  14.62   360.0   9.929   157.2   14.50  0.04   \n9    0.0  10.000    1.9   9.02   360.0  10.019     1.8    8.86  0.04   \n\n            Точ       t  \n0  [1, 1, 1, 1]  0.0006  \n1  [1, 1, 1, 1]  0.0003  \n2  [1, 1, 1, 1]  0.0002  \n3  [1, 1, 1, 1]  0.0003  \n4  [1, 1, 1, 1]  0.0003  \n5  [1, 1, 1, 1]  0.0003  \n6  [1, 1, 1, 1]  0.0003  \n7  [1, 1, 1, 1]  0.0003  \n8  [1, 1, 1, 1]  0.0002  \n9  [1, 1, 1, 1]  0.0003  ",
      "text/html": "<div>\n<style scoped>\n    .dataframe tbody tr th:only-of-type {\n        vertical-align: middle;\n    }\n\n    .dataframe tbody tr th {\n        vertical-align: top;\n    }\n\n    .dataframe thead th {\n        text-align: right;\n    }\n</style>\n<table border=\"1\" class=\"dataframe\">\n  <thead>\n    <tr style=\"text-align: right;\">\n      <th></th>\n      <th>П0_ист</th>\n      <th>Д0_ист</th>\n      <th>К0_ист</th>\n      <th>V0_ист</th>\n      <th>П0_расч</th>\n      <th>Д0_расч</th>\n      <th>К0_расч</th>\n      <th>V0_расч</th>\n      <th>Ка</th>\n      <th>Точ</th>\n      <th>t</th>\n    </tr>\n  </thead>\n  <tbody>\n    <tr>\n      <th>0</th>\n      <td>0.0</td>\n      <td>10.000</td>\n      <td>98.8</td>\n      <td>11.58</td>\n      <td>359.6</td>\n      <td>10.034</td>\n      <td>98.2</td>\n      <td>11.86</td>\n      <td>0.05</td>\n      <td>[1, 1, 1, 1]</td>\n      <td>0.0006</td>\n    </tr>\n    <tr>\n      <th>1</th>\n      <td>0.0</td>\n      <td>10.000</td>\n      <td>75.1</td>\n      <td>11.64</td>\n      <td>359.7</td>\n      <td>10.075</td>\n      <td>74.8</td>\n      <td>12.00</td>\n      <td>0.04</td>\n      <td>[1, 1, 1, 1]</td>\n      <td>0.0003</td>\n    </tr>\n    <tr>\n      <th>2</th>\n      <td>0.0</td>\n      <td>10.000</td>\n      <td>78.5</td>\n      <td>3.31</td>\n      <td>0.1</td>\n      <td>9.962</td>\n      <td>79.4</td>\n      <td>3.22</td>\n      <td>0.04</td>\n      <td>[1, 1, 1, 1]</td>\n      <td>0.0002</td>\n    </tr>\n    <tr>\n      <th>3</th>\n      <td>0.0</td>\n      <td>10.000</td>\n      <td>99.1</td>\n      <td>11.50</td>\n      <td>359.6</td>\n      <td>10.128</td>\n      <td>98.9</td>\n      <td>11.88</td>\n      <td>0.05</td>\n      <td>[1, 1, 1, 1]</td>\n      <td>0.0003</td>\n    </tr>\n    <tr>\n      <th>4</th>\n      <td>0.0</td>\n      <td>10.000</td>\n      <td>174.1</td>\n      <td>9.57</td>\n      <td>360.0</td>\n      <td>9.950</td>\n      <td>174.1</td>\n      <td>9.50</td>\n      <td>0.04</td>\n      <td>[1, 1, 1, 1]</td>\n      <td>0.0003</td>\n    </tr>\n    <tr>\n      <th>5</th>\n      <td>0.0</td>\n      <td>10.000</td>\n      <td>40.0</td>\n      <td>13.45</td>\n      <td>359.9</td>\n      <td>9.805</td>\n      <td>39.6</td>\n      <td>13.31</td>\n      <td>0.04</td>\n      <td>[1, 1, 1, 1]</td>\n      <td>0.0003</td>\n    </tr>\n    <tr>\n      <th>6</th>\n      <td>0.0</td>\n      <td>10.000</td>\n      <td>160.7</td>\n      <td>6.98</td>\n      <td>0.1</td>\n      <td>9.733</td>\n      <td>161.3</td>\n      <td>6.71</td>\n      <td>0.04</td>\n      <td>[1, 1, 1, 1]</td>\n      <td>0.0003</td>\n    </tr>\n    <tr>\n      <th>7</th>\n      <td>0.0</td>\n      <td>10.000</td>\n      <td>13.7</td>\n      <td>12.36</td>\n      <td>359.7</td>\n      <td>9.538</td>\n      <td>13.4</td>\n      <td>12.95</td>\n      <td>0.05</td>\n      <td>[1, 1, 1, 1]</td>\n      <td>0.0003</td>\n    </tr>\n    <tr>\n      <th>8</th>\n      <td>0.0</td>\n      <td>10.000</td>\n      <td>157.2</td>\n      <td>14.62</td>\n      <td>360.0</td>\n      <td>9.929</td>\n      <td>157.2</td>\n      <td>14.50</td>\n      <td>0.04</td>\n      <td>[1, 1, 1, 1]</td>\n      <td>0.0002</td>\n    </tr>\n    <tr>\n      <th>9</th>\n      <td>0.0</td>\n      <td>10.000</td>\n      <td>1.9</td>\n      <td>9.02</td>\n      <td>360.0</td>\n      <td>10.019</td>\n      <td>1.8</td>\n      <td>8.86</td>\n      <td>0.04</td>\n      <td>[1, 1, 1, 1]</td>\n      <td>0.0003</td>\n    </tr>\n  </tbody>\n</table>\n</div>"
     },
     "metadata": {}
    },
    {
     "output_type": "stream",
     "name": "stdout",
     "text": [
      "Показатели Монте-Карло:\n",
      "Вариант 0: Рэф = 100$, Рэф_мин = 1\n",
      "Вариант 1: Рэф = 100$, Рэф_мин = 1\n",
      "Вариант 2: Рэф = 100$, Рэф_мин = 1\n",
      "Вариант 3: Рэф = 100$, Рэф_мин = 1\n",
      "Ка = 0.04\n",
      "t = 0.0003, t_max = 0.0006\n",
      "_______________________________________________________\n",
      "СКОп = 0.3, tau = 2\n",
      "Метод N пеленгов\n",
      "Моделирование 10 результатов закончено за t = 0.2 с\n"
     ]
    },
    {
     "output_type": "display_data",
     "data": {
      "text/plain": "  П0_ист  Д0_ист К0_ист V0_ист П0_расч Д0_расч К0_расч V0_расч    Ка  \\\n0    0.0  10.000   98.8  11.58   359.5   9.824    97.8   11.66  0.11   \n1    0.0  10.000   75.1  11.64   359.5   9.956    74.5   11.94  0.10   \n2    0.0  10.000   78.5   3.31     0.1   9.908    79.8    3.15  0.09   \n3    0.0  10.000   99.1  11.50   359.5   9.941    98.5   11.68  0.12   \n4    0.0  10.000  174.1   9.57   360.0   9.889   174.2    9.43  0.08   \n5    0.0  10.000   40.0  13.45   359.9   9.610    39.4   13.07  0.10   \n6    0.0  10.000  160.7   6.98     0.1   9.542   161.6    6.51  0.09   \n7    0.0  10.000   13.7  12.36   359.5   9.250    13.2   13.09  0.11   \n8    0.0  10.000  157.2  14.62   360.0   9.825   157.3   14.32  0.10   \n9    0.0  10.000    1.9   9.02   360.0   9.986     1.6    8.71  0.09   \n\n            Точ       t  \n0  [0, 1, 1, 1]  0.0003  \n1  [1, 1, 1, 1]  0.0003  \n2  [1, 1, 1, 1]  0.0005  \n3  [0, 1, 1, 1]  0.0003  \n4  [1, 1, 1, 1]  0.0003  \n5  [1, 1, 1, 1]  0.0003  \n6  [0, 1, 1, 1]  0.0003  \n7  [0, 1, 1, 1]  0.0003  \n8  [1, 1, 1, 1]  0.0003  \n9  [1, 1, 1, 1]  0.0003  ",
      "text/html": "<div>\n<style scoped>\n    .dataframe tbody tr th:only-of-type {\n        vertical-align: middle;\n    }\n\n    .dataframe tbody tr th {\n        vertical-align: top;\n    }\n\n    .dataframe thead th {\n        text-align: right;\n    }\n</style>\n<table border=\"1\" class=\"dataframe\">\n  <thead>\n    <tr style=\"text-align: right;\">\n      <th></th>\n      <th>П0_ист</th>\n      <th>Д0_ист</th>\n      <th>К0_ист</th>\n      <th>V0_ист</th>\n      <th>П0_расч</th>\n      <th>Д0_расч</th>\n      <th>К0_расч</th>\n      <th>V0_расч</th>\n      <th>Ка</th>\n      <th>Точ</th>\n      <th>t</th>\n    </tr>\n  </thead>\n  <tbody>\n    <tr>\n      <th>0</th>\n      <td>0.0</td>\n      <td>10.000</td>\n      <td>98.8</td>\n      <td>11.58</td>\n      <td>359.5</td>\n      <td>9.824</td>\n      <td>97.8</td>\n      <td>11.66</td>\n      <td>0.11</td>\n      <td>[0, 1, 1, 1]</td>\n      <td>0.0003</td>\n    </tr>\n    <tr>\n      <th>1</th>\n      <td>0.0</td>\n      <td>10.000</td>\n      <td>75.1</td>\n      <td>11.64</td>\n      <td>359.5</td>\n      <td>9.956</td>\n      <td>74.5</td>\n      <td>11.94</td>\n      <td>0.10</td>\n      <td>[1, 1, 1, 1]</td>\n      <td>0.0003</td>\n    </tr>\n    <tr>\n      <th>2</th>\n      <td>0.0</td>\n      <td>10.000</td>\n      <td>78.5</td>\n      <td>3.31</td>\n      <td>0.1</td>\n      <td>9.908</td>\n      <td>79.8</td>\n      <td>3.15</td>\n      <td>0.09</td>\n      <td>[1, 1, 1, 1]</td>\n      <td>0.0005</td>\n    </tr>\n    <tr>\n      <th>3</th>\n      <td>0.0</td>\n      <td>10.000</td>\n      <td>99.1</td>\n      <td>11.50</td>\n      <td>359.5</td>\n      <td>9.941</td>\n      <td>98.5</td>\n      <td>11.68</td>\n      <td>0.12</td>\n      <td>[0, 1, 1, 1]</td>\n      <td>0.0003</td>\n    </tr>\n    <tr>\n      <th>4</th>\n      <td>0.0</td>\n      <td>10.000</td>\n      <td>174.1</td>\n      <td>9.57</td>\n      <td>360.0</td>\n      <td>9.889</td>\n      <td>174.2</td>\n      <td>9.43</td>\n      <td>0.08</td>\n      <td>[1, 1, 1, 1]</td>\n      <td>0.0003</td>\n    </tr>\n    <tr>\n      <th>5</th>\n      <td>0.0</td>\n      <td>10.000</td>\n      <td>40.0</td>\n      <td>13.45</td>\n      <td>359.9</td>\n      <td>9.610</td>\n      <td>39.4</td>\n      <td>13.07</td>\n      <td>0.10</td>\n      <td>[1, 1, 1, 1]</td>\n      <td>0.0003</td>\n    </tr>\n    <tr>\n      <th>6</th>\n      <td>0.0</td>\n      <td>10.000</td>\n      <td>160.7</td>\n      <td>6.98</td>\n      <td>0.1</td>\n      <td>9.542</td>\n      <td>161.6</td>\n      <td>6.51</td>\n      <td>0.09</td>\n      <td>[0, 1, 1, 1]</td>\n      <td>0.0003</td>\n    </tr>\n    <tr>\n      <th>7</th>\n      <td>0.0</td>\n      <td>10.000</td>\n      <td>13.7</td>\n      <td>12.36</td>\n      <td>359.5</td>\n      <td>9.250</td>\n      <td>13.2</td>\n      <td>13.09</td>\n      <td>0.11</td>\n      <td>[0, 1, 1, 1]</td>\n      <td>0.0003</td>\n    </tr>\n    <tr>\n      <th>8</th>\n      <td>0.0</td>\n      <td>10.000</td>\n      <td>157.2</td>\n      <td>14.62</td>\n      <td>360.0</td>\n      <td>9.825</td>\n      <td>157.3</td>\n      <td>14.32</td>\n      <td>0.10</td>\n      <td>[1, 1, 1, 1]</td>\n      <td>0.0003</td>\n    </tr>\n    <tr>\n      <th>9</th>\n      <td>0.0</td>\n      <td>10.000</td>\n      <td>1.9</td>\n      <td>9.02</td>\n      <td>360.0</td>\n      <td>9.986</td>\n      <td>1.6</td>\n      <td>8.71</td>\n      <td>0.09</td>\n      <td>[1, 1, 1, 1]</td>\n      <td>0.0003</td>\n    </tr>\n  </tbody>\n</table>\n</div>"
     },
     "metadata": {}
    },
    {
     "output_type": "stream",
     "name": "stdout",
     "text": [
      "Показатели Монте-Карло:\n",
      "Вариант 0: Рэф = 60$, Рэф_мин = 0\n",
      "Вариант 1: Рэф = 100$, Рэф_мин = 1\n",
      "Вариант 2: Рэф = 100$, Рэф_мин = 1\n",
      "Вариант 3: Рэф = 100$, Рэф_мин = 1\n",
      "Ка = 0.10\n",
      "t = 0.0003, t_max = 0.0005\n",
      "_______________________________________________________\n",
      "СКОп = 0.5, tau = 2\n",
      "Метод N пеленгов\n",
      "Моделирование 10 результатов закончено за t = 0.2 с\n"
     ]
    },
    {
     "output_type": "display_data",
     "data": {
      "text/plain": "  П0_ист  Д0_ист К0_ист V0_ист П0_расч Д0_расч К0_расч V0_расч    Ка  \\\n0    0.0  10.000   98.8  11.58   359.1   8.998    96.4   10.60  0.37   \n1    0.0  10.000   75.1  11.64   359.2   9.409    73.6   11.34  0.32   \n2    0.0  10.000   78.5   3.31     0.2   9.737    80.7    2.96  0.26   \n3    0.0  10.000   99.1  11.50   359.1   9.091    97.5   10.56  0.40   \n4    0.0  10.000  174.1   9.57   360.0   9.700   174.4    9.19  0.24   \n5    0.0  10.000   40.0  13.45   359.8   9.062    38.6   12.30  0.29   \n6    0.0  10.000  160.7   6.98     0.2   9.076   162.6    6.03  0.25   \n7    0.0  10.000   13.7  12.36   359.2   8.588    12.6   13.09  0.31   \n8    0.0  10.000  157.2  14.62   360.0   9.496   157.4   13.74  0.30   \n9    0.0  10.000    1.9   9.02   360.0   9.843     1.2    8.30  0.26   \n\n            Точ       t  \n0  [0, 0, 1, 1]  0.0003  \n1  [0, 1, 1, 1]  0.0003  \n2  [0, 0, 0, 1]  0.0003  \n3  [0, 1, 1, 1]  0.0003  \n4  [1, 1, 1, 1]  0.0003  \n5  [0, 1, 1, 1]  0.0003  \n6  [0, 0, 0, 1]  0.0003  \n7  [0, 0, 1, 1]  0.0003  \n8  [0, 1, 1, 1]  0.0003  \n9  [0, 1, 1, 1]  0.0002  ",
      "text/html": "<div>\n<style scoped>\n    .dataframe tbody tr th:only-of-type {\n        vertical-align: middle;\n    }\n\n    .dataframe tbody tr th {\n        vertical-align: top;\n    }\n\n    .dataframe thead th {\n        text-align: right;\n    }\n</style>\n<table border=\"1\" class=\"dataframe\">\n  <thead>\n    <tr style=\"text-align: right;\">\n      <th></th>\n      <th>П0_ист</th>\n      <th>Д0_ист</th>\n      <th>К0_ист</th>\n      <th>V0_ист</th>\n      <th>П0_расч</th>\n      <th>Д0_расч</th>\n      <th>К0_расч</th>\n      <th>V0_расч</th>\n      <th>Ка</th>\n      <th>Точ</th>\n      <th>t</th>\n    </tr>\n  </thead>\n  <tbody>\n    <tr>\n      <th>0</th>\n      <td>0.0</td>\n      <td>10.000</td>\n      <td>98.8</td>\n      <td>11.58</td>\n      <td>359.1</td>\n      <td>8.998</td>\n      <td>96.4</td>\n      <td>10.60</td>\n      <td>0.37</td>\n      <td>[0, 0, 1, 1]</td>\n      <td>0.0003</td>\n    </tr>\n    <tr>\n      <th>1</th>\n      <td>0.0</td>\n      <td>10.000</td>\n      <td>75.1</td>\n      <td>11.64</td>\n      <td>359.2</td>\n      <td>9.409</td>\n      <td>73.6</td>\n      <td>11.34</td>\n      <td>0.32</td>\n      <td>[0, 1, 1, 1]</td>\n      <td>0.0003</td>\n    </tr>\n    <tr>\n      <th>2</th>\n      <td>0.0</td>\n      <td>10.000</td>\n      <td>78.5</td>\n      <td>3.31</td>\n      <td>0.2</td>\n      <td>9.737</td>\n      <td>80.7</td>\n      <td>2.96</td>\n      <td>0.26</td>\n      <td>[0, 0, 0, 1]</td>\n      <td>0.0003</td>\n    </tr>\n    <tr>\n      <th>3</th>\n      <td>0.0</td>\n      <td>10.000</td>\n      <td>99.1</td>\n      <td>11.50</td>\n      <td>359.1</td>\n      <td>9.091</td>\n      <td>97.5</td>\n      <td>10.56</td>\n      <td>0.40</td>\n      <td>[0, 1, 1, 1]</td>\n      <td>0.0003</td>\n    </tr>\n    <tr>\n      <th>4</th>\n      <td>0.0</td>\n      <td>10.000</td>\n      <td>174.1</td>\n      <td>9.57</td>\n      <td>360.0</td>\n      <td>9.700</td>\n      <td>174.4</td>\n      <td>9.19</td>\n      <td>0.24</td>\n      <td>[1, 1, 1, 1]</td>\n      <td>0.0003</td>\n    </tr>\n    <tr>\n      <th>5</th>\n      <td>0.0</td>\n      <td>10.000</td>\n      <td>40.0</td>\n      <td>13.45</td>\n      <td>359.8</td>\n      <td>9.062</td>\n      <td>38.6</td>\n      <td>12.30</td>\n      <td>0.29</td>\n      <td>[0, 1, 1, 1]</td>\n      <td>0.0003</td>\n    </tr>\n    <tr>\n      <th>6</th>\n      <td>0.0</td>\n      <td>10.000</td>\n      <td>160.7</td>\n      <td>6.98</td>\n      <td>0.2</td>\n      <td>9.076</td>\n      <td>162.6</td>\n      <td>6.03</td>\n      <td>0.25</td>\n      <td>[0, 0, 0, 1]</td>\n      <td>0.0003</td>\n    </tr>\n    <tr>\n      <th>7</th>\n      <td>0.0</td>\n      <td>10.000</td>\n      <td>13.7</td>\n      <td>12.36</td>\n      <td>359.2</td>\n      <td>8.588</td>\n      <td>12.6</td>\n      <td>13.09</td>\n      <td>0.31</td>\n      <td>[0, 0, 1, 1]</td>\n      <td>0.0003</td>\n    </tr>\n    <tr>\n      <th>8</th>\n      <td>0.0</td>\n      <td>10.000</td>\n      <td>157.2</td>\n      <td>14.62</td>\n      <td>360.0</td>\n      <td>9.496</td>\n      <td>157.4</td>\n      <td>13.74</td>\n      <td>0.30</td>\n      <td>[0, 1, 1, 1]</td>\n      <td>0.0003</td>\n    </tr>\n    <tr>\n      <th>9</th>\n      <td>0.0</td>\n      <td>10.000</td>\n      <td>1.9</td>\n      <td>9.02</td>\n      <td>360.0</td>\n      <td>9.843</td>\n      <td>1.2</td>\n      <td>8.30</td>\n      <td>0.26</td>\n      <td>[0, 1, 1, 1]</td>\n      <td>0.0002</td>\n    </tr>\n  </tbody>\n</table>\n</div>"
     },
     "metadata": {}
    },
    {
     "output_type": "stream",
     "name": "stdout",
     "text": [
      "Показатели Монте-Карло:\n",
      "Вариант 0: Рэф = 10$, Рэф_мин = 0\n",
      "Вариант 1: Рэф = 60$, Рэф_мин = 0\n",
      "Вариант 2: Рэф = 80$, Рэф_мин = 0\n",
      "Вариант 3: Рэф = 100$, Рэф_мин = 1\n",
      "Ка = 0.30\n",
      "t = 0.0003, t_max = 0.0003\n",
      "_______________________________________________________\n",
      "СКОп = 1.0, tau = 2\n",
      "Метод N пеленгов\n",
      "Моделирование 10 результатов закончено за t = 0.2 с\n"
     ]
    },
    {
     "output_type": "display_data",
     "data": {
      "text/plain": "  П0_ист  Д0_ист К0_ист V0_ист П0_расч Д0_расч К0_расч V0_расч    Ка  \\\n0    0.0  10.000   98.8  11.58   358.2   5.952    89.7    6.27  2.67   \n1    0.0  10.000   75.1  11.64   358.4   6.952    68.7    8.03  2.01   \n2    0.0  10.000   78.5   3.31     0.4   9.019    82.9    2.33  1.14   \n3    0.0  10.000   99.1  11.50   358.2   5.770    90.5    5.79  3.20   \n4    0.0  10.000  174.1   9.57   359.9   8.908   175.3    8.20  1.11   \n5    0.0  10.000   40.0  13.45   359.6   7.261    35.2    9.55  1.49   \n6    0.0  10.000  160.7   6.98     0.3   7.668   166.6    4.60  1.13   \n7    0.0  10.000   13.7  12.36   358.3   6.727    10.4   11.86  1.55   \n8    0.0  10.000  157.2  14.62   359.9   8.166   157.9   11.40  1.47   \n9    0.0  10.000    1.9   9.02   360.0   9.115   358.7    6.80  1.15   \n\n            Точ       t  \n0  [0, 0, 0, 0]  0.0003  \n1  [0, 0, 0, 0]  0.0003  \n2  [0, 0, 0, 0]  0.0008  \n3  [0, 0, 0, 0]  0.0003  \n4  [0, 0, 0, 1]  0.0004  \n5  [0, 0, 0, 0]  0.0003  \n6  [0, 0, 0, 0]  0.0003  \n7  [0, 0, 0, 0]  0.0003  \n8  [0, 0, 0, 0]  0.0003  \n9  [0, 0, 0, 0]  0.0003  ",
      "text/html": "<div>\n<style scoped>\n    .dataframe tbody tr th:only-of-type {\n        vertical-align: middle;\n    }\n\n    .dataframe tbody tr th {\n        vertical-align: top;\n    }\n\n    .dataframe thead th {\n        text-align: right;\n    }\n</style>\n<table border=\"1\" class=\"dataframe\">\n  <thead>\n    <tr style=\"text-align: right;\">\n      <th></th>\n      <th>П0_ист</th>\n      <th>Д0_ист</th>\n      <th>К0_ист</th>\n      <th>V0_ист</th>\n      <th>П0_расч</th>\n      <th>Д0_расч</th>\n      <th>К0_расч</th>\n      <th>V0_расч</th>\n      <th>Ка</th>\n      <th>Точ</th>\n      <th>t</th>\n    </tr>\n  </thead>\n  <tbody>\n    <tr>\n      <th>0</th>\n      <td>0.0</td>\n      <td>10.000</td>\n      <td>98.8</td>\n      <td>11.58</td>\n      <td>358.2</td>\n      <td>5.952</td>\n      <td>89.7</td>\n      <td>6.27</td>\n      <td>2.67</td>\n      <td>[0, 0, 0, 0]</td>\n      <td>0.0003</td>\n    </tr>\n    <tr>\n      <th>1</th>\n      <td>0.0</td>\n      <td>10.000</td>\n      <td>75.1</td>\n      <td>11.64</td>\n      <td>358.4</td>\n      <td>6.952</td>\n      <td>68.7</td>\n      <td>8.03</td>\n      <td>2.01</td>\n      <td>[0, 0, 0, 0]</td>\n      <td>0.0003</td>\n    </tr>\n    <tr>\n      <th>2</th>\n      <td>0.0</td>\n      <td>10.000</td>\n      <td>78.5</td>\n      <td>3.31</td>\n      <td>0.4</td>\n      <td>9.019</td>\n      <td>82.9</td>\n      <td>2.33</td>\n      <td>1.14</td>\n      <td>[0, 0, 0, 0]</td>\n      <td>0.0008</td>\n    </tr>\n    <tr>\n      <th>3</th>\n      <td>0.0</td>\n      <td>10.000</td>\n      <td>99.1</td>\n      <td>11.50</td>\n      <td>358.2</td>\n      <td>5.770</td>\n      <td>90.5</td>\n      <td>5.79</td>\n      <td>3.20</td>\n      <td>[0, 0, 0, 0]</td>\n      <td>0.0003</td>\n    </tr>\n    <tr>\n      <th>4</th>\n      <td>0.0</td>\n      <td>10.000</td>\n      <td>174.1</td>\n      <td>9.57</td>\n      <td>359.9</td>\n      <td>8.908</td>\n      <td>175.3</td>\n      <td>8.20</td>\n      <td>1.11</td>\n      <td>[0, 0, 0, 1]</td>\n      <td>0.0004</td>\n    </tr>\n    <tr>\n      <th>5</th>\n      <td>0.0</td>\n      <td>10.000</td>\n      <td>40.0</td>\n      <td>13.45</td>\n      <td>359.6</td>\n      <td>7.261</td>\n      <td>35.2</td>\n      <td>9.55</td>\n      <td>1.49</td>\n      <td>[0, 0, 0, 0]</td>\n      <td>0.0003</td>\n    </tr>\n    <tr>\n      <th>6</th>\n      <td>0.0</td>\n      <td>10.000</td>\n      <td>160.7</td>\n      <td>6.98</td>\n      <td>0.3</td>\n      <td>7.668</td>\n      <td>166.6</td>\n      <td>4.60</td>\n      <td>1.13</td>\n      <td>[0, 0, 0, 0]</td>\n      <td>0.0003</td>\n    </tr>\n    <tr>\n      <th>7</th>\n      <td>0.0</td>\n      <td>10.000</td>\n      <td>13.7</td>\n      <td>12.36</td>\n      <td>358.3</td>\n      <td>6.727</td>\n      <td>10.4</td>\n      <td>11.86</td>\n      <td>1.55</td>\n      <td>[0, 0, 0, 0]</td>\n      <td>0.0003</td>\n    </tr>\n    <tr>\n      <th>8</th>\n      <td>0.0</td>\n      <td>10.000</td>\n      <td>157.2</td>\n      <td>14.62</td>\n      <td>359.9</td>\n      <td>8.166</td>\n      <td>157.9</td>\n      <td>11.40</td>\n      <td>1.47</td>\n      <td>[0, 0, 0, 0]</td>\n      <td>0.0003</td>\n    </tr>\n    <tr>\n      <th>9</th>\n      <td>0.0</td>\n      <td>10.000</td>\n      <td>1.9</td>\n      <td>9.02</td>\n      <td>360.0</td>\n      <td>9.115</td>\n      <td>358.7</td>\n      <td>6.80</td>\n      <td>1.15</td>\n      <td>[0, 0, 0, 0]</td>\n      <td>0.0003</td>\n    </tr>\n  </tbody>\n</table>\n</div>"
     },
     "metadata": {}
    },
    {
     "output_type": "stream",
     "name": "stdout",
     "text": [
      "Показатели Монте-Карло:\nВариант 0: Рэф = 0$, Рэф_мин = 0\nВариант 1: Рэф = 0$, Рэф_мин = 0\nВариант 2: Рэф = 0$, Рэф_мин = 0\nВариант 3: Рэф = 10$, Рэф_мин = 0\nКа = 1.69\nt = 0.0003, t_max = 0.0008\n_______________________________________________________\n"
     ]
    }
   ],
   "source": [
    "for std in std_arr:\n",
    "\n",
    "    tma = TMA(observer, sd=np.radians(std), tau=2)\n",
    "    tma.print_verbose()\n",
    "    algorithm_name = 'Метод N пеленгов'\n",
    "    print(algorithm_name)\n",
    "    start_time = time.perf_counter()\n",
    "    dict_results = tma.swarm(n=10, algorithm_name=algorithm_name, target_func=target_func, p0=p0, seeded=True)\n",
    "    stop_time = time.perf_counter()\n",
    "    print('Моделирование 10 результатов закончено за t = {:.1f} с'.format(stop_time - start_time))\n",
    "    df = tests.get_df(dict_results).dropna(axis=1)\n",
    "\n",
    "    d_df = df.copy()\n",
    "    for i, j in enumerate(df.columns):\n",
    "        try: d_df[j] = df[j].apply(lambda x: precisions_2[i].format(np.float64(x)))\n",
    "        except(TypeError): pass\n",
    "    display(d_df.drop(['Кб'], axis=1))\n",
    "\n",
    "    print('Показатели Монте-Карло:')\n",
    "    for i in range(4):\n",
    "        a = df['Точ'].apply(lambda x: x[i])\n",
    "        print('Вариант {}: Рэф = {:.0f}$, Рэф_мин = {:.0f}'.format(i, 100 * a.mean(), min(a)))\n",
    "    print('Ка = {:.2f}'.format(df['Ка'].mean()))\n",
    "    print('t = {:.4f}, t_max = {:.4f}'.format(df['t'].mean(), max(df['t'])))\n",
    "    \n",
    "    tests.save_df(df, name='../tests/tests8/N ' + str(np.degrees(tma.standart_deviation)) + '.xlsx')\n",
    "    print('_______________________________________________________')"
   ]
  },
  {
   "cell_type": "code",
   "execution_count": 7,
   "metadata": {},
   "outputs": [
    {
     "output_type": "stream",
     "name": "stdout",
     "text": [
      "СКОп = 1.0, tau = 2\n",
      "Метод N пеленгов\n",
      "Моделирование 10 результатов закончено за t = 0.3 с\n"
     ]
    }
   ],
   "source": [
    "tma = TMA(observer, sd=np.radians(std), tau=2)\n",
    "tma.print_verbose()\n",
    "algorithm_name = 'Метод N пеленгов'\n",
    "print(algorithm_name)\n",
    "start_time = time.perf_counter()\n",
    "dict_results = tma.swarm(n=10, algorithm_name=algorithm_name, target_func=target_func, p0=p0, seeded=True)\n",
    "stop_time = time.perf_counter()\n",
    "print('Моделирование 10 результатов закончено за t = {:.1f} с'.format(stop_time - start_time))\n",
    "df = tests.get_df(dict_results)"
   ]
  }
 ]
}