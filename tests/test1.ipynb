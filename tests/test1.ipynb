{
 "metadata": {
  "language_info": {
   "codemirror_mode": {
    "name": "ipython",
    "version": 3
   },
   "file_extension": ".py",
   "mimetype": "text/x-python",
   "name": "python",
   "nbconvert_exporter": "python",
   "pygments_lexer": "ipython3",
   "version": "3.8.5-final"
  },
  "orig_nbformat": 2,
  "kernelspec": {
   "name": "python3",
   "display_name": "Python 3.8.5 64-bit",
   "metadata": {
    "interpreter": {
     "hash": "bd56d9596d0dac22b42132124331861132a2039bd11d68c775b6357709d84213"
    }
   }
  }
 },
 "nbformat": 4,
 "nbformat_minor": 2,
 "cells": [
  {
   "cell_type": "code",
   "execution_count": 37,
   "metadata": {},
   "outputs": [],
   "source": [
    "import sys\n",
    "sys.path.append(\"..\")\n",
    "import numpy as np\n",
    "from project.ship import Ship\n",
    "from project.tests import Tests\n",
    "from project.botma import TMA\n",
    "import time"
   ]
  },
  {
   "cell_type": "code",
   "execution_count": 38,
   "metadata": {},
   "outputs": [],
   "source": [
    "# Класс для сохранения результатов\n",
    "tests = Tests('test1')\n",
    "\n",
    "# Создаем наблюдатель\n",
    "observer_x, observer_y, observer_course, observer_velocity = 0, 0, 0, 5\n",
    "observer = Ship('Наблюдатель', observer_x, observer_y, observer_course,\n",
    "                observer_velocity, verbose=True)"
   ]
  },
  {
   "cell_type": "code",
   "execution_count": 39,
   "metadata": {},
   "outputs": [
    {
     "output_type": "stream",
     "name": "stdout",
     "text": [
      "Наблюдатель движется прямо по курсу 0.0° 180с\nНаблюдатель перешёл на курс 270.0° за 180с\nНаблюдатель движется прямо по курсу 270.0° 300с\nНаблюдатель перешёл на курс 90.0° за 360с\nНаблюдатель движется прямо по курсу 90.0° 180с\n"
     ]
    }
   ],
   "source": [
    "# Моделирование траектории наблюдателя\n",
    "observer.forward_movement(3 * 60)\n",
    "observer.change_course(270, 'left', omega=0.5)\n",
    "observer.forward_movement(5 * 60)\n",
    "observer.change_course(90, 'right', omega=0.5)\n",
    "observer.forward_movement(3 * 60)"
   ]
  },
  {
   "cell_type": "code",
   "execution_count": 40,
   "metadata": {},
   "outputs": [],
   "source": [
    "def target_func(seed=None):\n",
    "    np.random.seed(seed)\n",
    "    b = 0\n",
    "    d = 10\n",
    "    c = np.random.uniform(0, 180)\n",
    "    v = np.random.uniform(3, 15)\n",
    "    return [b, d, c, v]\n",
    "p0 = [0., 25., 90., 7.]"
   ]
  },
  {
   "cell_type": "code",
   "execution_count": 41,
   "metadata": {},
   "outputs": [
    {
     "output_type": "stream",
     "name": "stdout",
     "text": [
      "СКОп = 0.0, tau = 2\n",
      "ММП v6\n",
      "Моделирование 100 результатов закончено за t = 2.5 с\n"
     ]
    },
    {
     "output_type": "execute_result",
     "data": {
      "text/plain": [
       "  П0_ист Д0_ист   К0_ист  V0_ист  П0_расч  Д0_расч  К0_расч  V0_расч  П0_апр  \\\n",
       "0      0     10   98.786  11.582    360.0     10.0   98.786   11.582     0.0   \n",
       "1      0     10   75.064  11.644      0.0     10.0   75.064   11.644     0.0   \n",
       "2      0     10   78.479   3.311    360.0     10.0   78.479    3.311     0.0   \n",
       "3      0     10   99.144  11.498    360.0     10.0   99.144   11.498     0.0   \n",
       "4      0     10  174.065   9.567      0.0     10.0  174.065    9.567     0.0   \n",
       "\n",
       "   Д0_апр  ...  СКО X  СКО Y  СКО VX  СКО VY   Ка   Кб           Точ      t  \\\n",
       "0    25.0  ...    0.0    0.0     0.0     0.0  0.0  0.0  [1, 1, 1, 1]  0.005   \n",
       "1    25.0  ...    0.0    0.0     0.0     0.0  0.0  0.0  [1, 1, 1, 1]  0.003   \n",
       "2    25.0  ...    0.0    0.0     0.0     0.0  0.0  0.0  [1, 1, 1, 1]  0.002   \n",
       "3    25.0  ...    0.0    0.0     0.0     0.0  0.0  0.0  [1, 1, 1, 1]  0.004   \n",
       "4    25.0  ...    0.0    0.0     0.0     0.0  0.0  0.0  [1, 1, 1, 1]  0.005   \n",
       "\n",
       "   Nf  Iter  \n",
       "0  19    15  \n",
       "1  12    10  \n",
       "2   8     7  \n",
       "3  19    15  \n",
       "4  24    18  \n",
       "\n",
       "[5 rows x 22 columns]"
      ],
      "text/html": "<div>\n<style scoped>\n    .dataframe tbody tr th:only-of-type {\n        vertical-align: middle;\n    }\n\n    .dataframe tbody tr th {\n        vertical-align: top;\n    }\n\n    .dataframe thead th {\n        text-align: right;\n    }\n</style>\n<table border=\"1\" class=\"dataframe\">\n  <thead>\n    <tr style=\"text-align: right;\">\n      <th></th>\n      <th>П0_ист</th>\n      <th>Д0_ист</th>\n      <th>К0_ист</th>\n      <th>V0_ист</th>\n      <th>П0_расч</th>\n      <th>Д0_расч</th>\n      <th>К0_расч</th>\n      <th>V0_расч</th>\n      <th>П0_апр</th>\n      <th>Д0_апр</th>\n      <th>...</th>\n      <th>СКО X</th>\n      <th>СКО Y</th>\n      <th>СКО VX</th>\n      <th>СКО VY</th>\n      <th>Ка</th>\n      <th>Кб</th>\n      <th>Точ</th>\n      <th>t</th>\n      <th>Nf</th>\n      <th>Iter</th>\n    </tr>\n  </thead>\n  <tbody>\n    <tr>\n      <th>0</th>\n      <td>0</td>\n      <td>10</td>\n      <td>98.786</td>\n      <td>11.582</td>\n      <td>360.0</td>\n      <td>10.0</td>\n      <td>98.786</td>\n      <td>11.582</td>\n      <td>0.0</td>\n      <td>25.0</td>\n      <td>...</td>\n      <td>0.0</td>\n      <td>0.0</td>\n      <td>0.0</td>\n      <td>0.0</td>\n      <td>0.0</td>\n      <td>0.0</td>\n      <td>[1, 1, 1, 1]</td>\n      <td>0.005</td>\n      <td>19</td>\n      <td>15</td>\n    </tr>\n    <tr>\n      <th>1</th>\n      <td>0</td>\n      <td>10</td>\n      <td>75.064</td>\n      <td>11.644</td>\n      <td>0.0</td>\n      <td>10.0</td>\n      <td>75.064</td>\n      <td>11.644</td>\n      <td>0.0</td>\n      <td>25.0</td>\n      <td>...</td>\n      <td>0.0</td>\n      <td>0.0</td>\n      <td>0.0</td>\n      <td>0.0</td>\n      <td>0.0</td>\n      <td>0.0</td>\n      <td>[1, 1, 1, 1]</td>\n      <td>0.003</td>\n      <td>12</td>\n      <td>10</td>\n    </tr>\n    <tr>\n      <th>2</th>\n      <td>0</td>\n      <td>10</td>\n      <td>78.479</td>\n      <td>3.311</td>\n      <td>360.0</td>\n      <td>10.0</td>\n      <td>78.479</td>\n      <td>3.311</td>\n      <td>0.0</td>\n      <td>25.0</td>\n      <td>...</td>\n      <td>0.0</td>\n      <td>0.0</td>\n      <td>0.0</td>\n      <td>0.0</td>\n      <td>0.0</td>\n      <td>0.0</td>\n      <td>[1, 1, 1, 1]</td>\n      <td>0.002</td>\n      <td>8</td>\n      <td>7</td>\n    </tr>\n    <tr>\n      <th>3</th>\n      <td>0</td>\n      <td>10</td>\n      <td>99.144</td>\n      <td>11.498</td>\n      <td>360.0</td>\n      <td>10.0</td>\n      <td>99.144</td>\n      <td>11.498</td>\n      <td>0.0</td>\n      <td>25.0</td>\n      <td>...</td>\n      <td>0.0</td>\n      <td>0.0</td>\n      <td>0.0</td>\n      <td>0.0</td>\n      <td>0.0</td>\n      <td>0.0</td>\n      <td>[1, 1, 1, 1]</td>\n      <td>0.004</td>\n      <td>19</td>\n      <td>15</td>\n    </tr>\n    <tr>\n      <th>4</th>\n      <td>0</td>\n      <td>10</td>\n      <td>174.065</td>\n      <td>9.567</td>\n      <td>0.0</td>\n      <td>10.0</td>\n      <td>174.065</td>\n      <td>9.567</td>\n      <td>0.0</td>\n      <td>25.0</td>\n      <td>...</td>\n      <td>0.0</td>\n      <td>0.0</td>\n      <td>0.0</td>\n      <td>0.0</td>\n      <td>0.0</td>\n      <td>0.0</td>\n      <td>[1, 1, 1, 1]</td>\n      <td>0.005</td>\n      <td>24</td>\n      <td>18</td>\n    </tr>\n  </tbody>\n</table>\n<p>5 rows × 22 columns</p>\n</div>"
     },
     "metadata": {},
     "execution_count": 41
    }
   ],
   "source": [
    "tma = TMA(observer, sd=np.radians(0.), tau=2)\n",
    "tma.print_verbose()\n",
    "print('ММП v6')\n",
    "start_time = time.perf_counter()\n",
    "dict_results = tma.swarm(n=100, target_func=target_func, p0=p0, seeded=True)\n",
    "stop_time = time.perf_counter()\n",
    "print('Моделирование 100 результатов закончено за t = {:.1f} с'.format(stop_time - start_time))\n",
    "df = tests.get_df(dict_results)\n",
    "df.head().round(3)"
   ]
  },
  {
   "cell_type": "code",
   "execution_count": 42,
   "metadata": {},
   "outputs": [
    {
     "output_type": "stream",
     "name": "stdout",
     "text": [
      "Показатели Монте-Карло:\nВариант 0: Рэф = 100$, Рэф_мин = 1\nВариант 1: Рэф = 100$, Рэф_мин = 1\nВариант 2: Рэф = 100$, Рэф_мин = 1\nВариант 3: Рэф = 100$, Рэф_мин = 1\nКа = 0.00\nNf = 15, Nf_max = 27\nIter = 12, Iter_max = 21\nt = 0.0031, t_max = 0.0057\n"
     ]
    }
   ],
   "source": [
    "print('Показатели Монте-Карло:')\n",
    "for i in range(4):\n",
    "    a = df['Точ'].apply(lambda x: x[i])\n",
    "    print('Вариант {}: Рэф = {:.0f}$, Рэф_мин = {:.0f}'.format(i, 100 * a.mean(), min(a)))\n",
    "print('Ка = {:.2f}'.format(df['Ка'].mean()))\n",
    "print('Nf = {:.0f}, Nf_max = {:.0f}'.format(df['Nf'].mean(), max(df['Nf'])))\n",
    "print('Iter = {:.0f}, Iter_max = {:.0f}'.format(df['Iter'].mean(), max(df['Iter'])))\n",
    "print('t = {:.4f}, t_max = {:.4f}'.format(df['t'].mean(), max(df['t'])))\n",
    "tests.save_df(df, name='tests/tests8/ЛМ ' + str(np.degrees(tma.standart_deviation)) + '.xlsx')"
   ]
  },
  {
   "cell_type": "code",
   "execution_count": 43,
   "metadata": {},
   "outputs": [
    {
     "output_type": "stream",
     "name": "stdout",
     "text": [
      "СКОп = 0.1, tau = 2\n",
      "ММП v6\n",
      "Моделирование 100 результатов закончено за t = 2.7 с\n"
     ]
    },
    {
     "output_type": "execute_result",
     "data": {
      "text/plain": [
       "  П0_ист Д0_ист   К0_ист  V0_ист  П0_расч  Д0_расч  К0_расч  V0_расч  П0_апр  \\\n",
       "0      0     10   98.786  11.582  359.990    9.978   98.689   11.570   1.571   \n",
       "1      0     10   75.064  11.644  359.965   10.054   75.108   11.744   1.571   \n",
       "2      0     10   78.479   3.311    0.012   10.007   78.653    3.305   1.571   \n",
       "3      0     10   99.144  11.498    0.019    9.979   99.210   11.450   1.571   \n",
       "4      0     10  174.065   9.567  359.987   10.004  174.043    9.572   1.571   \n",
       "\n",
       "   Д0_апр  ...  СКО X  СКО Y  СКО VX  СКО VY     Ка     Кб           Точ  \\\n",
       "0    25.0  ...  0.003  0.040   0.064   0.015  0.009  0.011  [1, 1, 1, 1]   \n",
       "1    25.0  ...  0.003  0.032   0.051   0.012  0.010  0.040  [1, 1, 1, 1]   \n",
       "2    25.0  ...  0.002  0.014   0.013   0.013  0.010  0.013  [1, 1, 1, 1]   \n",
       "3    25.0  ...  0.003  0.040   0.063   0.015  0.010  0.020  [1, 1, 1, 1]   \n",
       "4    25.0  ...  0.001  0.012   0.004   0.015  0.009  0.006  [1, 1, 1, 1]   \n",
       "\n",
       "       t  Nf  Iter  \n",
       "0  0.005  29    21  \n",
       "1  0.005  27    19  \n",
       "2  0.004  23    16  \n",
       "3  0.007  29    21  \n",
       "4  0.004  20    17  \n",
       "\n",
       "[5 rows x 22 columns]"
      ],
      "text/html": "<div>\n<style scoped>\n    .dataframe tbody tr th:only-of-type {\n        vertical-align: middle;\n    }\n\n    .dataframe tbody tr th {\n        vertical-align: top;\n    }\n\n    .dataframe thead th {\n        text-align: right;\n    }\n</style>\n<table border=\"1\" class=\"dataframe\">\n  <thead>\n    <tr style=\"text-align: right;\">\n      <th></th>\n      <th>П0_ист</th>\n      <th>Д0_ист</th>\n      <th>К0_ист</th>\n      <th>V0_ист</th>\n      <th>П0_расч</th>\n      <th>Д0_расч</th>\n      <th>К0_расч</th>\n      <th>V0_расч</th>\n      <th>П0_апр</th>\n      <th>Д0_апр</th>\n      <th>...</th>\n      <th>СКО X</th>\n      <th>СКО Y</th>\n      <th>СКО VX</th>\n      <th>СКО VY</th>\n      <th>Ка</th>\n      <th>Кб</th>\n      <th>Точ</th>\n      <th>t</th>\n      <th>Nf</th>\n      <th>Iter</th>\n    </tr>\n  </thead>\n  <tbody>\n    <tr>\n      <th>0</th>\n      <td>0</td>\n      <td>10</td>\n      <td>98.786</td>\n      <td>11.582</td>\n      <td>359.990</td>\n      <td>9.978</td>\n      <td>98.689</td>\n      <td>11.570</td>\n      <td>1.571</td>\n      <td>25.0</td>\n      <td>...</td>\n      <td>0.003</td>\n      <td>0.040</td>\n      <td>0.064</td>\n      <td>0.015</td>\n      <td>0.009</td>\n      <td>0.011</td>\n      <td>[1, 1, 1, 1]</td>\n      <td>0.005</td>\n      <td>29</td>\n      <td>21</td>\n    </tr>\n    <tr>\n      <th>1</th>\n      <td>0</td>\n      <td>10</td>\n      <td>75.064</td>\n      <td>11.644</td>\n      <td>359.965</td>\n      <td>10.054</td>\n      <td>75.108</td>\n      <td>11.744</td>\n      <td>1.571</td>\n      <td>25.0</td>\n      <td>...</td>\n      <td>0.003</td>\n      <td>0.032</td>\n      <td>0.051</td>\n      <td>0.012</td>\n      <td>0.010</td>\n      <td>0.040</td>\n      <td>[1, 1, 1, 1]</td>\n      <td>0.005</td>\n      <td>27</td>\n      <td>19</td>\n    </tr>\n    <tr>\n      <th>2</th>\n      <td>0</td>\n      <td>10</td>\n      <td>78.479</td>\n      <td>3.311</td>\n      <td>0.012</td>\n      <td>10.007</td>\n      <td>78.653</td>\n      <td>3.305</td>\n      <td>1.571</td>\n      <td>25.0</td>\n      <td>...</td>\n      <td>0.002</td>\n      <td>0.014</td>\n      <td>0.013</td>\n      <td>0.013</td>\n      <td>0.010</td>\n      <td>0.013</td>\n      <td>[1, 1, 1, 1]</td>\n      <td>0.004</td>\n      <td>23</td>\n      <td>16</td>\n    </tr>\n    <tr>\n      <th>3</th>\n      <td>0</td>\n      <td>10</td>\n      <td>99.144</td>\n      <td>11.498</td>\n      <td>0.019</td>\n      <td>9.979</td>\n      <td>99.210</td>\n      <td>11.450</td>\n      <td>1.571</td>\n      <td>25.0</td>\n      <td>...</td>\n      <td>0.003</td>\n      <td>0.040</td>\n      <td>0.063</td>\n      <td>0.015</td>\n      <td>0.010</td>\n      <td>0.020</td>\n      <td>[1, 1, 1, 1]</td>\n      <td>0.007</td>\n      <td>29</td>\n      <td>21</td>\n    </tr>\n    <tr>\n      <th>4</th>\n      <td>0</td>\n      <td>10</td>\n      <td>174.065</td>\n      <td>9.567</td>\n      <td>359.987</td>\n      <td>10.004</td>\n      <td>174.043</td>\n      <td>9.572</td>\n      <td>1.571</td>\n      <td>25.0</td>\n      <td>...</td>\n      <td>0.001</td>\n      <td>0.012</td>\n      <td>0.004</td>\n      <td>0.015</td>\n      <td>0.009</td>\n      <td>0.006</td>\n      <td>[1, 1, 1, 1]</td>\n      <td>0.004</td>\n      <td>20</td>\n      <td>17</td>\n    </tr>\n  </tbody>\n</table>\n<p>5 rows × 22 columns</p>\n</div>"
     },
     "metadata": {},
     "execution_count": 43
    }
   ],
   "source": [
    "tma = TMA(observer, sd=np.radians(0.1), tau=2)\n",
    "tma.print_verbose()\n",
    "print('ММП v6')\n",
    "start_time = time.perf_counter()\n",
    "dict_results = tma.swarm(n=100, target_func=target_func, p0=p0, seeded=True)\n",
    "stop_time = time.perf_counter()\n",
    "print('Моделирование 100 результатов закончено за t = {:.1f} с'.format(stop_time - start_time))\n",
    "df = tests.get_df(dict_results)\n",
    "df.head().round(3)"
   ]
  },
  {
   "cell_type": "code",
   "execution_count": 44,
   "metadata": {},
   "outputs": [
    {
     "output_type": "stream",
     "name": "stdout",
     "text": [
      "Показатели Монте-Карло:\nВариант 0: Рэф = 100$, Рэф_мин = 1\nВариант 1: Рэф = 100$, Рэф_мин = 1\nВариант 2: Рэф = 100$, Рэф_мин = 1\nВариант 3: Рэф = 100$, Рэф_мин = 1\nКа = 0.01\nNf = 25, Nf_max = 31\nIter = 18, Iter_max = 23\nt = 0.0049, t_max = 0.0071\n"
     ]
    }
   ],
   "source": [
    "print('Показатели Монте-Карло:')\n",
    "for i in range(4):\n",
    "    a = df['Точ'].apply(lambda x: x[i])\n",
    "    print('Вариант {}: Рэф = {:.0f}$, Рэф_мин = {:.0f}'.format(i, 100 * a.mean(), min(a)))\n",
    "print('Ка = {:.2f}'.format(df['Ка'].mean()))\n",
    "print('Nf = {:.0f}, Nf_max = {:.0f}'.format(df['Nf'].mean(), max(df['Nf'])))\n",
    "print('Iter = {:.0f}, Iter_max = {:.0f}'.format(df['Iter'].mean(), max(df['Iter'])))\n",
    "print('t = {:.4f}, t_max = {:.4f}'.format(df['t'].mean(), max(df['t'])))\n",
    "tests.save_df(df, name='tests/tests8/ЛМ ' + str(np.degrees(tma.standart_deviation)) + '.xlsx')"
   ]
  },
  {
   "cell_type": "code",
   "execution_count": 45,
   "metadata": {},
   "outputs": [
    {
     "output_type": "stream",
     "name": "stdout",
     "text": [
      "СКОп = 0.2, tau = 2\n",
      "ММП v6\n",
      "Моделирование 100 результатов закончено за t = 2.8 с\n"
     ]
    },
    {
     "output_type": "execute_result",
     "data": {
      "text/plain": [
       "  П0_ист Д0_ист   К0_ист  V0_ист  П0_расч  Д0_расч  К0_расч  V0_расч  П0_апр  \\\n",
       "0      0     10   98.786  11.582  359.979    9.956   98.591   11.558   1.543   \n",
       "1      0     10   75.064  11.644  359.929   10.109   75.151   11.845   1.543   \n",
       "2      0     10   78.479   3.311    0.023   10.015   78.827    3.299   1.543   \n",
       "3      0     10   99.144  11.498    0.038    9.958   99.277   11.402   1.543   \n",
       "4      0     10  174.065   9.567  359.975   10.008  174.022    9.578   1.543   \n",
       "\n",
       "   Д0_апр  ...  СКО X  СКО Y  СКО VX  СКО VY     Ка     Кб           Точ  \\\n",
       "0    25.0  ...  0.006  0.080   0.127   0.030  0.037  0.023  [1, 1, 1, 1]   \n",
       "1    25.0  ...  0.006  0.065   0.104   0.024  0.039  0.081  [1, 1, 1, 1]   \n",
       "2    25.0  ...  0.005  0.028   0.026   0.026  0.039  0.026  [1, 1, 1, 1]   \n",
       "3    25.0  ...  0.006  0.080   0.125   0.031  0.038  0.041  [1, 1, 1, 1]   \n",
       "4    25.0  ...  0.002  0.024   0.008   0.030  0.037  0.012  [1, 1, 1, 1]   \n",
       "\n",
       "       t  Nf  Iter  \n",
       "0  0.005  29    21  \n",
       "1  0.006  27    19  \n",
       "2  0.004  23    16  \n",
       "3  0.006  29    21  \n",
       "4  0.004  23    18  \n",
       "\n",
       "[5 rows x 22 columns]"
      ],
      "text/html": "<div>\n<style scoped>\n    .dataframe tbody tr th:only-of-type {\n        vertical-align: middle;\n    }\n\n    .dataframe tbody tr th {\n        vertical-align: top;\n    }\n\n    .dataframe thead th {\n        text-align: right;\n    }\n</style>\n<table border=\"1\" class=\"dataframe\">\n  <thead>\n    <tr style=\"text-align: right;\">\n      <th></th>\n      <th>П0_ист</th>\n      <th>Д0_ист</th>\n      <th>К0_ист</th>\n      <th>V0_ист</th>\n      <th>П0_расч</th>\n      <th>Д0_расч</th>\n      <th>К0_расч</th>\n      <th>V0_расч</th>\n      <th>П0_апр</th>\n      <th>Д0_апр</th>\n      <th>...</th>\n      <th>СКО X</th>\n      <th>СКО Y</th>\n      <th>СКО VX</th>\n      <th>СКО VY</th>\n      <th>Ка</th>\n      <th>Кб</th>\n      <th>Точ</th>\n      <th>t</th>\n      <th>Nf</th>\n      <th>Iter</th>\n    </tr>\n  </thead>\n  <tbody>\n    <tr>\n      <th>0</th>\n      <td>0</td>\n      <td>10</td>\n      <td>98.786</td>\n      <td>11.582</td>\n      <td>359.979</td>\n      <td>9.956</td>\n      <td>98.591</td>\n      <td>11.558</td>\n      <td>1.543</td>\n      <td>25.0</td>\n      <td>...</td>\n      <td>0.006</td>\n      <td>0.080</td>\n      <td>0.127</td>\n      <td>0.030</td>\n      <td>0.037</td>\n      <td>0.023</td>\n      <td>[1, 1, 1, 1]</td>\n      <td>0.005</td>\n      <td>29</td>\n      <td>21</td>\n    </tr>\n    <tr>\n      <th>1</th>\n      <td>0</td>\n      <td>10</td>\n      <td>75.064</td>\n      <td>11.644</td>\n      <td>359.929</td>\n      <td>10.109</td>\n      <td>75.151</td>\n      <td>11.845</td>\n      <td>1.543</td>\n      <td>25.0</td>\n      <td>...</td>\n      <td>0.006</td>\n      <td>0.065</td>\n      <td>0.104</td>\n      <td>0.024</td>\n      <td>0.039</td>\n      <td>0.081</td>\n      <td>[1, 1, 1, 1]</td>\n      <td>0.006</td>\n      <td>27</td>\n      <td>19</td>\n    </tr>\n    <tr>\n      <th>2</th>\n      <td>0</td>\n      <td>10</td>\n      <td>78.479</td>\n      <td>3.311</td>\n      <td>0.023</td>\n      <td>10.015</td>\n      <td>78.827</td>\n      <td>3.299</td>\n      <td>1.543</td>\n      <td>25.0</td>\n      <td>...</td>\n      <td>0.005</td>\n      <td>0.028</td>\n      <td>0.026</td>\n      <td>0.026</td>\n      <td>0.039</td>\n      <td>0.026</td>\n      <td>[1, 1, 1, 1]</td>\n      <td>0.004</td>\n      <td>23</td>\n      <td>16</td>\n    </tr>\n    <tr>\n      <th>3</th>\n      <td>0</td>\n      <td>10</td>\n      <td>99.144</td>\n      <td>11.498</td>\n      <td>0.038</td>\n      <td>9.958</td>\n      <td>99.277</td>\n      <td>11.402</td>\n      <td>1.543</td>\n      <td>25.0</td>\n      <td>...</td>\n      <td>0.006</td>\n      <td>0.080</td>\n      <td>0.125</td>\n      <td>0.031</td>\n      <td>0.038</td>\n      <td>0.041</td>\n      <td>[1, 1, 1, 1]</td>\n      <td>0.006</td>\n      <td>29</td>\n      <td>21</td>\n    </tr>\n    <tr>\n      <th>4</th>\n      <td>0</td>\n      <td>10</td>\n      <td>174.065</td>\n      <td>9.567</td>\n      <td>359.975</td>\n      <td>10.008</td>\n      <td>174.022</td>\n      <td>9.578</td>\n      <td>1.543</td>\n      <td>25.0</td>\n      <td>...</td>\n      <td>0.002</td>\n      <td>0.024</td>\n      <td>0.008</td>\n      <td>0.030</td>\n      <td>0.037</td>\n      <td>0.012</td>\n      <td>[1, 1, 1, 1]</td>\n      <td>0.004</td>\n      <td>23</td>\n      <td>18</td>\n    </tr>\n  </tbody>\n</table>\n<p>5 rows × 22 columns</p>\n</div>"
     },
     "metadata": {},
     "execution_count": 45
    }
   ],
   "source": [
    "tma = TMA(observer, sd=np.radians(0.2), tau=2)\n",
    "tma.print_verbose()\n",
    "print('ММП v6')\n",
    "start_time = time.perf_counter()\n",
    "dict_results = tma.swarm(n=100, target_func=target_func, p0=p0, seeded=True)\n",
    "stop_time = time.perf_counter()\n",
    "print('Моделирование 100 результатов закончено за t = {:.1f} с'.format(stop_time - start_time))\n",
    "df = tests.get_df(dict_results)\n",
    "df.head().round(3)"
   ]
  },
  {
   "cell_type": "code",
   "execution_count": 46,
   "metadata": {},
   "outputs": [
    {
     "output_type": "stream",
     "name": "stdout",
     "text": [
      "Показатели Монте-Карло:\nВариант 0: Рэф = 100$, Рэф_мин = 1\nВариант 1: Рэф = 100$, Рэф_мин = 1\nВариант 2: Рэф = 100$, Рэф_мин = 1\nВариант 3: Рэф = 100$, Рэф_мин = 1\nКа = 0.04\nNf = 25, Nf_max = 31\nIter = 18, Iter_max = 23\nt = 0.0049, t_max = 0.0081\n"
     ]
    }
   ],
   "source": [
    "print('Показатели Монте-Карло:')\n",
    "for i in range(4):\n",
    "    a = df['Точ'].apply(lambda x: x[i])\n",
    "    print('Вариант {}: Рэф = {:.0f}$, Рэф_мин = {:.0f}'.format(i, 100 * a.mean(), min(a)))\n",
    "print('Ка = {:.2f}'.format(df['Ка'].mean()))\n",
    "print('Nf = {:.0f}, Nf_max = {:.0f}'.format(df['Nf'].mean(), max(df['Nf'])))\n",
    "print('Iter = {:.0f}, Iter_max = {:.0f}'.format(df['Iter'].mean(), max(df['Iter'])))\n",
    "print('t = {:.4f}, t_max = {:.4f}'.format(df['t'].mean(), max(df['t'])))\n",
    "tests.save_df(df, name='tests/tests8/ЛМ ' + str(np.degrees(tma.standart_deviation)) + '.xlsx')"
   ]
  },
  {
   "cell_type": "code",
   "execution_count": 47,
   "metadata": {},
   "outputs": [
    {
     "output_type": "stream",
     "name": "stdout",
     "text": [
      "СКОп = 0.3, tau = 2\n",
      "ММП v6\n",
      "Моделирование 100 результатов закончено за t = 2.7 с\n"
     ]
    },
    {
     "output_type": "execute_result",
     "data": {
      "text/plain": [
       "  П0_ист Д0_ист   К0_ист  V0_ист  П0_расч  Д0_расч  К0_расч  V0_расч  П0_апр  \\\n",
       "0      0     10   98.786  11.582  359.969    9.934   98.494   11.546   1.544   \n",
       "1      0     10   75.064  11.644  359.894   10.165   75.195   11.946   1.544   \n",
       "2      0     10   78.479   3.311    0.035   10.022   79.002    3.293   1.544   \n",
       "3      0     10   99.144  11.498    0.057    9.938   99.344   11.354   1.544   \n",
       "4      0     10  174.065   9.567  359.962   10.013  174.000    9.583   1.544   \n",
       "\n",
       "   Д0_апр  ...  СКО X  СКО Y  СКО VX  СКО VY     Ка     Кб           Точ  \\\n",
       "0    25.0  ...  0.008  0.120   0.190   0.045  0.084  0.034  [1, 1, 1, 1]   \n",
       "1    25.0  ...  0.009  0.098   0.158   0.036  0.088  0.122  [1, 1, 1, 1]   \n",
       "2    25.0  ...  0.007  0.043   0.040   0.039  0.089  0.039  [1, 1, 1, 1]   \n",
       "3    25.0  ...  0.008  0.119   0.187   0.046  0.086  0.061  [1, 1, 1, 1]   \n",
       "4    25.0  ...  0.003  0.037   0.012   0.045  0.082  0.018  [1, 1, 1, 1]   \n",
       "\n",
       "       t  Nf  Iter  \n",
       "0  0.005  29    21  \n",
       "1  0.006  27    19  \n",
       "2  0.004  23    16  \n",
       "3  0.007  29    21  \n",
       "4  0.006  23    18  \n",
       "\n",
       "[5 rows x 22 columns]"
      ],
      "text/html": "<div>\n<style scoped>\n    .dataframe tbody tr th:only-of-type {\n        vertical-align: middle;\n    }\n\n    .dataframe tbody tr th {\n        vertical-align: top;\n    }\n\n    .dataframe thead th {\n        text-align: right;\n    }\n</style>\n<table border=\"1\" class=\"dataframe\">\n  <thead>\n    <tr style=\"text-align: right;\">\n      <th></th>\n      <th>П0_ист</th>\n      <th>Д0_ист</th>\n      <th>К0_ист</th>\n      <th>V0_ист</th>\n      <th>П0_расч</th>\n      <th>Д0_расч</th>\n      <th>К0_расч</th>\n      <th>V0_расч</th>\n      <th>П0_апр</th>\n      <th>Д0_апр</th>\n      <th>...</th>\n      <th>СКО X</th>\n      <th>СКО Y</th>\n      <th>СКО VX</th>\n      <th>СКО VY</th>\n      <th>Ка</th>\n      <th>Кб</th>\n      <th>Точ</th>\n      <th>t</th>\n      <th>Nf</th>\n      <th>Iter</th>\n    </tr>\n  </thead>\n  <tbody>\n    <tr>\n      <th>0</th>\n      <td>0</td>\n      <td>10</td>\n      <td>98.786</td>\n      <td>11.582</td>\n      <td>359.969</td>\n      <td>9.934</td>\n      <td>98.494</td>\n      <td>11.546</td>\n      <td>1.544</td>\n      <td>25.0</td>\n      <td>...</td>\n      <td>0.008</td>\n      <td>0.120</td>\n      <td>0.190</td>\n      <td>0.045</td>\n      <td>0.084</td>\n      <td>0.034</td>\n      <td>[1, 1, 1, 1]</td>\n      <td>0.005</td>\n      <td>29</td>\n      <td>21</td>\n    </tr>\n    <tr>\n      <th>1</th>\n      <td>0</td>\n      <td>10</td>\n      <td>75.064</td>\n      <td>11.644</td>\n      <td>359.894</td>\n      <td>10.165</td>\n      <td>75.195</td>\n      <td>11.946</td>\n      <td>1.544</td>\n      <td>25.0</td>\n      <td>...</td>\n      <td>0.009</td>\n      <td>0.098</td>\n      <td>0.158</td>\n      <td>0.036</td>\n      <td>0.088</td>\n      <td>0.122</td>\n      <td>[1, 1, 1, 1]</td>\n      <td>0.006</td>\n      <td>27</td>\n      <td>19</td>\n    </tr>\n    <tr>\n      <th>2</th>\n      <td>0</td>\n      <td>10</td>\n      <td>78.479</td>\n      <td>3.311</td>\n      <td>0.035</td>\n      <td>10.022</td>\n      <td>79.002</td>\n      <td>3.293</td>\n      <td>1.544</td>\n      <td>25.0</td>\n      <td>...</td>\n      <td>0.007</td>\n      <td>0.043</td>\n      <td>0.040</td>\n      <td>0.039</td>\n      <td>0.089</td>\n      <td>0.039</td>\n      <td>[1, 1, 1, 1]</td>\n      <td>0.004</td>\n      <td>23</td>\n      <td>16</td>\n    </tr>\n    <tr>\n      <th>3</th>\n      <td>0</td>\n      <td>10</td>\n      <td>99.144</td>\n      <td>11.498</td>\n      <td>0.057</td>\n      <td>9.938</td>\n      <td>99.344</td>\n      <td>11.354</td>\n      <td>1.544</td>\n      <td>25.0</td>\n      <td>...</td>\n      <td>0.008</td>\n      <td>0.119</td>\n      <td>0.187</td>\n      <td>0.046</td>\n      <td>0.086</td>\n      <td>0.061</td>\n      <td>[1, 1, 1, 1]</td>\n      <td>0.007</td>\n      <td>29</td>\n      <td>21</td>\n    </tr>\n    <tr>\n      <th>4</th>\n      <td>0</td>\n      <td>10</td>\n      <td>174.065</td>\n      <td>9.567</td>\n      <td>359.962</td>\n      <td>10.013</td>\n      <td>174.000</td>\n      <td>9.583</td>\n      <td>1.544</td>\n      <td>25.0</td>\n      <td>...</td>\n      <td>0.003</td>\n      <td>0.037</td>\n      <td>0.012</td>\n      <td>0.045</td>\n      <td>0.082</td>\n      <td>0.018</td>\n      <td>[1, 1, 1, 1]</td>\n      <td>0.006</td>\n      <td>23</td>\n      <td>18</td>\n    </tr>\n  </tbody>\n</table>\n<p>5 rows × 22 columns</p>\n</div>"
     },
     "metadata": {},
     "execution_count": 47
    }
   ],
   "source": [
    "tma = TMA(observer, sd=np.radians(0.3), tau=2)\n",
    "tma.print_verbose()\n",
    "print('ММП v6')\n",
    "start_time = time.perf_counter()\n",
    "dict_results = tma.swarm(n=100, target_func=target_func, p0=p0, seeded=True)\n",
    "stop_time = time.perf_counter()\n",
    "print('Моделирование 100 результатов закончено за t = {:.1f} с'.format(stop_time - start_time))\n",
    "df = tests.get_df(dict_results)\n",
    "df.head().round(3)"
   ]
  },
  {
   "cell_type": "code",
   "execution_count": 48,
   "metadata": {},
   "outputs": [
    {
     "output_type": "stream",
     "name": "stdout",
     "text": [
      "Показатели Монте-Карло:\nВариант 0: Рэф = 98$, Рэф_мин = 0\nВариант 1: Рэф = 100$, Рэф_мин = 1\nВариант 2: Рэф = 100$, Рэф_мин = 1\nВариант 3: Рэф = 100$, Рэф_мин = 1\nКа = 0.09\nNf = 25, Nf_max = 31\nIter = 18, Iter_max = 23\nt = 0.0048, t_max = 0.0067\n"
     ]
    }
   ],
   "source": [
    "print('Показатели Монте-Карло:')\n",
    "for i in range(4):\n",
    "    a = df['Точ'].apply(lambda x: x[i])\n",
    "    print('Вариант {}: Рэф = {:.0f}$, Рэф_мин = {:.0f}'.format(i, 100 * a.mean(), min(a)))\n",
    "print('Ка = {:.2f}'.format(df['Ка'].mean()))\n",
    "print('Nf = {:.0f}, Nf_max = {:.0f}'.format(df['Nf'].mean(), max(df['Nf'])))\n",
    "print('Iter = {:.0f}, Iter_max = {:.0f}'.format(df['Iter'].mean(), max(df['Iter'])))\n",
    "print('t = {:.4f}, t_max = {:.4f}'.format(df['t'].mean(), max(df['t'])))\n",
    "tests.save_df(df, name='tests/tests8/ЛМ ' + str(np.degrees(tma.standart_deviation)) + '.xlsx')"
   ]
  },
  {
   "cell_type": "code",
   "execution_count": 49,
   "metadata": {},
   "outputs": [
    {
     "output_type": "stream",
     "name": "stdout",
     "text": [
      "СКОп = 0.5, tau = 2\n",
      "ММП v6\n",
      "Моделирование 100 результатов закончено за t = 2.7 с\n"
     ]
    },
    {
     "output_type": "execute_result",
     "data": {
      "text/plain": [
       "  П0_ист Д0_ист   К0_ист  V0_ист  П0_расч  Д0_расч  К0_расч  V0_расч  П0_апр  \\\n",
       "0      0     10   98.786  11.582  359.948    9.889   98.299   11.521   1.544   \n",
       "1      0     10   75.064  11.644  359.824   10.278   75.282   12.154   1.544   \n",
       "2      0     10   78.479   3.311    0.057   10.037   79.352    3.282   1.544   \n",
       "3      0     10   99.144  11.498    0.095    9.897   99.477   11.259   1.544   \n",
       "4      0     10  174.065   9.567  359.937   10.021  173.956    9.594   1.544   \n",
       "\n",
       "   Д0_апр  ...  СКО X  СКО Y  СКО VX  СКО VY     Ка     Кб           Точ  \\\n",
       "0    25.0  ...  0.014  0.198   0.315   0.073  0.234  0.057  [1, 1, 1, 1]   \n",
       "1    25.0  ...  0.015  0.168   0.270   0.061  0.243  0.205  [1, 1, 1, 1]   \n",
       "2    25.0  ...  0.011  0.071   0.066   0.065  0.246  0.065  [1, 1, 1, 1]   \n",
       "3    25.0  ...  0.014  0.197   0.308   0.076  0.238  0.101  [1, 1, 1, 1]   \n",
       "4    25.0  ...  0.005  0.061   0.019   0.074  0.229  0.029  [1, 1, 1, 1]   \n",
       "\n",
       "       t  Nf  Iter  \n",
       "0  0.006  29    21  \n",
       "1  0.005  27    19  \n",
       "2  0.004  23    16  \n",
       "3  0.006  29    21  \n",
       "4  0.004  23    18  \n",
       "\n",
       "[5 rows x 22 columns]"
      ],
      "text/html": "<div>\n<style scoped>\n    .dataframe tbody tr th:only-of-type {\n        vertical-align: middle;\n    }\n\n    .dataframe tbody tr th {\n        vertical-align: top;\n    }\n\n    .dataframe thead th {\n        text-align: right;\n    }\n</style>\n<table border=\"1\" class=\"dataframe\">\n  <thead>\n    <tr style=\"text-align: right;\">\n      <th></th>\n      <th>П0_ист</th>\n      <th>Д0_ист</th>\n      <th>К0_ист</th>\n      <th>V0_ист</th>\n      <th>П0_расч</th>\n      <th>Д0_расч</th>\n      <th>К0_расч</th>\n      <th>V0_расч</th>\n      <th>П0_апр</th>\n      <th>Д0_апр</th>\n      <th>...</th>\n      <th>СКО X</th>\n      <th>СКО Y</th>\n      <th>СКО VX</th>\n      <th>СКО VY</th>\n      <th>Ка</th>\n      <th>Кб</th>\n      <th>Точ</th>\n      <th>t</th>\n      <th>Nf</th>\n      <th>Iter</th>\n    </tr>\n  </thead>\n  <tbody>\n    <tr>\n      <th>0</th>\n      <td>0</td>\n      <td>10</td>\n      <td>98.786</td>\n      <td>11.582</td>\n      <td>359.948</td>\n      <td>9.889</td>\n      <td>98.299</td>\n      <td>11.521</td>\n      <td>1.544</td>\n      <td>25.0</td>\n      <td>...</td>\n      <td>0.014</td>\n      <td>0.198</td>\n      <td>0.315</td>\n      <td>0.073</td>\n      <td>0.234</td>\n      <td>0.057</td>\n      <td>[1, 1, 1, 1]</td>\n      <td>0.006</td>\n      <td>29</td>\n      <td>21</td>\n    </tr>\n    <tr>\n      <th>1</th>\n      <td>0</td>\n      <td>10</td>\n      <td>75.064</td>\n      <td>11.644</td>\n      <td>359.824</td>\n      <td>10.278</td>\n      <td>75.282</td>\n      <td>12.154</td>\n      <td>1.544</td>\n      <td>25.0</td>\n      <td>...</td>\n      <td>0.015</td>\n      <td>0.168</td>\n      <td>0.270</td>\n      <td>0.061</td>\n      <td>0.243</td>\n      <td>0.205</td>\n      <td>[1, 1, 1, 1]</td>\n      <td>0.005</td>\n      <td>27</td>\n      <td>19</td>\n    </tr>\n    <tr>\n      <th>2</th>\n      <td>0</td>\n      <td>10</td>\n      <td>78.479</td>\n      <td>3.311</td>\n      <td>0.057</td>\n      <td>10.037</td>\n      <td>79.352</td>\n      <td>3.282</td>\n      <td>1.544</td>\n      <td>25.0</td>\n      <td>...</td>\n      <td>0.011</td>\n      <td>0.071</td>\n      <td>0.066</td>\n      <td>0.065</td>\n      <td>0.246</td>\n      <td>0.065</td>\n      <td>[1, 1, 1, 1]</td>\n      <td>0.004</td>\n      <td>23</td>\n      <td>16</td>\n    </tr>\n    <tr>\n      <th>3</th>\n      <td>0</td>\n      <td>10</td>\n      <td>99.144</td>\n      <td>11.498</td>\n      <td>0.095</td>\n      <td>9.897</td>\n      <td>99.477</td>\n      <td>11.259</td>\n      <td>1.544</td>\n      <td>25.0</td>\n      <td>...</td>\n      <td>0.014</td>\n      <td>0.197</td>\n      <td>0.308</td>\n      <td>0.076</td>\n      <td>0.238</td>\n      <td>0.101</td>\n      <td>[1, 1, 1, 1]</td>\n      <td>0.006</td>\n      <td>29</td>\n      <td>21</td>\n    </tr>\n    <tr>\n      <th>4</th>\n      <td>0</td>\n      <td>10</td>\n      <td>174.065</td>\n      <td>9.567</td>\n      <td>359.937</td>\n      <td>10.021</td>\n      <td>173.956</td>\n      <td>9.594</td>\n      <td>1.544</td>\n      <td>25.0</td>\n      <td>...</td>\n      <td>0.005</td>\n      <td>0.061</td>\n      <td>0.019</td>\n      <td>0.074</td>\n      <td>0.229</td>\n      <td>0.029</td>\n      <td>[1, 1, 1, 1]</td>\n      <td>0.004</td>\n      <td>23</td>\n      <td>18</td>\n    </tr>\n  </tbody>\n</table>\n<p>5 rows × 22 columns</p>\n</div>"
     },
     "metadata": {},
     "execution_count": 49
    }
   ],
   "source": [
    "tma = TMA(observer, sd=np.radians(0.5), tau=2)\n",
    "tma.print_verbose()\n",
    "print('ММП v6')\n",
    "start_time = time.perf_counter()\n",
    "dict_results = tma.swarm(n=100, target_func=target_func, p0=p0, seeded=True)\n",
    "stop_time = time.perf_counter()\n",
    "print('Моделирование 100 результатов закончено за t = {:.1f} с'.format(stop_time - start_time))\n",
    "df = tests.get_df(dict_results)\n",
    "df.head().round(3)"
   ]
  },
  {
   "cell_type": "code",
   "execution_count": 50,
   "metadata": {},
   "outputs": [
    {
     "output_type": "stream",
     "name": "stdout",
     "text": [
      "Показатели Монте-Карло:\nВариант 0: Рэф = 96$, Рэф_мин = 0\nВариант 1: Рэф = 99$, Рэф_мин = 0\nВариант 2: Рэф = 99$, Рэф_мин = 0\nВариант 3: Рэф = 100$, Рэф_мин = 1\nКа = 0.25\nNf = 25, Nf_max = 31\nIter = 18, Iter_max = 23\nt = 0.0048, t_max = 0.0066\n"
     ]
    }
   ],
   "source": [
    "print('Показатели Монте-Карло:')\n",
    "for i in range(4):\n",
    "    a = df['Точ'].apply(lambda x: x[i])\n",
    "    print('Вариант {}: Рэф = {:.0f}$, Рэф_мин = {:.0f}'.format(i, 100 * a.mean(), min(a)))\n",
    "print('Ка = {:.2f}'.format(df['Ка'].mean()))\n",
    "print('Nf = {:.0f}, Nf_max = {:.0f}'.format(df['Nf'].mean(), max(df['Nf'])))\n",
    "print('Iter = {:.0f}, Iter_max = {:.0f}'.format(df['Iter'].mean(), max(df['Iter'])))\n",
    "print('t = {:.4f}, t_max = {:.4f}'.format(df['t'].mean(), max(df['t'])))\n",
    "tests.save_df(df, name='tests/tests8/ЛМ ' + str(np.degrees(tma.standart_deviation)) + '.xlsx')"
   ]
  },
  {
   "cell_type": "code",
   "execution_count": 51,
   "metadata": {},
   "outputs": [
    {
     "output_type": "stream",
     "name": "stdout",
     "text": [
      "СКОп = 1.0, tau = 2\n",
      "ММП v6\n",
      "Моделирование 100 результатов закончено за t = 2.7 с\n"
     ]
    },
    {
     "output_type": "execute_result",
     "data": {
      "text/plain": [
       "  П0_ист Д0_ист   К0_ист  V0_ист  П0_расч  Д0_расч  К0_расч  V0_расч  П0_апр  \\\n",
       "0      0     10   98.786  11.582  359.895    9.779   97.811   11.459   1.544   \n",
       "1      0     10   75.064  11.644  359.648   10.573   75.498   12.694   1.544   \n",
       "2      0     10   78.479   3.311    0.114   10.074   80.233    3.254   1.544   \n",
       "3      0     10   99.144  11.498    0.190    9.794   99.812   11.025   1.544   \n",
       "4      0     10  174.065   9.567  359.874   10.043  173.846    9.622   1.544   \n",
       "\n",
       "   Д0_апр  ...  СКО X  СКО Y  СКО VX  СКО VY     Ка     Кб           Точ  \\\n",
       "0    25.0  ...  0.028  0.388   0.623   0.141  0.937  0.114  [1, 1, 1, 1]   \n",
       "1    25.0  ...  0.031  0.359   0.579   0.127  0.972  0.420  [0, 1, 1, 1]   \n",
       "2    25.0  ...  0.023  0.142   0.132   0.130  0.984  0.128  [1, 1, 1, 1]   \n",
       "3    25.0  ...  0.027  0.384   0.598   0.151  0.952  0.201  [1, 1, 1, 1]   \n",
       "4    25.0  ...  0.010  0.123   0.039   0.150  0.915  0.059  [1, 1, 1, 1]   \n",
       "\n",
       "       t  Nf  Iter  \n",
       "0  0.005  29    21  \n",
       "1  0.005  27    19  \n",
       "2  0.006  23    16  \n",
       "3  0.005  29    21  \n",
       "4  0.005  23    18  \n",
       "\n",
       "[5 rows x 22 columns]"
      ],
      "text/html": "<div>\n<style scoped>\n    .dataframe tbody tr th:only-of-type {\n        vertical-align: middle;\n    }\n\n    .dataframe tbody tr th {\n        vertical-align: top;\n    }\n\n    .dataframe thead th {\n        text-align: right;\n    }\n</style>\n<table border=\"1\" class=\"dataframe\">\n  <thead>\n    <tr style=\"text-align: right;\">\n      <th></th>\n      <th>П0_ист</th>\n      <th>Д0_ист</th>\n      <th>К0_ист</th>\n      <th>V0_ист</th>\n      <th>П0_расч</th>\n      <th>Д0_расч</th>\n      <th>К0_расч</th>\n      <th>V0_расч</th>\n      <th>П0_апр</th>\n      <th>Д0_апр</th>\n      <th>...</th>\n      <th>СКО X</th>\n      <th>СКО Y</th>\n      <th>СКО VX</th>\n      <th>СКО VY</th>\n      <th>Ка</th>\n      <th>Кб</th>\n      <th>Точ</th>\n      <th>t</th>\n      <th>Nf</th>\n      <th>Iter</th>\n    </tr>\n  </thead>\n  <tbody>\n    <tr>\n      <th>0</th>\n      <td>0</td>\n      <td>10</td>\n      <td>98.786</td>\n      <td>11.582</td>\n      <td>359.895</td>\n      <td>9.779</td>\n      <td>97.811</td>\n      <td>11.459</td>\n      <td>1.544</td>\n      <td>25.0</td>\n      <td>...</td>\n      <td>0.028</td>\n      <td>0.388</td>\n      <td>0.623</td>\n      <td>0.141</td>\n      <td>0.937</td>\n      <td>0.114</td>\n      <td>[1, 1, 1, 1]</td>\n      <td>0.005</td>\n      <td>29</td>\n      <td>21</td>\n    </tr>\n    <tr>\n      <th>1</th>\n      <td>0</td>\n      <td>10</td>\n      <td>75.064</td>\n      <td>11.644</td>\n      <td>359.648</td>\n      <td>10.573</td>\n      <td>75.498</td>\n      <td>12.694</td>\n      <td>1.544</td>\n      <td>25.0</td>\n      <td>...</td>\n      <td>0.031</td>\n      <td>0.359</td>\n      <td>0.579</td>\n      <td>0.127</td>\n      <td>0.972</td>\n      <td>0.420</td>\n      <td>[0, 1, 1, 1]</td>\n      <td>0.005</td>\n      <td>27</td>\n      <td>19</td>\n    </tr>\n    <tr>\n      <th>2</th>\n      <td>0</td>\n      <td>10</td>\n      <td>78.479</td>\n      <td>3.311</td>\n      <td>0.114</td>\n      <td>10.074</td>\n      <td>80.233</td>\n      <td>3.254</td>\n      <td>1.544</td>\n      <td>25.0</td>\n      <td>...</td>\n      <td>0.023</td>\n      <td>0.142</td>\n      <td>0.132</td>\n      <td>0.130</td>\n      <td>0.984</td>\n      <td>0.128</td>\n      <td>[1, 1, 1, 1]</td>\n      <td>0.006</td>\n      <td>23</td>\n      <td>16</td>\n    </tr>\n    <tr>\n      <th>3</th>\n      <td>0</td>\n      <td>10</td>\n      <td>99.144</td>\n      <td>11.498</td>\n      <td>0.190</td>\n      <td>9.794</td>\n      <td>99.812</td>\n      <td>11.025</td>\n      <td>1.544</td>\n      <td>25.0</td>\n      <td>...</td>\n      <td>0.027</td>\n      <td>0.384</td>\n      <td>0.598</td>\n      <td>0.151</td>\n      <td>0.952</td>\n      <td>0.201</td>\n      <td>[1, 1, 1, 1]</td>\n      <td>0.005</td>\n      <td>29</td>\n      <td>21</td>\n    </tr>\n    <tr>\n      <th>4</th>\n      <td>0</td>\n      <td>10</td>\n      <td>174.065</td>\n      <td>9.567</td>\n      <td>359.874</td>\n      <td>10.043</td>\n      <td>173.846</td>\n      <td>9.622</td>\n      <td>1.544</td>\n      <td>25.0</td>\n      <td>...</td>\n      <td>0.010</td>\n      <td>0.123</td>\n      <td>0.039</td>\n      <td>0.150</td>\n      <td>0.915</td>\n      <td>0.059</td>\n      <td>[1, 1, 1, 1]</td>\n      <td>0.005</td>\n      <td>23</td>\n      <td>18</td>\n    </tr>\n  </tbody>\n</table>\n<p>5 rows × 22 columns</p>\n</div>"
     },
     "metadata": {},
     "execution_count": 51
    }
   ],
   "source": [
    "tma = TMA(observer, sd=np.radians(1), tau=2)\n",
    "tma.print_verbose()\n",
    "print('ММП v6')\n",
    "start_time = time.perf_counter()\n",
    "dict_results = tma.swarm(n=100, target_func=target_func, p0=p0, seeded=True)\n",
    "stop_time = time.perf_counter()\n",
    "print('Моделирование 100 результатов закончено за t = {:.1f} с'.format(stop_time - start_time))\n",
    "df = tests.get_df(dict_results)\n",
    "df.head().round(3)"
   ]
  },
  {
   "cell_type": "code",
   "execution_count": 52,
   "metadata": {},
   "outputs": [
    {
     "output_type": "stream",
     "name": "stdout",
     "text": [
      "Показатели Монте-Карло:\nВариант 0: Рэф = 75$, Рэф_мин = 0\nВариант 1: Рэф = 96$, Рэф_мин = 0\nВариант 2: Рэф = 96$, Рэф_мин = 0\nВариант 3: Рэф = 98$, Рэф_мин = 0\nКа = 0.99\nNf = 25, Nf_max = 31\nIter = 18, Iter_max = 23\nt = 0.0048, t_max = 0.0070\n"
     ]
    }
   ],
   "source": [
    "print('Показатели Монте-Карло:')\n",
    "for i in range(4):\n",
    "    a = df['Точ'].apply(lambda x: x[i])\n",
    "    print('Вариант {}: Рэф = {:.0f}$, Рэф_мин = {:.0f}'.format(i, 100 * a.mean(), min(a)))\n",
    "print('Ка = {:.2f}'.format(df['Ка'].mean()))\n",
    "print('Nf = {:.0f}, Nf_max = {:.0f}'.format(df['Nf'].mean(), max(df['Nf'])))\n",
    "print('Iter = {:.0f}, Iter_max = {:.0f}'.format(df['Iter'].mean(), max(df['Iter'])))\n",
    "print('t = {:.4f}, t_max = {:.4f}'.format(df['t'].mean(), max(df['t'])))\n",
    "tests.save_df(df, name='tests/tests8/ЛМ ' + str(np.degrees(tma.standart_deviation)) + '.xlsx')"
   ]
  },
  {
   "cell_type": "code",
   "execution_count": 53,
   "metadata": {},
   "outputs": [
    {
     "output_type": "stream",
     "name": "stdout",
     "text": [
      "СКОп = 0.0, tau = 2\n",
      "Метод N пеленгов\n",
      "Моделирование 100 результатов закончено за t = 2.3 с\n"
     ]
    },
    {
     "output_type": "execute_result",
     "data": {
      "text/plain": [
       "  П0_ист  Д0_ист   К0_ист  V0_ист  П0_расч  Д0_расч  К0_расч  V0_расч  П0_апр  \\\n",
       "0      0  29.697  128.734  11.028      0.0   29.697  128.734   11.028     NaN   \n",
       "1      0  23.766  129.658   5.001      0.0   23.766  129.658    5.001     NaN   \n",
       "2      0  24.620    4.667  10.497      0.0   24.620    4.667   10.497     NaN   \n",
       "3      0  29.786  127.467   7.909      0.0   29.786  127.467    7.909     NaN   \n",
       "4      0  48.516   98.502  14.727      0.0   48.516   98.502   14.727     NaN   \n",
       "\n",
       "   Д0_апр  ...  СКО X  СКО Y  СКО VX  СКО VY   Ка   Кб           Точ      t  \\\n",
       "0     NaN  ...    NaN    NaN     NaN     NaN  0.0  0.0  [1, 1, 1, 1]  0.000   \n",
       "1     NaN  ...    NaN    NaN     NaN     NaN  0.0  0.0  [1, 1, 1, 1]  0.000   \n",
       "2     NaN  ...    NaN    NaN     NaN     NaN  0.0  0.0  [1, 1, 1, 1]  0.002   \n",
       "3     NaN  ...    NaN    NaN     NaN     NaN  0.0  0.0  [1, 1, 1, 1]  0.000   \n",
       "4     NaN  ...    NaN    NaN     NaN     NaN  0.0  0.0  [1, 1, 1, 1]  0.000   \n",
       "\n",
       "   Nf  Iter  \n",
       "0 NaN   NaN  \n",
       "1 NaN   NaN  \n",
       "2 NaN   NaN  \n",
       "3 NaN   NaN  \n",
       "4 NaN   NaN  \n",
       "\n",
       "[5 rows x 22 columns]"
      ],
      "text/html": "<div>\n<style scoped>\n    .dataframe tbody tr th:only-of-type {\n        vertical-align: middle;\n    }\n\n    .dataframe tbody tr th {\n        vertical-align: top;\n    }\n\n    .dataframe thead th {\n        text-align: right;\n    }\n</style>\n<table border=\"1\" class=\"dataframe\">\n  <thead>\n    <tr style=\"text-align: right;\">\n      <th></th>\n      <th>П0_ист</th>\n      <th>Д0_ист</th>\n      <th>К0_ист</th>\n      <th>V0_ист</th>\n      <th>П0_расч</th>\n      <th>Д0_расч</th>\n      <th>К0_расч</th>\n      <th>V0_расч</th>\n      <th>П0_апр</th>\n      <th>Д0_апр</th>\n      <th>...</th>\n      <th>СКО X</th>\n      <th>СКО Y</th>\n      <th>СКО VX</th>\n      <th>СКО VY</th>\n      <th>Ка</th>\n      <th>Кб</th>\n      <th>Точ</th>\n      <th>t</th>\n      <th>Nf</th>\n      <th>Iter</th>\n    </tr>\n  </thead>\n  <tbody>\n    <tr>\n      <th>0</th>\n      <td>0</td>\n      <td>29.697</td>\n      <td>128.734</td>\n      <td>11.028</td>\n      <td>0.0</td>\n      <td>29.697</td>\n      <td>128.734</td>\n      <td>11.028</td>\n      <td>NaN</td>\n      <td>NaN</td>\n      <td>...</td>\n      <td>NaN</td>\n      <td>NaN</td>\n      <td>NaN</td>\n      <td>NaN</td>\n      <td>0.0</td>\n      <td>0.0</td>\n      <td>[1, 1, 1, 1]</td>\n      <td>0.000</td>\n      <td>NaN</td>\n      <td>NaN</td>\n    </tr>\n    <tr>\n      <th>1</th>\n      <td>0</td>\n      <td>23.766</td>\n      <td>129.658</td>\n      <td>5.001</td>\n      <td>0.0</td>\n      <td>23.766</td>\n      <td>129.658</td>\n      <td>5.001</td>\n      <td>NaN</td>\n      <td>NaN</td>\n      <td>...</td>\n      <td>NaN</td>\n      <td>NaN</td>\n      <td>NaN</td>\n      <td>NaN</td>\n      <td>0.0</td>\n      <td>0.0</td>\n      <td>[1, 1, 1, 1]</td>\n      <td>0.000</td>\n      <td>NaN</td>\n      <td>NaN</td>\n    </tr>\n    <tr>\n      <th>2</th>\n      <td>0</td>\n      <td>24.620</td>\n      <td>4.667</td>\n      <td>10.497</td>\n      <td>0.0</td>\n      <td>24.620</td>\n      <td>4.667</td>\n      <td>10.497</td>\n      <td>NaN</td>\n      <td>NaN</td>\n      <td>...</td>\n      <td>NaN</td>\n      <td>NaN</td>\n      <td>NaN</td>\n      <td>NaN</td>\n      <td>0.0</td>\n      <td>0.0</td>\n      <td>[1, 1, 1, 1]</td>\n      <td>0.002</td>\n      <td>NaN</td>\n      <td>NaN</td>\n    </tr>\n    <tr>\n      <th>3</th>\n      <td>0</td>\n      <td>29.786</td>\n      <td>127.467</td>\n      <td>7.909</td>\n      <td>0.0</td>\n      <td>29.786</td>\n      <td>127.467</td>\n      <td>7.909</td>\n      <td>NaN</td>\n      <td>NaN</td>\n      <td>...</td>\n      <td>NaN</td>\n      <td>NaN</td>\n      <td>NaN</td>\n      <td>NaN</td>\n      <td>0.0</td>\n      <td>0.0</td>\n      <td>[1, 1, 1, 1]</td>\n      <td>0.000</td>\n      <td>NaN</td>\n      <td>NaN</td>\n    </tr>\n    <tr>\n      <th>4</th>\n      <td>0</td>\n      <td>48.516</td>\n      <td>98.502</td>\n      <td>14.727</td>\n      <td>0.0</td>\n      <td>48.516</td>\n      <td>98.502</td>\n      <td>14.727</td>\n      <td>NaN</td>\n      <td>NaN</td>\n      <td>...</td>\n      <td>NaN</td>\n      <td>NaN</td>\n      <td>NaN</td>\n      <td>NaN</td>\n      <td>0.0</td>\n      <td>0.0</td>\n      <td>[1, 1, 1, 1]</td>\n      <td>0.000</td>\n      <td>NaN</td>\n      <td>NaN</td>\n    </tr>\n  </tbody>\n</table>\n<p>5 rows × 22 columns</p>\n</div>"
     },
     "metadata": {},
     "execution_count": 53
    }
   ],
   "source": [
    "tma = TMA(observer, sd=np.radians(0.), tau=2)\n",
    "tma.print_verbose()\n",
    "algorithm_name = 'Метод N пеленгов'\n",
    "print(algorithm_name)\n",
    "start_time = time.perf_counter()\n",
    "dict_results = tma.swarm(algorithm_name=algorithm_name,n=100, seeded=True)\n",
    "stop_time = time.perf_counter()\n",
    "print('Моделирование 100 результатов закончено за t = {:.1f} с'.format(stop_time - start_time))\n",
    "df = tests.get_df(dict_results)\n",
    "df.head().round(3)"
   ]
  },
  {
   "cell_type": "code",
   "execution_count": 54,
   "metadata": {},
   "outputs": [
    {
     "output_type": "stream",
     "name": "stdout",
     "text": [
      "Показатели Монте-Карло:\nВариант 0: Рэф = 100$, Рэф_мин = 1\nВариант 1: Рэф = 100$, Рэф_мин = 1\nВариант 2: Рэф = 100$, Рэф_мин = 1\nВариант 3: Рэф = 100$, Рэф_мин = 1\nКа = 0.00\nt = 0.0003, t_max = 0.0015\n"
     ]
    }
   ],
   "source": [
    "print('Показатели Монте-Карло:')\n",
    "for i in range(4):\n",
    "    a = df['Точ'].apply(lambda x: x[i])\n",
    "    print('Вариант {}: Рэф = {:.0f}$, Рэф_мин = {:.0f}'.format(i, 100 * a.mean(), min(a)))\n",
    "print('Ка = {:.2f}'.format(df['Ка'].mean()))\n",
    "print('t = {:.4f}, t_max = {:.4f}'.format(df['t'].mean(), max(df['t'])))\n",
    "tests.save_df(df, name='tests/tests8/N ' + str(np.degrees(tma.standart_deviation)) + '.xlsx')"
   ]
  },
  {
   "cell_type": "code",
   "execution_count": 55,
   "metadata": {},
   "outputs": [
    {
     "output_type": "stream",
     "name": "stdout",
     "text": [
      "СКОп = 0.1, tau = 2\n",
      "Метод N пеленгов\n",
      "Моделирование 100 результатов закончено за t = 2.3 с\n"
     ]
    },
    {
     "output_type": "execute_result",
     "data": {
      "text/plain": [
       "  П0_ист  Д0_ист   К0_ист  V0_ист  П0_расч  Д0_расч  К0_расч  V0_расч  П0_апр  \\\n",
       "0      0  29.697  128.734  11.028  359.824   30.265  125.650   11.273     NaN   \n",
       "1      0  23.766  129.658   5.001  359.838   23.897  122.984    4.921     NaN   \n",
       "2      0  24.620    4.667  10.497    0.042   24.774    4.619    9.803     NaN   \n",
       "3      0  29.786  127.467   7.909  359.821   30.030  122.644    7.922     NaN   \n",
       "4      0  48.516   98.502  14.727  359.995   46.843   98.936   14.095     NaN   \n",
       "\n",
       "   Д0_апр  ...  СКО X  СКО Y  СКО VX  СКО VY     Ка     Кб           Точ  \\\n",
       "0     NaN  ...    NaN    NaN     NaN     NaN  0.012  0.209  [1, 1, 1, 1]   \n",
       "1     NaN  ...    NaN    NaN     NaN     NaN  0.011  0.257  [0, 1, 1, 1]   \n",
       "2     NaN  ...    NaN    NaN     NaN     NaN  0.010  0.187  [0, 1, 1, 1]   \n",
       "3     NaN  ...    NaN    NaN     NaN     NaN  0.013  0.183  [1, 1, 1, 1]   \n",
       "4     NaN  ...    NaN    NaN     NaN     NaN  0.009  0.177  [1, 1, 1, 1]   \n",
       "\n",
       "       t  Nf  Iter  \n",
       "0  0.000 NaN   NaN  \n",
       "1  0.000 NaN   NaN  \n",
       "2  0.000 NaN   NaN  \n",
       "3  0.000 NaN   NaN  \n",
       "4  0.001 NaN   NaN  \n",
       "\n",
       "[5 rows x 22 columns]"
      ],
      "text/html": "<div>\n<style scoped>\n    .dataframe tbody tr th:only-of-type {\n        vertical-align: middle;\n    }\n\n    .dataframe tbody tr th {\n        vertical-align: top;\n    }\n\n    .dataframe thead th {\n        text-align: right;\n    }\n</style>\n<table border=\"1\" class=\"dataframe\">\n  <thead>\n    <tr style=\"text-align: right;\">\n      <th></th>\n      <th>П0_ист</th>\n      <th>Д0_ист</th>\n      <th>К0_ист</th>\n      <th>V0_ист</th>\n      <th>П0_расч</th>\n      <th>Д0_расч</th>\n      <th>К0_расч</th>\n      <th>V0_расч</th>\n      <th>П0_апр</th>\n      <th>Д0_апр</th>\n      <th>...</th>\n      <th>СКО X</th>\n      <th>СКО Y</th>\n      <th>СКО VX</th>\n      <th>СКО VY</th>\n      <th>Ка</th>\n      <th>Кб</th>\n      <th>Точ</th>\n      <th>t</th>\n      <th>Nf</th>\n      <th>Iter</th>\n    </tr>\n  </thead>\n  <tbody>\n    <tr>\n      <th>0</th>\n      <td>0</td>\n      <td>29.697</td>\n      <td>128.734</td>\n      <td>11.028</td>\n      <td>359.824</td>\n      <td>30.265</td>\n      <td>125.650</td>\n      <td>11.273</td>\n      <td>NaN</td>\n      <td>NaN</td>\n      <td>...</td>\n      <td>NaN</td>\n      <td>NaN</td>\n      <td>NaN</td>\n      <td>NaN</td>\n      <td>0.012</td>\n      <td>0.209</td>\n      <td>[1, 1, 1, 1]</td>\n      <td>0.000</td>\n      <td>NaN</td>\n      <td>NaN</td>\n    </tr>\n    <tr>\n      <th>1</th>\n      <td>0</td>\n      <td>23.766</td>\n      <td>129.658</td>\n      <td>5.001</td>\n      <td>359.838</td>\n      <td>23.897</td>\n      <td>122.984</td>\n      <td>4.921</td>\n      <td>NaN</td>\n      <td>NaN</td>\n      <td>...</td>\n      <td>NaN</td>\n      <td>NaN</td>\n      <td>NaN</td>\n      <td>NaN</td>\n      <td>0.011</td>\n      <td>0.257</td>\n      <td>[0, 1, 1, 1]</td>\n      <td>0.000</td>\n      <td>NaN</td>\n      <td>NaN</td>\n    </tr>\n    <tr>\n      <th>2</th>\n      <td>0</td>\n      <td>24.620</td>\n      <td>4.667</td>\n      <td>10.497</td>\n      <td>0.042</td>\n      <td>24.774</td>\n      <td>4.619</td>\n      <td>9.803</td>\n      <td>NaN</td>\n      <td>NaN</td>\n      <td>...</td>\n      <td>NaN</td>\n      <td>NaN</td>\n      <td>NaN</td>\n      <td>NaN</td>\n      <td>0.010</td>\n      <td>0.187</td>\n      <td>[0, 1, 1, 1]</td>\n      <td>0.000</td>\n      <td>NaN</td>\n      <td>NaN</td>\n    </tr>\n    <tr>\n      <th>3</th>\n      <td>0</td>\n      <td>29.786</td>\n      <td>127.467</td>\n      <td>7.909</td>\n      <td>359.821</td>\n      <td>30.030</td>\n      <td>122.644</td>\n      <td>7.922</td>\n      <td>NaN</td>\n      <td>NaN</td>\n      <td>...</td>\n      <td>NaN</td>\n      <td>NaN</td>\n      <td>NaN</td>\n      <td>NaN</td>\n      <td>0.013</td>\n      <td>0.183</td>\n      <td>[1, 1, 1, 1]</td>\n      <td>0.000</td>\n      <td>NaN</td>\n      <td>NaN</td>\n    </tr>\n    <tr>\n      <th>4</th>\n      <td>0</td>\n      <td>48.516</td>\n      <td>98.502</td>\n      <td>14.727</td>\n      <td>359.995</td>\n      <td>46.843</td>\n      <td>98.936</td>\n      <td>14.095</td>\n      <td>NaN</td>\n      <td>NaN</td>\n      <td>...</td>\n      <td>NaN</td>\n      <td>NaN</td>\n      <td>NaN</td>\n      <td>NaN</td>\n      <td>0.009</td>\n      <td>0.177</td>\n      <td>[1, 1, 1, 1]</td>\n      <td>0.001</td>\n      <td>NaN</td>\n      <td>NaN</td>\n    </tr>\n  </tbody>\n</table>\n<p>5 rows × 22 columns</p>\n</div>"
     },
     "metadata": {},
     "execution_count": 55
    }
   ],
   "source": [
    "tma = TMA(observer, sd=np.radians(0.1), tau=2)\n",
    "tma.print_verbose()\n",
    "algorithm_name = 'Метод N пеленгов'\n",
    "print(algorithm_name)\n",
    "start_time = time.perf_counter()\n",
    "dict_results = tma.swarm(algorithm_name=algorithm_name,n=100, seeded=True)\n",
    "stop_time = time.perf_counter()\n",
    "print('Моделирование 100 результатов закончено за t = {:.1f} с'.format(stop_time - start_time))\n",
    "df = tests.get_df(dict_results)\n",
    "df.head().round(3)"
   ]
  },
  {
   "cell_type": "code",
   "execution_count": 56,
   "metadata": {},
   "outputs": [
    {
     "output_type": "stream",
     "name": "stdout",
     "text": [
      "Показатели Монте-Карло:\nВариант 0: Рэф = 69$, Рэф_мин = 0\nВариант 1: Рэф = 85$, Рэф_мин = 0\nВариант 2: Рэф = 85$, Рэф_мин = 0\nВариант 3: Рэф = 91$, Рэф_мин = 0\nКа = 0.01\nt = 0.0003, t_max = 0.0007\n"
     ]
    }
   ],
   "source": [
    "print('Показатели Монте-Карло:')\n",
    "for i in range(4):\n",
    "    a = df['Точ'].apply(lambda x: x[i])\n",
    "    print('Вариант {}: Рэф = {:.0f}$, Рэф_мин = {:.0f}'.format(i, 100 * a.mean(), min(a)))\n",
    "print('Ка = {:.2f}'.format(df['Ка'].mean()))\n",
    "print('t = {:.4f}, t_max = {:.4f}'.format(df['t'].mean(), max(df['t'])))\n",
    "tests.save_df(df, name='tests/tests8/N ' + str(np.degrees(tma.standart_deviation)) + '.xlsx')"
   ]
  },
  {
   "cell_type": "code",
   "execution_count": 57,
   "metadata": {},
   "outputs": [
    {
     "output_type": "stream",
     "name": "stdout",
     "text": [
      "СКОп = 0.2, tau = 2\n",
      "Метод N пеленгов\n",
      "Моделирование 100 результатов закончено за t = 2.3 с\n"
     ]
    },
    {
     "output_type": "execute_result",
     "data": {
      "text/plain": [
       "  П0_ист  Д0_ист   К0_ист  V0_ист  П0_расч  Д0_расч  К0_расч  V0_расч  П0_апр  \\\n",
       "0      0  29.697  128.734  11.028  359.647   30.013  122.897   11.170     NaN   \n",
       "1      0  23.766  129.658   5.001  359.675   23.728  116.660    4.821     NaN   \n",
       "2      0  24.620    4.667  10.497    0.083   24.598    4.349    8.835     NaN   \n",
       "3      0  29.786  127.467   7.909  359.642   29.506  118.395    7.728     NaN   \n",
       "4      0  48.516   98.502  14.727  359.990   43.175   99.950   12.721     NaN   \n",
       "\n",
       "   Д0_апр  ...  СКО X  СКО Y  СКО VX  СКО VY     Ка     Кб           Точ    t  \\\n",
       "0     NaN  ...    NaN    NaN     NaN     NaN  0.049  0.284  [0, 1, 1, 1]  0.0   \n",
       "1     NaN  ...    NaN    NaN     NaN     NaN  0.046  0.499  [0, 0, 0, 0]  0.0   \n",
       "2     NaN  ...    NaN    NaN     NaN     NaN  0.041  0.426  [0, 0, 0, 0]  0.0   \n",
       "3     NaN  ...    NaN    NaN     NaN     NaN  0.054  0.389  [0, 1, 1, 1]  0.0   \n",
       "4     NaN  ...    NaN    NaN     NaN     NaN  0.041  0.563  [0, 0, 0, 1]  0.0   \n",
       "\n",
       "   Nf  Iter  \n",
       "0 NaN   NaN  \n",
       "1 NaN   NaN  \n",
       "2 NaN   NaN  \n",
       "3 NaN   NaN  \n",
       "4 NaN   NaN  \n",
       "\n",
       "[5 rows x 22 columns]"
      ],
      "text/html": "<div>\n<style scoped>\n    .dataframe tbody tr th:only-of-type {\n        vertical-align: middle;\n    }\n\n    .dataframe tbody tr th {\n        vertical-align: top;\n    }\n\n    .dataframe thead th {\n        text-align: right;\n    }\n</style>\n<table border=\"1\" class=\"dataframe\">\n  <thead>\n    <tr style=\"text-align: right;\">\n      <th></th>\n      <th>П0_ист</th>\n      <th>Д0_ист</th>\n      <th>К0_ист</th>\n      <th>V0_ист</th>\n      <th>П0_расч</th>\n      <th>Д0_расч</th>\n      <th>К0_расч</th>\n      <th>V0_расч</th>\n      <th>П0_апр</th>\n      <th>Д0_апр</th>\n      <th>...</th>\n      <th>СКО X</th>\n      <th>СКО Y</th>\n      <th>СКО VX</th>\n      <th>СКО VY</th>\n      <th>Ка</th>\n      <th>Кб</th>\n      <th>Точ</th>\n      <th>t</th>\n      <th>Nf</th>\n      <th>Iter</th>\n    </tr>\n  </thead>\n  <tbody>\n    <tr>\n      <th>0</th>\n      <td>0</td>\n      <td>29.697</td>\n      <td>128.734</td>\n      <td>11.028</td>\n      <td>359.647</td>\n      <td>30.013</td>\n      <td>122.897</td>\n      <td>11.170</td>\n      <td>NaN</td>\n      <td>NaN</td>\n      <td>...</td>\n      <td>NaN</td>\n      <td>NaN</td>\n      <td>NaN</td>\n      <td>NaN</td>\n      <td>0.049</td>\n      <td>0.284</td>\n      <td>[0, 1, 1, 1]</td>\n      <td>0.0</td>\n      <td>NaN</td>\n      <td>NaN</td>\n    </tr>\n    <tr>\n      <th>1</th>\n      <td>0</td>\n      <td>23.766</td>\n      <td>129.658</td>\n      <td>5.001</td>\n      <td>359.675</td>\n      <td>23.728</td>\n      <td>116.660</td>\n      <td>4.821</td>\n      <td>NaN</td>\n      <td>NaN</td>\n      <td>...</td>\n      <td>NaN</td>\n      <td>NaN</td>\n      <td>NaN</td>\n      <td>NaN</td>\n      <td>0.046</td>\n      <td>0.499</td>\n      <td>[0, 0, 0, 0]</td>\n      <td>0.0</td>\n      <td>NaN</td>\n      <td>NaN</td>\n    </tr>\n    <tr>\n      <th>2</th>\n      <td>0</td>\n      <td>24.620</td>\n      <td>4.667</td>\n      <td>10.497</td>\n      <td>0.083</td>\n      <td>24.598</td>\n      <td>4.349</td>\n      <td>8.835</td>\n      <td>NaN</td>\n      <td>NaN</td>\n      <td>...</td>\n      <td>NaN</td>\n      <td>NaN</td>\n      <td>NaN</td>\n      <td>NaN</td>\n      <td>0.041</td>\n      <td>0.426</td>\n      <td>[0, 0, 0, 0]</td>\n      <td>0.0</td>\n      <td>NaN</td>\n      <td>NaN</td>\n    </tr>\n    <tr>\n      <th>3</th>\n      <td>0</td>\n      <td>29.786</td>\n      <td>127.467</td>\n      <td>7.909</td>\n      <td>359.642</td>\n      <td>29.506</td>\n      <td>118.395</td>\n      <td>7.728</td>\n      <td>NaN</td>\n      <td>NaN</td>\n      <td>...</td>\n      <td>NaN</td>\n      <td>NaN</td>\n      <td>NaN</td>\n      <td>NaN</td>\n      <td>0.054</td>\n      <td>0.389</td>\n      <td>[0, 1, 1, 1]</td>\n      <td>0.0</td>\n      <td>NaN</td>\n      <td>NaN</td>\n    </tr>\n    <tr>\n      <th>4</th>\n      <td>0</td>\n      <td>48.516</td>\n      <td>98.502</td>\n      <td>14.727</td>\n      <td>359.990</td>\n      <td>43.175</td>\n      <td>99.950</td>\n      <td>12.721</td>\n      <td>NaN</td>\n      <td>NaN</td>\n      <td>...</td>\n      <td>NaN</td>\n      <td>NaN</td>\n      <td>NaN</td>\n      <td>NaN</td>\n      <td>0.041</td>\n      <td>0.563</td>\n      <td>[0, 0, 0, 1]</td>\n      <td>0.0</td>\n      <td>NaN</td>\n      <td>NaN</td>\n    </tr>\n  </tbody>\n</table>\n<p>5 rows × 22 columns</p>\n</div>"
     },
     "metadata": {},
     "execution_count": 57
    }
   ],
   "source": [
    "tma = TMA(observer, sd=np.radians(0.2), tau=2)\n",
    "tma.print_verbose()\n",
    "algorithm_name = 'Метод N пеленгов'\n",
    "print(algorithm_name)\n",
    "start_time = time.perf_counter()\n",
    "dict_results = tma.swarm(algorithm_name=algorithm_name,n=100, seeded=True)\n",
    "stop_time = time.perf_counter()\n",
    "print('Моделирование 100 результатов закончено за t = {:.1f} с'.format(stop_time - start_time))\n",
    "df = tests.get_df(dict_results)\n",
    "df.head().round(3)"
   ]
  },
  {
   "cell_type": "code",
   "execution_count": 58,
   "metadata": {},
   "outputs": [
    {
     "output_type": "stream",
     "name": "stdout",
     "text": [
      "Показатели Монте-Карло:\nВариант 0: Рэф = 41$, Рэф_мин = 0\nВариант 1: Рэф = 66$, Рэф_мин = 0\nВариант 2: Рэф = 66$, Рэф_мин = 0\nВариант 3: Рэф = 74$, Рэф_мин = 0\nКа = 0.05\nt = 0.0003, t_max = 0.0009\n"
     ]
    }
   ],
   "source": [
    "print('Показатели Монте-Карло:')\n",
    "for i in range(4):\n",
    "    a = df['Точ'].apply(lambda x: x[i])\n",
    "    print('Вариант {}: Рэф = {:.0f}$, Рэф_мин = {:.0f}'.format(i, 100 * a.mean(), min(a)))\n",
    "print('Ка = {:.2f}'.format(df['Ка'].mean()))\n",
    "print('t = {:.4f}, t_max = {:.4f}'.format(df['t'].mean(), max(df['t'])))\n",
    "tests.save_df(df, name='tests/tests8/N ' + str(np.degrees(tma.standart_deviation)) + '.xlsx')"
   ]
  },
  {
   "cell_type": "code",
   "execution_count": 59,
   "metadata": {},
   "outputs": [
    {
     "output_type": "stream",
     "name": "stdout",
     "text": [
      "СКОп = 0.3, tau = 2\n",
      "Метод N пеленгов\n",
      "Моделирование 100 результатов закончено за t = 2.3 с\n"
     ]
    },
    {
     "output_type": "execute_result",
     "data": {
      "text/plain": [
       "  П0_ист  Д0_ист   К0_ист  V0_ист  П0_расч  Д0_расч  К0_расч  V0_расч  П0_апр  \\\n",
       "0      0  29.697  128.734  11.028  359.471   28.877  120.468   10.676     NaN   \n",
       "1      0  23.766  129.658   5.001  359.513   23.240  110.803    4.681     NaN   \n",
       "2      0  24.620    4.667  10.497    0.125   24.127    3.785    7.660     NaN   \n",
       "3      0  29.786  127.467   7.909  359.463   28.216  114.723    7.309     NaN   \n",
       "4      0  48.516   98.502  14.727  359.985   38.482  101.578   10.973     NaN   \n",
       "\n",
       "   Д0_апр  ...  СКО X  СКО Y  СКО VX  СКО VY     Ка     Кб           Точ    t  \\\n",
       "0     NaN  ...    NaN    NaN     NaN     NaN  0.120  0.465  [0, 1, 1, 1]  0.0   \n",
       "1     NaN  ...    NaN    NaN     NaN     NaN  0.108  0.790  [0, 0, 0, 0]  0.0   \n",
       "2     NaN  ...    NaN    NaN     NaN     NaN  0.095  0.762  [0, 0, 0, 0]  0.0   \n",
       "3     NaN  ...    NaN    NaN     NaN     NaN  0.129  0.730  [0, 0, 0, 0]  0.0   \n",
       "4     NaN  ...    NaN    NaN     NaN     NaN  0.103  1.063  [0, 0, 0, 0]  0.0   \n",
       "\n",
       "   Nf  Iter  \n",
       "0 NaN   NaN  \n",
       "1 NaN   NaN  \n",
       "2 NaN   NaN  \n",
       "3 NaN   NaN  \n",
       "4 NaN   NaN  \n",
       "\n",
       "[5 rows x 22 columns]"
      ],
      "text/html": "<div>\n<style scoped>\n    .dataframe tbody tr th:only-of-type {\n        vertical-align: middle;\n    }\n\n    .dataframe tbody tr th {\n        vertical-align: top;\n    }\n\n    .dataframe thead th {\n        text-align: right;\n    }\n</style>\n<table border=\"1\" class=\"dataframe\">\n  <thead>\n    <tr style=\"text-align: right;\">\n      <th></th>\n      <th>П0_ист</th>\n      <th>Д0_ист</th>\n      <th>К0_ист</th>\n      <th>V0_ист</th>\n      <th>П0_расч</th>\n      <th>Д0_расч</th>\n      <th>К0_расч</th>\n      <th>V0_расч</th>\n      <th>П0_апр</th>\n      <th>Д0_апр</th>\n      <th>...</th>\n      <th>СКО X</th>\n      <th>СКО Y</th>\n      <th>СКО VX</th>\n      <th>СКО VY</th>\n      <th>Ка</th>\n      <th>Кб</th>\n      <th>Точ</th>\n      <th>t</th>\n      <th>Nf</th>\n      <th>Iter</th>\n    </tr>\n  </thead>\n  <tbody>\n    <tr>\n      <th>0</th>\n      <td>0</td>\n      <td>29.697</td>\n      <td>128.734</td>\n      <td>11.028</td>\n      <td>359.471</td>\n      <td>28.877</td>\n      <td>120.468</td>\n      <td>10.676</td>\n      <td>NaN</td>\n      <td>NaN</td>\n      <td>...</td>\n      <td>NaN</td>\n      <td>NaN</td>\n      <td>NaN</td>\n      <td>NaN</td>\n      <td>0.120</td>\n      <td>0.465</td>\n      <td>[0, 1, 1, 1]</td>\n      <td>0.0</td>\n      <td>NaN</td>\n      <td>NaN</td>\n    </tr>\n    <tr>\n      <th>1</th>\n      <td>0</td>\n      <td>23.766</td>\n      <td>129.658</td>\n      <td>5.001</td>\n      <td>359.513</td>\n      <td>23.240</td>\n      <td>110.803</td>\n      <td>4.681</td>\n      <td>NaN</td>\n      <td>NaN</td>\n      <td>...</td>\n      <td>NaN</td>\n      <td>NaN</td>\n      <td>NaN</td>\n      <td>NaN</td>\n      <td>0.108</td>\n      <td>0.790</td>\n      <td>[0, 0, 0, 0]</td>\n      <td>0.0</td>\n      <td>NaN</td>\n      <td>NaN</td>\n    </tr>\n    <tr>\n      <th>2</th>\n      <td>0</td>\n      <td>24.620</td>\n      <td>4.667</td>\n      <td>10.497</td>\n      <td>0.125</td>\n      <td>24.127</td>\n      <td>3.785</td>\n      <td>7.660</td>\n      <td>NaN</td>\n      <td>NaN</td>\n      <td>...</td>\n      <td>NaN</td>\n      <td>NaN</td>\n      <td>NaN</td>\n      <td>NaN</td>\n      <td>0.095</td>\n      <td>0.762</td>\n      <td>[0, 0, 0, 0]</td>\n      <td>0.0</td>\n      <td>NaN</td>\n      <td>NaN</td>\n    </tr>\n    <tr>\n      <th>3</th>\n      <td>0</td>\n      <td>29.786</td>\n      <td>127.467</td>\n      <td>7.909</td>\n      <td>359.463</td>\n      <td>28.216</td>\n      <td>114.723</td>\n      <td>7.309</td>\n      <td>NaN</td>\n      <td>NaN</td>\n      <td>...</td>\n      <td>NaN</td>\n      <td>NaN</td>\n      <td>NaN</td>\n      <td>NaN</td>\n      <td>0.129</td>\n      <td>0.730</td>\n      <td>[0, 0, 0, 0]</td>\n      <td>0.0</td>\n      <td>NaN</td>\n      <td>NaN</td>\n    </tr>\n    <tr>\n      <th>4</th>\n      <td>0</td>\n      <td>48.516</td>\n      <td>98.502</td>\n      <td>14.727</td>\n      <td>359.985</td>\n      <td>38.482</td>\n      <td>101.578</td>\n      <td>10.973</td>\n      <td>NaN</td>\n      <td>NaN</td>\n      <td>...</td>\n      <td>NaN</td>\n      <td>NaN</td>\n      <td>NaN</td>\n      <td>NaN</td>\n      <td>0.103</td>\n      <td>1.063</td>\n      <td>[0, 0, 0, 0]</td>\n      <td>0.0</td>\n      <td>NaN</td>\n      <td>NaN</td>\n    </tr>\n  </tbody>\n</table>\n<p>5 rows × 22 columns</p>\n</div>"
     },
     "metadata": {},
     "execution_count": 59
    }
   ],
   "source": [
    "tma = TMA(observer, sd=np.radians(0.3), tau=2)\n",
    "tma.print_verbose()\n",
    "algorithm_name = 'Метод N пеленгов'\n",
    "print(algorithm_name)\n",
    "start_time = time.perf_counter()\n",
    "dict_results = tma.swarm(algorithm_name=algorithm_name,n=100, seeded=True)\n",
    "stop_time = time.perf_counter()\n",
    "print('Моделирование 100 результатов закончено за t = {:.1f} с'.format(stop_time - start_time))\n",
    "df = tests.get_df(dict_results)\n",
    "df.head().round(3)"
   ]
  },
  {
   "cell_type": "code",
   "execution_count": 60,
   "metadata": {},
   "outputs": [
    {
     "output_type": "stream",
     "name": "stdout",
     "text": [
      "Показатели Монте-Карло:\nВариант 0: Рэф = 24$, Рэф_мин = 0\nВариант 1: Рэф = 45$, Рэф_мин = 0\nВариант 2: Рэф = 45$, Рэф_мин = 0\nВариант 3: Рэф = 54$, Рэф_мин = 0\nКа = 0.11\nt = 0.0003, t_max = 0.0005\n"
     ]
    }
   ],
   "source": [
    "print('Показатели Монте-Карло:')\n",
    "for i in range(4):\n",
    "    a = df['Точ'].apply(lambda x: x[i])\n",
    "    print('Вариант {}: Рэф = {:.0f}$, Рэф_мин = {:.0f}'.format(i, 100 * a.mean(), min(a)))\n",
    "print('Ка = {:.2f}'.format(df['Ка'].mean()))\n",
    "print('t = {:.4f}, t_max = {:.4f}'.format(df['t'].mean(), max(df['t'])))\n",
    "tests.save_df(df, name='tests/tests8/N ' + str(np.degrees(tma.standart_deviation)) + '.xlsx')"
   ]
  },
  {
   "cell_type": "code",
   "execution_count": 61,
   "metadata": {},
   "outputs": [
    {
     "output_type": "stream",
     "name": "stdout",
     "text": [
      "СКОп = 0.4, tau = 2\n",
      "Метод N пеленгов\n",
      "Моделирование 100 результатов закончено за t = 2.3 с\n"
     ]
    },
    {
     "output_type": "execute_result",
     "data": {
      "text/plain": [
       "  П0_ист  Д0_ист   К0_ист  V0_ист  П0_расч  Д0_расч  К0_расч  V0_расч  П0_апр  \\\n",
       "0      0  29.697  128.734  11.028  359.294   26.952  118.354    9.824     NaN   \n",
       "1      0  23.766  129.658   5.001  359.350   22.444  105.461    4.487     NaN   \n",
       "2      0  24.620    4.667  10.497    0.167   23.416    2.783    6.361     NaN   \n",
       "3      0  29.786  127.467   7.909  359.285   26.291  111.603    6.686     NaN   \n",
       "4      0  48.516   98.502  14.727  359.980   33.628  103.887    9.179     NaN   \n",
       "\n",
       "   Д0_апр  ...  СКО X  СКО Y  СКО VX  СКО VY     Ка     Кб           Точ    t  \\\n",
       "0     NaN  ...    NaN    NaN     NaN     NaN  0.238  0.863  [0, 0, 0, 0]  0.0   \n",
       "1     NaN  ...    NaN    NaN     NaN     NaN  0.203  1.117  [0, 0, 0, 0]  0.0   \n",
       "2     NaN  ...    NaN    NaN     NaN     NaN  0.178  1.155  [0, 0, 0, 0]  0.0   \n",
       "3     NaN  ...    NaN    NaN     NaN     NaN  0.255  1.157  [0, 0, 0, 0]  0.0   \n",
       "4     NaN  ...    NaN    NaN     NaN     NaN  0.211  1.593  [0, 0, 0, 0]  0.0   \n",
       "\n",
       "   Nf  Iter  \n",
       "0 NaN   NaN  \n",
       "1 NaN   NaN  \n",
       "2 NaN   NaN  \n",
       "3 NaN   NaN  \n",
       "4 NaN   NaN  \n",
       "\n",
       "[5 rows x 22 columns]"
      ],
      "text/html": "<div>\n<style scoped>\n    .dataframe tbody tr th:only-of-type {\n        vertical-align: middle;\n    }\n\n    .dataframe tbody tr th {\n        vertical-align: top;\n    }\n\n    .dataframe thead th {\n        text-align: right;\n    }\n</style>\n<table border=\"1\" class=\"dataframe\">\n  <thead>\n    <tr style=\"text-align: right;\">\n      <th></th>\n      <th>П0_ист</th>\n      <th>Д0_ист</th>\n      <th>К0_ист</th>\n      <th>V0_ист</th>\n      <th>П0_расч</th>\n      <th>Д0_расч</th>\n      <th>К0_расч</th>\n      <th>V0_расч</th>\n      <th>П0_апр</th>\n      <th>Д0_апр</th>\n      <th>...</th>\n      <th>СКО X</th>\n      <th>СКО Y</th>\n      <th>СКО VX</th>\n      <th>СКО VY</th>\n      <th>Ка</th>\n      <th>Кб</th>\n      <th>Точ</th>\n      <th>t</th>\n      <th>Nf</th>\n      <th>Iter</th>\n    </tr>\n  </thead>\n  <tbody>\n    <tr>\n      <th>0</th>\n      <td>0</td>\n      <td>29.697</td>\n      <td>128.734</td>\n      <td>11.028</td>\n      <td>359.294</td>\n      <td>26.952</td>\n      <td>118.354</td>\n      <td>9.824</td>\n      <td>NaN</td>\n      <td>NaN</td>\n      <td>...</td>\n      <td>NaN</td>\n      <td>NaN</td>\n      <td>NaN</td>\n      <td>NaN</td>\n      <td>0.238</td>\n      <td>0.863</td>\n      <td>[0, 0, 0, 0]</td>\n      <td>0.0</td>\n      <td>NaN</td>\n      <td>NaN</td>\n    </tr>\n    <tr>\n      <th>1</th>\n      <td>0</td>\n      <td>23.766</td>\n      <td>129.658</td>\n      <td>5.001</td>\n      <td>359.350</td>\n      <td>22.444</td>\n      <td>105.461</td>\n      <td>4.487</td>\n      <td>NaN</td>\n      <td>NaN</td>\n      <td>...</td>\n      <td>NaN</td>\n      <td>NaN</td>\n      <td>NaN</td>\n      <td>NaN</td>\n      <td>0.203</td>\n      <td>1.117</td>\n      <td>[0, 0, 0, 0]</td>\n      <td>0.0</td>\n      <td>NaN</td>\n      <td>NaN</td>\n    </tr>\n    <tr>\n      <th>2</th>\n      <td>0</td>\n      <td>24.620</td>\n      <td>4.667</td>\n      <td>10.497</td>\n      <td>0.167</td>\n      <td>23.416</td>\n      <td>2.783</td>\n      <td>6.361</td>\n      <td>NaN</td>\n      <td>NaN</td>\n      <td>...</td>\n      <td>NaN</td>\n      <td>NaN</td>\n      <td>NaN</td>\n      <td>NaN</td>\n      <td>0.178</td>\n      <td>1.155</td>\n      <td>[0, 0, 0, 0]</td>\n      <td>0.0</td>\n      <td>NaN</td>\n      <td>NaN</td>\n    </tr>\n    <tr>\n      <th>3</th>\n      <td>0</td>\n      <td>29.786</td>\n      <td>127.467</td>\n      <td>7.909</td>\n      <td>359.285</td>\n      <td>26.291</td>\n      <td>111.603</td>\n      <td>6.686</td>\n      <td>NaN</td>\n      <td>NaN</td>\n      <td>...</td>\n      <td>NaN</td>\n      <td>NaN</td>\n      <td>NaN</td>\n      <td>NaN</td>\n      <td>0.255</td>\n      <td>1.157</td>\n      <td>[0, 0, 0, 0]</td>\n      <td>0.0</td>\n      <td>NaN</td>\n      <td>NaN</td>\n    </tr>\n    <tr>\n      <th>4</th>\n      <td>0</td>\n      <td>48.516</td>\n      <td>98.502</td>\n      <td>14.727</td>\n      <td>359.980</td>\n      <td>33.628</td>\n      <td>103.887</td>\n      <td>9.179</td>\n      <td>NaN</td>\n      <td>NaN</td>\n      <td>...</td>\n      <td>NaN</td>\n      <td>NaN</td>\n      <td>NaN</td>\n      <td>NaN</td>\n      <td>0.211</td>\n      <td>1.593</td>\n      <td>[0, 0, 0, 0]</td>\n      <td>0.0</td>\n      <td>NaN</td>\n      <td>NaN</td>\n    </tr>\n  </tbody>\n</table>\n<p>5 rows × 22 columns</p>\n</div>"
     },
     "metadata": {},
     "execution_count": 61
    }
   ],
   "source": [
    "tma = TMA(observer, sd=np.radians(0.4), tau=2)\n",
    "tma.print_verbose()\n",
    "algorithm_name = 'Метод N пеленгов'\n",
    "print(algorithm_name)\n",
    "start_time = time.perf_counter()\n",
    "dict_results = tma.swarm(algorithm_name=algorithm_name,n=100, seeded=True)\n",
    "stop_time = time.perf_counter()\n",
    "print('Моделирование 100 результатов закончено за t = {:.1f} с'.format(stop_time - start_time))\n",
    "df = tests.get_df(dict_results)\n",
    "df.head().round(3)"
   ]
  },
  {
   "cell_type": "code",
   "execution_count": 62,
   "metadata": {},
   "outputs": [
    {
     "output_type": "stream",
     "name": "stdout",
     "text": [
      "Показатели Монте-Карло:\nВариант 0: Рэф = 11$, Рэф_мин = 0\nВариант 1: Рэф = 26$, Рэф_мин = 0\nВариант 2: Рэф = 26$, Рэф_мин = 0\nВариант 3: Рэф = 41$, Рэф_мин = 0\nКа = 0.22\nt = 0.0003, t_max = 0.0007\n"
     ]
    }
   ],
   "source": [
    "print('Показатели Монте-Карло:')\n",
    "for i in range(4):\n",
    "    a = df['Точ'].apply(lambda x: x[i])\n",
    "    print('Вариант {}: Рэф = {:.0f}$, Рэф_мин = {:.0f}'.format(i, 100 * a.mean(), min(a)))\n",
    "print('Ка = {:.2f}'.format(df['Ка'].mean()))\n",
    "print('t = {:.4f}, t_max = {:.4f}'.format(df['t'].mean(), max(df['t'])))\n",
    "tests.save_df(df, name='tests/tests8/N ' + str(np.degrees(tma.standart_deviation)) + '.xlsx')"
   ]
  },
  {
   "cell_type": "code",
   "execution_count": 63,
   "metadata": {},
   "outputs": [
    {
     "output_type": "stream",
     "name": "stdout",
     "text": [
      "СКОп = 0.5, tau = 2\n",
      "Метод N пеленгов\n",
      "Моделирование 100 результатов закончено за t = 2.3 с\n"
     ]
    },
    {
     "output_type": "execute_result",
     "data": {
      "text/plain": [
       "  П0_ист  Д0_ист   К0_ист  V0_ист  П0_расч  Д0_расч  К0_расч  V0_расч  П0_апр  \\\n",
       "0      0  29.697  128.734  11.028  359.118   24.468  116.543    8.707     NaN   \n",
       "1      0  23.766  129.658   5.001  359.188   21.376  100.624    4.233     NaN   \n",
       "2      0  24.620    4.667  10.497    0.208   22.527    1.064    5.023     NaN   \n",
       "3      0  29.786  127.467   7.909  359.106   23.946  108.998    5.918     NaN   \n",
       "4      0  48.516   98.502  14.727  359.975   29.136  106.974    7.539     NaN   \n",
       "\n",
       "   Д0_апр  ...  СКО X  СКО Y  СКО VX  СКО VY     Ка     Кб           Точ    t  \\\n",
       "0     NaN  ...    NaN    NaN     NaN     NaN  0.430  1.345  [0, 0, 0, 0]  0.0   \n",
       "1     NaN  ...    NaN    NaN     NaN     NaN  0.341  1.481  [0, 0, 0, 0]  0.0   \n",
       "2     NaN  ...    NaN    NaN     NaN     NaN  0.298  1.587  [0, 0, 0, 0]  0.0   \n",
       "3     NaN  ...    NaN    NaN     NaN     NaN  0.453  1.641  [0, 0, 0, 0]  0.0   \n",
       "4     NaN  ...    NaN    NaN     NaN     NaN  0.383  2.104  [0, 0, 0, 0]  0.0   \n",
       "\n",
       "   Nf  Iter  \n",
       "0 NaN   NaN  \n",
       "1 NaN   NaN  \n",
       "2 NaN   NaN  \n",
       "3 NaN   NaN  \n",
       "4 NaN   NaN  \n",
       "\n",
       "[5 rows x 22 columns]"
      ],
      "text/html": "<div>\n<style scoped>\n    .dataframe tbody tr th:only-of-type {\n        vertical-align: middle;\n    }\n\n    .dataframe tbody tr th {\n        vertical-align: top;\n    }\n\n    .dataframe thead th {\n        text-align: right;\n    }\n</style>\n<table border=\"1\" class=\"dataframe\">\n  <thead>\n    <tr style=\"text-align: right;\">\n      <th></th>\n      <th>П0_ист</th>\n      <th>Д0_ист</th>\n      <th>К0_ист</th>\n      <th>V0_ист</th>\n      <th>П0_расч</th>\n      <th>Д0_расч</th>\n      <th>К0_расч</th>\n      <th>V0_расч</th>\n      <th>П0_апр</th>\n      <th>Д0_апр</th>\n      <th>...</th>\n      <th>СКО X</th>\n      <th>СКО Y</th>\n      <th>СКО VX</th>\n      <th>СКО VY</th>\n      <th>Ка</th>\n      <th>Кб</th>\n      <th>Точ</th>\n      <th>t</th>\n      <th>Nf</th>\n      <th>Iter</th>\n    </tr>\n  </thead>\n  <tbody>\n    <tr>\n      <th>0</th>\n      <td>0</td>\n      <td>29.697</td>\n      <td>128.734</td>\n      <td>11.028</td>\n      <td>359.118</td>\n      <td>24.468</td>\n      <td>116.543</td>\n      <td>8.707</td>\n      <td>NaN</td>\n      <td>NaN</td>\n      <td>...</td>\n      <td>NaN</td>\n      <td>NaN</td>\n      <td>NaN</td>\n      <td>NaN</td>\n      <td>0.430</td>\n      <td>1.345</td>\n      <td>[0, 0, 0, 0]</td>\n      <td>0.0</td>\n      <td>NaN</td>\n      <td>NaN</td>\n    </tr>\n    <tr>\n      <th>1</th>\n      <td>0</td>\n      <td>23.766</td>\n      <td>129.658</td>\n      <td>5.001</td>\n      <td>359.188</td>\n      <td>21.376</td>\n      <td>100.624</td>\n      <td>4.233</td>\n      <td>NaN</td>\n      <td>NaN</td>\n      <td>...</td>\n      <td>NaN</td>\n      <td>NaN</td>\n      <td>NaN</td>\n      <td>NaN</td>\n      <td>0.341</td>\n      <td>1.481</td>\n      <td>[0, 0, 0, 0]</td>\n      <td>0.0</td>\n      <td>NaN</td>\n      <td>NaN</td>\n    </tr>\n    <tr>\n      <th>2</th>\n      <td>0</td>\n      <td>24.620</td>\n      <td>4.667</td>\n      <td>10.497</td>\n      <td>0.208</td>\n      <td>22.527</td>\n      <td>1.064</td>\n      <td>5.023</td>\n      <td>NaN</td>\n      <td>NaN</td>\n      <td>...</td>\n      <td>NaN</td>\n      <td>NaN</td>\n      <td>NaN</td>\n      <td>NaN</td>\n      <td>0.298</td>\n      <td>1.587</td>\n      <td>[0, 0, 0, 0]</td>\n      <td>0.0</td>\n      <td>NaN</td>\n      <td>NaN</td>\n    </tr>\n    <tr>\n      <th>3</th>\n      <td>0</td>\n      <td>29.786</td>\n      <td>127.467</td>\n      <td>7.909</td>\n      <td>359.106</td>\n      <td>23.946</td>\n      <td>108.998</td>\n      <td>5.918</td>\n      <td>NaN</td>\n      <td>NaN</td>\n      <td>...</td>\n      <td>NaN</td>\n      <td>NaN</td>\n      <td>NaN</td>\n      <td>NaN</td>\n      <td>0.453</td>\n      <td>1.641</td>\n      <td>[0, 0, 0, 0]</td>\n      <td>0.0</td>\n      <td>NaN</td>\n      <td>NaN</td>\n    </tr>\n    <tr>\n      <th>4</th>\n      <td>0</td>\n      <td>48.516</td>\n      <td>98.502</td>\n      <td>14.727</td>\n      <td>359.975</td>\n      <td>29.136</td>\n      <td>106.974</td>\n      <td>7.539</td>\n      <td>NaN</td>\n      <td>NaN</td>\n      <td>...</td>\n      <td>NaN</td>\n      <td>NaN</td>\n      <td>NaN</td>\n      <td>NaN</td>\n      <td>0.383</td>\n      <td>2.104</td>\n      <td>[0, 0, 0, 0]</td>\n      <td>0.0</td>\n      <td>NaN</td>\n      <td>NaN</td>\n    </tr>\n  </tbody>\n</table>\n<p>5 rows × 22 columns</p>\n</div>"
     },
     "metadata": {},
     "execution_count": 63
    }
   ],
   "source": [
    "tma = TMA(observer, sd=np.radians(0.5), tau=2)\n",
    "tma.print_verbose()\n",
    "algorithm_name = 'Метод N пеленгов'\n",
    "print(algorithm_name)\n",
    "start_time = time.perf_counter()\n",
    "dict_results = tma.swarm(algorithm_name=algorithm_name,n=100, seeded=True)\n",
    "stop_time = time.perf_counter()\n",
    "print('Моделирование 100 результатов закончено за t = {:.1f} с'.format(stop_time - start_time))\n",
    "df = tests.get_df(dict_results)\n",
    "df.head().round(3)"
   ]
  },
  {
   "cell_type": "code",
   "execution_count": 64,
   "metadata": {},
   "outputs": [
    {
     "output_type": "stream",
     "name": "stdout",
     "text": [
      "Показатели Монте-Карло:\nВариант 0: Рэф = 5$, Рэф_мин = 0\nВариант 1: Рэф = 18$, Рэф_мин = 0\nВариант 2: Рэф = 18$, Рэф_мин = 0\nВариант 3: Рэф = 25$, Рэф_мин = 0\nКа = 0.38\nt = 0.0003, t_max = 0.0006\n"
     ]
    }
   ],
   "source": [
    "print('Показатели Монте-Карло:')\n",
    "for i in range(4):\n",
    "    a = df['Точ'].apply(lambda x: x[i])\n",
    "    print('Вариант {}: Рэф = {:.0f}$, Рэф_мин = {:.0f}'.format(i, 100 * a.mean(), min(a)))\n",
    "print('Ка = {:.2f}'.format(df['Ка'].mean()))\n",
    "print('t = {:.4f}, t_max = {:.4f}'.format(df['t'].mean(), max(df['t'])))\n",
    "tests.save_df(df, name='tests/tests8/N ' + str(np.degrees(tma.standart_deviation)) + '.xlsx')"
   ]
  },
  {
   "cell_type": "code",
   "execution_count": 65,
   "metadata": {},
   "outputs": [
    {
     "output_type": "stream",
     "name": "stdout",
     "text": [
      "СКОп = 1.0, tau = 2\n",
      "Метод N пеленгов\n",
      "Моделирование 100 результатов закончено за t = 2.3 с\n"
     ]
    },
    {
     "output_type": "execute_result",
     "data": {
      "text/plain": [
       "  П0_ист  Д0_ист   К0_ист  V0_ист  П0_расч  Д0_расч  К0_расч  V0_расч  П0_апр  \\\n",
       "0      0  29.697  128.734  11.028  358.236   11.953  112.267    2.892     NaN   \n",
       "1      0  23.766  129.658   5.001  358.376   14.282   80.958    2.346     NaN   \n",
       "2      0  24.620    4.667  10.497    0.417   17.216  253.068    0.967     NaN   \n",
       "3      0  29.786  127.467   7.909  358.211   12.563  102.640    1.989     NaN   \n",
       "4      0  48.516   98.502  14.727  359.949   15.117  138.492    2.892     NaN   \n",
       "\n",
       "   Д0_апр  ...  СКО X  СКО Y  СКО VX  СКО VY     Ка     Кб           Точ    t  \\\n",
       "0     NaN  ...    NaN    NaN     NaN     NaN  4.865  3.693  [0, 0, 0, 0]  0.0   \n",
       "1     NaN  ...    NaN    NaN     NaN     NaN  2.372  3.616  [0, 0, 0, 0]  0.0   \n",
       "2     NaN  ...    NaN    NaN     NaN     NaN  1.958  5.665  [0, 0, 0, 0]  0.0   \n",
       "3     NaN  ...    NaN    NaN     NaN     NaN  4.420  3.903  [0, 0, 0, 0]  0.0   \n",
       "4     NaN  ...    NaN    NaN     NaN     NaN  3.311  4.169  [0, 0, 0, 0]  0.0   \n",
       "\n",
       "   Nf  Iter  \n",
       "0 NaN   NaN  \n",
       "1 NaN   NaN  \n",
       "2 NaN   NaN  \n",
       "3 NaN   NaN  \n",
       "4 NaN   NaN  \n",
       "\n",
       "[5 rows x 22 columns]"
      ],
      "text/html": "<div>\n<style scoped>\n    .dataframe tbody tr th:only-of-type {\n        vertical-align: middle;\n    }\n\n    .dataframe tbody tr th {\n        vertical-align: top;\n    }\n\n    .dataframe thead th {\n        text-align: right;\n    }\n</style>\n<table border=\"1\" class=\"dataframe\">\n  <thead>\n    <tr style=\"text-align: right;\">\n      <th></th>\n      <th>П0_ист</th>\n      <th>Д0_ист</th>\n      <th>К0_ист</th>\n      <th>V0_ист</th>\n      <th>П0_расч</th>\n      <th>Д0_расч</th>\n      <th>К0_расч</th>\n      <th>V0_расч</th>\n      <th>П0_апр</th>\n      <th>Д0_апр</th>\n      <th>...</th>\n      <th>СКО X</th>\n      <th>СКО Y</th>\n      <th>СКО VX</th>\n      <th>СКО VY</th>\n      <th>Ка</th>\n      <th>Кб</th>\n      <th>Точ</th>\n      <th>t</th>\n      <th>Nf</th>\n      <th>Iter</th>\n    </tr>\n  </thead>\n  <tbody>\n    <tr>\n      <th>0</th>\n      <td>0</td>\n      <td>29.697</td>\n      <td>128.734</td>\n      <td>11.028</td>\n      <td>358.236</td>\n      <td>11.953</td>\n      <td>112.267</td>\n      <td>2.892</td>\n      <td>NaN</td>\n      <td>NaN</td>\n      <td>...</td>\n      <td>NaN</td>\n      <td>NaN</td>\n      <td>NaN</td>\n      <td>NaN</td>\n      <td>4.865</td>\n      <td>3.693</td>\n      <td>[0, 0, 0, 0]</td>\n      <td>0.0</td>\n      <td>NaN</td>\n      <td>NaN</td>\n    </tr>\n    <tr>\n      <th>1</th>\n      <td>0</td>\n      <td>23.766</td>\n      <td>129.658</td>\n      <td>5.001</td>\n      <td>358.376</td>\n      <td>14.282</td>\n      <td>80.958</td>\n      <td>2.346</td>\n      <td>NaN</td>\n      <td>NaN</td>\n      <td>...</td>\n      <td>NaN</td>\n      <td>NaN</td>\n      <td>NaN</td>\n      <td>NaN</td>\n      <td>2.372</td>\n      <td>3.616</td>\n      <td>[0, 0, 0, 0]</td>\n      <td>0.0</td>\n      <td>NaN</td>\n      <td>NaN</td>\n    </tr>\n    <tr>\n      <th>2</th>\n      <td>0</td>\n      <td>24.620</td>\n      <td>4.667</td>\n      <td>10.497</td>\n      <td>0.417</td>\n      <td>17.216</td>\n      <td>253.068</td>\n      <td>0.967</td>\n      <td>NaN</td>\n      <td>NaN</td>\n      <td>...</td>\n      <td>NaN</td>\n      <td>NaN</td>\n      <td>NaN</td>\n      <td>NaN</td>\n      <td>1.958</td>\n      <td>5.665</td>\n      <td>[0, 0, 0, 0]</td>\n      <td>0.0</td>\n      <td>NaN</td>\n      <td>NaN</td>\n    </tr>\n    <tr>\n      <th>3</th>\n      <td>0</td>\n      <td>29.786</td>\n      <td>127.467</td>\n      <td>7.909</td>\n      <td>358.211</td>\n      <td>12.563</td>\n      <td>102.640</td>\n      <td>1.989</td>\n      <td>NaN</td>\n      <td>NaN</td>\n      <td>...</td>\n      <td>NaN</td>\n      <td>NaN</td>\n      <td>NaN</td>\n      <td>NaN</td>\n      <td>4.420</td>\n      <td>3.903</td>\n      <td>[0, 0, 0, 0]</td>\n      <td>0.0</td>\n      <td>NaN</td>\n      <td>NaN</td>\n    </tr>\n    <tr>\n      <th>4</th>\n      <td>0</td>\n      <td>48.516</td>\n      <td>98.502</td>\n      <td>14.727</td>\n      <td>359.949</td>\n      <td>15.117</td>\n      <td>138.492</td>\n      <td>2.892</td>\n      <td>NaN</td>\n      <td>NaN</td>\n      <td>...</td>\n      <td>NaN</td>\n      <td>NaN</td>\n      <td>NaN</td>\n      <td>NaN</td>\n      <td>3.311</td>\n      <td>4.169</td>\n      <td>[0, 0, 0, 0]</td>\n      <td>0.0</td>\n      <td>NaN</td>\n      <td>NaN</td>\n    </tr>\n  </tbody>\n</table>\n<p>5 rows × 22 columns</p>\n</div>"
     },
     "metadata": {},
     "execution_count": 65
    }
   ],
   "source": [
    "tma = TMA(observer, sd=np.radians(1), tau=2)\n",
    "tma.print_verbose()\n",
    "algorithm_name = 'Метод N пеленгов'\n",
    "print(algorithm_name)\n",
    "start_time = time.perf_counter()\n",
    "dict_results = tma.swarm(algorithm_name=algorithm_name,n=100, seeded=True)\n",
    "stop_time = time.perf_counter()\n",
    "print('Моделирование 100 результатов закончено за t = {:.1f} с'.format(stop_time - start_time))\n",
    "df = tests.get_df(dict_results)\n",
    "df.head().round(3)"
   ]
  },
  {
   "cell_type": "code",
   "execution_count": 66,
   "metadata": {},
   "outputs": [
    {
     "output_type": "stream",
     "name": "stdout",
     "text": [
      "Показатели Монте-Карло:\nВариант 0: Рэф = 0$, Рэф_мин = 0\nВариант 1: Рэф = 0$, Рэф_мин = 0\nВариант 2: Рэф = 0$, Рэф_мин = 0\nВариант 3: Рэф = 2$, Рэф_мин = 0\nКа = 55.17\nt = 0.0003, t_max = 0.0007\n"
     ]
    }
   ],
   "source": [
    "print('Показатели Монте-Карло:')\n",
    "for i in range(4):\n",
    "    a = df['Точ'].apply(lambda x: x[i])\n",
    "    print('Вариант {}: Рэф = {:.0f}$, Рэф_мин = {:.0f}'.format(i, 100 * a.mean(), min(a)))\n",
    "print('Ка = {:.2f}'.format(df['Ка'].mean()))\n",
    "print('t = {:.4f}, t_max = {:.4f}'.format(df['t'].mean(), max(df['t'])))\n",
    "tests.save_df(df, name='tests/tests8/N ' + str(np.degrees(tma.standart_deviation)) + '.xlsx')"
   ]
  }
 ]
}